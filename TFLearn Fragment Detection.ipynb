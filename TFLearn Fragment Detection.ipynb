{
 "cells": [
  {
   "cell_type": "markdown",
   "metadata": {},
   "source": [
    "## TFLearn Fragment Detection\n",
    "\n",
    "Catherine has prepared datafiles with sentences turned into fragments. I will use as input 60,000 fragments and 60,000 sentences. The fragments will come from the sentences. In the future the fragments will not be descendants of the input sentences. The labels will be either a 1 or 0, where 1 indicates a sentence and 0 indicates a fragment."
   ]
  },
  {
   "cell_type": "markdown",
   "metadata": {},
   "source": [
    "#### Install Dependencies"
   ]
  },
  {
   "cell_type": "code",
   "execution_count": 104,
   "metadata": {
    "collapsed": false
   },
   "outputs": [],
   "source": [
    "import pandas as pd\n",
    "import numpy as np\n",
    "import tensorflow as tf\n",
    "import tflearn\n",
    "from tflearn.data_utils import to_categorical\n",
    "import spacy\n",
    "nlp = spacy.load('en')\n",
    "import re\n",
    "from nltk.util import ngrams, trigrams"
   ]
  },
  {
   "cell_type": "markdown",
   "metadata": {},
   "source": [
    "#### Load Datafiles"
   ]
  },
  {
   "cell_type": "code",
   "execution_count": 105,
   "metadata": {
    "collapsed": false
   },
   "outputs": [
    {
     "name": "stdout",
     "output_type": "stream",
     "text": [
      "['With 92% of dawson creek residents canadian-born, and 93% speaking only english, the city has few visible minorities.', 'With 92% of Dawson Creek residents being Canadian-born, and 93% speaking only English, the city has few visible minorities.', 'By the end of the year, the texians all mexican troops from texas.', 'By the end of the year, the Texians had driven all Mexican troops from Texas.', 'In northern manitoba, quartz to make arrowheads.', 'In Northern Manitoba, quartz was mined to make arrowheads.', 'There significant fictionalisation, however.', 'There was significant fictionalisation, however.', \"Extremeolation from society and community also apparent in crane's work.\", \"Extreme isolation from society and community is also apparent in Crane's work.\"]\n"
     ]
    }
   ],
   "source": [
    "texts = []\n",
    "labels = []\n",
    "\n",
    "with open(\"./removingPOS/updatedSentences/conjunctionSentences/detailedRemoval.txt\",\"r\") as f:\n",
    "    for line in f:\n",
    "        asArray = line.split(\" ||| \")\n",
    "        fragment = asArray[2].strip()\n",
    "        fragment = re.sub(\"\\ \\.\", \".\", fragment)\n",
    "        fragment = re.sub(\"\\,\\.\", \".\", fragment)\n",
    "        texts.append(fragment.capitalize())\n",
    "        labels.append(0)\n",
    "        texts.append(asArray[0].strip())\n",
    "        labels.append(1)\n",
    "        \n",
    "with open(\"./removingPOS/updatedSentences/nounSentences/detailedRemoval.txt\",\"r\") as f:\n",
    "    for line in f:\n",
    "        asArray = line.split(\" ||| \")\n",
    "        fragment = asArray[2].strip()\n",
    "        fragment = re.sub(\"\\ \\.\", \".\", fragment)\n",
    "        fragment = re.sub(\"\\,\\.\", \".\", fragment)\n",
    "        texts.append(fragment.capitalize())\n",
    "        labels.append(0)\n",
    "        texts.append(asArray[0].strip())\n",
    "        labels.append(1)\n",
    "\n",
    "with open(\"./removingPOS/updatedSentences/nounverbSentences/detailedRemoval.txt\",\"r\") as f:\n",
    "    for line in f:\n",
    "        asArray = line.split(\" ||| \")\n",
    "        fragment = asArray[2].strip()\n",
    "        fragment = re.sub(\"\\ \\.\", \".\", fragment)\n",
    "        fragment = re.sub(\"\\,\\.\", \".\", fragment)\n",
    "        texts.append(fragment.capitalize())\n",
    "        labels.append(0)\n",
    "        texts.append(asArray[0].strip())\n",
    "        labels.append(1)\n",
    "        \n",
    "with open(\"./removingPOS/updatedSentences/verbSentences/detailedRemoval.txt\",\"r\") as f:\n",
    "    for line in f:\n",
    "        asArray = line.split(\" ||| \")\n",
    "        fragment = asArray[2].strip()\n",
    "        fragment = re.sub(\"\\ \\.\", \".\", fragment)\n",
    "        fragment = re.sub(\"\\,\\.\", \".\", fragment)\n",
    "        texts.append(fragment.capitalize())\n",
    "        labels.append(0)\n",
    "        texts.append(asArray[0].strip())\n",
    "        labels.append(1)\n",
    "        \n",
    "print(texts[-10:])"
   ]
  },
  {
   "cell_type": "markdown",
   "metadata": {},
   "source": [
    "##### Shuffle the data"
   ]
  },
  {
   "cell_type": "code",
   "execution_count": 106,
   "metadata": {
    "collapsed": false
   },
   "outputs": [
    {
     "name": "stdout",
     "output_type": "stream",
     "text": [
      "['After graduating in 1970, he enrolled at the University of Kentucky.', 'Glacier is distant from major cities.', 'Consequently, the remained in force.', 'His grandfather, james whatman bosanquet, a banker and achieved distinction as a biblical historian.', 'During the trip, he consulted with many prominent politicians, Adair among them, about the possibility of wresting Mexico from Spain.', 'However, the new archbishop began to look for someone outside the Salzburg court to be his new Kapellmeister.', 'Three years.', 'He was one of five southern governors.', 'Born in Harvey, Western Australia, Becher entered the Royal Australian Naval College in 1922.', 'The townsite was named Medford in December.']\n",
      "[1, 1, 0, 0, 1, 1, 0, 0, 1, 1]\n"
     ]
    }
   ],
   "source": [
    "import random\n",
    "\n",
    "combined = list(zip(texts,labels))\n",
    "random.shuffle(combined)\n",
    "\n",
    "texts[:], labels[:] = zip(*combined)\n",
    "print(texts[-10:])\n",
    "print(labels[-10:])"
   ]
  },
  {
   "cell_type": "markdown",
   "metadata": {},
   "source": [
    "##### Get parts of speech for text string"
   ]
  },
  {
   "cell_type": "code",
   "execution_count": 107,
   "metadata": {
    "collapsed": false
   },
   "outputs": [
    {
     "data": {
      "text/plain": [
       "['PROPN',\n",
       " 'VERB',\n",
       " 'ADP',\n",
       " 'DET',\n",
       " 'NOUN',\n",
       " 'PUNCT',\n",
       " 'ADV',\n",
       " 'PRON',\n",
       " 'VERB',\n",
       " 'VERB',\n",
       " 'CONJ',\n",
       " 'VERB',\n",
       " 'ADP',\n",
       " 'ADJ',\n",
       " 'NOUN',\n",
       " 'PUNCT']"
      ]
     },
     "execution_count": 107,
     "metadata": {},
     "output_type": "execute_result"
    }
   ],
   "source": [
    "def textStringToPOSArray(text):\n",
    "    doc = nlp(text)\n",
    "    tags = []\n",
    "    for word in doc:\n",
    "        tags.append(word.pos_)\n",
    "    return tags\n",
    "\n",
    "textStringToPOSArray(texts[3])"
   ]
  },
  {
   "cell_type": "markdown",
   "metadata": {},
   "source": [
    "##### Get POS trigrams for a text string"
   ]
  },
  {
   "cell_type": "code",
   "execution_count": 108,
   "metadata": {
    "collapsed": false
   },
   "outputs": [
    {
     "name": "stdout",
     "output_type": "stream",
     "text": [
      "Text:  Lara returned to the reservation, where he was arrested and charged with public intoxication. 1\n"
     ]
    },
    {
     "data": {
      "text/plain": [
       "[('PROPN', 'VERB', 'ADP'),\n",
       " ('VERB', 'ADP', 'DET'),\n",
       " ('ADP', 'DET', 'NOUN'),\n",
       " ('DET', 'NOUN', 'PUNCT'),\n",
       " ('NOUN', 'PUNCT', 'ADV'),\n",
       " ('PUNCT', 'ADV', 'PRON'),\n",
       " ('ADV', 'PRON', 'VERB'),\n",
       " ('PRON', 'VERB', 'VERB'),\n",
       " ('VERB', 'VERB', 'CONJ'),\n",
       " ('VERB', 'CONJ', 'VERB'),\n",
       " ('CONJ', 'VERB', 'ADP'),\n",
       " ('VERB', 'ADP', 'ADJ'),\n",
       " ('ADP', 'ADJ', 'NOUN'),\n",
       " ('ADJ', 'NOUN', 'PUNCT')]"
      ]
     },
     "execution_count": 108,
     "metadata": {},
     "output_type": "execute_result"
    }
   ],
   "source": [
    "def find_ngrams(input_list, n):\n",
    "  return zip(*[input_list[i:] for i in range(n)])\n",
    "\n",
    "def getPOSTrigramsForTextString(text):\n",
    "    tags = textStringToPOSArray(text)\n",
    "    tgrams = list(trigrams(tags))\n",
    "    return tgrams\n",
    "\n",
    "print(\"Text: \", texts[3], labels[3])\n",
    "getPOSTrigramsForTextString(texts[3])"
   ]
  },
  {
   "cell_type": "markdown",
   "metadata": {},
   "source": [
    "##### Turn Trigrams into Dict keys"
   ]
  },
  {
   "cell_type": "code",
   "execution_count": 109,
   "metadata": {
    "collapsed": false
   },
   "outputs": [
    {
     "name": "stdout",
     "output_type": "stream",
     "text": [
      "The depression persisted for another day while tracking southward, before being absorbed by nearby Tropical Storm Lorena.\n",
      "['DET>NOUN>VERB', 'NOUN>VERB>ADP', 'VERB>ADP>DET', 'ADP>DET>NOUN', 'DET>NOUN>ADP', 'NOUN>ADP>VERB', 'ADP>VERB>ADV', 'VERB>ADV>PUNCT', 'ADV>PUNCT>ADP', 'PUNCT>ADP>VERB', 'ADP>VERB>VERB', 'VERB>VERB>ADP', 'VERB>ADP>ADJ', 'ADP>ADJ>PROPN', 'ADJ>PROPN>PROPN', 'PROPN>PROPN>PROPN', 'PROPN>PROPN>PUNCT']\n"
     ]
    }
   ],
   "source": [
    "def trigramsToDictKeys(trigrams):\n",
    "    keys = []\n",
    "    for trigram in trigrams:\n",
    "        keys.append('>'.join(trigram))\n",
    "    return keys\n",
    "\n",
    "print(texts[2])\n",
    "print(trigramsToDictKeys(getPOSTrigramsForTextString(texts[2])))"
   ]
  },
  {
   "cell_type": "code",
   "execution_count": 110,
   "metadata": {
    "collapsed": false
   },
   "outputs": [
    {
     "name": "stdout",
     "output_type": "stream",
     "text": [
      "Total words in data set:  2097\n"
     ]
    }
   ],
   "source": [
    "from collections import Counter\n",
    "\n",
    "c = Counter()\n",
    "\n",
    "for textString in texts:\n",
    "    c.update(trigramsToDictKeys(getPOSTrigramsForTextString(textString)))\n",
    "\n",
    "total_counts = c\n",
    "\n",
    "print(\"Total words in data set: \", len(total_counts))"
   ]
  },
  {
   "cell_type": "code",
   "execution_count": 119,
   "metadata": {
    "collapsed": false
   },
   "outputs": [
    {
     "name": "stdout",
     "output_type": "stream",
     "text": [
      "['ADP>DET>NOUN', 'NOUN>ADP>DET', 'ADJ>NOUN>PUNCT', 'DET>ADJ>NOUN', 'DET>NOUN>ADP', 'ADJ>NOUN>ADP', 'NOUN>ADP>NOUN', 'DET>NOUN>PUNCT', 'ADP>ADJ>NOUN', 'ADP>DET>ADJ', 'VERB>DET>NOUN', 'NOUN>NOUN>PUNCT', 'VERB>ADP>DET', 'DET>NOUN>VERB', 'ADP>NOUN>PUNCT', 'VERB>VERB>ADP', 'NOUN>ADP>ADJ', 'NOUN>VERB>VERB', 'ADJ>NOUN>VERB', 'ADJ>ADJ>NOUN', 'ADJ>NOUN>NOUN', 'NOUN>ADP>PROPN', 'DET>NOUN>NOUN', 'VERB>ADJ>NOUN', 'PROPN>PROPN>PUNCT', 'NOUN>NOUN>ADP', 'VERB>DET>ADJ', 'NOUN>VERB>ADP', 'NOUN>PUNCT>NOUN', 'NOUN>PUNCT>VERB', 'VERB>ADP>NOUN', 'ADP>NOUN>ADP', 'ADP>NUM>PUNCT', 'NOUN>ADP>NUM', 'ADP>DET>PROPN', 'NOUN>PUNCT>CONJ', 'NOUN>CONJ>NOUN', 'ADP>PROPN>PUNCT', 'VERB>NOUN>ADP', 'PROPN>PROPN>PROPN', 'DET>PROPN>PROPN', 'VERB>ADP>PROPN', 'NOUN>NOUN>VERB', 'NUM>NOUN>PUNCT', 'VERB>PART>VERB', 'VERB>ADV>VERB', 'PUNCT>DET>NOUN', 'ADP>PROPN>PROPN', 'VERB>ADP>ADJ', 'NOUN>VERB>DET', 'NOUN>PART>VERB', 'ADP>NUM>NOUN', 'VERB>NOUN>PUNCT', 'NOUN>VERB>ADV', 'ADV>VERB>ADP', 'ADP>NOUN>NOUN', 'NOUN>CONJ>VERB', 'NUM>NOUN>ADP', 'ADJ>NOUN>CONJ', 'NOUN>VERB>ADJ']\n"
     ]
    }
   ],
   "source": [
    "vocab = sorted(total_counts, key=total_counts.get, reverse=True)[:1200]\n",
    "print(vocab[:60])"
   ]
  },
  {
   "cell_type": "code",
   "execution_count": 120,
   "metadata": {
    "collapsed": false
   },
   "outputs": [
    {
     "name": "stdout",
     "output_type": "stream",
     "text": [
      "NOUN>X>X :  27\n"
     ]
    }
   ],
   "source": [
    "print(vocab[-1], ': ', total_counts[vocab[-1]])"
   ]
  },
  {
   "cell_type": "markdown",
   "metadata": {},
   "source": [
    "Take the trigrams and index them"
   ]
  },
  {
   "cell_type": "code",
   "execution_count": 121,
   "metadata": {
    "collapsed": false
   },
   "outputs": [
    {
     "name": "stdout",
     "output_type": "stream",
     "text": [
      "{'ADP>DET>NOUN': 0, 'NOUN>ADP>DET': 1, 'ADJ>NOUN>PUNCT': 2, 'DET>ADJ>NOUN': 3, 'DET>NOUN>ADP': 4, 'ADJ>NOUN>ADP': 5, 'NOUN>ADP>NOUN': 6, 'DET>NOUN>PUNCT': 7, 'ADP>ADJ>NOUN': 8, 'ADP>DET>ADJ': 9, 'VERB>DET>NOUN': 10, 'NOUN>NOUN>PUNCT': 11, 'VERB>ADP>DET': 12, 'DET>NOUN>VERB': 13, 'ADP>NOUN>PUNCT': 14, 'VERB>VERB>ADP': 15, 'NOUN>ADP>ADJ': 16, 'NOUN>VERB>VERB': 17, 'ADJ>NOUN>VERB': 18, 'ADJ>ADJ>NOUN': 19, 'ADJ>NOUN>NOUN': 20, 'NOUN>ADP>PROPN': 21, 'DET>NOUN>NOUN': 22, 'VERB>ADJ>NOUN': 23, 'PROPN>PROPN>PUNCT': 24, 'NOUN>NOUN>ADP': 25, 'VERB>DET>ADJ': 26, 'NOUN>VERB>ADP': 27, 'NOUN>PUNCT>NOUN': 28, 'NOUN>PUNCT>VERB': 29, 'VERB>ADP>NOUN': 30, 'ADP>NOUN>ADP': 31, 'ADP>NUM>PUNCT': 32, 'NOUN>ADP>NUM': 33, 'ADP>DET>PROPN': 34, 'NOUN>PUNCT>CONJ': 35, 'NOUN>CONJ>NOUN': 36, 'ADP>PROPN>PUNCT': 37, 'VERB>NOUN>ADP': 38, 'PROPN>PROPN>PROPN': 39, 'DET>PROPN>PROPN': 40, 'VERB>ADP>PROPN': 41, 'NOUN>NOUN>VERB': 42, 'NUM>NOUN>PUNCT': 43, 'VERB>PART>VERB': 44, 'VERB>ADV>VERB': 45, 'PUNCT>DET>NOUN': 46, 'ADP>PROPN>PROPN': 47, 'VERB>ADP>ADJ': 48, 'NOUN>VERB>DET': 49, 'NOUN>PART>VERB': 50, 'ADP>NUM>NOUN': 51, 'VERB>NOUN>PUNCT': 52, 'NOUN>VERB>ADV': 53, 'ADV>VERB>ADP': 54, 'ADP>NOUN>NOUN': 55, 'NOUN>CONJ>VERB': 56, 'NUM>NOUN>ADP': 57, 'ADJ>NOUN>CONJ': 58, 'NOUN>VERB>ADJ': 59, 'NOUN>PUNCT>DET': 60, 'NOUN>NOUN>NOUN': 61, 'CONJ>ADJ>NOUN': 62, 'NOUN>PART>NOUN': 63, 'PROPN>PROPN>VERB': 64, 'PROPN>VERB>DET': 65, 'DET>NOUN>PART': 66, 'PART>VERB>DET': 67, 'NOUN>PUNCT>ADJ': 68, 'PROPN>VERB>VERB': 69, 'PUNCT>NOUN>NOUN': 70, 'PROPN>PART>NOUN': 71, 'PUNCT>PROPN>VERB': 72, 'PROPN>NUM>PUNCT': 73, 'VERB>ADP>NUM': 74, 'PUNCT>NOUN>PUNCT': 75, 'NOUN>PUNCT>ADP': 76, 'ADP>PROPN>NUM': 77, 'PROPN>PUNCT>PROPN': 78, 'PROPN>ADP>PROPN': 79, 'VERB>VERB>PUNCT': 80, 'NOUN>PUNCT>PROPN': 81, 'PUNCT>PRON>VERB': 82, 'ADJ>ADP>DET': 83, 'VERB>NUM>NOUN': 84, 'ADP>ADJ>ADJ': 85, 'DET>ADJ>ADJ': 86, 'PUNCT>ADJ>NOUN': 87, 'PUNCT>CONJ>VERB': 88, 'CONJ>NOUN>PUNCT': 89, 'PROPN>VERB>ADP': 90, 'NOUN>VERB>NOUN': 91, 'DET>NOUN>CONJ': 92, 'ADP>NOUN>CONJ': 93, 'PRON>VERB>VERB': 94, 'PROPN>PROPN>ADP': 95, 'PUNCT>NOUN>VERB': 96, 'NOUN>ADV>VERB': 97, 'ADV>ADP>DET': 98, 'PART>NOUN>PUNCT': 99, 'ADV>VERB>DET': 100, 'VERB>ADV>ADP': 101, 'PUNCT>VERB>ADP': 102, 'NOUN>NOUN>CONJ': 103, 'ADP>NOUN>VERB': 104, 'VERB>ADJ>ADP': 105, 'CONJ>DET>NOUN': 106, 'PROPN>NOUN>PUNCT': 107, 'PROPN>CONJ>PROPN': 108, 'NOUN>PUNCT>ADV': 109, 'PART>ADJ>NOUN': 110, 'PROPN>ADP>DET': 111, 'VERB>NOUN>NOUN': 112, 'PUNCT>VERB>DET': 113, 'NOUN>CONJ>ADJ': 114, 'PUNCT>DET>ADJ': 115, 'PART>VERB>NOUN': 116, 'NOUN>ADP>VERB': 117, 'DET>NOUN>ADV': 118, 'PRON>VERB>DET': 119, 'PART>VERB>ADP': 120, 'VERB>ADV>ADJ': 121, 'PUNCT>VERB>NOUN': 122, 'CONJ>NOUN>NOUN': 123, 'VERB>VERB>VERB': 124, 'PRON>VERB>ADP': 125, 'CONJ>VERB>ADP': 126, 'NOUN>VERB>PUNCT': 127, 'ADP>PROPN>PART': 128, 'ADP>PROPN>ADP': 129, 'ADJ>NOUN>PART': 130, 'ADV>VERB>PUNCT': 131, 'ADV>ADJ>NOUN': 132, 'VERB>VERB>DET': 133, 'VERB>ADJ>PUNCT': 134, 'PROPN>VERB>ADJ': 135, 'CONJ>VERB>DET': 136, 'VERB>ADJ>ADJ': 137, 'ADP>PROPN>VERB': 138, 'PROPN>VERB>ADV': 139, 'ADJ>PUNCT>NOUN': 140, 'PUNCT>PROPN>PROPN': 141, 'PRON>VERB>ADV': 142, 'PART>VERB>ADJ': 143, 'ADJ>NOUN>ADV': 144, 'PUNCT>CONJ>DET': 145, 'PROPN>PUNCT>VERB': 146, 'ADP>DET>NUM': 147, 'VERB>ADV>PUNCT': 148, 'PUNCT>ADP>DET': 149, 'NUM>NOUN>VERB': 150, 'DET>NUM>NOUN': 151, 'DET>ADJ>PUNCT': 152, 'NOUN>VERB>PART': 153, 'PART>NOUN>ADP': 154, 'NOUN>PUNCT>PRON': 155, 'VERB>VERB>PART': 156, 'NUM>ADJ>NOUN': 157, 'DET>VERB>NOUN': 158, 'VERB>DET>PROPN': 159, 'NUM>ADP>DET': 160, 'ADP>NOUN>PART': 161, 'PUNCT>CONJ>NOUN': 162, 'NOUN>ADV>PUNCT': 163, 'CONJ>NOUN>VERB': 164, 'PART>NOUN>VERB': 165, 'ADV>VERB>NOUN': 166, 'NOUN>CONJ>DET': 167, 'NOUN>ADJ>NOUN': 168, 'DET>PROPN>NOUN': 169, 'ADP>NUM>PROPN': 170, 'PUNCT>PROPN>PUNCT': 171, 'ADP>PRON>VERB': 172, 'CONJ>NOUN>ADP': 173, 'PROPN>ADV>VERB': 174, 'ADJ>ADP>NOUN': 175, 'PROPN>PUNCT>DET': 176, 'ADV>VERB>ADJ': 177, 'ADP>NUM>ADP': 178, 'NOUN>NUM>PUNCT': 179, 'PUNCT>ADJ>VERB': 180, 'ADJ>ADP>ADJ': 181, 'NOUN>DET>NOUN': 182, 'PUNCT>NOUN>ADP': 183, 'VERB>VERB>ADV': 184, 'VERB>CONJ>VERB': 185, 'ADP>NOUN>NUM': 186, 'ADJ>CONJ>ADJ': 187, 'PROPN>NOUN>VERB': 188, 'VERB>VERB>ADJ': 189, 'VERB>PROPN>PROPN': 190, 'PRON>VERB>ADJ': 191, 'PROPN>ADP>NUM': 192, 'CONJ>VERB>NOUN': 193, 'ADV>DET>NOUN': 194, 'ADP>VERB>NOUN': 195, 'NUM>PUNCT>NUM': 196, 'CONJ>VERB>ADJ': 197, 'ADV>ADP>NOUN': 198, 'ADV>ADJ>ADP': 199, 'VERB>NOUN>CONJ': 200, 'NOUN>PART>ADJ': 201, 'NOUN>ADV>ADP': 202, 'PROPN>PROPN>CONJ': 203, 'CONJ>VERB>VERB': 204, 'DET>PROPN>PUNCT': 205, 'DET>NOUN>ADJ': 206, 'ADP>DET>VERB': 207, 'ADV>PUNCT>VERB': 208, 'NUM>NOUN>NOUN': 209, 'VERB>ADV>ADV': 210, 'PROPN>PART>ADJ': 211, 'PRON>ADV>VERB': 212, 'DET>PROPN>ADP': 213, 'VERB>VERB>NOUN': 214, 'PUNCT>VERB>ADJ': 215, 'PROPN>PUNCT>CONJ': 216, 'ADP>PROPN>CONJ': 217, 'ADV>ADJ>PUNCT': 218, 'PUNCT>VERB>VERB': 219, 'NUM>PUNCT>NOUN': 220, 'ADJ>NOUN>ADJ': 221, 'DET>ADJ>PROPN': 222, 'DET>ADP>DET': 223, 'CONJ>ADV>VERB': 224, 'ADV>PUNCT>DET': 225, 'PUNCT>NUM>PUNCT': 226, 'PROPN>PROPN>NOUN': 227, 'ADJ>PART>VERB': 228, 'NOUN>ADJ>VERB': 229, 'ADV>NUM>NOUN': 230, 'DET>PROPN>VERB': 231, 'PUNCT>CONJ>ADJ': 232, 'PUNCT>NOUN>CONJ': 233, 'PUNCT>ADP>NOUN': 234, 'CONJ>DET>ADJ': 235, 'CONJ>VERB>ADV': 236, 'PART>VERB>PUNCT': 237, 'NUM>PUNCT>DET': 238, 'ADP>ADJ>PUNCT': 239, 'VERB>NOUN>VERB': 240, 'PUNCT>ADV>VERB': 241, 'CONJ>PROPN>PROPN': 242, 'PUNCT>ADP>ADJ': 243, 'NUM>PUNCT>PROPN': 244, 'VERB>PRON>ADP': 245, 'PROPN>PUNCT>NOUN': 246, 'NOUN>VERB>PROPN': 247, 'PUNCT>DET>PROPN': 248, 'NOUN>PROPN>PROPN': 249, 'DET>ADV>ADJ': 250, 'NUM>NOUN>CONJ': 251, 'PROPN>VERB>NOUN': 252, 'ADP>VERB>DET': 253, 'NOUN>VERB>NUM': 254, 'ADP>NUM>CONJ': 255, 'PROPN>PUNCT>ADP': 256, 'DET>ADJ>ADP': 257, 'PROPN>NOUN>ADP': 258, 'ADJ>NUM>NOUN': 259, 'VERB>PUNCT>CONJ': 260, 'PROPN>VERB>PROPN': 261, 'CONJ>NUM>NOUN': 262, 'VERB>ADP>VERB': 263, 'PART>VERB>VERB': 264, 'PROPN>PROPN>PART': 265, 'VERB>NOUN>PART': 266, 'ADV>ADP>ADJ': 267, 'PROPN>VERB>PART': 268, 'CONJ>PROPN>VERB': 269, 'PART>NOUN>NOUN': 270, 'VERB>PROPN>ADP': 271, 'ADJ>VERB>VERB': 272, 'ADJ>PUNCT>ADJ': 273, 'ADV>VERB>PART': 274, 'ADP>ADP>DET': 275, 'VERB>PROPN>PART': 276, 'NOUN>PRON>VERB': 277, 'PUNCT>ADV>PUNCT': 278, 'NUM>PUNCT>VERB': 279, 'ADP>DET>PUNCT': 280, 'NOUN>NOUN>PART': 281, 'ADP>ADJ>NUM': 282, 'ADV>ADV>PUNCT': 283, 'PUNCT>CONJ>ADV': 284, 'PUNCT>CONJ>PROPN': 285, 'ADJ>PROPN>PROPN': 286, 'ADV>ADP>PROPN': 287, 'NUM>PUNCT>CONJ': 288, 'PROPN>VERB>NUM': 289, 'NOUN>NOUN>ADV': 290, 'NOUN>ADJ>ADP': 291, 'PUNCT>VERB>NUM': 292, 'PROPN>PART>VERB': 293, 'VERB>ADP>PRON': 294, 'NUM>ADP>NUM': 295, 'CONJ>PROPN>PUNCT': 296, 'ADJ>VERB>NOUN': 297, 'ADV>ADV>VERB': 298, 'ADV>VERB>ADV': 299, 'PUNCT>ADV>ADP': 300, 'VERB>NUM>ADP': 301, 'ADP>VERB>ADP': 302, 'ADV>ADV>ADP': 303, 'VERB>PROPN>PUNCT': 304, 'CONJ>PRON>VERB': 305, 'PUNCT>NUM>NOUN': 306, 'VERB>PART>ADP': 307, 'DET>ADP>NOUN': 308, 'ADV>VERB>VERB': 309, 'ADP>PROPN>NOUN': 310, 'ADP>PUNCT>NOUN': 311, 'PROPN>PUNCT>ADV': 312, 'PUNCT>VERB>ADV': 313, 'ADV>DET>ADJ': 314, 'NUM>PROPN>NUM': 315, 'ADJ>ADJ>ADJ': 316, 'PUNCT>ADP>NUM': 317, 'ADV>PRON>VERB': 318, 'NUM>NOUN>ADV': 319, 'NOUN>PUNCT>NUM': 320, 'ADJ>VERB>ADP': 321, 'NOUN>VERB>PRON': 322, 'ADP>ADJ>PROPN': 323, 'PROPN>PUNCT>ADJ': 324, 'NUM>CONJ>NUM': 325, 'NOUN>CONJ>NUM': 326, 'NOUN>DET>ADJ': 327, 'PUNCT>CONJ>ADP': 328, 'ADP>DET>ADP': 329, 'DET>NOUN>DET': 330, 'DET>ADJ>NUM': 331, 'PROPN>CONJ>VERB': 332, 'PRON>VERB>PART': 333, 'PRON>VERB>NOUN': 334, 'PROPN>ADP>ADJ': 335, 'PUNCT>ADP>PROPN': 336, 'NOUN>ADJ>PUNCT': 337, 'VERB>ADP>ADP': 338, 'NOUN>NOUN>ADJ': 339, 'VERB>PUNCT>VERB': 340, 'ADJ>PUNCT>CONJ': 341, 'NOUN>ADP>PRON': 342, 'ADV>PUNCT>ADP': 343, 'PRON>ADP>DET': 344, 'DET>ADJ>VERB': 345, 'ADJ>NOUN>DET': 346, 'ADJ>NOUN>PROPN': 347, 'ADJ>NUM>PUNCT': 348, 'NOUN>ADP>ADV': 349, 'VERB>PRON>PUNCT': 350, 'PUNCT>CONJ>PRON': 351, 'ADJ>ADP>NUM': 352, 'VERB>ADV>DET': 353, 'NUM>PUNCT>PRON': 354, 'PUNCT>ADJ>ADP': 355, 'VERB>NUM>PUNCT': 356, 'VERB>VERB>CONJ': 357, 'PART>VERB>ADV': 358, 'ADJ>ADJ>PUNCT': 359, 'ADV>PUNCT>NOUN': 360, 'NOUN>NUM>NOUN': 361, 'NOUN>CONJ>ADV': 362, 'PROPN>NOUN>NOUN': 363, 'CONJ>ADJ>ADJ': 364, 'ADJ>PROPN>PUNCT': 365, 'DET>VERB>VERB': 366, 'ADJ>VERB>DET': 367, 'NUM>PUNCT>ADP': 368, 'ADJ>ADP>PROPN': 369, 'VERB>ADJ>PART': 370, 'CONJ>VERB>PART': 371, 'ADP>NUM>ADJ': 372, 'ADJ>PUNCT>VERB': 373, 'PRON>VERB>NUM': 374, 'NUM>CONJ>VERB': 375, 'DET>VERB>DET': 376, 'NUM>ADP>NOUN': 377, 'NOUN>ADP>ADP': 378, 'ADP>PRON>PUNCT': 379, 'ADP>ADJ>ADP': 380, 'NUM>PROPN>PUNCT': 381, 'DET>ADJ>CONJ': 382, 'PROPN>ADP>NOUN': 383, 'CONJ>VERB>NUM': 384, 'PROPN>PART>PROPN': 385, 'VERB>DET>ADV': 386, 'VERB>DET>VERB': 387, 'DET>ADV>VERB': 388, 'ADP>DET>ADV': 389, 'ADV>PUNCT>PRON': 390, 'ADV>PUNCT>PROPN': 391, 'ADP>VERB>ADJ': 392, 'ADP>ADP>NOUN': 393, 'PROPN>VERB>PUNCT': 394, 'PRON>VERB>PUNCT': 395, 'PUNCT>ADJ>ADJ': 396, 'ADV>PART>VERB': 397, 'ADV>PUNCT>ADJ': 398, 'PUNCT>PROPN>CONJ': 399, 'ADV>ADP>NUM': 400, 'PART>VERB>PROPN': 401, 'ADP>NOUN>ADJ': 402, 'DET>VERB>ADJ': 403, 'PUNCT>VERB>PROPN': 404, 'PART>VERB>PRON': 405, 'CONJ>VERB>PUNCT': 406, 'ADJ>PROPN>NOUN': 407, 'ADP>NOUN>ADV': 408, 'PROPN>CONJ>DET': 409, 'VERB>ADV>NUM': 410, 'DET>ADP>ADJ': 411, 'NOUN>ADV>ADV': 412, 'DET>NUM>PUNCT': 413, 'NUM>ADP>ADJ': 414, 'ADJ>VERB>ADJ': 415, 'VERB>ADJ>CONJ': 416, 'PUNCT>ADJ>PUNCT': 417, 'DET>VERB>ADP': 418, 'ADV>PUNCT>CONJ': 419, 'ADP>PUNCT>DET': 420, 'ADV>VERB>PROPN': 421, 'CONJ>DET>PROPN': 422, 'CONJ>ADP>DET': 423, 'PRON>PART>VERB': 424, 'VERB>ADP>ADV': 425, 'VERB>PRON>VERB': 426, 'VERB>NUM>ADJ': 427, 'VERB>DET>NUM': 428, 'ADJ>VERB>ADV': 429, 'ADJ>DET>NOUN': 430, 'ADP>ADV>NUM': 431, 'PUNCT>VERB>PUNCT': 432, 'CONJ>NUM>PUNCT': 433, 'ADV>VERB>NUM': 434, 'PROPN>CONJ>ADJ': 435, 'ADP>ADP>ADJ': 436, 'PUNCT>PROPN>PART': 437, 'NOUN>PROPN>VERB': 438, 'ADP>NUM>VERB': 439, 'VERB>PART>DET': 440, 'NOUN>CONJ>ADP': 441, 'PUNCT>NOUN>PART': 442, 'CONJ>VERB>PRON': 443, 'VERB>PUNCT>ADP': 444, 'NUM>ADP>PROPN': 445, 'PART>NOUN>CONJ': 446, 'DET>NOUN>PROPN': 447, 'DET>NOUN>PRON': 448, 'NOUN>ADV>ADJ': 449, 'PUNCT>VERB>PART': 450, 'VERB>PRON>PART': 451, 'PROPN>ADJ>NOUN': 452, 'CONJ>ADJ>PUNCT': 453, 'NOUN>VERB>CONJ': 454, 'DET>PROPN>PART': 455, 'NUM>NOUN>NUM': 456, 'DET>VERB>ADV': 457, 'ADV>PUNCT>ADV': 458, 'ADJ>ADP>VERB': 459, 'ADP>ADP>NUM': 460, 'PUNCT>VERB>PRON': 461, 'ADP>ADV>VERB': 462, 'DET>PUNCT>NOUN': 463, 'SYM>NUM>NUM': 464, 'VERB>NOUN>ADV': 465, 'PRON>ADP>NOUN': 466, 'PRON>VERB>PROPN': 467, 'PART>VERB>PART': 468, 'ADP>ADJ>VERB': 469, 'ADJ>PUNCT>ADP': 470, 'NUM>PUNCT>ADV': 471, 'ADV>ADV>ADJ': 472, 'PART>ADP>DET': 473, 'DET>PROPN>CONJ': 474, 'ADJ>PROPN>VERB': 475, 'NOUN>NOUN>DET': 476, 'PUNCT>CONJ>NUM': 477, 'ADP>ADJ>CONJ': 478, 'VERB>VERB>PROPN': 479, 'ADJ>CONJ>VERB': 480, 'ADP>VERB>PUNCT': 481, 'PROPN>PROPN>ADV': 482, 'NUM>PUNCT>ADJ': 483, 'VERB>PART>PUNCT': 484, 'DET>NOUN>NUM': 485, 'PUNCT>NOUN>ADV': 486, 'ADV>NOUN>ADP': 487, 'PROPN>VERB>PRON': 488, 'PRON>DET>NOUN': 489, 'ADJ>ADV>VERB': 490, 'PUNCT>ADV>ADV': 491, 'NUM>NOUN>ADJ': 492, 'PROPN>NUM>ADP': 493, 'ADV>NOUN>PUNCT': 494, 'NUM>PROPN>PROPN': 495, 'ADV>VERB>CONJ': 496, 'ADV>VERB>PRON': 497, 'PROPN>PUNCT>PRON': 498, 'PUNCT>PROPN>NOUN': 499, 'PUNCT>DET>VERB': 500, 'ADJ>PRON>VERB': 501, 'VERB>PART>NOUN': 502, 'ADV>CONJ>VERB': 503, 'PUNCT>ADV>ADJ': 504, 'VERB>VERB>NUM': 505, 'VERB>PUNCT>DET': 506, 'PART>ADJ>ADJ': 507, 'VERB>DET>ADP': 508, 'ADP>VERB>VERB': 509, 'PUNCT>ADP>VERB': 510, 'PROPN>DET>NOUN': 511, 'PUNCT>ADV>DET': 512, 'DET>NUM>ADJ': 513, 'NOUN>ADV>DET': 514, 'ADP>ADV>ADJ': 515, 'ADV>ADP>VERB': 516, 'NOUN>PROPN>PUNCT': 517, 'DET>ADV>PUNCT': 518, 'VERB>PUNCT>ADV': 519, 'PUNCT>NUM>ADP': 520, 'NOUN>NOUN>PROPN': 521, 'ADP>SYM>NUM': 522, 'PROPN>NOUN>CONJ': 523, 'VERB>PUNCT>NOUN': 524, 'PART>DET>NOUN': 525, 'ADJ>PUNCT>DET': 526, 'PUNCT>PART>VERB': 527, 'NUM>NOUN>PART': 528, 'VERB>ADV>CONJ': 529, 'PUNCT>ADV>PRON': 530, 'CONJ>PROPN>NOUN': 531, 'VERB>ADP>PUNCT': 532, 'ADV>ADJ>ADJ': 533, 'ADP>ADV>PUNCT': 534, 'PRON>DET>ADJ': 535, 'NOUN>NUM>ADP': 536, 'ADV>PROPN>VERB': 537, 'VERB>NOUN>ADJ': 538, 'PART>PROPN>PROPN': 539, 'ADJ>NOUN>PRON': 540, 'DET>NUM>PROPN': 541, 'ADJ>PROPN>ADP': 542, 'PUNCT>NOUN>ADJ': 543, 'ADV>ADJ>CONJ': 544, 'PART>NUM>NOUN': 545, 'DET>ADJ>ADV': 546, 'NUM>NUM>NOUN': 547, 'ADJ>PUNCT>ADV': 548, 'PART>VERB>CONJ': 549, 'PUNCT>ADP>ADP': 550, 'ADJ>ADJ>ADP': 551, 'DET>DET>NOUN': 552, 'DET>PUNCT>DET': 553, 'CONJ>ADV>ADJ': 554, 'PUNCT>ADP>PRON': 555, 'NOUN>CONJ>PROPN': 556, 'PUNCT>DET>ADP': 557, 'NUM>PROPN>VERB': 558, 'PRON>ADP>ADJ': 559, 'VERB>PRON>DET': 560, 'PUNCT>PRON>ADV': 561, 'PROPN>NOUN>PART': 562, 'PUNCT>ADP>PUNCT': 563, 'CONJ>ADP>ADJ': 564, 'NUM>PRON>VERB': 565, 'PUNCT>ADV>NOUN': 566, 'ADP>NOUN>DET': 567, 'CONJ>NOUN>ADV': 568, 'CONJ>ADP>NOUN': 569, 'VERB>PROPN>CONJ': 570, 'NUM>VERB>VERB': 571, 'VERB>PART>ADJ': 572, 'VERB>ADV>NOUN': 573, 'ADP>ADP>PROPN': 574, 'CONJ>NOUN>PART': 575, 'PART>NOUN>PART': 576, 'PROPN>NUM>NOUN': 577, 'ADJ>CONJ>NOUN': 578, 'VERB>PROPN>NOUN': 579, 'ADP>VERB>ADV': 580, 'ADP>PUNCT>PRON': 581, 'ADP>PROPN>ADV': 582, 'ADJ>ADV>PUNCT': 583, 'ADP>NOUN>PROPN': 584, 'CONJ>ADJ>ADP': 585, 'PROPN>DET>ADJ': 586, 'VERB>PUNCT>PROPN': 587, 'ADP>ADJ>DET': 588, 'ADJ>ADJ>CONJ': 589, 'PART>VERB>NUM': 590, 'ADP>VERB>PART': 591, 'NUM>VERB>ADP': 592, 'NUM>NUM>PUNCT': 593, 'CONJ>DET>VERB': 594, 'VERB>PRON>ADV': 595, 'VERB>VERB>PRON': 596, 'ADP>PUNCT>VERB': 597, 'ADV>ADJ>PART': 598, 'CONJ>ADP>NUM': 599, 'PROPN>ADP>VERB': 600, 'PUNCT>PROPN>ADV': 601, 'ADV>NOUN>VERB': 602, 'NUM>VERB>NOUN': 603, 'PUNCT>ADP>ADV': 604, 'VERB>ADV>PART': 605, 'ADJ>PUNCT>PROPN': 606, 'PART>NOUN>ADV': 607, 'CONJ>PROPN>ADP': 608, 'PROPN>CONJ>NOUN': 609, 'CONJ>VERB>PROPN': 610, 'NUM>NOUN>DET': 611, 'VERB>PRON>ADJ': 612, 'PUNCT>ADV>NUM': 613, 'DET>ADP>NUM': 614, 'CONJ>NUM>ADJ': 615, 'ADJ>ADP>PRON': 616, 'NOUN>ADP>PUNCT': 617, 'NUM>PART>VERB': 618, 'CONJ>ADV>ADP': 619, 'ADJ>CONJ>ADV': 620, 'NOUN>PUNCT>PART': 621, 'CONJ>NOUN>CONJ': 622, 'NUM>DET>NOUN': 623, 'PROPN>ADV>ADP': 624, 'PART>ADP>NOUN': 625, 'ADP>ADV>DET': 626, 'ADP>NUM>PRON': 627, 'NOUN>ADJ>ADJ': 628, 'DET>VERB>NUM': 629, 'VERB>ADJ>PROPN': 630, 'ADJ>NOUN>NUM': 631, 'PRON>VERB>PRON': 632, 'VERB>PUNCT>ADJ': 633, 'ADP>PRON>ADP': 634, 'PUNCT>PROPN>ADP': 635, 'NOUN>PROPN>NOUN': 636, 'VERB>ADJ>ADV': 637, 'PROPN>NUM>CONJ': 638, 'ADP>VERB>PROPN': 639, 'PROPN>NOUN>PROPN': 640, 'VERB>NUM>CONJ': 641, 'PUNCT>DET>ADV': 642, 'DET>NUM>VERB': 643, 'VERB>CONJ>NOUN': 644, 'ADP>NUM>DET': 645, 'PROPN>PUNCT>NUM': 646, 'ADP>PART>VERB': 647, 'DET>VERB>PROPN': 648, 'VERB>ADJ>VERB': 649, 'VERB>SYM>NUM': 650, 'PUNCT>ADJ>ADV': 651, 'ADP>VERB>NUM': 652, 'NOUN>ADV>NOUN': 653, 'ADJ>PUNCT>PRON': 654, 'PUNCT>NOUN>PROPN': 655, 'CONJ>NUM>ADP': 656, 'NUM>ADJ>PUNCT': 657, 'PUNCT>VERB>CONJ': 658, 'ADJ>ADV>ADP': 659, 'ADP>NOUN>PRON': 660, 'ADJ>ADJ>PROPN': 661, 'PUNCT>ADJ>CONJ': 662, 'PART>ADV>VERB': 663, 'ADV>NUM>PUNCT': 664, 'PROPN>NOUN>ADV': 665, 'PART>PROPN>PUNCT': 666, 'PUNCT>DET>NUM': 667, 'DET>VERB>PUNCT': 668, 'ADV>CONJ>ADV': 669, 'CONJ>ADV>PUNCT': 670, 'ADP>PUNCT>ADJ': 671, 'ADV>NUM>ADJ': 672, 'CONJ>NOUN>ADJ': 673, 'VERB>CONJ>DET': 674, 'ADV>ADP>ADP': 675, 'CONJ>ADP>PROPN': 676, 'ADJ>ADV>ADJ': 677, 'VERB>PUNCT>PRON': 678, 'NOUN>ADV>CONJ': 679, 'PROPN>ADV>PUNCT': 680, 'PRON>ADV>ADP': 681, 'ADJ>DET>ADJ': 682, 'PUNCT>ADJ>PROPN': 683, 'PRON>ADJ>NOUN': 684, 'NUM>ADJ>ADJ': 685, 'ADV>PROPN>PROPN': 686, 'NUM>NUM>ADP': 687, 'ADV>ADP>PRON': 688, 'VERB>CONJ>ADJ': 689, 'CONJ>ADV>ADV': 690, 'VERB>DET>PUNCT': 691, 'NOUN>PART>NUM': 692, 'NUM>VERB>DET': 693, 'CONJ>PROPN>PART': 694, 'VERB>CONJ>ADV': 695, 'ADV>NOUN>NOUN': 696, 'NOUN>NOUN>NUM': 697, 'NOUN>PART>ADV': 698, 'DET>PUNCT>ADJ': 699, 'DET>PROPN>ADV': 700, 'ADP>ADJ>PRON': 701, 'PROPN>PRON>VERB': 702, 'ADP>NUM>ADV': 703, 'ADP>NUM>PART': 704, 'VERB>PROPN>VERB': 705, 'NOUN>ADV>PRON': 706, 'CONJ>NUM>VERB': 707, 'DET>PROPN>NUM': 708, 'NUM>PROPN>NOUN': 709, 'ADP>ADV>ADP': 710, 'PUNCT>PRON>ADP': 711, 'SYM>NUM>PUNCT': 712, 'ADJ>ADJ>VERB': 713, 'CONJ>DET>NUM': 714, 'PROPN>ADV>ADV': 715, 'ADP>NUM>NUM': 716, 'PART>ADP>ADJ': 717, 'ADJ>VERB>PART': 718, 'ADJ>NUM>ADP': 719, 'PUNCT>CONJ>PUNCT': 720, 'PUNCT>ADV>PROPN': 721, 'PROPN>PART>NUM': 722, 'PUNCT>PRON>DET': 723, 'ADP>PUNCT>NUM': 724, 'ADV>ADV>ADV': 725, 'PROPN>PROPN>ADJ': 726, 'NUM>VERB>PUNCT': 727, 'ADP>ADJ>ADV': 728, 'VERB>PART>ADV': 729, 'NOUN>DET>VERB': 730, 'DET>DET>ADJ': 731, 'NUM>VERB>ADJ': 732, 'NOUN>ADJ>CONJ': 733, 'PRON>ADP>NUM': 734, 'DET>ADJ>PART': 735, 'DET>ADP>PROPN': 736, 'PRON>ADV>PUNCT': 737, 'VERB>ADP>SYM': 738, 'ADJ>VERB>NUM': 739, 'ADV>NUM>ADP': 740, 'DET>PUNCT>PRON': 741, 'NOUN>NUM>CONJ': 742, 'NUM>CONJ>DET': 743, 'NOUN>ADP>CONJ': 744, 'PUNCT>NUM>ADJ': 745, 'ADV>DET>PROPN': 746, 'SYM>NUM>ADP': 747, 'PROPN>VERB>CONJ': 748, 'ADP>PROPN>ADJ': 749, 'PART>ADP>NUM': 750, 'NOUN>CONJ>PUNCT': 751, 'VERB>NUM>VERB': 752, 'ADJ>ADP>ADP': 753, 'ADV>ADV>DET': 754, 'PROPN>CONJ>ADV': 755, 'ADP>VERB>PRON': 756, 'CONJ>ADJ>PROPN': 757, 'PRON>ADP>VERB': 758, 'ADJ>CONJ>DET': 759, 'CONJ>ADV>DET': 760, 'PART>ADP>PROPN': 761, 'DET>PART>VERB': 762, 'ADV>ADP>PUNCT': 763, 'NUM>CONJ>ADV': 764, 'PART>NOUN>PROPN': 765, 'PUNCT>ADJ>PRON': 766, 'ADJ>VERB>PROPN': 767, 'PUNCT>NOUN>DET': 768, 'VERB>PROPN>NUM': 769, 'DET>PUNCT>VERB': 770, 'PART>ADV>ADJ': 771, 'PROPN>NUM>PROPN': 772, 'NOUN>ADV>PART': 773, 'ADP>VERB>CONJ': 774, 'CONJ>PROPN>ADV': 775, 'NOUN>NOUN>PRON': 776, 'PART>PROPN>ADP': 777, 'ADP>PRON>ADV': 778, 'DET>PROPN>ADJ': 779, 'ADJ>PROPN>CONJ': 780, 'CONJ>ADJ>VERB': 781, 'ADP>CONJ>ADP': 782, 'DET>ADV>ADP': 783, 'PRON>ADP>PROPN': 784, 'DET>VERB>PART': 785, 'NOUN>CONJ>PRON': 786, 'VERB>ADV>PROPN': 787, 'NOUN>ADP>SYM': 788, 'VERB>ADP>PART': 789, 'ADP>ADV>ADV': 790, 'ADP>PUNCT>ADP': 791, 'NOUN>ADJ>ADV': 792, 'DET>PUNCT>ADP': 793, 'DET>ADV>ADV': 794, 'PROPN>ADV>DET': 795, 'PRON>PUNCT>VERB': 796, 'PROPN>NUM>VERB': 797, 'NOUN>DET>PROPN': 798, 'NOUN>PROPN>ADP': 799, 'ADJ>VERB>PUNCT': 800, 'ADJ>NUM>ADJ': 801, 'VERB>PROPN>ADV': 802, 'CONJ>PUNCT>ADP': 803, 'PUNCT>NUM>VERB': 804, 'PART>DET>ADJ': 805, 'PROPN>PROPN>NUM': 806, 'PUNCT>NOUN>NUM': 807, 'VERB>PRON>NOUN': 808, 'PRON>CONJ>VERB': 809, 'NOUN>PROPN>CONJ': 810, 'PROPN>ADJ>VERB': 811, 'ADP>DET>DET': 812, 'VERB>NOUN>PROPN': 813, 'VERB>ADJ>NUM': 814, 'PRON>NUM>NOUN': 815, 'NOUN>PRON>PUNCT': 816, 'PRON>ADV>ADV': 817, 'ADJ>ADJ>NUM': 818, 'CONJ>PART>VERB': 819, 'ADJ>VERB>PRON': 820, 'DET>ADJ>DET': 821, 'PRON>PUNCT>CONJ': 822, 'ADV>ADJ>VERB': 823, 'VERB>NOUN>DET': 824, 'VERB>ADJ>DET': 825, 'PART>PART>VERB': 826, 'PUNCT>NUM>PROPN': 827, 'CONJ>PROPN>CONJ': 828, 'PART>NOUN>DET': 829, 'PROPN>ADP>PRON': 830, 'NUM>PROPN>ADP': 831, 'PROPN>CONJ>NUM': 832, 'NOUN>ADV>NUM': 833, 'ADV>ADV>CONJ': 834, 'VERB>PART>NUM': 835, 'PUNCT>NUM>CONJ': 836, 'NOUN>PART>ADP': 837, 'VERB>CONJ>NUM': 838, 'VERB>PART>PART': 839, 'X>PUNCT>NOUN': 840, 'NUM>ADP>VERB': 841, 'ADJ>ADP>PUNCT': 842, 'NOUN>PART>PROPN': 843, 'PRON>CONJ>ADJ': 844, 'NUM>CONJ>ADJ': 845, 'PROPN>CONJ>ADP': 846, 'ADP>PROPN>DET': 847, 'ADV>NOUN>CONJ': 848, 'NUM>VERB>ADV': 849, 'NUM>ADV>PUNCT': 850, 'PRON>ADV>ADJ': 851, 'DET>CONJ>NOUN': 852, 'VERB>PROPN>DET': 853, 'PRON>ADJ>ADP': 854, 'PRON>NOUN>ADP': 855, 'DET>PUNCT>ADV': 856, 'ADP>ADV>NOUN': 857, 'ADP>ADP>PUNCT': 858, 'NUM>ADP>PRON': 859, 'NUM>ADJ>NUM': 860, 'PROPN>NUM>DET': 861, 'VERB>PART>CONJ': 862, 'ADV>DET>VERB': 863, 'ADV>ADV>NUM': 864, 'NOUN>ADJ>PROPN': 865, 'PART>NOUN>ADJ': 866, 'ADJ>ADP>ADV': 867, 'NUM>VERB>NUM': 868, 'X>PUNCT>ADJ': 869, 'NOUN>ADV>PROPN': 870, 'CONJ>ADV>NOUN': 871, 'ADV>DET>ADP': 872, 'PART>NUM>PUNCT': 873, 'PROPN>ADP>ADP': 874, 'DET>PUNCT>NUM': 875, 'ADV>PUNCT>NUM': 876, 'DET>ADV>NOUN': 877, 'NUM>ADV>ADV': 878, 'NUM>PART>NUM': 879, 'ADJ>NUM>VERB': 880, 'NOUN>NUM>VERB': 881, 'VERB>NOUN>NUM': 882, 'PROPN>PROPN>DET': 883, 'PART>ADJ>PUNCT': 884, 'DET>NUM>ADP': 885, 'PART>CONJ>VERB': 886, 'ADP>PRON>CONJ': 887, 'NOUN>PART>PUNCT': 888, 'CONJ>PRON>ADV': 889, 'VERB>ADP>CONJ': 890, 'ADV>ADP>ADV': 891, 'NOUN>ADJ>PART': 892, 'CONJ>VERB>CONJ': 893, 'ADJ>NUM>CONJ': 894, 'ADP>PROPN>PRON': 895, 'PUNCT>PRON>NUM': 896, 'PROPN>PUNCT>PART': 897, 'ADP>PUNCT>ADV': 898, 'ADV>SYM>NUM': 899, 'PROPN>NOUN>ADJ': 900, 'PRON>VERB>CONJ': 901, 'NUM>ADV>VERB': 902, 'PROPN>PART>ADV': 903, 'PROPN>ADJ>ADP': 904, 'ADV>NUM>VERB': 905, 'ADV>ADV>NOUN': 906, 'CONJ>NOUN>PROPN': 907, 'ADP>PUNCT>PROPN': 908, 'CONJ>DET>ADV': 909, 'VERB>PRON>CONJ': 910, 'CONJ>NUM>PROPN': 911, 'ADV>ADJ>DET': 912, 'NUM>PROPN>CONJ': 913, 'NOUN>PRON>ADV': 914, 'ADJ>ADV>ADV': 915, 'VERB>NUM>PROPN': 916, 'ADV>PROPN>PUNCT': 917, 'ADP>ADP>VERB': 918, 'ADV>ADJ>PROPN': 919, 'DET>PUNCT>PROPN': 920, 'PRON>ADV>DET': 921, 'PUNCT>NOUN>PRON': 922, 'ADJ>PUNCT>NUM': 923, 'PART>PROPN>NOUN': 924, 'PUNCT>ADJ>NUM': 925, 'PROPN>ADJ>PUNCT': 926, 'DET>ADV>DET': 927, 'NOUN>VERB>SYM': 928, 'VERB>NOUN>PRON': 929, 'PROPN>NUM>PRON': 930, 'PROPN>ADP>ADV': 931, 'PUNCT>ADJ>DET': 932, 'VERB>PUNCT>NUM': 933, 'NUM>DET>ADJ': 934, 'DET>VERB>PRON': 935, 'ADV>ADJ>ADV': 936, 'CONJ>ADJ>CONJ': 937, 'CONJ>ADV>NUM': 938, 'NOUN>ADJ>DET': 939, 'VERB>ADV>PRON': 940, 'VERB>PART>PROPN': 941, 'PUNCT>DET>PUNCT': 942, 'NOUN>NUM>ADJ': 943, 'VERB>NUM>NUM': 944, 'NUM>ADJ>VERB': 945, 'NOUN>ADJ>PRON': 946, 'PART>PUNCT>VERB': 947, 'PROPN>DET>PROPN': 948, 'ADJ>PROPN>PART': 949, 'ADV>DET>NUM': 950, 'PROPN>ADV>ADJ': 951, 'VERB>NUM>ADV': 952, 'NOUN>DET>NUM': 953, 'ADP>ADJ>PART': 954, 'ADV>DET>ADV': 955, 'NOUN>CONJ>PART': 956, 'ADJ>PROPN>NUM': 957, 'NUM>CONJ>NOUN': 958, 'PART>PUNCT>CONJ': 959, 'VERB>PROPN>ADJ': 960, 'PROPN>ADV>PRON': 961, 'PRON>PUNCT>ADP': 962, 'PRON>CONJ>PROPN': 963, 'NUM>VERB>CONJ': 964, 'PROPN>PART>PUNCT': 965, 'NUM>CONJ>PROPN': 966, 'ADV>PUNCT>PART': 967, 'CONJ>PROPN>NUM': 968, 'PROPN>DET>VERB': 969, 'ADJ>CONJ>ADP': 970, 'PROPN>ADJ>ADJ': 971, 'DET>ADV>NUM': 972, 'NOUN>PROPN>PART': 973, 'PUNCT>PRON>ADJ': 974, 'NOUN>DET>ADV': 975, 'CONJ>NOUN>NUM': 976, 'ADP>CONJ>VERB': 977, 'DET>PUNCT>CONJ': 978, 'NUM>ADP>ADP': 979, 'VERB>PUNCT>PART': 980, 'VERB>CONJ>PRON': 981, 'PRON>ADJ>PUNCT': 982, 'NOUN>PUNCT>X': 983, 'ADJ>CONJ>PROPN': 984, 'X>NOUN>PUNCT': 985, 'ADP>CONJ>NUM': 986, 'VERB>CONJ>ADP': 987, 'PRON>ADJ>ADJ': 988, 'ADP>ADP>PRON': 989, 'ADP>CONJ>DET': 990, 'PUNCT>ADJ>PART': 991, 'CONJ>ADP>PUNCT': 992, 'NUM>ADP>ADV': 993, 'PRON>NOUN>PUNCT': 994, 'NOUN>ADP>X': 995, 'X>X>PUNCT': 996, 'ADV>ADJ>NUM': 997, 'CONJ>NUM>ADV': 998, 'CONJ>ADJ>ADV': 999, 'SYM>NUM>NOUN': 1000, 'ADP>PRON>PART': 1001, 'CONJ>NOUN>DET': 1002, 'ADJ>ADV>PART': 1003, 'DET>ADP>VERB': 1004, 'PART>ADJ>CONJ': 1005, 'PART>ADV>PUNCT': 1006, 'PART>ADJ>PROPN': 1007, 'PUNCT>PRON>CONJ': 1008, 'ADP>DET>CONJ': 1009, 'PUNCT>ADV>PART': 1010, 'DET>SYM>NUM': 1011, 'DET>X>PUNCT': 1012, 'PRON>ADJ>PART': 1013, 'NUM>NOUN>PROPN': 1014, 'ADV>CONJ>DET': 1015, 'PRON>PART>PUNCT': 1016, 'DET>CONJ>VERB': 1017, 'PART>NUM>ADJ': 1018, 'NOUN>PRON>ADP': 1019, 'DET>CONJ>ADJ': 1020, 'PART>PROPN>VERB': 1021, 'ADV>PROPN>PART': 1022, 'NOUN>PUNCT>PUNCT': 1023, 'ADV>CONJ>ADP': 1024, 'PRON>ADP>ADP': 1025, 'CONJ>DET>ADP': 1026, 'CONJ>PUNCT>ADV': 1027, 'ADP>CONJ>NOUN': 1028, 'VERB>CONJ>PROPN': 1029, 'PUNCT>PART>NOUN': 1030, 'PRON>PUNCT>ADV': 1031, 'CONJ>ADJ>PART': 1032, 'PUNCT>PROPN>NUM': 1033, 'PROPN>PRON>PUNCT': 1034, 'NUM>NOUN>PRON': 1035, 'ADJ>PART>NOUN': 1036, 'ADV>NUM>NUM': 1037, 'NUM>ADJ>CONJ': 1038, 'ADP>ADP>ADV': 1039, 'NOUN>PRON>DET': 1040, 'ADP>PUNCT>CONJ': 1041, 'NOUN>DET>PUNCT': 1042, 'NUM>SYM>NUM': 1043, 'PART>ADJ>VERB': 1044, 'PUNCT>PRON>PART': 1045, 'PUNCT>PRON>NOUN': 1046, 'ADV>NOUN>PART': 1047, 'CONJ>ADJ>NUM': 1048, 'ADV>CONJ>ADJ': 1049, 'NUM>PROPN>DET': 1050, 'ADP>X>PUNCT': 1051, 'CONJ>ADP>VERB': 1052, 'ADV>ADV>PRON': 1053, 'ADJ>CONJ>NUM': 1054, 'PROPN>NOUN>DET': 1055, 'CONJ>ADV>PROPN': 1056, 'DET>VERB>CONJ': 1057, 'ADJ>NUM>PROPN': 1058, 'DET>NUM>ADV': 1059, 'PRON>NUM>ADP': 1060, 'ADJ>ADJ>PART': 1061, 'CONJ>ADP>PRON': 1062, 'ADJ>PROPN>ADJ': 1063, 'DET>ADP>PRON': 1064, 'NUM>DET>PROPN': 1065, 'NUM>VERB>PART': 1066, 'ADV>NUM>CONJ': 1067, 'PART>ADV>ADP': 1068, 'NOUN>DET>ADP': 1069, 'NUM>ADV>ADJ': 1070, 'DET>ADP>ADP': 1071, 'NUM>ADJ>ADP': 1072, 'PRON>ADP>PRON': 1073, 'ADJ>X>PUNCT': 1074, 'ADJ>ADV>NOUN': 1075, 'ADJ>PROPN>ADV': 1076, 'DET>CONJ>DET': 1077, 'NOUN>PART>CONJ': 1078, 'PROPN>NUM>PART': 1079, 'ADJ>PART>ADJ': 1080, 'ADP>ADV>PROPN': 1081, 'NUM>CONJ>ADP': 1082, 'CONJ>ADP>ADP': 1083, 'VERB>NUM>PART': 1084, 'PRON>NUM>VERB': 1085, 'PROPN>PROPN>PRON': 1086, 'NUM>ADV>ADP': 1087, 'NOUN>NUM>DET': 1088, 'PART>DET>PROPN': 1089, 'DET>PRON>VERB': 1090, 'ADJ>ADJ>ADV': 1091, 'CONJ>PROPN>DET': 1092, 'ADV>NOUN>ADV': 1093, 'PROPN>NUM>ADJ': 1094, 'PRON>PUNCT>DET': 1095, 'CONJ>NUM>CONJ': 1096, 'PRON>CONJ>DET': 1097, 'ADV>ADV>PART': 1098, 'VERB>PRON>NUM': 1099, 'PROPN>ADJ>PROPN': 1100, 'INTJ>PUNCT>NUM': 1101, 'DET>NUM>CONJ': 1102, 'ADP>ADV>PRON': 1103, 'PRON>PUNCT>PRON': 1104, 'ADV>PRON>ADV': 1105, 'ADV>CONJ>NOUN': 1106, 'ADP>PRON>ADJ': 1107, 'ADJ>DET>PROPN': 1108, 'PRON>ADV>NUM': 1109, 'X>X>X': 1110, 'NUM>VERB>PROPN': 1111, 'PART>NOUN>PRON': 1112, 'ADP>CONJ>ADJ': 1113, 'ADJ>PRON>ADV': 1114, 'PRON>PUNCT>ADJ': 1115, 'NOUN>PROPN>ADV': 1116, 'ADJ>SYM>NUM': 1117, 'ADP>ADV>SYM': 1118, 'ADJ>DET>NUM': 1119, 'NUM>PROPN>PART': 1120, 'ADP>CONJ>PROPN': 1121, 'ADP>PRON>DET': 1122, 'CONJ>PUNCT>NOUN': 1123, 'ADJ>VERB>CONJ': 1124, 'NOUN>NUM>PRON': 1125, 'CONJ>ADP>ADV': 1126, 'PRON>PUNCT>PROPN': 1127, 'PRON>PUNCT>NOUN': 1128, 'NUM>NUM>ADJ': 1129, 'VERB>ADV>SYM': 1130, 'NUM>ADJ>PROPN': 1131, 'PROPN>PUNCT>PUNCT': 1132, 'ADJ>ADJ>DET': 1133, 'ADP>DET>X': 1134, 'ADP>ADP>ADP': 1135, 'ADP>DET>PART': 1136, 'PRON>DET>ADV': 1137, 'ADV>ADP>CONJ': 1138, 'ADV>ADV>PROPN': 1139, 'DET>DET>PUNCT': 1140, 'CONJ>PRON>CONJ': 1141, 'PRON>ADP>ADV': 1142, 'NOUN>SYM>NUM': 1143, 'ADP>ADV>PART': 1144, 'NOUN>ADP>PART': 1145, 'PART>PROPN>CONJ': 1146, 'PUNCT>PROPN>ADJ': 1147, 'ADJ>PART>ADV': 1148, 'PRON>NOUN>CONJ': 1149, 'PART>ADJ>NUM': 1150, 'PROPN>ADV>NUM': 1151, 'NOUN>NUM>PART': 1152, 'PUNCT>X>PUNCT': 1153, 'NOUN>X>NOUN': 1154, 'CONJ>ADV>PRON': 1155, 'NOUN>PART>DET': 1156, 'DET>NUM>NUM': 1157, 'ADJ>DET>VERB': 1158, 'NUM>PUNCT>PART': 1159, 'PART>NOUN>NUM': 1160, 'CONJ>PUNCT>VERB': 1161, 'NUM>VERB>PRON': 1162, 'PART>NUM>ADP': 1163, 'X>X>NOUN': 1164, 'PUNCT>INTJ>PUNCT': 1165, 'PROPN>PART>CONJ': 1166, 'PART>PUNCT>DET': 1167, 'PUNCT>VERB>SYM': 1168, 'PUNCT>CONJ>PART': 1169, 'PUNCT>NUM>ADV': 1170, 'ADJ>DET>PUNCT': 1171, 'PART>ADJ>ADP': 1172, 'CONJ>PROPN>ADJ': 1173, 'ADV>NOUN>ADJ': 1174, 'PART>PUNCT>PROPN': 1175, 'PROPN>PART>ADP': 1176, 'PROPN>ADJ>CONJ': 1177, 'PUNCT>PART>PUNCT': 1178, 'PRON>PRON>VERB': 1179, 'DET>ADP>ADV': 1180, 'NOUN>ADJ>NUM': 1181, 'SYM>NUM>CONJ': 1182, 'ADV>NUM>PROPN': 1183, 'ADP>DET>PRON': 1184, 'CONJ>ADJ>DET': 1185, 'PROPN>ADV>PART': 1186, 'ADJ>CONJ>PRON': 1187, 'NUM>ADV>DET': 1188, 'PROPN>ADV>NOUN': 1189, 'PROPN>CONJ>PRON': 1190, 'DET>DET>ADP': 1191, 'PROPN>NOUN>NUM': 1192, 'PROPN>CONJ>PUNCT': 1193, 'PRON>DET>VERB': 1194, 'PART>ADP>VERB': 1195, 'NOUN>PROPN>ADJ': 1196, 'PRON>ADV>NOUN': 1197, 'ADV>DET>PUNCT': 1198, 'NOUN>X>X': 1199}\n"
     ]
    }
   ],
   "source": [
    "word2idx = {n: i for i, n in enumerate(vocab)}## create the word-to-index dictionary here\n",
    "print(word2idx)"
   ]
  },
  {
   "cell_type": "code",
   "execution_count": 123,
   "metadata": {
    "collapsed": true
   },
   "outputs": [],
   "source": [
    "def textToTrigrams(text): \n",
    "    return trigramsToDictKeys(getPOSTrigramsForTextString(text))\n",
    "\n",
    "def text_to_vector(text):\n",
    "    wordVector = np.zeros(len(vocab))\n",
    "    for word in textToTrigrams(text):\n",
    "        index = word2idx.get(word, None)\n",
    "        if index != None:\n",
    "            wordVector[index] += 1\n",
    "    return wordVector"
   ]
  },
  {
   "cell_type": "code",
   "execution_count": 124,
   "metadata": {
    "collapsed": false
   },
   "outputs": [
    {
     "data": {
      "text/plain": [
       "array([ 2.,  1.,  0.,  0.,  2.,  0.,  0.,  0.,  0.,  0.,  2.,  0.,  1.,\n",
       "        1.,  0.,  0.,  0.,  0.,  0.,  0.,  0.,  0.,  0.,  0.,  0.,  0.,\n",
       "        0.,  1.,  0.,  0.,  0.,  0.,  0.,  0.,  0.,  0.,  0.,  0.,  0.,\n",
       "        0.,  0.,  0.,  0.,  0.,  0.,  0.,  0.,  0.,  0.,  0.,  1.,  0.,\n",
       "        0.,  0.,  0.,  0.,  0.,  0.,  0.,  0.,  0.,  0.,  0.,  0.,  0.])"
      ]
     },
     "execution_count": 124,
     "metadata": {},
     "output_type": "execute_result"
    }
   ],
   "source": [
    "text_to_vector('The tea is for a party to celebrate '\n",
    "               'the movie so she has no time for a cake')[:65]"
   ]
  },
  {
   "cell_type": "code",
   "execution_count": 128,
   "metadata": {
    "collapsed": false
   },
   "outputs": [],
   "source": [
    "word_vectors = np.zeros((len(texts), len(vocab)), dtype=np.int_)\n",
    "for ii, text in enumerate(texts):\n",
    "    word_vectors[ii] = text_to_vector(text)"
   ]
  },
  {
   "cell_type": "code",
   "execution_count": 129,
   "metadata": {
    "collapsed": false
   },
   "outputs": [
    {
     "data": {
      "text/plain": [
       "array([[1, 1, 0, 0, 0, 0, 0, 0, 1, 0, 0, 0, 0, 0, 0, 0, 0, 0, 1, 0, 0, 0, 0],\n",
       "       [2, 1, 0, 0, 1, 0, 0, 1, 0, 0, 1, 1, 0, 0, 0, 0, 0, 0, 0, 0, 0, 0, 1],\n",
       "       [1, 0, 0, 0, 1, 0, 0, 0, 0, 0, 0, 0, 1, 1, 0, 1, 0, 0, 0, 0, 0, 0, 0],\n",
       "       [1, 0, 1, 0, 0, 0, 0, 1, 1, 0, 0, 0, 1, 0, 0, 0, 0, 0, 0, 0, 0, 0, 0],\n",
       "       [0, 2, 1, 1, 0, 0, 0, 0, 0, 2, 0, 0, 0, 0, 0, 0, 0, 0, 0, 0, 0, 0, 0]])"
      ]
     },
     "execution_count": 129,
     "metadata": {},
     "output_type": "execute_result"
    }
   ],
   "source": [
    "# Printing out the first 5 word vectors\n",
    "word_vectors[:5, :23]"
   ]
  },
  {
   "cell_type": "markdown",
   "metadata": {},
   "source": [
    "### Chunking the data for TF"
   ]
  },
  {
   "cell_type": "code",
   "execution_count": 143,
   "metadata": {
    "collapsed": false
   },
   "outputs": [
    {
     "name": "stdout",
     "output_type": "stream",
     "text": [
      "106133 106133\n"
     ]
    }
   ],
   "source": [
    "records = len(labels)\n",
    "test_fraction = 0.9\n",
    "\n",
    "train_split, test_split = int(records*test_fraction), int(records*test_fraction)\n",
    "print(train_split, test_split)\n",
    "trainX, trainY = word_vectors[:train_split], to_categorical(labels[:train_split], 2)\n",
    "testX, testY = word_vectors[test_split:], to_categorical(labels[test_split:], 2)"
   ]
  },
  {
   "cell_type": "code",
   "execution_count": 147,
   "metadata": {
    "collapsed": false
   },
   "outputs": [
    {
     "data": {
      "text/plain": [
       "(array([1, 1, 0, ..., 0, 0, 0]), array([ 0.,  1.]))"
      ]
     },
     "execution_count": 147,
     "metadata": {},
     "output_type": "execute_result"
    }
   ],
   "source": [
    "trainX[-1], trainY[-1]"
   ]
  },
  {
   "cell_type": "code",
   "execution_count": 153,
   "metadata": {
    "collapsed": false
   },
   "outputs": [
    {
     "data": {
      "text/plain": [
       "(106133, 11793, 117926)"
      ]
     },
     "execution_count": 153,
     "metadata": {},
     "output_type": "execute_result"
    }
   ],
   "source": [
    "len(trainY), len(testY), len(trainY) + len(testY)"
   ]
  },
  {
   "cell_type": "markdown",
   "metadata": {},
   "source": [
    "# Setting up TF"
   ]
  },
  {
   "cell_type": "code",
   "execution_count": 159,
   "metadata": {
    "collapsed": true
   },
   "outputs": [],
   "source": [
    "# Network building\n",
    "def build_model():\n",
    "    # This resets all parameters and variables, leave this here\n",
    "    tf.reset_default_graph()\n",
    "    \n",
    "    #### Your code ####\n",
    "    net = tflearn.input_data([None, len(vocab)])                          # Input\n",
    "    net = tflearn.fully_connected(net, 200, activation='ReLU')      # Hidden\n",
    "    net = tflearn.fully_connected(net, 25, activation='ReLU')      # Hidden\n",
    "    net = tflearn.fully_connected(net, 2, activation='softmax')   # Output\n",
    "    net = tflearn.regression(net, optimizer='sgd', learning_rate=0.1, loss='categorical_crossentropy')\n",
    "    model = tflearn.DNN(net)\n",
    "\n",
    "    return model"
   ]
  },
  {
   "cell_type": "markdown",
   "metadata": {},
   "source": [
    "### Initialize"
   ]
  },
  {
   "cell_type": "code",
   "execution_count": 160,
   "metadata": {
    "collapsed": true
   },
   "outputs": [],
   "source": [
    "model = build_model()"
   ]
  },
  {
   "cell_type": "markdown",
   "metadata": {},
   "source": [
    "### Training"
   ]
  },
  {
   "cell_type": "code",
   "execution_count": 161,
   "metadata": {
    "collapsed": false
   },
   "outputs": [
    {
     "name": "stdout",
     "output_type": "stream",
     "text": [
      "Training Step: 37349  | total loss: \u001b[1m\u001b[32m0.05092\u001b[0m\u001b[0m | time: 9.386s\n",
      "| SGD | epoch: 050 | loss: 0.05092 - acc: 0.9784 -- iter: 95488/95519\n",
      "Training Step: 37350  | total loss: \u001b[1m\u001b[32m0.05543\u001b[0m\u001b[0m | time: 10.501s\n",
      "| SGD | epoch: 050 | loss: 0.05543 - acc: 0.9767 | val_loss: 0.65664 - val_acc: 0.8425 -- iter: 95519/95519\n",
      "--\n"
     ]
    }
   ],
   "source": [
    "# Training\n",
    "model.fit(trainX, trainY, validation_set=0.1, show_metric=True, batch_size=128, n_epoch=50)"
   ]
  },
  {
   "cell_type": "code",
   "execution_count": 162,
   "metadata": {
    "collapsed": false
   },
   "outputs": [
    {
     "name": "stdout",
     "output_type": "stream",
     "text": [
      "Test accuracy:  0.84227931824\n"
     ]
    }
   ],
   "source": [
    "# Testing\n",
    "predictions = (np.array(model.predict(testX))[:,0] >= 0.5).astype(np.int_)\n",
    "test_accuracy = np.mean(predictions == testY[:,0], axis=0)\n",
    "print(\"Test accuracy: \", test_accuracy)"
   ]
  },
  {
   "cell_type": "markdown",
   "metadata": {},
   "source": [
    "### Playground"
   ]
  },
  {
   "cell_type": "code",
   "execution_count": 163,
   "metadata": {
    "collapsed": true
   },
   "outputs": [],
   "source": [
    "def test_sentence(sentence):\n",
    "    positive_prob = model.predict([text_to_vector(sentence)])[0][1]\n",
    "    print('Sentence: {}'.format(sentence))\n",
    "    print('P(positive) = {:.3f} :'.format(positive_prob), \n",
    "          'Positive' if positive_prob > 0.5 else 'Negative')"
   ]
  },
  {
   "cell_type": "code",
   "execution_count": 164,
   "metadata": {
    "collapsed": false,
    "scrolled": true
   },
   "outputs": [
    {
     "name": "stdout",
     "output_type": "stream",
     "text": [
      "Sentence: Even though he had the better arguments and was by far the more powerful speaker.\n",
      "P(positive) = 0.000 : Negative\n"
     ]
    }
   ],
   "source": [
    "test_sentence(\"Even though he had the better arguments and was by far the more powerful speaker.\")"
   ]
  },
  {
   "cell_type": "code",
   "execution_count": 167,
   "metadata": {
    "collapsed": false
   },
   "outputs": [
    {
     "name": "stdout",
     "output_type": "stream",
     "text": [
      "Sentence: Even though he had the better arguments and was by far the more powerful speaker, Peter lost the debate.\n",
      "P(positive) = 1.000 : Positive\n"
     ]
    }
   ],
   "source": [
    "test_sentence(\"Even though he had the better arguments and was by far the more powerful speaker, Peter lost the debate.\")"
   ]
  },
  {
   "cell_type": "code",
   "execution_count": 165,
   "metadata": {
    "collapsed": false
   },
   "outputs": [
    {
     "name": "stdout",
     "output_type": "stream",
     "text": [
      "Sentence: Working far into the night in an effort to salvage her little boat.\n",
      "P(positive) = 0.000 : Negative\n"
     ]
    }
   ],
   "source": [
    "test_sentence(\"Working far into the night in an effort to salvage her little boat.\")"
   ]
  },
  {
   "cell_type": "code",
   "execution_count": 166,
   "metadata": {
    "collapsed": false
   },
   "outputs": [
    {
     "name": "stdout",
     "output_type": "stream",
     "text": [
      "Sentence: She was working far into the night in an effort to salvage her little boat.\n",
      "P(positive) = 0.977 : Positive\n"
     ]
    }
   ],
   "source": [
    "test_sentence(\"She was working far into the night in an effort to salvage her little boat.\")"
   ]
  },
  {
   "cell_type": "code",
   "execution_count": 169,
   "metadata": {
    "collapsed": false
   },
   "outputs": [
    {
     "name": "stdout",
     "output_type": "stream",
     "text": [
      "Sentence: The man eating pizza.\n",
      "P(positive) = 0.381 : Negative\n"
     ]
    }
   ],
   "source": [
    "test_sentence(\"The man eating pizza.\")"
   ]
  },
  {
   "cell_type": "code",
   "execution_count": 171,
   "metadata": {
    "collapsed": false
   },
   "outputs": [
    {
     "name": "stdout",
     "output_type": "stream",
     "text": [
      "Sentence: The man eating pizza is overwieght.\n",
      "P(positive) = 0.004 : Negative\n"
     ]
    }
   ],
   "source": [
    "test_sentence(\"The man eating pizza is overwieght.\")"
   ]
  },
  {
   "cell_type": "code",
   "execution_count": 172,
   "metadata": {
    "collapsed": false
   },
   "outputs": [
    {
     "name": "stdout",
     "output_type": "stream",
     "text": [
      "Sentence: While we were swimming at the lake.\n",
      "P(positive) = 0.010 : Negative\n"
     ]
    }
   ],
   "source": [
    "test_sentence(\"While we were swimming at the lake.\")"
   ]
  },
  {
   "cell_type": "code",
   "execution_count": 173,
   "metadata": {
    "collapsed": false
   },
   "outputs": [
    {
     "name": "stdout",
     "output_type": "stream",
     "text": [
      "Sentence: While we were swimming at the lake, we saw a fish.\n",
      "P(positive) = 0.982 : Positive\n"
     ]
    }
   ],
   "source": [
    "test_sentence(\"While we were swimming at the lake, we saw a fish.\")"
   ]
  },
  {
   "cell_type": "code",
   "execution_count": 174,
   "metadata": {
    "collapsed": false
   },
   "outputs": [
    {
     "name": "stdout",
     "output_type": "stream",
     "text": [
      "Sentence: Keep going.\n",
      "P(positive) = 0.000 : Negative\n"
     ]
    }
   ],
   "source": [
    "test_sentence(\"Keep going.\")"
   ]
  },
  {
   "cell_type": "code",
   "execution_count": 175,
   "metadata": {
    "collapsed": false
   },
   "outputs": [
    {
     "name": "stdout",
     "output_type": "stream",
     "text": [
      "Sentence: A time of wonder and amazement\n",
      "P(positive) = 0.000 : Negative\n"
     ]
    }
   ],
   "source": [
    "test_sentence(\"A time of wonder and amazement\")"
   ]
  },
  {
   "cell_type": "code",
   "execution_count": 176,
   "metadata": {
    "collapsed": false
   },
   "outputs": [
    {
     "name": "stdout",
     "output_type": "stream",
     "text": [
      "Sentence: That was a time of wonder and amazement\n",
      "P(positive) = 0.012 : Negative\n"
     ]
    }
   ],
   "source": [
    "test_sentence(\"That was a time of wonder and amazement\")"
   ]
  },
  {
   "cell_type": "code",
   "execution_count": 177,
   "metadata": {
    "collapsed": false
   },
   "outputs": [
    {
     "name": "stdout",
     "output_type": "stream",
     "text": [
      "Sentence: Since she never saw that movie.\n",
      "P(positive) = 0.006 : Negative\n"
     ]
    }
   ],
   "source": [
    "test_sentence(\"Since she never saw that movie.\") "
   ]
  },
  {
   "cell_type": "code",
   "execution_count": 178,
   "metadata": {
    "collapsed": false
   },
   "outputs": [
    {
     "name": "stdout",
     "output_type": "stream",
     "text": [
      "Sentence: We should invite her, since she never saw that movie.\n",
      "P(positive) = 0.999 : Positive\n"
     ]
    }
   ],
   "source": [
    "test_sentence(\"We should invite her, since she never saw that movie.\")"
   ]
  },
  {
   "cell_type": "code",
   "execution_count": null,
   "metadata": {
    "collapsed": true
   },
   "outputs": [],
   "source": []
  }
 ],
 "metadata": {
  "kernelspec": {
   "display_name": "Python 3",
   "language": "python",
   "name": "python3"
  }
 },
 "nbformat": 4,
 "nbformat_minor": 2
}
