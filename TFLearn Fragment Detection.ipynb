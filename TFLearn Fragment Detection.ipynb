{
 "cells": [
  {
   "cell_type": "markdown",
   "metadata": {},
   "source": [
    "## TFLearn Fragment Detection\n",
    "\n",
    "Catherine has prepared datafiles with sentences turned into fragments. I will use as input 60,000 fragments and 60,000 sentences. The fragments will come from the sentences. In the future the fragments will not be descendants of the input sentences. The labels will be either a 1 or 0, where 1 indicates a sentence and 0 indicates a fragment."
   ]
  },
  {
   "cell_type": "markdown",
   "metadata": {},
   "source": [
    "#### Install Dependencies"
   ]
  },
  {
   "cell_type": "code",
   "execution_count": 3,
   "metadata": {
    "collapsed": false
   },
   "outputs": [],
   "source": [
    "import pandas as pd\n",
    "import numpy as np\n",
    "import tensorflow as tf\n",
    "import tflearn\n",
    "from tflearn.data_utils import to_categorical\n",
    "import spacy\n",
    "nlp = spacy.load('en')\n",
    "import re\n",
    "from nltk.util import ngrams, trigrams\n",
    "import csv"
   ]
  },
  {
   "cell_type": "markdown",
   "metadata": {},
   "source": [
    "#### Load Datafiles"
   ]
  },
  {
   "cell_type": "code",
   "execution_count": 4,
   "metadata": {
    "collapsed": false
   },
   "outputs": [
    {
     "name": "stdout",
     "output_type": "stream",
     "text": [
      "['With 92% of dawson creek residents canadian-born, and 93% speaking only english, the city has few visible minorities.', 'With 92% of Dawson Creek residents being Canadian-born, and 93% speaking only English, the city has few visible minorities.', 'By the end of the year, the texians all mexican troops from texas.', 'By the end of the year, the Texians had driven all Mexican troops from Texas.', 'In northern manitoba, quartz to make arrowheads.', 'In Northern Manitoba, quartz was mined to make arrowheads.', 'There significant fictionalisation, however.', 'There was significant fictionalisation, however.', \"Extremeolation from society and community also apparent in crane's work.\", \"Extreme isolation from society and community is also apparent in Crane's work.\"]\n"
     ]
    }
   ],
   "source": [
    "texts = []\n",
    "labels = []\n",
    "\n",
    "with open(\"./removingPOS/updatedSentences/conjunctionSentences/detailedRemoval.txt\",\"r\") as f:\n",
    "    for line in f:\n",
    "        asArray = line.split(\" ||| \")\n",
    "        fragment = asArray[2].strip()\n",
    "        fragment = re.sub(\"\\ \\.\", \".\", fragment)\n",
    "        fragment = re.sub(\"\\,\\.\", \".\", fragment)\n",
    "        texts.append(fragment.capitalize())\n",
    "        labels.append(0)\n",
    "        texts.append(asArray[0].strip())\n",
    "        labels.append(1)\n",
    "        \n",
    "with open(\"./removingPOS/updatedSentences/nounSentences/detailedRemoval.txt\",\"r\") as f:\n",
    "    for line in f:\n",
    "        asArray = line.split(\" ||| \")\n",
    "        fragment = asArray[2].strip()\n",
    "        fragment = re.sub(\"\\ \\.\", \".\", fragment)\n",
    "        fragment = re.sub(\"\\,\\.\", \".\", fragment)\n",
    "        texts.append(fragment.capitalize())\n",
    "        labels.append(0)\n",
    "        texts.append(asArray[0].strip())\n",
    "        labels.append(1)\n",
    "\n",
    "with open(\"./removingPOS/updatedSentences/nounverbSentences/detailedRemoval.txt\",\"r\") as f:\n",
    "    for line in f:\n",
    "        asArray = line.split(\" ||| \")\n",
    "        fragment = asArray[2].strip()\n",
    "        fragment = re.sub(\"\\ \\.\", \".\", fragment)\n",
    "        fragment = re.sub(\"\\,\\.\", \".\", fragment)\n",
    "        texts.append(fragment.capitalize())\n",
    "        labels.append(0)\n",
    "        texts.append(asArray[0].strip())\n",
    "        labels.append(1)\n",
    "        \n",
    "with open(\"./removingPOS/updatedSentences/verbSentences/detailedRemoval.txt\",\"r\") as f:\n",
    "    for line in f:\n",
    "        asArray = line.split(\" ||| \")\n",
    "        fragment = asArray[2].strip()\n",
    "        fragment = re.sub(\"\\ \\.\", \".\", fragment)\n",
    "        fragment = re.sub(\"\\,\\.\", \".\", fragment)\n",
    "        texts.append(fragment.capitalize())\n",
    "        labels.append(0)\n",
    "        texts.append(asArray[0].strip())\n",
    "        labels.append(1)\n",
    "        \n",
    "print(texts[-10:])"
   ]
  },
  {
   "cell_type": "markdown",
   "metadata": {},
   "source": [
    "##### Shuffle the data"
   ]
  },
  {
   "cell_type": "code",
   "execution_count": 13,
   "metadata": {
    "collapsed": false
   },
   "outputs": [
    {
     "name": "stdout",
     "output_type": "stream",
     "text": [
      "['The test site had to be in territory controlled by the United States.', 'Brown topped the aggregates with 1,057 runs and was the only player to pass 1,000 runs for the season.', 'Is an eastern suburb of the south australian capital city of adelaide.', 'The system of government, the primary Constitution of Finland, was confirmed on 17 July 1919.', 'Later that year, Robey completed his final autobiography, Looking Back on Life.', 'The majority are caused by lightning strikes from thunderstorms during the wet season.', 'He the bowling averages for the entire 1908 english cricket season at 11.01.', 'Eventually to his hunger and ate human flesh, but that was soon gone.', 'Fleming and Charteris had a son, Caspar.', \"Was appointed to the united states senate in 1842, filling the vacancy caused by clay's resignation.\"]\n",
      "[1, 1, 0, 1, 1, 1, 0, 0, 1, 0]\n"
     ]
    }
   ],
   "source": [
    "import random\n",
    "\n",
    "combined = list(zip(texts,labels))\n",
    "random.shuffle(combined)\n",
    "\n",
    "texts[:], labels[:] = zip(*combined)\n",
    "print(texts[-10:])\n",
    "print(labels[-10:])"
   ]
  },
  {
   "cell_type": "markdown",
   "metadata": {},
   "source": [
    "##### Get parts of speech for text string"
   ]
  },
  {
   "cell_type": "code",
   "execution_count": 14,
   "metadata": {
    "collapsed": false
   },
   "outputs": [
    {
     "data": {
      "text/plain": [
       "['PRON',\n",
       " 'VERB',\n",
       " 'ADP',\n",
       " 'NOUN',\n",
       " 'CCONJ',\n",
       " 'NOUN',\n",
       " 'ADP',\n",
       " 'PROPN',\n",
       " 'CCONJ',\n",
       " 'DET',\n",
       " 'PROPN',\n",
       " 'PROPN',\n",
       " 'ADP',\n",
       " 'PROPN',\n",
       " 'PUNCT',\n",
       " 'PROPN',\n",
       " 'PUNCT']"
      ]
     },
     "execution_count": 14,
     "metadata": {},
     "output_type": "execute_result"
    }
   ],
   "source": [
    "def textStringToPOSArray(text):\n",
    "    doc = nlp(text)\n",
    "    tags = []\n",
    "    for word in doc:\n",
    "        tags.append(word.pos_)\n",
    "    return tags\n",
    "\n",
    "textStringToPOSArray(texts[3])"
   ]
  },
  {
   "cell_type": "markdown",
   "metadata": {},
   "source": [
    "##### Get POS trigrams for a text string"
   ]
  },
  {
   "cell_type": "code",
   "execution_count": 15,
   "metadata": {
    "collapsed": false
   },
   "outputs": [
    {
     "name": "stdout",
     "output_type": "stream",
     "text": [
      "Text:  He served as representative and contact for Cuba and the Dominican Republic in Paris, France. 1\n"
     ]
    },
    {
     "data": {
      "text/plain": [
       "[('PRON', 'VERB', 'ADP'),\n",
       " ('VERB', 'ADP', 'NOUN'),\n",
       " ('ADP', 'NOUN', 'CCONJ'),\n",
       " ('NOUN', 'CCONJ', 'NOUN'),\n",
       " ('CCONJ', 'NOUN', 'ADP'),\n",
       " ('NOUN', 'ADP', 'PROPN'),\n",
       " ('ADP', 'PROPN', 'CCONJ'),\n",
       " ('PROPN', 'CCONJ', 'DET'),\n",
       " ('CCONJ', 'DET', 'PROPN'),\n",
       " ('DET', 'PROPN', 'PROPN'),\n",
       " ('PROPN', 'PROPN', 'ADP'),\n",
       " ('PROPN', 'ADP', 'PROPN'),\n",
       " ('ADP', 'PROPN', 'PUNCT'),\n",
       " ('PROPN', 'PUNCT', 'PROPN'),\n",
       " ('PUNCT', 'PROPN', 'PUNCT')]"
      ]
     },
     "execution_count": 15,
     "metadata": {},
     "output_type": "execute_result"
    }
   ],
   "source": [
    "def find_ngrams(input_list, n):\n",
    "  return zip(*[input_list[i:] for i in range(n)])\n",
    "\n",
    "def getPOSTrigramsForTextString(text):\n",
    "    tags = textStringToPOSArray(text)\n",
    "    tgrams = list(trigrams(tags))\n",
    "    return tgrams\n",
    "\n",
    "print(\"Text: \", texts[3], labels[3])\n",
    "getPOSTrigramsForTextString(texts[3])"
   ]
  },
  {
   "cell_type": "markdown",
   "metadata": {},
   "source": [
    "##### Turn Trigrams into Dict keys"
   ]
  },
  {
   "cell_type": "code",
   "execution_count": 16,
   "metadata": {
    "collapsed": false
   },
   "outputs": [
    {
     "name": "stdout",
     "output_type": "stream",
     "text": [
      "All the twelve Impulse issues were priced at 3/6.\n",
      "['ADJ>DET>NUM', 'DET>NUM>PROPN', 'NUM>PROPN>NOUN', 'PROPN>NOUN>VERB', 'NOUN>VERB>VERB', 'VERB>VERB>ADP', 'VERB>ADP>NUM', 'ADP>NUM>PUNCT']\n"
     ]
    }
   ],
   "source": [
    "def trigramsToDictKeys(trigrams):\n",
    "    keys = []\n",
    "    for trigram in trigrams:\n",
    "        keys.append('>'.join(trigram))\n",
    "    return keys\n",
    "\n",
    "print(texts[2])\n",
    "print(trigramsToDictKeys(getPOSTrigramsForTextString(texts[2])))"
   ]
  },
  {
   "cell_type": "code",
   "execution_count": 17,
   "metadata": {
    "collapsed": false
   },
   "outputs": [
    {
     "name": "stdout",
     "output_type": "stream",
     "text": [
      "Total words in data set:  2106\n"
     ]
    }
   ],
   "source": [
    "from collections import Counter\n",
    "\n",
    "c = Counter()\n",
    "\n",
    "for textString in texts:\n",
    "    c.update(trigramsToDictKeys(getPOSTrigramsForTextString(textString)))\n",
    "\n",
    "total_counts = c\n",
    "\n",
    "print(\"Total words in data set: \", len(total_counts))"
   ]
  },
  {
   "cell_type": "code",
   "execution_count": 18,
   "metadata": {
    "collapsed": false
   },
   "outputs": [
    {
     "name": "stdout",
     "output_type": "stream",
     "text": [
      "['ADP>DET>NOUN', 'ADJ>NOUN>PUNCT', 'NOUN>ADP>DET', 'DET>ADJ>NOUN', 'DET>NOUN>ADP', 'ADJ>NOUN>ADP', 'NOUN>ADP>NOUN', 'DET>NOUN>PUNCT', 'ADP>ADJ>NOUN', 'ADP>DET>ADJ', 'VERB>DET>NOUN', 'NOUN>NOUN>PUNCT', 'VERB>ADP>DET', 'DET>NOUN>VERB', 'ADP>NOUN>PUNCT', 'VERB>VERB>ADP', 'NOUN>ADP>ADJ', 'NOUN>VERB>VERB', 'ADJ>NOUN>VERB', 'ADJ>ADJ>NOUN', 'ADJ>NOUN>NOUN', 'VERB>ADJ>NOUN', 'DET>NOUN>NOUN', 'NOUN>ADP>PROPN', 'PROPN>PROPN>PUNCT', 'VERB>DET>ADJ', 'NOUN>NOUN>ADP', 'NOUN>VERB>ADP', 'NOUN>PUNCT>VERB', 'NOUN>PUNCT>NOUN', 'VERB>ADP>NOUN', 'ADP>NUM>PUNCT', 'ADP>NOUN>ADP', 'NOUN>ADP>NUM', 'ADP>DET>PROPN', 'NOUN>PUNCT>CCONJ', 'NOUN>CCONJ>NOUN', 'ADP>PROPN>PUNCT', 'VERB>NOUN>ADP', 'NOUN>NOUN>VERB', 'VERB>PART>VERB', 'DET>PROPN>PROPN', 'NUM>NOUN>PUNCT', 'PROPN>PROPN>PROPN', 'VERB>ADP>ADJ', 'VERB>ADV>VERB', 'NOUN>VERB>DET', 'VERB>ADP>PROPN', 'NOUN>PART>VERB', 'PUNCT>DET>NOUN', 'ADP>NOUN>NOUN', 'NOUN>VERB>ADV', 'ADP>PROPN>PROPN', 'ADP>NUM>NOUN', 'VERB>NOUN>PUNCT', 'ADV>VERB>ADP', 'NOUN>CCONJ>VERB', 'NUM>NOUN>ADP', 'ADJ>NOUN>CCONJ', 'NOUN>NOUN>NOUN']\n"
     ]
    }
   ],
   "source": [
    "vocab = sorted(total_counts, key=total_counts.get, reverse=True)[:1200]\n",
    "print(vocab[:60])"
   ]
  },
  {
   "cell_type": "code",
   "execution_count": 19,
   "metadata": {
    "collapsed": false
   },
   "outputs": [
    {
     "name": "stdout",
     "output_type": "stream",
     "text": [
      "PRON>PUNCT>NOUN :  26\n"
     ]
    }
   ],
   "source": [
    "print(vocab[-1], ': ', total_counts[vocab[-1]])"
   ]
  },
  {
   "cell_type": "markdown",
   "metadata": {},
   "source": [
    "Take the trigrams and index them"
   ]
  },
  {
   "cell_type": "code",
   "execution_count": 20,
   "metadata": {
    "collapsed": false
   },
   "outputs": [
    {
     "name": "stdout",
     "output_type": "stream",
     "text": [
      "{'ADP>DET>NOUN': 0, 'ADJ>NOUN>PUNCT': 1, 'NOUN>ADP>DET': 2, 'DET>ADJ>NOUN': 3, 'DET>NOUN>ADP': 4, 'ADJ>NOUN>ADP': 5, 'NOUN>ADP>NOUN': 6, 'DET>NOUN>PUNCT': 7, 'ADP>ADJ>NOUN': 8, 'ADP>DET>ADJ': 9, 'VERB>DET>NOUN': 10, 'NOUN>NOUN>PUNCT': 11, 'VERB>ADP>DET': 12, 'DET>NOUN>VERB': 13, 'ADP>NOUN>PUNCT': 14, 'VERB>VERB>ADP': 15, 'NOUN>ADP>ADJ': 16, 'NOUN>VERB>VERB': 17, 'ADJ>NOUN>VERB': 18, 'ADJ>ADJ>NOUN': 19, 'ADJ>NOUN>NOUN': 20, 'VERB>ADJ>NOUN': 21, 'DET>NOUN>NOUN': 22, 'NOUN>ADP>PROPN': 23, 'PROPN>PROPN>PUNCT': 24, 'VERB>DET>ADJ': 25, 'NOUN>NOUN>ADP': 26, 'NOUN>VERB>ADP': 27, 'NOUN>PUNCT>VERB': 28, 'NOUN>PUNCT>NOUN': 29, 'VERB>ADP>NOUN': 30, 'ADP>NUM>PUNCT': 31, 'ADP>NOUN>ADP': 32, 'NOUN>ADP>NUM': 33, 'ADP>DET>PROPN': 34, 'NOUN>PUNCT>CCONJ': 35, 'NOUN>CCONJ>NOUN': 36, 'ADP>PROPN>PUNCT': 37, 'VERB>NOUN>ADP': 38, 'NOUN>NOUN>VERB': 39, 'VERB>PART>VERB': 40, 'DET>PROPN>PROPN': 41, 'NUM>NOUN>PUNCT': 42, 'PROPN>PROPN>PROPN': 43, 'VERB>ADP>ADJ': 44, 'VERB>ADV>VERB': 45, 'NOUN>VERB>DET': 46, 'VERB>ADP>PROPN': 47, 'NOUN>PART>VERB': 48, 'PUNCT>DET>NOUN': 49, 'ADP>NOUN>NOUN': 50, 'NOUN>VERB>ADV': 51, 'ADP>PROPN>PROPN': 52, 'ADP>NUM>NOUN': 53, 'VERB>NOUN>PUNCT': 54, 'ADV>VERB>ADP': 55, 'NOUN>CCONJ>VERB': 56, 'NUM>NOUN>ADP': 57, 'ADJ>NOUN>CCONJ': 58, 'NOUN>NOUN>NOUN': 59, 'NOUN>VERB>ADJ': 60, 'NOUN>PUNCT>DET': 61, 'NOUN>PART>NOUN': 62, 'CCONJ>ADJ>NOUN': 63, 'DET>NOUN>PART': 64, 'PART>VERB>DET': 65, 'NOUN>PUNCT>ADJ': 66, 'PROPN>PROPN>VERB': 67, 'PUNCT>NOUN>NOUN': 68, 'PROPN>VERB>DET': 69, 'PROPN>VERB>VERB': 70, 'VERB>ADP>NUM': 71, 'PROPN>PART>NOUN': 72, 'PUNCT>PROPN>VERB': 73, 'NOUN>PUNCT>ADP': 74, 'VERB>VERB>PUNCT': 75, 'PROPN>ADP>PROPN': 76, 'PROPN>PUNCT>PROPN': 77, 'DET>ADJ>ADJ': 78, 'ADP>ADJ>ADJ': 79, 'PUNCT>PRON>VERB': 80, 'ADJ>ADP>DET': 81, 'PROPN>NUM>PUNCT': 82, 'PUNCT>NOUN>PUNCT': 83, 'VERB>NUM>NOUN': 84, 'PUNCT>CCONJ>VERB': 85, 'PUNCT>ADJ>NOUN': 86, 'NOUN>PUNCT>PROPN': 87, 'ADP>PROPN>NUM': 88, 'CCONJ>NOUN>PUNCT': 89, 'PRON>VERB>VERB': 90, 'DET>NOUN>CCONJ': 91, 'NOUN>VERB>NOUN': 92, 'ADP>NOUN>CCONJ': 93, 'ADV>ADP>DET': 94, 'PUNCT>NOUN>VERB': 95, 'PROPN>PROPN>ADP': 96, 'PROPN>VERB>ADP': 97, 'NOUN>ADV>VERB': 98, 'PART>NOUN>PUNCT': 99, 'ADV>VERB>DET': 100, 'VERB>ADV>ADP': 101, 'PUNCT>VERB>ADP': 102, 'ADP>NOUN>VERB': 103, 'NOUN>NOUN>CCONJ': 104, 'VERB>ADJ>ADP': 105, 'CCONJ>DET>NOUN': 106, 'NOUN>PUNCT>ADV': 107, 'VERB>NOUN>NOUN': 108, 'PROPN>CCONJ>PROPN': 109, 'PUNCT>VERB>DET': 110, 'NOUN>CCONJ>ADJ': 111, 'PART>ADJ>NOUN': 112, 'PART>VERB>NOUN': 113, 'PART>VERB>ADP': 114, 'NOUN>VERB>PUNCT': 115, 'ADJ>PUNCT>NOUN': 116, 'PUNCT>DET>ADJ': 117, 'ADJ>NOUN>PART': 118, 'DET>NOUN>ADV': 119, 'PRON>VERB>DET': 120, 'PUNCT>VERB>NOUN': 121, 'PROPN>ADP>DET': 122, 'VERB>VERB>VERB': 123, 'NOUN>ADP>VERB': 124, 'CCONJ>NOUN>NOUN': 125, 'VERB>ADV>ADJ': 126, 'PRON>VERB>ADP': 127, 'CCONJ>VERB>ADP': 128, 'VERB>ADJ>PUNCT': 129, 'ADV>VERB>PUNCT': 130, 'ADP>PROPN>ADP': 131, 'VERB>VERB>DET': 132, 'ADP>DET>NUM': 133, 'ADP>PROPN>PART': 134, 'CCONJ>VERB>DET': 135, 'PART>VERB>ADJ': 136, 'ADV>ADJ>NOUN': 137, 'NOUN>VERB>PART': 138, 'DET>NUM>NOUN': 139, 'VERB>ADJ>ADJ': 140, 'PRON>VERB>ADV': 141, 'PROPN>NOUN>PUNCT': 142, 'VERB>VERB>PART': 143, 'ADP>PROPN>VERB': 144, 'PROPN>VERB>ADJ': 145, 'PUNCT>CCONJ>DET': 146, 'ADJ>NOUN>ADV': 147, 'PROPN>VERB>ADV': 148, 'NUM>NOUN>VERB': 149, 'DET>VERB>NOUN': 150, 'VERB>ADV>PUNCT': 151, 'PUNCT>PROPN>PROPN': 152, 'PROPN>PUNCT>VERB': 153, 'NUM>ADJ>NOUN': 154, 'PUNCT>ADP>DET': 155, 'PART>NOUN>ADP': 156, 'NOUN>PUNCT>PRON': 157, 'ADP>NOUN>PART': 158, 'DET>ADJ>PUNCT': 159, 'VERB>DET>PROPN': 160, 'NUM>ADP>DET': 161, 'NOUN>NUM>PUNCT': 162, 'NOUN>ADV>PUNCT': 163, 'CCONJ>NOUN>VERB': 164, 'PUNCT>CCONJ>NOUN': 165, 'ADV>VERB>NOUN': 166, 'NOUN>CCONJ>DET': 167, 'PART>NOUN>VERB': 168, 'ADP>NOUN>NUM': 169, 'ADP>PRON>VERB': 170, 'ADP>NUM>PROPN': 171, 'ADV>VERB>ADJ': 172, 'PUNCT>ADJ>VERB': 173, 'PUNCT>PROPN>PUNCT': 174, 'ADP>NUM>ADP': 175, 'NOUN>ADJ>NOUN': 176, 'ADJ>CCONJ>ADJ': 177, 'CCONJ>NOUN>ADP': 178, 'PROPN>ADV>VERB': 179, 'ADJ>ADP>ADJ': 180, 'ADJ>ADP>NOUN': 181, 'PROPN>PUNCT>DET': 182, 'DET>PROPN>NOUN': 183, 'VERB>VERB>ADV': 184, 'VERB>VERB>ADJ': 185, 'ADV>PUNCT>VERB': 186, 'VERB>CCONJ>VERB': 187, 'VERB>PROPN>PROPN': 188, 'ADV>ADP>NOUN': 189, 'NOUN>DET>NOUN': 190, 'CCONJ>VERB>NOUN': 191, 'CCONJ>VERB>ADJ': 192, 'PRON>VERB>ADJ': 193, 'ADV>ADJ>ADP': 194, 'NUM>PUNCT>NUM': 195, 'PUNCT>NOUN>ADP': 196, 'ADV>DET>NOUN': 197, 'NOUN>PART>ADJ': 198, 'PROPN>ADP>NUM': 199, 'NOUN>ADV>ADP': 200, 'VERB>NOUN>CCONJ': 201, 'DET>PROPN>PUNCT': 202, 'PART>VERB>PUNCT': 203, 'CCONJ>VERB>VERB': 204, 'PUNCT>VERB>ADJ': 205, 'ADP>DET>VERB': 206, 'PROPN>PROPN>CCONJ': 207, 'VERB>ADV>ADV': 208, 'DET>PROPN>ADP': 209, 'VERB>VERB>NOUN': 210, 'PRON>ADV>VERB': 211, 'NUM>NOUN>NOUN': 212, 'ADV>ADJ>PUNCT': 213, 'ADV>PUNCT>DET': 214, 'ADP>ADJ>PUNCT': 215, 'ADP>VERB>NOUN': 216, 'NUM>PUNCT>NOUN': 217, 'PROPN>PUNCT>CCONJ': 218, 'DET>PROPN>VERB': 219, 'ADV>NUM>NOUN': 220, 'PUNCT>VERB>VERB': 221, 'CCONJ>ADV>VERB': 222, 'PROPN>PART>ADJ': 223, 'ADP>PROPN>CCONJ': 224, 'DET>ADP>DET': 225, 'PUNCT>NUM>PUNCT': 226, 'ADJ>NOUN>ADJ': 227, 'DET>ADJ>PROPN': 228, 'PROPN>NOUN>VERB': 229, 'PUNCT>CCONJ>ADJ': 230, 'CCONJ>DET>ADJ': 231, 'PUNCT>ADP>NOUN': 232, 'ADJ>PART>VERB': 233, 'NOUN>ADJ>VERB': 234, 'VERB>NOUN>VERB': 235, 'DET>NOUN>ADJ': 236, 'NUM>PUNCT>DET': 237, 'PUNCT>ADP>ADJ': 238, 'PUNCT>ADV>VERB': 239, 'CCONJ>VERB>ADV': 240, 'PUNCT>NOUN>CCONJ': 241, 'CCONJ>PROPN>PROPN': 242, 'ADJ>NUM>NOUN': 243, 'VERB>PUNCT>CCONJ': 244, 'NUM>PUNCT>PROPN': 245, 'VERB>PRON>ADP': 246, 'NOUN>VERB>NUM': 247, 'PROPN>PROPN>NOUN': 248, 'DET>ADV>ADJ': 249, 'NUM>NOUN>CCONJ': 250, 'PUNCT>DET>PROPN': 251, 'ADP>NUM>CCONJ': 252, 'ADP>VERB>DET': 253, 'NOUN>VERB>PROPN': 254, 'PART>NOUN>NOUN': 255, 'ADV>ADP>ADJ': 256, 'PART>VERB>VERB': 257, 'ADJ>PUNCT>ADJ': 258, 'CCONJ>NUM>NOUN': 259, 'VERB>ADP>VERB': 260, 'PROPN>PUNCT>ADP': 261, 'ADP>ADJ>NUM': 262, 'VERB>NOUN>PART': 263, 'ADP>ADP>DET': 264, 'PROPN>VERB>PART': 265, 'NOUN>NOUN>PART': 266, 'PROPN>VERB>PROPN': 267, 'PROPN>VERB>NOUN': 268, 'ADV>VERB>PART': 269, 'ADJ>VERB>VERB': 270, 'PUNCT>ADV>PUNCT': 271, 'CCONJ>PROPN>VERB': 272, 'NOUN>PROPN>PROPN': 273, 'VERB>PROPN>ADP': 274, 'NOUN>NOUN>ADV': 275, 'VERB>PROPN>PART': 276, 'PROPN>PROPN>PART': 277, 'NOUN>PRON>VERB': 278, 'PUNCT>CCONJ>ADV': 279, 'ADP>DET>PUNCT': 280, 'ADV>ADV>PUNCT': 281, 'ADJ>PROPN>PROPN': 282, 'ADV>ADP>PROPN': 283, 'NUM>PUNCT>VERB': 284, 'ADJ>VERB>NOUN': 285, 'PROPN>PUNCT>NOUN': 286, 'NUM>PUNCT>CCONJ': 287, 'VERB>PART>ADP': 288, 'PUNCT>CCONJ>PROPN': 289, 'PROPN>VERB>NUM': 290, 'DET>ADJ>ADP': 291, 'PUNCT>ADV>ADP': 292, 'VERB>ADP>PRON': 293, 'ADV>ADV>ADP': 294, 'NOUN>ADJ>ADP': 295, 'ADP>VERB>ADP': 296, 'PUNCT>VERB>ADV': 297, 'ADJ>NUM>PUNCT': 298, 'ADV>VERB>ADV': 299, 'VERB>NUM>ADP': 300, 'PROPN>PART>VERB': 301, 'CCONJ>PRON>VERB': 302, 'CCONJ>PROPN>PUNCT': 303, 'ADV>ADV>VERB': 304, 'ADJ>ADJ>ADJ': 305, 'NOUN>PUNCT>NUM': 306, 'NOUN>ADJ>PUNCT': 307, 'PUNCT>NUM>NOUN': 308, 'NUM>ADP>NUM': 309, 'PUNCT>VERB>NUM': 310, 'DET>ADP>NOUN': 311, 'PROPN>NOUN>ADP': 312, 'DET>ADJ>NUM': 313, 'ADV>VERB>VERB': 314, 'ADV>DET>ADJ': 315, 'VERB>PROPN>PUNCT': 316, 'NOUN>VERB>PRON': 317, 'NOUN>NOUN>ADJ': 318, 'PUNCT>ADP>NUM': 319, 'ADV>PRON>VERB': 320, 'PROPN>PUNCT>ADV': 321, 'NUM>NOUN>ADV': 322, 'NUM>CCONJ>NUM': 323, 'NUM>PROPN>NUM': 324, 'ADP>ADJ>PROPN': 325, 'NOUN>CCONJ>NUM': 326, 'ADP>DET>ADP': 327, 'ADJ>VERB>ADP': 328, 'DET>NOUN>DET': 329, 'ADP>PUNCT>NOUN': 330, 'VERB>PUNCT>VERB': 331, 'ADJ>PUNCT>CCONJ': 332, 'PUNCT>ADJ>PUNCT': 333, 'PRON>VERB>PART': 334, 'PUNCT>CCONJ>ADP': 335, 'NOUN>ADP>PRON': 336, 'PROPN>PUNCT>ADJ': 337, 'NOUN>DET>ADJ': 338, 'NOUN>CCONJ>ADV': 339, 'ADV>PUNCT>ADP': 340, 'PRON>ADP>DET': 341, 'CCONJ>VERB>PART': 342, 'ADJ>ADP>NUM': 343, 'DET>VERB>VERB': 344, 'DET>ADJ>VERB': 345, 'PRON>VERB>NOUN': 346, 'NOUN>NUM>NOUN': 347, 'PROPN>CCONJ>VERB': 348, 'VERB>NUM>PUNCT': 349, 'PUNCT>CCONJ>PRON': 350, 'VERB>VERB>CCONJ': 351, 'NOUN>ADP>ADP': 352, 'VERB>PRON>PUNCT': 353, 'CCONJ>ADJ>ADJ': 354, 'PROPN>ADP>ADJ': 355, 'NUM>PUNCT>PRON': 356, 'NOUN>ADP>ADV': 357, 'VERB>ADV>DET': 358, 'ADJ>NOUN>PROPN': 359, 'ADJ>VERB>DET': 360, 'ADV>PUNCT>ADJ': 361, 'ADJ>ADJ>PUNCT': 362, 'PUNCT>ADP>PROPN': 363, 'PART>VERB>ADV': 364, 'ADV>PUNCT>NOUN': 365, 'VERB>DET>ADV': 366, 'DET>ADJ>CCONJ': 367, 'NUM>PUNCT>ADP': 368, 'ADJ>NOUN>DET': 369, 'VERB>ADP>ADP': 370, 'PUNCT>ADJ>ADP': 371, 'ADP>NUM>ADJ': 372, 'VERB>ADJ>PART': 373, 'NUM>ADP>NOUN': 374, 'ADV>PART>VERB': 375, 'VERB>DET>VERB': 376, 'PRON>VERB>NUM': 377, 'ADP>DET>ADV': 378, 'DET>VERB>DET': 379, 'NUM>CCONJ>VERB': 380, 'DET>NUM>PUNCT': 381, 'ADJ>PROPN>PUNCT': 382, 'ADP>PRON>PUNCT': 383, 'ADJ>ADP>PROPN': 384, 'ADP>VERB>ADJ': 385, 'ADV>PUNCT>PRON': 386, 'CCONJ>VERB>NUM': 387, 'PUNCT>ADJ>ADJ': 388, 'ADP>ADJ>ADP': 389, 'PROPN>PART>PROPN': 390, 'NUM>PROPN>PUNCT': 391, 'DET>VERB>ADJ': 392, 'DET>ADV>VERB': 393, 'PRON>VERB>PUNCT': 394, 'PART>VERB>PROPN': 395, 'CCONJ>VERB>PUNCT': 396, 'ADP>ADP>NOUN': 397, 'VERB>DET>NUM': 398, 'ADV>ADP>NUM': 399, 'PART>VERB>PRON': 400, 'ADP>NOUN>ADJ': 401, 'PROPN>VERB>PUNCT': 402, 'PROPN>NOUN>NOUN': 403, 'PUNCT>PROPN>CCONJ': 404, 'NOUN>ADV>ADV': 405, 'ADV>PUNCT>PROPN': 406, 'ADJ>VERB>ADJ': 407, 'VERB>ADV>NUM': 408, 'DET>ADP>ADJ': 409, 'PUNCT>VERB>PROPN': 410, 'NUM>ADP>ADJ': 411, 'ADP>NOUN>ADV': 412, 'ADP>PROPN>NOUN': 413, 'ADV>PUNCT>CCONJ': 414, 'ADP>ADP>ADJ': 415, 'PROPN>CCONJ>DET': 416, 'PROPN>ADP>NOUN': 417, 'ADJ>PUNCT>VERB': 418, 'PUNCT>VERB>PUNCT': 419, 'NUM>PUNCT>ADJ': 420, 'ADJ>DET>NOUN': 421, 'VERB>ADJ>CCONJ': 422, 'VERB>PART>DET': 423, 'DET>VERB>ADP': 424, 'CCONJ>DET>PROPN': 425, 'CCONJ>ADP>DET': 426, 'PRON>PART>VERB': 427, 'ADP>PUNCT>DET': 428, 'PART>VERB>PART': 429, 'ADJ>PROPN>NOUN': 430, 'VERB>NUM>ADJ': 431, 'VERB>PUNCT>ADP': 432, 'VERB>PRON>VERB': 433, 'DET>ADV>PUNCT': 434, 'CCONJ>ADJ>PUNCT': 435, 'VERB>ADP>ADV': 436, 'ADJ>VERB>ADV': 437, 'ADV>VERB>NUM': 438, 'CCONJ>NUM>PUNCT': 439, 'ADP>NUM>VERB': 440, 'ADV>VERB>PROPN': 441, 'PUNCT>PROPN>PART': 442, 'PUNCT>VERB>PART': 443, 'ADP>ADJ>VERB': 444, 'PART>NOUN>CCONJ': 445, 'DET>NOUN>PRON': 446, 'ADV>PUNCT>ADV': 447, 'CCONJ>VERB>PRON': 448, 'NOUN>CCONJ>ADP': 449, 'VERB>PRON>PART': 450, 'NUM>ADP>PROPN': 451, 'ADP>ADV>NUM': 452, 'NUM>NOUN>NUM': 453, 'ADP>ADJ>CCONJ': 454, 'PROPN>CCONJ>ADJ': 455, 'DET>PROPN>PART': 456, 'DET>VERB>ADV': 457, 'NOUN>ADV>ADJ': 458, 'ADJ>CCONJ>VERB': 459, 'NOUN>PROPN>VERB': 460, 'ADP>ADP>NUM': 461, 'NOUN>VERB>CCONJ': 462, 'ADP>ADV>VERB': 463, 'ADJ>PUNCT>ADP': 464, 'PUNCT>VERB>PRON': 465, 'ADJ>ADP>VERB': 466, 'PART>ADP>DET': 467, 'SYM>NUM>NUM': 468, 'VERB>PART>NOUN': 469, 'ADP>VERB>PUNCT': 470, 'PRON>ADP>NOUN': 471, 'ADV>ADV>ADJ': 472, 'DET>NUM>ADJ': 473, 'VERB>PART>PUNCT': 474, 'NUM>PUNCT>ADV': 475, 'DET>PUNCT>NOUN': 476, 'PRON>VERB>PROPN': 477, 'PUNCT>CCONJ>NUM': 478, 'PUNCT>NOUN>PART': 479, 'VERB>VERB>PROPN': 480, 'VERB>NOUN>ADV': 481, 'VERB>PUNCT>DET': 482, 'PUNCT>DET>VERB': 483, 'PRON>DET>NOUN': 484, 'DET>PROPN>CCONJ': 485, 'NUM>PROPN>PROPN': 486, 'PUNCT>NOUN>ADV': 487, 'VERB>DET>ADP': 488, 'ADJ>ADV>VERB': 489, 'PROPN>PROPN>ADV': 490, 'DET>NOUN>PROPN': 491, 'ADV>CCONJ>VERB': 492, 'ADJ>PROPN>VERB': 493, 'NOUN>NOUN>DET': 494, 'ADV>VERB>CCONJ': 495, 'PUNCT>ADV>ADJ': 496, 'NUM>NOUN>PART': 497, 'PROPN>PUNCT>PRON': 498, 'PART>DET>NOUN': 499, 'DET>NOUN>NUM': 500, 'PART>ADJ>ADJ': 501, 'VERB>VERB>NUM': 502, 'PUNCT>ADV>ADV': 503, 'ADJ>PRON>VERB': 504, 'PROPN>NUM>ADP': 505, 'VERB>PUNCT>NOUN': 506, 'PROPN>VERB>PRON': 507, 'ADP>VERB>VERB': 508, 'ADV>VERB>PRON': 509, 'PUNCT>ADP>VERB': 510, 'ADJ>CCONJ>NOUN': 511, 'ADJ>ADV>PUNCT': 512, 'ADP>ADV>PUNCT': 513, 'PUNCT>ADV>DET': 514, 'PUNCT>NUM>ADP': 515, 'PUNCT>NOUN>ADJ': 516, 'PART>NUM>NOUN': 517, 'PUNCT>PART>VERB': 518, 'NUM>NOUN>ADJ': 519, 'PART>VERB>CCONJ': 520, 'DET>NUM>PROPN': 521, 'NOUN>ADV>DET': 522, 'ADP>SYM>NUM': 523, 'PUNCT>ADP>ADP': 524, 'PUNCT>ADV>PRON': 525, 'VERB>PUNCT>ADV': 526, 'VERB>ADV>CCONJ': 527, 'NOUN>PROPN>PUNCT': 528, 'ADV>ADP>VERB': 529, 'VERB>NOUN>ADJ': 530, 'NOUN>NUM>ADP': 531, 'ADV>ADJ>CCONJ': 532, 'ADJ>NOUN>PRON': 533, 'DET>ADJ>ADV': 534, 'ADJ>PROPN>ADP': 535, 'ADV>ADJ>ADJ': 536, 'ADJ>PUNCT>ADV': 537, 'PRON>ADP>ADJ': 538, 'PROPN>ADJ>NOUN': 539, 'ADJ>PUNCT>DET': 540, 'ADV>PROPN>VERB': 541, 'ADP>ADV>ADJ': 542, 'NOUN>NOUN>PROPN': 543, 'CCONJ>NOUN>ADV': 544, 'VERB>PART>ADJ': 545, 'NUM>VERB>ADP': 546, 'PRON>DET>ADJ': 547, 'PART>PROPN>PROPN': 548, 'CCONJ>ADP>NOUN': 549, 'DET>PUNCT>DET': 550, 'CCONJ>ADP>ADJ': 551, 'NUM>NUM>NOUN': 552, 'NUM>PROPN>VERB': 553, 'DET>DET>NOUN': 554, 'VERB>PRON>DET': 555, 'PROPN>DET>NOUN': 556, 'PART>NOUN>PART': 557, 'ADV>NOUN>PUNCT': 558, 'PUNCT>ADP>PUNCT': 559, 'PROPN>NUM>NOUN': 560, 'PUNCT>PRON>ADV': 561, 'ADP>ADJ>DET': 562, 'NUM>PRON>VERB': 563, 'ADV>NOUN>ADP': 564, 'PUNCT>ADP>PRON': 565, 'VERB>PROPN>CCONJ': 566, 'PUNCT>DET>ADP': 567, 'NUM>VERB>VERB': 568, 'CCONJ>NOUN>PART': 569, 'VERB>PRON>ADV': 570, 'NOUN>CCONJ>PROPN': 571, 'ADP>NOUN>DET': 572, 'CCONJ>ADV>ADJ': 573, 'PUNCT>ADJ>CCONJ': 574, 'ADJ>ADJ>CCONJ': 575, 'PART>VERB>NUM': 576, 'VERB>ADV>PART': 577, 'CCONJ>DET>VERB': 578, 'CCONJ>ADJ>ADP': 579, 'NUM>VERB>NOUN': 580, 'ADP>VERB>NUM': 581, 'VERB>PUNCT>PROPN': 582, 'ADP>PROPN>ADV': 583, 'ADP>VERB>ADV': 584, 'ADJ>CCONJ>ADV': 585, 'ADP>VERB>PART': 586, 'ADV>NOUN>VERB': 587, 'VERB>PUNCT>ADJ': 588, 'ADP>PUNCT>PRON': 589, 'PUNCT>ADV>NOUN': 590, 'PROPN>NOUN>CCONJ': 591, 'CCONJ>PROPN>NOUN': 592, 'NUM>NUM>PUNCT': 593, 'VERB>ADV>NOUN': 594, 'PUNCT>PROPN>NOUN': 595, 'PART>NOUN>ADV': 596, 'PUNCT>ADP>ADV': 597, 'VERB>VERB>PRON': 598, 'NUM>PART>VERB': 599, 'PART>ADP>NOUN': 600, 'NUM>NOUN>DET': 601, 'ADJ>ADP>PRON': 602, 'ADP>ADV>DET': 603, 'ADV>ADJ>PART': 604, 'DET>ADP>NUM': 605, 'VERB>PART>PART': 606, 'CCONJ>ADP>NUM': 607, 'PUNCT>ADV>NUM': 608, 'CCONJ>ADV>PUNCT': 609, 'DET>VERB>NUM': 610, 'PROPN>ADP>VERB': 611, 'PART>PART>VERB': 612, 'CCONJ>PROPN>ADP': 613, 'VERB>CCONJ>NOUN': 614, 'ADJ>PUNCT>PROPN': 615, 'VERB>ADP>PUNCT': 616, 'CCONJ>VERB>PROPN': 617, 'PUNCT>DET>ADV': 618, 'ADP>PUNCT>ADJ': 619, 'ADP>ADP>PROPN': 620, 'PUNCT>DET>NUM': 621, 'CCONJ>NUM>ADJ': 622, 'NOUN>PUNCT>PART': 623, 'PUNCT>ADJ>ADV': 624, 'VERB>PRON>ADJ': 625, 'CCONJ>NOUN>CCONJ': 626, 'PRON>VERB>PRON': 627, 'CCONJ>ADV>ADP': 628, 'ADJ>ADJ>PROPN': 629, 'PUNCT>PROPN>ADV': 630, 'ADJ>ADV>ADP': 631, 'NUM>DET>NOUN': 632, 'VERB>ADJ>ADV': 633, 'ADP>NUM>PRON': 634, 'VERB>SYM>NUM': 635, 'DET>NUM>VERB': 636, 'VERB>ADJ>PROPN': 637, 'ADJ>NOUN>NUM': 638, 'VERB>NUM>CCONJ': 639, 'PUNCT>PROPN>ADP': 640, 'PROPN>DET>ADJ': 641, 'ADP>NUM>PART': 642, 'ADP>PRON>ADP': 643, 'ADP>NOUN>PROPN': 644, 'NOUN>NOUN>NUM': 645, 'ADJ>ADJ>ADP': 646, 'VERB>CCONJ>ADJ': 647, 'PROPN>ADV>ADP': 648, 'VERB>PUNCT>PRON': 649, 'NOUN>ADJ>ADJ': 650, 'ADP>NUM>DET': 651, 'CCONJ>NUM>ADP': 652, 'PROPN>NOUN>PROPN': 653, 'ADP>NOUN>PRON': 654, 'ADP>ADJ>ADV': 655, 'NUM>ADJ>PUNCT': 656, 'VERB>CCONJ>DET': 657, 'PROPN>NUM>CCONJ': 658, 'NUM>ADJ>ADJ': 659, 'VERB>ADJ>VERB': 660, 'ADP>VERB>PROPN': 661, 'VERB>PROPN>NOUN': 662, 'NOUN>ADV>NOUN': 663, 'NUM>PROPN>NOUN': 664, 'ADV>NUM>ADJ': 665, 'DET>VERB>PUNCT': 666, 'NOUN>PART>ADV': 667, 'PRON>ADV>ADP': 668, 'ADJ>DET>ADJ': 669, 'PART>ADV>VERB': 670, 'DET>PROPN>NUM': 671, 'CCONJ>ADV>ADV': 672, 'DET>VERB>PROPN': 673, 'ADP>ADV>ADP': 674, 'PUNCT>VERB>CCONJ': 675, 'DET>PUNCT>ADJ': 676, 'ADV>ADP>ADP': 677, 'VERB>PROPN>VERB': 678, 'PROPN>PUNCT>NUM': 679, 'NOUN>ADP>PUNCT': 680, 'ADJ>ADV>ADJ': 681, 'NOUN>ADV>CCONJ': 682, 'PART>ADP>ADJ': 683, 'PROPN>NOUN>PART': 684, 'ADV>NOUN>NOUN': 685, 'DET>PROPN>ADV': 686, 'NUM>NUM>ADP': 687, 'PUNCT>NOUN>PROPN': 688, 'NUM>VERB>DET': 689, 'CCONJ>NOUN>ADJ': 690, 'ADV>ADP>PRON': 691, 'CCONJ>DET>NUM': 692, 'CCONJ>PROPN>PART': 693, 'PROPN>CCONJ>NOUN': 694, 'CCONJ>NUM>VERB': 695, 'ADJ>VERB>PART': 696, 'PRON>ADJ>NOUN': 697, 'ADJ>PUNCT>PRON': 698, 'VERB>CCONJ>ADV': 699, 'PUNCT>PRON>ADP': 700, 'ADV>CCONJ>ADV': 701, 'ADP>ADJ>PRON': 702, 'NOUN>NUM>CCONJ': 703, 'CCONJ>ADP>PROPN': 704, 'PROPN>ADV>PUNCT': 705, 'NOUN>PART>NUM': 706, 'VERB>DET>PUNCT': 707, 'NOUN>DET>VERB': 708, 'PUNCT>ADJ>PROPN': 709, 'NUM>VERB>PUNCT': 710, 'PART>PROPN>PUNCT': 711, 'PROPN>PRON>VERB': 712, 'NUM>VERB>ADJ': 713, 'NOUN>ADJ>CCONJ': 714, 'ADP>PUNCT>NUM': 715, 'NOUN>ADV>PRON': 716, 'PUNCT>CCONJ>PUNCT': 717, 'ADJ>NUM>ADP': 718, 'SYM>NUM>PUNCT': 719, 'DET>DET>ADJ': 720, 'VERB>PART>ADV': 721, 'PUNCT>PRON>DET': 722, 'PROPN>PART>NUM': 723, 'ADV>ADV>ADV': 724, 'DET>PART>VERB': 725, 'ADV>ADV>NUM': 726, 'PUNCT>ADV>PROPN': 727, 'ADV>PROPN>PROPN': 728, 'VERB>NUM>VERB': 729, 'NOUN>ADV>PART': 730, 'ADP>NUM>ADV': 731, 'ADJ>VERB>NUM': 732, 'PROPN>PROPN>ADJ': 733, 'PRON>ADP>NUM': 734, 'CCONJ>ADJ>PROPN': 735, 'VERB>ADP>SYM': 736, 'CCONJ>ADJ>VERB': 737, 'ADJ>ADJ>VERB': 738, 'DET>PUNCT>VERB': 739, 'ADJ>ADJ>NUM': 740, 'NOUN>ADP>CCONJ': 741, 'ADP>NUM>NUM': 742, 'NUM>CCONJ>DET': 743, 'PRON>ADP>VERB': 744, 'PUNCT>NUM>ADJ': 745, 'ADJ>ADP>ADP': 746, 'SYM>NUM>ADP': 747, 'DET>PUNCT>PRON': 748, 'NUM>PART>NUM': 749, 'PROPN>NOUN>ADV': 750, 'PART>ADP>PROPN': 751, 'PROPN>ADV>ADV': 752, 'ADV>NUM>ADP': 753, 'PART>DET>ADJ': 754, 'ADJ>VERB>PUNCT': 755, 'PUNCT>ADJ>PRON': 756, 'CCONJ>ADV>DET': 757, 'ADJ>CCONJ>DET': 758, 'ADJ>VERB>PROPN': 759, 'PUNCT>NOUN>NUM': 760, 'ADV>DET>PROPN': 761, 'NOUN>CCONJ>PUNCT': 762, 'PUNCT>ADJ>NUM': 763, 'DET>ADJ>DET': 764, 'PRON>ADV>PUNCT': 765, 'DET>ADP>PROPN': 766, 'ADP>PUNCT>VERB': 767, 'DET>ADV>ADV': 768, 'ADV>ADV>DET': 769, 'ADP>VERB>PRON': 770, 'DET>ADJ>PART': 771, 'NOUN>NOUN>PRON': 772, 'DET>VERB>PART': 773, 'NUM>CCONJ>ADV': 774, 'ADP>PRON>ADV': 775, 'PROPN>VERB>CCONJ': 776, 'ADJ>PROPN>CCONJ': 777, 'PART>ADV>ADJ': 778, 'ADP>ADV>ADV': 779, 'CCONJ>PROPN>ADV': 780, 'ADP>CCONJ>ADP': 781, 'ADP>VERB>CCONJ': 782, 'PROPN>CCONJ>ADV': 783, 'PUNCT>NUM>VERB': 784, 'PART>ADP>NUM': 785, 'NOUN>CCONJ>PRON': 786, 'NOUN>ADP>SYM': 787, 'PROPN>NUM>PROPN': 788, 'PROPN>NUM>VERB': 789, 'CCONJ>PUNCT>ADP': 790, 'NOUN>PROPN>ADP': 791, 'ADV>NUM>PUNCT': 792, 'ADJ>NUM>ADJ': 793, 'VERB>PROPN>NUM': 794, 'VERB>NOUN>DET': 795, 'NOUN>ADJ>ADV': 796, 'NOUN>DET>PROPN': 797, 'PART>NOUN>PROPN': 798, 'PRON>PUNCT>VERB': 799, 'DET>PUNCT>ADP': 800, 'PART>PROPN>ADP': 801, 'NOUN>PART>ADP': 802, 'ADJ>NUM>VERB': 803, 'VERB>PROPN>ADV': 804, 'VERB>ADJ>NUM': 805, 'PROPN>PROPN>NUM': 806, 'PART>NOUN>ADJ': 807, 'VERB>NOUN>NUM': 808, 'NOUN>PART>PUNCT': 809, 'VERB>ADJ>DET': 810, 'PRON>ADP>PROPN': 811, 'PRON>PUNCT>CCONJ': 812, 'PRON>NUM>NOUN': 813, 'PROPN>CCONJ>NUM': 814, 'NUM>ADJ>NUM': 815, 'CCONJ>PART>VERB': 816, 'NOUN>PROPN>NOUN': 817, 'ADJ>VERB>PRON': 818, 'NUM>CCONJ>ADJ': 819, 'VERB>CCONJ>NUM': 820, 'DET>ADV>ADP': 821, 'PROPN>ADJ>VERB': 822, 'PRON>ADJ>ADP': 823, 'NOUN>PRON>PUNCT': 824, 'PART>NUM>PUNCT': 825, 'PUNCT>NUM>CCONJ': 826, 'VERB>ADV>PROPN': 827, 'ADV>ADP>ADV': 828, 'DET>PROPN>ADJ': 829, 'DET>CCONJ>NOUN': 830, 'NUM>VERB>NUM': 831, 'NOUN>NUM>VERB': 832, 'CCONJ>PROPN>CCONJ': 833, 'NUM>VERB>ADV': 834, 'PUNCT>NUM>PROPN': 835, 'ADP>PART>VERB': 836, 'ADP>PUNCT>ADP': 837, 'PROPN>ADV>DET': 838, 'ADV>DET>VERB': 839, 'PART>NOUN>DET': 840, 'PRON>CCONJ>ADJ': 841, 'ADV>PUNCT>NUM': 842, 'PROPN>ADP>PRON': 843, 'NUM>PROPN>ADP': 844, 'PRON>ADV>ADJ': 845, 'ADP>PROPN>DET': 846, 'VERB>PART>CCONJ': 847, 'VERB>ADP>CCONJ': 848, 'PRON>ADV>ADV': 849, 'PRON>CCONJ>VERB': 850, 'ADV>ADV>CCONJ': 851, 'NOUN>PROPN>CCONJ': 852, 'NUM>ADP>PRON': 853, 'ADJ>PART>NOUN': 854, 'VERB>PART>NUM': 855, 'CCONJ>NUM>PROPN': 856, 'ADP>PROPN>ADJ': 857, 'CCONJ>ADJ>CCONJ': 858, 'ADV>DET>ADP': 859, 'ADP>DET>DET': 860, 'DET>PUNCT>ADV': 861, 'PROPN>CCONJ>ADP': 862, 'NOUN>ADJ>PART': 863, 'ADV>ADJ>VERB': 864, 'ADJ>ADP>ADV': 865, 'PUNCT>PART>NOUN': 866, 'PROPN>NUM>DET': 867, 'NUM>ADP>VERB': 868, 'NOUN>ADV>NUM': 869, 'DET>NUM>ADP': 870, 'VERB>PROPN>DET': 871, 'PRON>VERB>CCONJ': 872, 'PROPN>ADP>ADP': 873, 'ADP>PRON>CCONJ': 874, 'PROPN>PROPN>DET': 875, 'VERB>PRON>NOUN': 876, 'PUNCT>NOUN>DET': 877, 'CCONJ>PRON>ADV': 878, 'ADV>SYM>NUM': 879, 'VERB>NUM>PROPN': 880, 'NUM>ADV>PUNCT': 881, 'ADJ>ADV>ADV': 882, 'NUM>ADV>VERB': 883, 'PROPN>PART>ADV': 884, 'PART>ADJ>PUNCT': 885, 'CCONJ>ADV>NOUN': 886, 'PUNCT>PRON>NUM': 887, 'VERB>NOUN>PROPN': 888, 'PART>CCONJ>VERB': 889, 'NUM>DET>ADJ': 890, 'ADP>PROPN>PRON': 891, 'CCONJ>VERB>CCONJ': 892, 'PART>ADV>PUNCT': 893, 'CCONJ>ADV>NUM': 894, 'NUM>ADV>ADV': 895, 'VERB>PRON>CCONJ': 896, 'NOUN>ADJ>PROPN': 897, 'ADJ>PROPN>PART': 898, 'CCONJ>DET>ADV': 899, 'PROPN>PUNCT>PART': 900, 'PRON>NOUN>ADP': 901, 'PUNCT>ADJ>DET': 902, 'NUM>CCONJ>NOUN': 903, 'ADP>ADP>PUNCT': 904, 'NOUN>ADV>PROPN': 905, 'DET>PUNCT>NUM': 906, 'ADV>PUNCT>PART': 907, 'ADJ>ADP>PUNCT': 908, 'ADV>NUM>VERB': 909, 'NOUN>VERB>SYM': 910, 'ADJ>CCONJ>PROPN': 911, 'ADJ>NUM>CCONJ': 912, 'NOUN>PART>PROPN': 913, 'VERB>PUNCT>NUM': 914, 'DET>ADV>DET': 915, 'PART>PROPN>NOUN': 916, 'NUM>PROPN>CCONJ': 917, 'ADP>ADJ>PART': 918, 'ADV>ADJ>ADV': 919, 'PART>PUNCT>VERB': 920, 'PRON>ADV>DET': 921, 'ADV>DET>ADV': 922, 'PROPN>NUM>PRON': 923, 'PUNCT>NOUN>PRON': 924, 'ADP>PUNCT>ADV': 925, 'PUNCT>ADJ>PART': 926, 'DET>VERB>PRON': 927, 'ADV>NOUN>CCONJ': 928, 'ADV>ADV>NOUN': 929, 'PROPN>ADP>ADV': 930, 'NOUN>DET>NUM': 931, 'PROPN>DET>PROPN': 932, 'NUM>ADJ>VERB': 933, 'NOUN>PRON>ADV': 934, 'NOUN>NUM>ADJ': 935, 'NOUN>ADJ>DET': 936, 'VERB>ADV>PRON': 937, 'PART>PUNCT>CCONJ': 938, 'NOUN>ADJ>PRON': 939, 'PUNCT>PRON>ADJ': 940, 'VERB>NUM>NUM': 941, 'PRON>ADJ>PUNCT': 942, 'NOUN>CCONJ>PART': 943, 'CCONJ>NOUN>NUM': 944, 'PUNCT>DET>PUNCT': 945, 'NOUN>PUNCT>PUNCT': 946, 'PROPN>PART>PUNCT': 947, 'ADP>ADP>VERB': 948, 'VERB>NUM>ADV': 949, 'ADJ>ADV>PART': 950, 'ADV>DET>NUM': 951, 'NUM>VERB>CCONJ': 952, 'NUM>ADP>ADP': 953, 'PROPN>NOUN>ADJ': 954, 'ADJ>PUNCT>NUM': 955, 'DET>PUNCT>PROPN': 956, 'ADV>ADJ>DET': 957, 'X>NOUN>PUNCT': 958, 'VERB>CCONJ>ADP': 959, 'ADV>PROPN>PUNCT': 960, 'ADP>CCONJ>DET': 961, 'NUM>CCONJ>PROPN': 962, 'PROPN>ADV>PRON': 963, 'DET>ADP>VERB': 964, 'VERB>PROPN>ADJ': 965, 'ADP>CCONJ>ADJ': 966, 'PRON>PUNCT>ADP': 967, 'PRON>CCONJ>PROPN': 968, 'PART>ADJ>CCONJ': 969, 'PUNCT>ADV>PART': 970, 'SYM>NUM>NOUN': 971, 'VERB>NOUN>PRON': 972, 'CCONJ>ADJ>ADV': 973, 'ADV>ADJ>PROPN': 974, 'NUM>ADJ>CCONJ': 975, 'PROPN>ADJ>PUNCT': 976, 'NOUN>PRON>ADP': 977, 'CCONJ>PROPN>NUM': 978, 'NOUN>X>NOUN': 979, 'ADP>CCONJ>NUM': 980, 'ADP>CCONJ>VERB': 981, 'ADV>CCONJ>ADP': 982, 'PUNCT>PROPN>NUM': 983, 'PROPN>ADJ>ADP': 984, 'DET>PUNCT>CCONJ': 985, 'NOUN>DET>ADV': 986, 'ADV>ADP>PUNCT': 987, 'NOUN>PROPN>PART': 988, 'ADP>ADV>NOUN': 989, 'ADP>PRON>PART': 990, 'ADJ>PROPN>NUM': 991, 'VERB>PUNCT>PART': 992, 'NUM>ADP>ADV': 993, 'ADP>ADP>PRON': 994, 'PRON>PART>PUNCT': 995, 'ADV>CCONJ>NOUN': 996, 'CCONJ>NUM>ADV': 997, 'ADJ>ADJ>ADV': 998, 'DET>SYM>NUM': 999, 'ADV>NUM>NUM': 1000, 'PRON>ADJ>ADJ': 1001, 'PROPN>DET>VERB': 1002, 'DET>CCONJ>ADJ': 1003, 'CCONJ>NOUN>PROPN': 1004, 'CCONJ>ADJ>PART': 1005, 'PRON>NOUN>PUNCT': 1006, 'VERB>CCONJ>PRON': 1007, 'ADV>CCONJ>DET': 1008, 'PART>NUM>ADJ': 1009, 'PRON>ADJ>PART': 1010, 'VERB>NUM>PART': 1011, 'PUNCT>PRON>CCONJ': 1012, 'ADP>DET>CCONJ': 1013, 'DET>CCONJ>VERB': 1014, 'VERB>CCONJ>PROPN': 1015, 'CCONJ>DET>ADP': 1016, 'ADP>PUNCT>PROPN': 1017, 'PROPN>ADJ>ADJ': 1018, 'PROPN>ADV>ADJ': 1019, 'DET>ADV>NOUN': 1020, 'ADV>NOUN>PART': 1021, 'DET>NUM>CCONJ': 1022, 'ADJ>CCONJ>ADP': 1023, 'CCONJ>ADJ>NUM': 1024, 'ADP>PART>NUM': 1025, 'PUNCT>INTJ>PUNCT': 1026, 'ADJ>CCONJ>NUM': 1027, 'PRON>PUNCT>ADV': 1028, 'PART>ADJ>PROPN': 1029, 'NUM>NOUN>PRON': 1030, 'PRON>NUM>ADP': 1031, 'NUM>SYM>NUM': 1032, 'NUM>PROPN>DET': 1033, 'PART>PROPN>VERB': 1034, 'ADV>ADV>PRON': 1035, 'ADV>ADV>PART': 1036, 'CCONJ>NOUN>DET': 1037, 'ADV>PROPN>PART': 1038, 'PUNCT>PRON>NOUN': 1039, 'NUM>ADV>ADJ': 1040, 'CCONJ>PUNCT>ADV': 1041, 'NUM>NOUN>PROPN': 1042, 'DET>ADP>PRON': 1043, 'PUNCT>PRON>PART': 1044, 'NOUN>NUM>DET': 1045, 'VERB>PART>PROPN': 1046, 'NUM>DET>PROPN': 1047, 'ADP>ADP>ADV': 1048, 'NOUN>PROPN>ADV': 1049, 'PROPN>PROPN>PRON': 1050, 'NOUN>PRON>DET': 1051, 'PRON>ADP>PRON': 1052, 'CCONJ>ADP>VERB': 1053, 'ADP>CCONJ>NOUN': 1054, 'CCONJ>ADV>PROPN': 1055, 'NUM>ADV>ADP': 1056, 'NUM>CCONJ>ADP': 1057, 'ADJ>DET>NUM': 1058, 'PROPN>NOUN>DET': 1059, 'PART>DET>PROPN': 1060, 'NOUN>DET>ADP': 1061, 'ADJ>DET>PROPN': 1062, 'NOUN>NUM>PART': 1063, 'PRON>DET>ADV': 1064, 'DET>CCONJ>DET': 1065, 'VERB>PRON>NUM': 1066, 'NUM>PROPN>PART': 1067, 'NUM>VERB>PART': 1068, 'NUM>ADJ>ADP': 1069, 'ADJ>PROPN>ADV': 1070, 'CCONJ>ADP>PRON': 1071, 'NOUN>PUNCT>X': 1072, 'ADP>ADP>ADP': 1073, 'NOUN>DET>PUNCT': 1074, 'DET>PRON>VERB': 1075, 'DET>VERB>CCONJ': 1076, 'CCONJ>PROPN>DET': 1077, 'PART>ADV>ADP': 1078, 'ADJ>ADV>NOUN': 1079, 'ADJ>DET>PUNCT': 1080, 'PRON>PUNCT>DET': 1081, 'ADV>NUM>CCONJ': 1082, 'CCONJ>NUM>CCONJ': 1083, 'PROPN>PRON>PUNCT': 1084, 'PART>ADJ>VERB': 1085, 'INTJ>PUNCT>NUM': 1086, 'ADJ>NUM>PROPN': 1087, 'ADV>PRON>ADV': 1088, 'PRON>PUNCT>PRON': 1089, 'DET>NUM>ADV': 1090, 'VERB>ADV>SYM': 1091, 'PRON>NUM>VERB': 1092, 'ADJ>PRON>ADV': 1093, 'PRON>CCONJ>DET': 1094, 'X>NOUN>ADP': 1095, 'ADP>ADV>PRON': 1096, 'ADJ>VERB>CCONJ': 1097, 'PRON>ADV>NUM': 1098, 'DET>ADV>NUM': 1099, 'ADP>NOUN>X': 1100, 'NOUN>NUM>PRON': 1101, 'NUM>VERB>PROPN': 1102, 'PRON>NOUN>NOUN': 1103, 'PROPN>NUM>PART': 1104, 'PROPN>NUM>ADJ': 1105, 'ADJ>ADV>CCONJ': 1106, 'ADP>PUNCT>CCONJ': 1107, 'CCONJ>ADP>ADP': 1108, 'NOUN>PART>CCONJ': 1109, 'PART>NOUN>PRON': 1110, 'PRON>DET>VERB': 1111, 'ADJ>ADJ>PART': 1112, 'ADV>ADJ>NUM': 1113, 'PART>PUNCT>PRON': 1114, 'PART>ADJ>NUM': 1115, 'ADP>PRON>DET': 1116, 'NOUN>ADP>PART': 1117, 'ADJ>CCONJ>PRON': 1118, 'ADJ>DET>VERB': 1119, 'NOUN>PUNCT>INTJ': 1120, 'PRON>PUNCT>PROPN': 1121, 'ADP>DET>PART': 1122, 'NUM>PUNCT>PART': 1123, 'CCONJ>PUNCT>NOUN': 1124, 'NOUN>SYM>NUM': 1125, 'PRON>CCONJ>NOUN': 1126, 'PART>ADJ>ADP': 1127, 'ADJ>PROPN>ADJ': 1128, 'CCONJ>PUNCT>VERB': 1129, 'ADP>ADV>PART': 1130, 'CCONJ>ADJ>DET': 1131, 'PRON>ADP>ADP': 1132, 'ADJ>PART>ADJ': 1133, 'NOUN>SYM>NOUN': 1134, 'ADV>NOUN>ADV': 1135, 'PROPN>ADJ>PROPN': 1136, 'PRON>PART>ADP': 1137, 'PART>ADV>ADV': 1138, 'PRON>PRON>VERB': 1139, 'X>X>NOUN': 1140, 'NUM>NUM>ADJ': 1141, 'CCONJ>ADV>PART': 1142, 'CCONJ>ADV>PRON': 1143, 'PUNCT>X>PUNCT': 1144, 'PROPN>ADV>NUM': 1145, 'VERB>ADP>PART': 1146, 'ADP>ADV>PROPN': 1147, 'VERB>DET>DET': 1148, 'ADP>PRON>ADJ': 1149, 'NUM>ADJ>PROPN': 1150, 'ADV>PART>NOUN': 1151, 'PROPN>ADV>NOUN': 1152, 'PRON>PUNCT>ADJ': 1153, 'ADP>ADV>SYM': 1154, 'PROPN>PART>CCONJ': 1155, 'NUM>DET>PUNCT': 1156, 'PUNCT>PROPN>ADJ': 1157, 'ADV>NOUN>ADJ': 1158, 'PUNCT>VERB>SYM': 1159, 'DET>DET>PUNCT': 1160, 'PART>PROPN>CCONJ': 1161, 'ADJ>ADJ>DET': 1162, 'PART>NOUN>NUM': 1163, 'NUM>VERB>PRON': 1164, 'ADJ>ADV>DET': 1165, 'NOUN>PART>DET': 1166, 'PROPN>CCONJ>PRON': 1167, 'PROPN>PUNCT>PUNCT': 1168, 'NOUN>ADP>X': 1169, 'DET>ADP>ADP': 1170, 'CCONJ>PROPN>ADJ': 1171, 'PROPN>PART>ADP': 1172, 'DET>VERB>SYM': 1173, 'ADP>CCONJ>PROPN': 1174, 'ADV>CCONJ>ADJ': 1175, 'PART>ADP>VERB': 1176, 'PUNCT>CCONJ>PART': 1177, 'PART>PUNCT>ADJ': 1178, 'ADJ>PART>ADV': 1179, 'ADV>ADV>PROPN': 1180, 'ADV>CCONJ>PRON': 1181, 'PROPN>ADV>PART': 1182, 'PRON>ADV>CCONJ': 1183, 'SYM>NUM>CCONJ': 1184, 'PART>PUNCT>NOUN': 1185, 'PRON>ADP>ADV': 1186, 'PROPN>CCONJ>PUNCT': 1187, 'PRON>ADV>PART': 1188, 'VERB>DET>SYM': 1189, 'NOUN>PRON>ADJ': 1190, 'ADV>ADP>CCONJ': 1191, 'CCONJ>ADV>CCONJ': 1192, 'PRON>NOUN>CCONJ': 1193, 'ADP>X>NOUN': 1194, 'PART>CCONJ>NOUN': 1195, 'CCONJ>PRON>CCONJ': 1196, 'PART>PART>NUM': 1197, 'DET>DET>ADP': 1198, 'PRON>PUNCT>NOUN': 1199}\n"
     ]
    }
   ],
   "source": [
    "word2idx = {n: i for i, n in enumerate(vocab)}## create the word-to-index dictionary here\n",
    "print(word2idx)"
   ]
  },
  {
   "cell_type": "code",
   "execution_count": 12,
   "metadata": {
    "collapsed": true
   },
   "outputs": [],
   "source": [
    "def textToTrigrams(text): \n",
    "    return trigramsToDictKeys(getPOSTrigramsForTextString(text))\n",
    "\n",
    "def text_to_vector(text):\n",
    "    wordVector = np.zeros(len(vocab))\n",
    "    for word in textToTrigrams(text):\n",
    "        index = word2idx.get(word, None)\n",
    "        if index != None:\n",
    "            wordVector[index] += 1\n",
    "    return wordVector"
   ]
  },
  {
   "cell_type": "code",
   "execution_count": 13,
   "metadata": {
    "collapsed": false
   },
   "outputs": [
    {
     "data": {
      "text/plain": [
       "array([ 2.,  1.,  0.,  0.,  2.,  0.,  0.,  0.,  0.,  0.,  2.,  0.,  1.,\n",
       "        1.,  0.,  0.,  0.,  0.,  0.,  0.,  0.,  0.,  0.,  0.,  0.,  0.,\n",
       "        0.,  1.,  0.,  0.,  0.,  0.,  0.,  0.,  0.,  0.,  0.,  0.,  0.,\n",
       "        0.,  0.,  0.,  0.,  0.,  0.,  0.,  0.,  0.,  0.,  0.,  1.,  0.,\n",
       "        0.,  0.,  0.,  0.,  0.,  0.,  0.,  0.,  0.,  0.,  0.,  0.,  0.])"
      ]
     },
     "execution_count": 13,
     "metadata": {},
     "output_type": "execute_result"
    }
   ],
   "source": [
    "text_to_vector('The tea is for a party to celebrate '\n",
    "               'the movie so she has no time for a cake')[:65]"
   ]
  },
  {
   "cell_type": "code",
   "execution_count": 14,
   "metadata": {
    "collapsed": false
   },
   "outputs": [],
   "source": [
    "word_vectors = np.zeros((len(texts), len(vocab)), dtype=np.int_)\n",
    "for ii, text in enumerate(texts):\n",
    "    word_vectors[ii] = text_to_vector(text)"
   ]
  },
  {
   "cell_type": "code",
   "execution_count": 15,
   "metadata": {
    "collapsed": false
   },
   "outputs": [
    {
     "data": {
      "text/plain": [
       "array([[0, 0, 0, 2, 0, 2, 0, 0, 0, 0, 1, 0, 0, 0, 0, 0, 0, 0, 0, 0, 0, 2, 0],\n",
       "       [1, 1, 0, 0, 0, 1, 1, 1, 2, 0, 0, 0, 0, 0, 0, 0, 1, 0, 1, 0, 0, 0, 0],\n",
       "       [0, 0, 1, 0, 0, 0, 0, 0, 0, 0, 0, 0, 0, 0, 0, 0, 0, 0, 0, 1, 0, 0, 0],\n",
       "       [0, 0, 0, 1, 0, 0, 0, 1, 0, 1, 0, 0, 0, 1, 0, 0, 0, 1, 1, 0, 0, 0, 0],\n",
       "       [1, 0, 0, 0, 2, 1, 0, 1, 1, 0, 2, 0, 0, 0, 0, 0, 1, 0, 0, 0, 0, 2, 0]])"
      ]
     },
     "execution_count": 15,
     "metadata": {},
     "output_type": "execute_result"
    }
   ],
   "source": [
    "# Printing out the first 5 word vectors\n",
    "word_vectors[:5, :23]"
   ]
  },
  {
   "cell_type": "markdown",
   "metadata": {},
   "source": [
    "### Chunking the data for TF"
   ]
  },
  {
   "cell_type": "code",
   "execution_count": 16,
   "metadata": {
    "collapsed": false
   },
   "outputs": [
    {
     "name": "stdout",
     "output_type": "stream",
     "text": [
      "106133 106133\n"
     ]
    }
   ],
   "source": [
    "records = len(labels)\n",
    "test_fraction = 0.9\n",
    "\n",
    "train_split, test_split = int(records*test_fraction), int(records*test_fraction)\n",
    "print(train_split, test_split)\n",
    "trainX, trainY = word_vectors[:train_split], to_categorical(labels[:train_split], 2)\n",
    "testX, testY = word_vectors[test_split:], to_categorical(labels[test_split:], 2)"
   ]
  },
  {
   "cell_type": "code",
   "execution_count": 1,
   "metadata": {
    "collapsed": false
   },
   "outputs": [
    {
     "ename": "NameError",
     "evalue": "name 'trainX' is not defined",
     "output_type": "error",
     "traceback": [
      "\u001b[0;31m---------------------------------------------------------------------------\u001b[0m",
      "\u001b[0;31mNameError\u001b[0m                                 Traceback (most recent call last)",
      "\u001b[0;32m<ipython-input-1-98103fedf808>\u001b[0m in \u001b[0;36m<module>\u001b[0;34m()\u001b[0m\n\u001b[0;32m----> 1\u001b[0;31m \u001b[0mtrainX\u001b[0m\u001b[0;34m[\u001b[0m\u001b[0;34m-\u001b[0m\u001b[0;36m10\u001b[0m\u001b[0;34m]\u001b[0m\u001b[0;34m,\u001b[0m \u001b[0mtrainY\u001b[0m\u001b[0;34m[\u001b[0m\u001b[0;34m-\u001b[0m\u001b[0;36m10\u001b[0m\u001b[0;34m]\u001b[0m\u001b[0;34m\u001b[0m\u001b[0m\n\u001b[0m",
      "\u001b[0;31mNameError\u001b[0m: name 'trainX' is not defined"
     ]
    }
   ],
   "source": [
    "trainX[-1], trainY[-1]"
   ]
  },
  {
   "cell_type": "code",
   "execution_count": 18,
   "metadata": {
    "collapsed": false
   },
   "outputs": [
    {
     "data": {
      "text/plain": [
       "(106133, 11793, 117926)"
      ]
     },
     "execution_count": 18,
     "metadata": {},
     "output_type": "execute_result"
    }
   ],
   "source": [
    "len(trainY), len(testY), len(trainY) + len(testY)"
   ]
  },
  {
   "cell_type": "markdown",
   "metadata": {},
   "source": [
    "# Setting up TF"
   ]
  },
  {
   "cell_type": "code",
   "execution_count": 19,
   "metadata": {
    "collapsed": true
   },
   "outputs": [],
   "source": [
    "# Network building\n",
    "def build_model():\n",
    "    # This resets all parameters and variables, leave this here\n",
    "    tf.reset_default_graph()\n",
    "    \n",
    "    #### Your code ####\n",
    "    net = tflearn.input_data([None, len(vocab)])                          # Input\n",
    "    net = tflearn.fully_connected(net, 200, activation='ReLU')      # Hidden\n",
    "    net = tflearn.fully_connected(net, 25, activation='ReLU')      # Hidden\n",
    "    net = tflearn.fully_connected(net, 2, activation='softmax')   # Output\n",
    "    net = tflearn.regression(net, optimizer='sgd', learning_rate=0.1, loss='categorical_crossentropy')\n",
    "    model = tflearn.DNN(net)\n",
    "\n",
    "    return model"
   ]
  },
  {
   "cell_type": "code",
   "execution_count": 46,
   "metadata": {
    "collapsed": false
   },
   "outputs": [
    {
     "data": {
      "text/plain": [
       "1200"
      ]
     },
     "execution_count": 46,
     "metadata": {},
     "output_type": "execute_result"
    }
   ],
   "source": [
    "len(vocab)"
   ]
  },
  {
   "cell_type": "markdown",
   "metadata": {},
   "source": [
    "### Initialize"
   ]
  },
  {
   "cell_type": "code",
   "execution_count": 20,
   "metadata": {
    "collapsed": true
   },
   "outputs": [],
   "source": [
    "model = build_model()"
   ]
  },
  {
   "cell_type": "markdown",
   "metadata": {},
   "source": [
    "### Training"
   ]
  },
  {
   "cell_type": "code",
   "execution_count": 21,
   "metadata": {
    "collapsed": false
   },
   "outputs": [
    {
     "name": "stdout",
     "output_type": "stream",
     "text": [
      "Training Step: 37349  | total loss: \u001b[1m\u001b[32m0.06198\u001b[0m\u001b[0m | time: 4.419s\n",
      "| SGD | epoch: 050 | loss: 0.06198 - acc: 0.9736 -- iter: 95488/95519\n",
      "Training Step: 37350  | total loss: \u001b[1m\u001b[32m0.05847\u001b[0m\u001b[0m | time: 5.478s\n",
      "| SGD | epoch: 050 | loss: 0.05847 - acc: 0.9762 | val_loss: 0.62146 - val_acc: 0.8463 -- iter: 95519/95519\n",
      "--\n"
     ]
    }
   ],
   "source": [
    "# Training\n",
    "model.fit(trainX, trainY, validation_set=0.1, show_metric=True, batch_size=128, n_epoch=50)"
   ]
  },
  {
   "cell_type": "code",
   "execution_count": 22,
   "metadata": {
    "collapsed": false
   },
   "outputs": [
    {
     "name": "stdout",
     "output_type": "stream",
     "text": [
      "Test accuracy:  0.842618502501\n"
     ]
    }
   ],
   "source": [
    "# Testing\n",
    "predictions = (np.array(model.predict(testX))[:,0] >= 0.5).astype(np.int_)\n",
    "test_accuracy = np.mean(predictions == testY[:,0], axis=0)\n",
    "print(\"Test accuracy: \", test_accuracy)"
   ]
  },
  {
   "cell_type": "markdown",
   "metadata": {},
   "source": [
    "### Playground"
   ]
  },
  {
   "cell_type": "code",
   "execution_count": 42,
   "metadata": {
    "collapsed": true
   },
   "outputs": [],
   "source": [
    "def test_sentence(sentence):\n",
    "    positive_prob = model.predict([text_to_vector(sentence)])[0][1]\n",
    "    print('Sentence: {}'.format(sentence))\n",
    "    print('P(positive) = {:.3f} :'.format(positive_prob), \n",
    "          'Positive' if positive_prob > 0.5 else 'Negative')"
   ]
  },
  {
   "cell_type": "code",
   "execution_count": 43,
   "metadata": {
    "collapsed": false,
    "scrolled": true
   },
   "outputs": [
    {
     "name": "stdout",
     "output_type": "stream",
     "text": [
      "Sentence: Even though he had the better arguments and was by far the more powerful speaker.\n",
      "P(positive) = 0.386 : Negative\n"
     ]
    }
   ],
   "source": [
    "test_sentence(\"Even though he had the better arguments and was by far the more powerful speaker.\")"
   ]
  },
  {
   "cell_type": "code",
   "execution_count": 44,
   "metadata": {
    "collapsed": false
   },
   "outputs": [
    {
     "name": "stdout",
     "output_type": "stream",
     "text": [
      "Sentence: Even though he had the better arguments and was by far the more powerful speaker, Peter lost the debate.\n",
      "P(positive) = 1.000 : Positive\n"
     ]
    }
   ],
   "source": [
    "test_sentence(\"Even though he had the better arguments and was by far the more powerful speaker, Peter lost the debate.\")"
   ]
  },
  {
   "cell_type": "code",
   "execution_count": 26,
   "metadata": {
    "collapsed": false
   },
   "outputs": [
    {
     "name": "stdout",
     "output_type": "stream",
     "text": [
      "Sentence: Working far into the night in an effort to salvage her little boat.\n",
      "P(positive) = 0.000 : Negative\n"
     ]
    }
   ],
   "source": [
    "test_sentence(\"Working far into the night in an effort to salvage her little boat.\")"
   ]
  },
  {
   "cell_type": "code",
   "execution_count": 27,
   "metadata": {
    "collapsed": false
   },
   "outputs": [
    {
     "name": "stdout",
     "output_type": "stream",
     "text": [
      "Sentence: She was working far into the night in an effort to salvage her little boat.\n",
      "P(positive) = 0.857 : Positive\n"
     ]
    }
   ],
   "source": [
    "test_sentence(\"She was working far into the night in an effort to salvage her little boat.\")"
   ]
  },
  {
   "cell_type": "code",
   "execution_count": 28,
   "metadata": {
    "collapsed": false
   },
   "outputs": [
    {
     "name": "stdout",
     "output_type": "stream",
     "text": [
      "Sentence: The man eating pizza.\n",
      "P(positive) = 0.202 : Negative\n"
     ]
    }
   ],
   "source": [
    "test_sentence(\"The man eating pizza.\")"
   ]
  },
  {
   "cell_type": "code",
   "execution_count": 29,
   "metadata": {
    "collapsed": false
   },
   "outputs": [
    {
     "name": "stdout",
     "output_type": "stream",
     "text": [
      "Sentence: The man eating pizza is overwieght.\n",
      "P(positive) = 0.001 : Negative\n"
     ]
    }
   ],
   "source": [
    "test_sentence(\"The man eating pizza is overwieght.\")"
   ]
  },
  {
   "cell_type": "code",
   "execution_count": 30,
   "metadata": {
    "collapsed": false
   },
   "outputs": [
    {
     "name": "stdout",
     "output_type": "stream",
     "text": [
      "Sentence: While we were swimming at the lake.\n",
      "P(positive) = 0.009 : Negative\n"
     ]
    }
   ],
   "source": [
    "test_sentence(\"While we were swimming at the lake.\")"
   ]
  },
  {
   "cell_type": "code",
   "execution_count": 31,
   "metadata": {
    "collapsed": false
   },
   "outputs": [
    {
     "name": "stdout",
     "output_type": "stream",
     "text": [
      "Sentence: While we were swimming at the lake, we saw a fish.\n",
      "P(positive) = 0.153 : Negative\n"
     ]
    }
   ],
   "source": [
    "test_sentence(\"While we were swimming at the lake, we saw a fish.\")"
   ]
  },
  {
   "cell_type": "code",
   "execution_count": 32,
   "metadata": {
    "collapsed": false
   },
   "outputs": [
    {
     "name": "stdout",
     "output_type": "stream",
     "text": [
      "Sentence: Keep going.\n",
      "P(positive) = 0.000 : Negative\n"
     ]
    }
   ],
   "source": [
    "test_sentence(\"Keep going.\")"
   ]
  },
  {
   "cell_type": "code",
   "execution_count": 33,
   "metadata": {
    "collapsed": false
   },
   "outputs": [
    {
     "name": "stdout",
     "output_type": "stream",
     "text": [
      "Sentence: A time of wonder and amazement\n",
      "P(positive) = 0.000 : Negative\n"
     ]
    }
   ],
   "source": [
    "test_sentence(\"A time of wonder and amazement\")"
   ]
  },
  {
   "cell_type": "code",
   "execution_count": 34,
   "metadata": {
    "collapsed": false
   },
   "outputs": [
    {
     "name": "stdout",
     "output_type": "stream",
     "text": [
      "Sentence: That was a time of wonder and amazement\n",
      "P(positive) = 0.003 : Negative\n"
     ]
    }
   ],
   "source": [
    "test_sentence(\"That was a time of wonder and amazement\")"
   ]
  },
  {
   "cell_type": "code",
   "execution_count": 53,
   "metadata": {
    "collapsed": false
   },
   "outputs": [
    {
     "name": "stdout",
     "output_type": "stream",
     "text": [
      "Sentence: Since she never saw that movie.\n",
      "P(positive) = 0.160 : Negative\n"
     ]
    }
   ],
   "source": [
    "test_sentence(\"Since she never saw that movie.\") \n"
   ]
  },
  {
   "cell_type": "code",
   "execution_count": 36,
   "metadata": {
    "collapsed": false
   },
   "outputs": [
    {
     "name": "stdout",
     "output_type": "stream",
     "text": [
      "Sentence: We should invite her, since she never saw that movie.\n",
      "P(positive) = 0.851 : Positive\n"
     ]
    }
   ],
   "source": [
    "test_sentence(\"We should invite her, since she never saw that movie.\")"
   ]
  },
  {
   "cell_type": "code",
   "execution_count": 37,
   "metadata": {
    "collapsed": false
   },
   "outputs": [
    {
     "name": "stdout",
     "output_type": "stream",
     "text": [
      "Sentence: Affecting the lives of many students in New York City.\n",
      "P(positive) = 0.002 : Negative\n"
     ]
    }
   ],
   "source": [
    "test_sentence(\"Affecting the lives of many students in New York City.\")"
   ]
  },
  {
   "cell_type": "code",
   "execution_count": 38,
   "metadata": {
    "collapsed": false
   },
   "outputs": [
    {
     "name": "stdout",
     "output_type": "stream",
     "text": [
      "Sentence: Quill is affecting the lives of many students in New York City.\n",
      "P(positive) = 0.999 : Positive\n"
     ]
    }
   ],
   "source": [
    "test_sentence(\"Quill is affecting the lives of many students in New York City.\")"
   ]
  },
  {
   "cell_type": "code",
   "execution_count": 39,
   "metadata": {
    "collapsed": false
   },
   "outputs": [
    {
     "name": "stdout",
     "output_type": "stream",
     "text": [
      "Sentence: Standing on the edge of the cliff looking down.\n",
      "P(positive) = 0.024 : Negative\n"
     ]
    }
   ],
   "source": [
    "test_sentence(\"Standing on the edge of the cliff looking down.\")"
   ]
  },
  {
   "cell_type": "code",
   "execution_count": 40,
   "metadata": {
    "collapsed": false
   },
   "outputs": [
    {
     "name": "stdout",
     "output_type": "stream",
     "text": [
      "Sentence: I'm standing on the edge of the cliff and looking down.\n",
      "P(positive) = 0.339 : Negative\n"
     ]
    }
   ],
   "source": [
    "test_sentence(\"I'm standing on the edge of the cliff and looking down.\")"
   ]
  },
  {
   "cell_type": "code",
   "execution_count": 56,
   "metadata": {
    "collapsed": false
   },
   "outputs": [
    {
     "name": "stdout",
     "output_type": "stream",
     "text": [
      "Sentence: The team looked forward to victory.\n",
      "P(positive) = 0.978 : Positive\n"
     ]
    }
   ],
   "source": [
    "test_sentence(\"The team looked forward to victory.\")"
   ]
  },
  {
   "cell_type": "code",
   "execution_count": 55,
   "metadata": {
    "collapsed": false
   },
   "outputs": [
    {
     "name": "stdout",
     "output_type": "stream",
     "text": [
      "INFO:tensorflow:/Users/donald/Programming/Python/Quill-NLP-Tools-and-Datasets/model.tfl is not in all_model_checkpoint_paths. Manually adding it.\n"
     ]
    }
   ],
   "source": [
    "model.save(\"./model.tfl\")"
   ]
  },
  {
   "cell_type": "markdown",
   "metadata": {},
   "source": [
    "Save the vocab"
   ]
  },
  {
   "cell_type": "code",
   "execution_count": 57,
   "metadata": {
    "collapsed": false
   },
   "outputs": [],
   "source": [
    "w = csv.writer(open(\"./vocabindex.csv\", \"w\"))\n",
    "for key, val in word2idx.items():\n",
    "    w.writerow([key, val])"
   ]
  },
  {
   "cell_type": "code",
   "execution_count": 50,
   "metadata": {
    "collapsed": false
   },
   "outputs": [
    {
     "data": {
      "text/plain": [
       "['ADP>DET>NOUN',\n",
       " 'NOUN>ADP>DET',\n",
       " 'ADJ>NOUN>PUNCT',\n",
       " 'DET>ADJ>NOUN',\n",
       " 'DET>NOUN>ADP',\n",
       " 'ADJ>NOUN>ADP',\n",
       " 'NOUN>ADP>NOUN',\n",
       " 'DET>NOUN>PUNCT',\n",
       " 'ADP>ADJ>NOUN',\n",
       " 'ADP>DET>ADJ',\n",
       " 'VERB>DET>NOUN',\n",
       " 'NOUN>NOUN>PUNCT',\n",
       " 'VERB>ADP>DET',\n",
       " 'DET>NOUN>VERB',\n",
       " 'ADP>NOUN>PUNCT',\n",
       " 'VERB>VERB>ADP',\n",
       " 'NOUN>ADP>ADJ',\n",
       " 'NOUN>VERB>VERB',\n",
       " 'ADJ>NOUN>VERB',\n",
       " 'ADJ>ADJ>NOUN',\n",
       " 'ADJ>NOUN>NOUN',\n",
       " 'NOUN>ADP>PROPN',\n",
       " 'DET>NOUN>NOUN',\n",
       " 'VERB>ADJ>NOUN',\n",
       " 'PROPN>PROPN>PUNCT',\n",
       " 'NOUN>NOUN>ADP',\n",
       " 'VERB>DET>ADJ',\n",
       " 'NOUN>VERB>ADP',\n",
       " 'NOUN>PUNCT>NOUN',\n",
       " 'NOUN>PUNCT>VERB',\n",
       " 'VERB>ADP>NOUN',\n",
       " 'ADP>NOUN>ADP',\n",
       " 'ADP>NUM>PUNCT',\n",
       " 'NOUN>ADP>NUM',\n",
       " 'ADP>DET>PROPN',\n",
       " 'NOUN>PUNCT>CONJ',\n",
       " 'NOUN>CONJ>NOUN',\n",
       " 'ADP>PROPN>PUNCT',\n",
       " 'VERB>NOUN>ADP',\n",
       " 'PROPN>PROPN>PROPN',\n",
       " 'DET>PROPN>PROPN',\n",
       " 'VERB>ADP>PROPN',\n",
       " 'NOUN>NOUN>VERB',\n",
       " 'NUM>NOUN>PUNCT',\n",
       " 'VERB>PART>VERB',\n",
       " 'VERB>ADV>VERB',\n",
       " 'PUNCT>DET>NOUN',\n",
       " 'ADP>PROPN>PROPN',\n",
       " 'VERB>ADP>ADJ',\n",
       " 'NOUN>VERB>DET',\n",
       " 'NOUN>PART>VERB',\n",
       " 'ADP>NUM>NOUN',\n",
       " 'VERB>NOUN>PUNCT',\n",
       " 'NOUN>VERB>ADV',\n",
       " 'ADV>VERB>ADP',\n",
       " 'ADP>NOUN>NOUN',\n",
       " 'NOUN>CONJ>VERB',\n",
       " 'NUM>NOUN>ADP',\n",
       " 'ADJ>NOUN>CONJ',\n",
       " 'NOUN>VERB>ADJ',\n",
       " 'NOUN>PUNCT>DET',\n",
       " 'NOUN>NOUN>NOUN',\n",
       " 'CONJ>ADJ>NOUN',\n",
       " 'NOUN>PART>NOUN',\n",
       " 'PROPN>PROPN>VERB',\n",
       " 'PROPN>VERB>DET',\n",
       " 'DET>NOUN>PART',\n",
       " 'PART>VERB>DET',\n",
       " 'NOUN>PUNCT>ADJ',\n",
       " 'PROPN>VERB>VERB',\n",
       " 'PUNCT>NOUN>NOUN',\n",
       " 'PROPN>PART>NOUN',\n",
       " 'PUNCT>PROPN>VERB',\n",
       " 'PROPN>NUM>PUNCT',\n",
       " 'VERB>ADP>NUM',\n",
       " 'PUNCT>NOUN>PUNCT',\n",
       " 'NOUN>PUNCT>ADP',\n",
       " 'ADP>PROPN>NUM',\n",
       " 'PROPN>PUNCT>PROPN',\n",
       " 'PROPN>ADP>PROPN',\n",
       " 'VERB>VERB>PUNCT',\n",
       " 'NOUN>PUNCT>PROPN',\n",
       " 'PUNCT>PRON>VERB',\n",
       " 'ADJ>ADP>DET',\n",
       " 'VERB>NUM>NOUN',\n",
       " 'ADP>ADJ>ADJ',\n",
       " 'DET>ADJ>ADJ',\n",
       " 'PUNCT>ADJ>NOUN',\n",
       " 'PUNCT>CONJ>VERB',\n",
       " 'CONJ>NOUN>PUNCT',\n",
       " 'PROPN>VERB>ADP',\n",
       " 'NOUN>VERB>NOUN',\n",
       " 'DET>NOUN>CONJ',\n",
       " 'ADP>NOUN>CONJ',\n",
       " 'PRON>VERB>VERB',\n",
       " 'PROPN>PROPN>ADP',\n",
       " 'PUNCT>NOUN>VERB',\n",
       " 'NOUN>ADV>VERB',\n",
       " 'ADV>ADP>DET',\n",
       " 'PART>NOUN>PUNCT',\n",
       " 'ADV>VERB>DET',\n",
       " 'VERB>ADV>ADP',\n",
       " 'PUNCT>VERB>ADP',\n",
       " 'NOUN>NOUN>CONJ',\n",
       " 'ADP>NOUN>VERB',\n",
       " 'VERB>ADJ>ADP',\n",
       " 'CONJ>DET>NOUN',\n",
       " 'PROPN>NOUN>PUNCT',\n",
       " 'PROPN>CONJ>PROPN',\n",
       " 'NOUN>PUNCT>ADV',\n",
       " 'PART>ADJ>NOUN',\n",
       " 'PROPN>ADP>DET',\n",
       " 'VERB>NOUN>NOUN',\n",
       " 'PUNCT>VERB>DET',\n",
       " 'NOUN>CONJ>ADJ',\n",
       " 'PUNCT>DET>ADJ',\n",
       " 'PART>VERB>NOUN',\n",
       " 'NOUN>ADP>VERB',\n",
       " 'DET>NOUN>ADV',\n",
       " 'PRON>VERB>DET',\n",
       " 'PART>VERB>ADP',\n",
       " 'VERB>ADV>ADJ',\n",
       " 'PUNCT>VERB>NOUN',\n",
       " 'CONJ>NOUN>NOUN',\n",
       " 'VERB>VERB>VERB',\n",
       " 'PRON>VERB>ADP',\n",
       " 'CONJ>VERB>ADP',\n",
       " 'NOUN>VERB>PUNCT',\n",
       " 'ADP>PROPN>PART',\n",
       " 'ADP>PROPN>ADP',\n",
       " 'ADJ>NOUN>PART',\n",
       " 'ADV>VERB>PUNCT',\n",
       " 'ADV>ADJ>NOUN',\n",
       " 'VERB>VERB>DET',\n",
       " 'VERB>ADJ>PUNCT',\n",
       " 'PROPN>VERB>ADJ',\n",
       " 'CONJ>VERB>DET',\n",
       " 'VERB>ADJ>ADJ',\n",
       " 'ADP>PROPN>VERB',\n",
       " 'PROPN>VERB>ADV',\n",
       " 'ADJ>PUNCT>NOUN',\n",
       " 'PUNCT>PROPN>PROPN',\n",
       " 'PRON>VERB>ADV',\n",
       " 'PART>VERB>ADJ',\n",
       " 'ADJ>NOUN>ADV',\n",
       " 'PUNCT>CONJ>DET',\n",
       " 'PROPN>PUNCT>VERB',\n",
       " 'ADP>DET>NUM',\n",
       " 'VERB>ADV>PUNCT',\n",
       " 'PUNCT>ADP>DET',\n",
       " 'NUM>NOUN>VERB',\n",
       " 'DET>NUM>NOUN',\n",
       " 'NOUN>VERB>PART',\n",
       " 'DET>ADJ>PUNCT',\n",
       " 'PART>NOUN>ADP',\n",
       " 'NOUN>PUNCT>PRON',\n",
       " 'VERB>VERB>PART',\n",
       " 'NUM>ADJ>NOUN',\n",
       " 'DET>VERB>NOUN',\n",
       " 'VERB>DET>PROPN',\n",
       " 'NUM>ADP>DET',\n",
       " 'ADP>NOUN>PART',\n",
       " 'PUNCT>CONJ>NOUN',\n",
       " 'NOUN>ADV>PUNCT',\n",
       " 'CONJ>NOUN>VERB',\n",
       " 'PART>NOUN>VERB',\n",
       " 'ADV>VERB>NOUN',\n",
       " 'NOUN>ADJ>NOUN',\n",
       " 'NOUN>CONJ>DET',\n",
       " 'DET>PROPN>NOUN',\n",
       " 'ADP>NUM>PROPN',\n",
       " 'PUNCT>PROPN>PUNCT',\n",
       " 'ADP>PRON>VERB',\n",
       " 'CONJ>NOUN>ADP',\n",
       " 'PROPN>ADV>VERB',\n",
       " 'ADJ>ADP>NOUN',\n",
       " 'PROPN>PUNCT>DET',\n",
       " 'ADV>VERB>ADJ',\n",
       " 'ADP>NUM>ADP',\n",
       " 'NOUN>NUM>PUNCT',\n",
       " 'PUNCT>ADJ>VERB',\n",
       " 'ADJ>ADP>ADJ',\n",
       " 'NOUN>DET>NOUN',\n",
       " 'PUNCT>NOUN>ADP',\n",
       " 'VERB>VERB>ADV',\n",
       " 'VERB>CONJ>VERB',\n",
       " 'ADP>NOUN>NUM',\n",
       " 'ADJ>CONJ>ADJ',\n",
       " 'PROPN>NOUN>VERB',\n",
       " 'VERB>VERB>ADJ',\n",
       " 'VERB>PROPN>PROPN',\n",
       " 'PRON>VERB>ADJ',\n",
       " 'PROPN>ADP>NUM',\n",
       " 'CONJ>VERB>NOUN',\n",
       " 'ADV>DET>NOUN',\n",
       " 'ADP>VERB>NOUN',\n",
       " 'NUM>PUNCT>NUM',\n",
       " 'CONJ>VERB>ADJ',\n",
       " 'ADV>ADP>NOUN',\n",
       " 'ADV>ADJ>ADP',\n",
       " 'VERB>NOUN>CONJ',\n",
       " 'NOUN>PART>ADJ',\n",
       " 'NOUN>ADV>ADP',\n",
       " 'PROPN>PROPN>CONJ',\n",
       " 'DET>PROPN>PUNCT',\n",
       " 'CONJ>VERB>VERB',\n",
       " 'DET>NOUN>ADJ',\n",
       " 'ADP>DET>VERB',\n",
       " 'ADV>PUNCT>VERB',\n",
       " 'NUM>NOUN>NOUN',\n",
       " 'VERB>ADV>ADV',\n",
       " 'PROPN>PART>ADJ',\n",
       " 'PRON>ADV>VERB',\n",
       " 'DET>PROPN>ADP',\n",
       " 'VERB>VERB>NOUN',\n",
       " 'PUNCT>VERB>ADJ',\n",
       " 'PROPN>PUNCT>CONJ',\n",
       " 'ADP>PROPN>CONJ',\n",
       " 'ADV>ADJ>PUNCT',\n",
       " 'NUM>PUNCT>NOUN',\n",
       " 'PUNCT>VERB>VERB',\n",
       " 'ADJ>NOUN>ADJ',\n",
       " 'DET>ADJ>PROPN',\n",
       " 'CONJ>ADV>VERB',\n",
       " 'DET>ADP>DET',\n",
       " 'ADV>PUNCT>DET',\n",
       " 'PUNCT>NUM>PUNCT',\n",
       " 'PROPN>PROPN>NOUN',\n",
       " 'ADJ>PART>VERB',\n",
       " 'NOUN>ADJ>VERB',\n",
       " 'ADV>NUM>NOUN',\n",
       " 'DET>PROPN>VERB',\n",
       " 'PUNCT>CONJ>ADJ',\n",
       " 'PUNCT>NOUN>CONJ',\n",
       " 'PUNCT>ADP>NOUN',\n",
       " 'CONJ>DET>ADJ',\n",
       " 'CONJ>VERB>ADV',\n",
       " 'PART>VERB>PUNCT',\n",
       " 'NUM>PUNCT>DET',\n",
       " 'ADP>ADJ>PUNCT',\n",
       " 'VERB>NOUN>VERB',\n",
       " 'PUNCT>ADV>VERB',\n",
       " 'CONJ>PROPN>PROPN',\n",
       " 'PUNCT>ADP>ADJ',\n",
       " 'NUM>PUNCT>PROPN',\n",
       " 'VERB>PRON>ADP',\n",
       " 'PROPN>PUNCT>NOUN',\n",
       " 'NOUN>VERB>PROPN',\n",
       " 'PUNCT>DET>PROPN',\n",
       " 'NOUN>PROPN>PROPN',\n",
       " 'DET>ADV>ADJ',\n",
       " 'NUM>NOUN>CONJ',\n",
       " 'PROPN>VERB>NOUN',\n",
       " 'ADP>VERB>DET',\n",
       " 'NOUN>VERB>NUM',\n",
       " 'ADP>NUM>CONJ',\n",
       " 'PROPN>PUNCT>ADP',\n",
       " 'DET>ADJ>ADP',\n",
       " 'PROPN>NOUN>ADP',\n",
       " 'ADJ>NUM>NOUN',\n",
       " 'VERB>PUNCT>CONJ',\n",
       " 'PROPN>VERB>PROPN',\n",
       " 'CONJ>NUM>NOUN',\n",
       " 'VERB>ADP>VERB',\n",
       " 'PART>VERB>VERB',\n",
       " 'PROPN>PROPN>PART',\n",
       " 'VERB>NOUN>PART',\n",
       " 'ADV>ADP>ADJ',\n",
       " 'PROPN>VERB>PART',\n",
       " 'CONJ>PROPN>VERB',\n",
       " 'PART>NOUN>NOUN',\n",
       " 'VERB>PROPN>ADP',\n",
       " 'ADJ>VERB>VERB',\n",
       " 'ADJ>PUNCT>ADJ',\n",
       " 'ADV>VERB>PART',\n",
       " 'ADP>ADP>DET',\n",
       " 'VERB>PROPN>PART',\n",
       " 'NOUN>PRON>VERB',\n",
       " 'PUNCT>ADV>PUNCT',\n",
       " 'NUM>PUNCT>VERB',\n",
       " 'ADP>DET>PUNCT',\n",
       " 'ADP>ADJ>NUM',\n",
       " 'NOUN>NOUN>PART',\n",
       " 'ADV>ADV>PUNCT',\n",
       " 'PUNCT>CONJ>ADV',\n",
       " 'PUNCT>CONJ>PROPN',\n",
       " 'ADJ>PROPN>PROPN',\n",
       " 'ADV>ADP>PROPN',\n",
       " 'NUM>PUNCT>CONJ',\n",
       " 'PROPN>VERB>NUM',\n",
       " 'NOUN>NOUN>ADV',\n",
       " 'NOUN>ADJ>ADP',\n",
       " 'PUNCT>VERB>NUM',\n",
       " 'PROPN>PART>VERB',\n",
       " 'VERB>ADP>PRON',\n",
       " 'NUM>ADP>NUM',\n",
       " 'CONJ>PROPN>PUNCT',\n",
       " 'ADJ>VERB>NOUN',\n",
       " 'ADV>ADV>VERB',\n",
       " 'ADV>VERB>ADV',\n",
       " 'PUNCT>ADV>ADP',\n",
       " 'VERB>NUM>ADP',\n",
       " 'ADP>VERB>ADP',\n",
       " 'ADV>ADV>ADP',\n",
       " 'VERB>PROPN>PUNCT',\n",
       " 'PUNCT>NUM>NOUN',\n",
       " 'CONJ>PRON>VERB',\n",
       " 'VERB>PART>ADP',\n",
       " 'DET>ADP>NOUN',\n",
       " 'ADV>VERB>VERB',\n",
       " 'ADP>PROPN>NOUN',\n",
       " 'ADP>PUNCT>NOUN',\n",
       " 'PROPN>PUNCT>ADV',\n",
       " 'PUNCT>VERB>ADV',\n",
       " 'ADV>DET>ADJ',\n",
       " 'NUM>PROPN>NUM',\n",
       " 'ADJ>ADJ>ADJ',\n",
       " 'PUNCT>ADP>NUM',\n",
       " 'ADV>PRON>VERB',\n",
       " 'NUM>NOUN>ADV',\n",
       " 'NOUN>PUNCT>NUM',\n",
       " 'ADJ>VERB>ADP',\n",
       " 'NOUN>VERB>PRON',\n",
       " 'ADP>ADJ>PROPN',\n",
       " 'PROPN>PUNCT>ADJ',\n",
       " 'NUM>CONJ>NUM',\n",
       " 'NOUN>CONJ>NUM',\n",
       " 'NOUN>DET>ADJ',\n",
       " 'PUNCT>CONJ>ADP',\n",
       " 'ADP>DET>ADP',\n",
       " 'DET>NOUN>DET',\n",
       " 'DET>ADJ>NUM',\n",
       " 'PROPN>CONJ>VERB',\n",
       " 'PRON>VERB>PART',\n",
       " 'PROPN>ADP>ADJ',\n",
       " 'PRON>VERB>NOUN',\n",
       " 'PUNCT>ADP>PROPN',\n",
       " 'NOUN>ADJ>PUNCT',\n",
       " 'VERB>ADP>ADP',\n",
       " 'NOUN>NOUN>ADJ',\n",
       " 'VERB>PUNCT>VERB',\n",
       " 'ADJ>PUNCT>CONJ',\n",
       " 'NOUN>ADP>PRON',\n",
       " 'ADV>PUNCT>ADP',\n",
       " 'PRON>ADP>DET',\n",
       " 'DET>ADJ>VERB',\n",
       " 'ADJ>NOUN>DET',\n",
       " 'ADJ>NOUN>PROPN',\n",
       " 'ADJ>NUM>PUNCT',\n",
       " 'NOUN>ADP>ADV',\n",
       " 'VERB>PRON>PUNCT',\n",
       " 'PUNCT>CONJ>PRON',\n",
       " 'ADJ>ADP>NUM',\n",
       " 'VERB>ADV>DET',\n",
       " 'NUM>PUNCT>PRON',\n",
       " 'PUNCT>ADJ>ADP',\n",
       " 'VERB>NUM>PUNCT',\n",
       " 'PART>VERB>ADV',\n",
       " 'VERB>VERB>CONJ',\n",
       " 'ADJ>ADJ>PUNCT',\n",
       " 'ADV>PUNCT>NOUN',\n",
       " 'NOUN>NUM>NOUN',\n",
       " 'NOUN>CONJ>ADV',\n",
       " 'PROPN>NOUN>NOUN',\n",
       " 'CONJ>ADJ>ADJ',\n",
       " 'ADJ>PROPN>PUNCT',\n",
       " 'DET>VERB>VERB',\n",
       " 'ADJ>VERB>DET',\n",
       " 'NUM>PUNCT>ADP',\n",
       " 'ADJ>ADP>PROPN',\n",
       " 'VERB>ADJ>PART',\n",
       " 'ADP>NUM>ADJ',\n",
       " 'CONJ>VERB>PART',\n",
       " 'ADJ>PUNCT>VERB',\n",
       " 'PRON>VERB>NUM',\n",
       " 'NUM>CONJ>VERB',\n",
       " 'DET>VERB>DET',\n",
       " 'NUM>ADP>NOUN',\n",
       " 'NOUN>ADP>ADP',\n",
       " 'ADP>PRON>PUNCT',\n",
       " 'ADP>ADJ>ADP',\n",
       " 'NUM>PROPN>PUNCT',\n",
       " 'DET>ADJ>CONJ',\n",
       " 'PROPN>ADP>NOUN',\n",
       " 'CONJ>VERB>NUM',\n",
       " 'PROPN>PART>PROPN',\n",
       " 'VERB>DET>ADV',\n",
       " 'VERB>DET>VERB',\n",
       " 'DET>ADV>VERB',\n",
       " 'ADP>DET>ADV',\n",
       " 'ADV>PUNCT>PRON',\n",
       " 'ADP>VERB>ADJ',\n",
       " 'ADV>PUNCT>PROPN',\n",
       " 'ADP>ADP>NOUN',\n",
       " 'PROPN>VERB>PUNCT',\n",
       " 'PRON>VERB>PUNCT',\n",
       " 'PUNCT>ADJ>ADJ',\n",
       " 'ADV>PART>VERB',\n",
       " 'PUNCT>PROPN>CONJ',\n",
       " 'ADV>PUNCT>ADJ',\n",
       " 'ADV>ADP>NUM',\n",
       " 'PART>VERB>PROPN',\n",
       " 'ADP>NOUN>ADJ',\n",
       " 'DET>VERB>ADJ',\n",
       " 'PUNCT>VERB>PROPN',\n",
       " 'PART>VERB>PRON',\n",
       " 'CONJ>VERB>PUNCT',\n",
       " 'ADJ>PROPN>NOUN',\n",
       " 'ADP>NOUN>ADV',\n",
       " 'PROPN>CONJ>DET',\n",
       " 'VERB>ADV>NUM',\n",
       " 'DET>ADP>ADJ',\n",
       " 'NOUN>ADV>ADV',\n",
       " 'DET>NUM>PUNCT',\n",
       " 'NUM>ADP>ADJ',\n",
       " 'ADJ>VERB>ADJ',\n",
       " 'VERB>ADJ>CONJ',\n",
       " 'PUNCT>ADJ>PUNCT',\n",
       " 'DET>VERB>ADP',\n",
       " 'ADV>PUNCT>CONJ',\n",
       " 'ADP>PUNCT>DET',\n",
       " 'ADV>VERB>PROPN',\n",
       " 'CONJ>ADP>DET',\n",
       " 'CONJ>DET>PROPN',\n",
       " 'PRON>PART>VERB',\n",
       " 'VERB>ADP>ADV',\n",
       " 'VERB>PRON>VERB',\n",
       " 'VERB>NUM>ADJ',\n",
       " 'VERB>DET>NUM',\n",
       " 'ADJ>VERB>ADV',\n",
       " 'ADJ>DET>NOUN',\n",
       " 'ADP>ADV>NUM',\n",
       " 'PUNCT>VERB>PUNCT',\n",
       " 'CONJ>NUM>PUNCT',\n",
       " 'ADV>VERB>NUM',\n",
       " 'PROPN>CONJ>ADJ',\n",
       " 'ADP>ADP>ADJ',\n",
       " 'PUNCT>PROPN>PART',\n",
       " 'NOUN>PROPN>VERB',\n",
       " 'VERB>PART>DET',\n",
       " 'ADP>NUM>VERB',\n",
       " 'NOUN>CONJ>ADP',\n",
       " 'CONJ>VERB>PRON',\n",
       " 'PUNCT>NOUN>PART',\n",
       " 'VERB>PUNCT>ADP',\n",
       " 'NUM>ADP>PROPN',\n",
       " 'PART>NOUN>CONJ',\n",
       " 'DET>NOUN>PROPN',\n",
       " 'DET>NOUN>PRON',\n",
       " 'NOUN>ADV>ADJ',\n",
       " 'PUNCT>VERB>PART',\n",
       " 'VERB>PRON>PART',\n",
       " 'PROPN>ADJ>NOUN',\n",
       " 'CONJ>ADJ>PUNCT',\n",
       " 'NOUN>VERB>CONJ',\n",
       " 'DET>PROPN>PART',\n",
       " 'NUM>NOUN>NUM',\n",
       " 'DET>VERB>ADV',\n",
       " 'ADV>PUNCT>ADV',\n",
       " 'ADJ>ADP>VERB',\n",
       " 'ADP>ADP>NUM',\n",
       " 'PUNCT>VERB>PRON',\n",
       " 'ADP>ADV>VERB',\n",
       " 'DET>PUNCT>NOUN',\n",
       " 'SYM>NUM>NUM',\n",
       " 'PRON>ADP>NOUN',\n",
       " 'VERB>NOUN>ADV',\n",
       " 'PRON>VERB>PROPN',\n",
       " 'PART>VERB>PART',\n",
       " 'ADP>ADJ>VERB',\n",
       " 'ADJ>PUNCT>ADP',\n",
       " 'ADV>ADV>ADJ',\n",
       " 'NUM>PUNCT>ADV',\n",
       " 'PART>ADP>DET',\n",
       " 'DET>PROPN>CONJ',\n",
       " 'ADJ>PROPN>VERB',\n",
       " 'NOUN>NOUN>DET',\n",
       " 'PUNCT>CONJ>NUM',\n",
       " 'ADP>ADJ>CONJ',\n",
       " 'VERB>VERB>PROPN',\n",
       " 'ADJ>CONJ>VERB',\n",
       " 'ADP>VERB>PUNCT',\n",
       " 'NUM>PUNCT>ADJ',\n",
       " 'PROPN>PROPN>ADV',\n",
       " 'VERB>PART>PUNCT',\n",
       " 'DET>NOUN>NUM',\n",
       " 'PUNCT>NOUN>ADV',\n",
       " 'ADV>NOUN>ADP',\n",
       " 'PROPN>VERB>PRON',\n",
       " 'PRON>DET>NOUN',\n",
       " 'ADJ>ADV>VERB',\n",
       " 'PUNCT>ADV>ADV',\n",
       " 'NUM>NOUN>ADJ',\n",
       " 'PROPN>NUM>ADP',\n",
       " 'ADV>NOUN>PUNCT',\n",
       " 'NUM>PROPN>PROPN',\n",
       " 'ADV>VERB>CONJ',\n",
       " 'ADV>VERB>PRON',\n",
       " 'PROPN>PUNCT>PRON',\n",
       " 'ADJ>PRON>VERB',\n",
       " 'PUNCT>DET>VERB',\n",
       " 'PUNCT>PROPN>NOUN',\n",
       " 'VERB>PART>NOUN',\n",
       " 'ADV>CONJ>VERB',\n",
       " 'PUNCT>ADV>ADJ',\n",
       " 'VERB>VERB>NUM',\n",
       " 'VERB>PUNCT>DET',\n",
       " 'PART>ADJ>ADJ',\n",
       " 'VERB>DET>ADP',\n",
       " 'ADP>VERB>VERB',\n",
       " 'DET>NUM>ADJ',\n",
       " 'PROPN>DET>NOUN',\n",
       " 'PUNCT>ADP>VERB',\n",
       " 'PUNCT>ADV>DET',\n",
       " 'NOUN>ADV>DET',\n",
       " 'ADP>ADV>ADJ',\n",
       " 'ADV>ADP>VERB',\n",
       " 'NOUN>PROPN>PUNCT',\n",
       " 'DET>ADV>PUNCT',\n",
       " 'VERB>PUNCT>ADV',\n",
       " 'PUNCT>NUM>ADP',\n",
       " 'NOUN>NOUN>PROPN',\n",
       " 'ADP>SYM>NUM',\n",
       " 'PROPN>NOUN>CONJ',\n",
       " 'VERB>PUNCT>NOUN',\n",
       " 'PART>DET>NOUN',\n",
       " 'ADJ>PUNCT>DET',\n",
       " 'NUM>NOUN>PART',\n",
       " 'PUNCT>PART>VERB',\n",
       " 'VERB>ADV>CONJ',\n",
       " 'PUNCT>ADV>PRON',\n",
       " 'CONJ>PROPN>NOUN',\n",
       " 'ADV>ADJ>ADJ',\n",
       " 'VERB>ADP>PUNCT',\n",
       " 'ADP>ADV>PUNCT',\n",
       " 'NOUN>NUM>ADP',\n",
       " 'PRON>DET>ADJ',\n",
       " 'ADV>PROPN>VERB',\n",
       " 'VERB>NOUN>ADJ',\n",
       " 'PART>PROPN>PROPN',\n",
       " 'ADJ>NOUN>PRON',\n",
       " 'ADJ>PROPN>ADP',\n",
       " 'DET>NUM>PROPN',\n",
       " 'PUNCT>NOUN>ADJ',\n",
       " 'ADV>ADJ>CONJ',\n",
       " 'PART>NUM>NOUN',\n",
       " 'DET>ADJ>ADV',\n",
       " 'NUM>NUM>NOUN',\n",
       " 'ADJ>PUNCT>ADV',\n",
       " 'PART>VERB>CONJ',\n",
       " 'PUNCT>ADP>ADP',\n",
       " 'ADJ>ADJ>ADP',\n",
       " 'DET>DET>NOUN',\n",
       " 'DET>PUNCT>DET',\n",
       " 'CONJ>ADV>ADJ',\n",
       " 'PUNCT>ADP>PRON',\n",
       " 'NOUN>CONJ>PROPN',\n",
       " 'PUNCT>DET>ADP',\n",
       " 'PRON>ADP>ADJ',\n",
       " 'NUM>PROPN>VERB',\n",
       " 'VERB>PRON>DET',\n",
       " 'PUNCT>PRON>ADV',\n",
       " 'PROPN>NOUN>PART',\n",
       " 'PUNCT>ADP>PUNCT',\n",
       " 'NUM>PRON>VERB',\n",
       " 'PUNCT>ADV>NOUN',\n",
       " 'CONJ>ADP>ADJ',\n",
       " 'CONJ>NOUN>ADV',\n",
       " 'ADP>NOUN>DET',\n",
       " 'CONJ>ADP>NOUN',\n",
       " 'VERB>PROPN>CONJ',\n",
       " 'NUM>VERB>VERB',\n",
       " 'VERB>PART>ADJ',\n",
       " 'VERB>ADV>NOUN',\n",
       " 'ADP>ADP>PROPN',\n",
       " 'CONJ>NOUN>PART',\n",
       " 'PART>NOUN>PART',\n",
       " 'PROPN>NUM>NOUN',\n",
       " 'ADJ>CONJ>NOUN',\n",
       " 'VERB>PROPN>NOUN',\n",
       " 'ADP>PUNCT>PRON',\n",
       " 'ADP>VERB>ADV',\n",
       " 'ADP>PROPN>ADV',\n",
       " 'ADJ>ADV>PUNCT',\n",
       " 'CONJ>ADJ>ADP',\n",
       " 'PROPN>DET>ADJ',\n",
       " 'ADP>NOUN>PROPN',\n",
       " 'VERB>PUNCT>PROPN',\n",
       " 'ADP>ADJ>DET',\n",
       " 'ADJ>ADJ>CONJ',\n",
       " 'PART>VERB>NUM',\n",
       " 'NUM>VERB>ADP',\n",
       " 'ADP>VERB>PART',\n",
       " 'NUM>NUM>PUNCT',\n",
       " 'VERB>PRON>ADV',\n",
       " 'CONJ>DET>VERB',\n",
       " 'VERB>VERB>PRON',\n",
       " 'CONJ>ADP>NUM',\n",
       " 'ADV>ADJ>PART',\n",
       " 'ADP>PUNCT>VERB',\n",
       " 'PROPN>ADP>VERB',\n",
       " 'PUNCT>PROPN>ADV',\n",
       " 'ADV>NOUN>VERB',\n",
       " 'NUM>VERB>NOUN',\n",
       " 'PUNCT>ADP>ADV',\n",
       " 'VERB>ADV>PART',\n",
       " 'ADJ>PUNCT>PROPN',\n",
       " 'PART>NOUN>ADV',\n",
       " 'CONJ>PROPN>ADP',\n",
       " 'CONJ>VERB>PROPN',\n",
       " 'PROPN>CONJ>NOUN',\n",
       " 'NUM>NOUN>DET',\n",
       " 'VERB>PRON>ADJ',\n",
       " 'PUNCT>ADV>NUM',\n",
       " 'DET>ADP>NUM',\n",
       " 'CONJ>NUM>ADJ',\n",
       " 'ADJ>ADP>PRON',\n",
       " 'NOUN>ADP>PUNCT',\n",
       " 'NUM>PART>VERB',\n",
       " 'NOUN>PUNCT>PART',\n",
       " 'ADJ>CONJ>ADV',\n",
       " 'CONJ>ADV>ADP',\n",
       " 'CONJ>NOUN>CONJ',\n",
       " 'NUM>DET>NOUN',\n",
       " 'PROPN>ADV>ADP',\n",
       " 'PART>ADP>NOUN',\n",
       " 'ADP>ADV>DET',\n",
       " 'ADP>NUM>PRON',\n",
       " 'NOUN>ADJ>ADJ',\n",
       " 'DET>VERB>NUM',\n",
       " 'VERB>ADJ>PROPN',\n",
       " 'ADJ>NOUN>NUM',\n",
       " 'PRON>VERB>PRON',\n",
       " 'VERB>PUNCT>ADJ',\n",
       " 'ADP>PRON>ADP',\n",
       " 'PUNCT>PROPN>ADP',\n",
       " 'NOUN>PROPN>NOUN',\n",
       " 'VERB>ADJ>ADV',\n",
       " 'PROPN>NUM>CONJ',\n",
       " 'ADP>VERB>PROPN',\n",
       " 'VERB>NUM>CONJ',\n",
       " 'PROPN>NOUN>PROPN',\n",
       " 'PUNCT>DET>ADV',\n",
       " 'VERB>CONJ>NOUN',\n",
       " 'DET>NUM>VERB',\n",
       " 'ADP>NUM>DET',\n",
       " 'PROPN>PUNCT>NUM',\n",
       " 'ADP>PART>VERB',\n",
       " 'ADP>VERB>NUM',\n",
       " 'PUNCT>ADJ>ADV',\n",
       " 'DET>VERB>PROPN',\n",
       " 'VERB>SYM>NUM',\n",
       " 'VERB>ADJ>VERB',\n",
       " 'NOUN>ADV>NOUN',\n",
       " 'ADJ>PUNCT>PRON',\n",
       " 'PUNCT>NOUN>PROPN',\n",
       " 'ADJ>ADV>ADP',\n",
       " 'NUM>ADJ>PUNCT',\n",
       " 'CONJ>NUM>ADP',\n",
       " 'PUNCT>VERB>CONJ',\n",
       " 'ADP>NOUN>PRON',\n",
       " 'ADJ>ADJ>PROPN',\n",
       " 'PUNCT>ADJ>CONJ',\n",
       " 'PART>ADV>VERB',\n",
       " 'ADV>NUM>PUNCT',\n",
       " 'PROPN>NOUN>ADV',\n",
       " 'PART>PROPN>PUNCT',\n",
       " 'PUNCT>DET>NUM',\n",
       " 'DET>VERB>PUNCT',\n",
       " 'ADV>CONJ>ADV',\n",
       " 'CONJ>ADV>PUNCT',\n",
       " 'ADV>NUM>ADJ',\n",
       " 'ADP>PUNCT>ADJ',\n",
       " 'CONJ>NOUN>ADJ',\n",
       " 'VERB>CONJ>DET',\n",
       " 'CONJ>ADP>PROPN',\n",
       " 'ADV>ADP>ADP',\n",
       " 'ADJ>ADV>ADJ',\n",
       " 'NOUN>ADV>CONJ',\n",
       " 'VERB>PUNCT>PRON',\n",
       " 'PROPN>ADV>PUNCT',\n",
       " 'PRON>ADV>ADP',\n",
       " 'ADJ>DET>ADJ',\n",
       " 'PUNCT>ADJ>PROPN',\n",
       " 'PRON>ADJ>NOUN',\n",
       " 'NUM>ADJ>ADJ',\n",
       " 'ADV>PROPN>PROPN',\n",
       " 'ADV>ADP>PRON',\n",
       " 'NUM>NUM>ADP',\n",
       " 'CONJ>ADV>ADV',\n",
       " 'VERB>CONJ>ADJ',\n",
       " 'VERB>DET>PUNCT',\n",
       " 'NOUN>PART>NUM',\n",
       " 'NUM>VERB>DET',\n",
       " 'CONJ>PROPN>PART',\n",
       " 'ADV>NOUN>NOUN',\n",
       " 'VERB>CONJ>ADV',\n",
       " 'NOUN>NOUN>NUM',\n",
       " 'NOUN>PART>ADV',\n",
       " 'ADP>ADJ>PRON',\n",
       " 'DET>PUNCT>ADJ',\n",
       " 'DET>PROPN>ADV',\n",
       " 'PROPN>PRON>VERB',\n",
       " 'ADP>NUM>PART',\n",
       " 'ADP>NUM>ADV',\n",
       " 'VERB>PROPN>VERB',\n",
       " 'DET>PROPN>NUM',\n",
       " 'CONJ>NUM>VERB',\n",
       " 'NOUN>ADV>PRON',\n",
       " 'NUM>PROPN>NOUN',\n",
       " 'ADP>ADV>ADP',\n",
       " 'SYM>NUM>PUNCT',\n",
       " 'PUNCT>PRON>ADP',\n",
       " 'ADJ>ADJ>VERB',\n",
       " 'PROPN>ADV>ADV',\n",
       " 'ADP>NUM>NUM',\n",
       " 'CONJ>DET>NUM',\n",
       " 'ADJ>NUM>ADP',\n",
       " 'PART>ADP>ADJ',\n",
       " 'PUNCT>CONJ>PUNCT',\n",
       " 'ADJ>VERB>PART',\n",
       " 'PUNCT>ADV>PROPN',\n",
       " 'PROPN>PART>NUM',\n",
       " 'ADP>PUNCT>NUM',\n",
       " 'PUNCT>PRON>DET',\n",
       " 'PROPN>PROPN>ADJ',\n",
       " 'ADV>ADV>ADV',\n",
       " 'NUM>VERB>PUNCT',\n",
       " 'VERB>PART>ADV',\n",
       " 'ADP>ADJ>ADV',\n",
       " 'NOUN>DET>VERB',\n",
       " 'DET>DET>ADJ',\n",
       " 'NUM>VERB>ADJ',\n",
       " 'NOUN>ADJ>CONJ',\n",
       " 'DET>ADJ>PART',\n",
       " 'PRON>ADP>NUM',\n",
       " 'DET>ADP>PROPN',\n",
       " 'PRON>ADV>PUNCT',\n",
       " 'VERB>ADP>SYM',\n",
       " 'ADJ>VERB>NUM',\n",
       " 'ADV>NUM>ADP',\n",
       " 'DET>PUNCT>PRON',\n",
       " 'NUM>CONJ>DET',\n",
       " 'NOUN>NUM>CONJ',\n",
       " 'NOUN>ADP>CONJ',\n",
       " 'ADV>DET>PROPN',\n",
       " 'PUNCT>NUM>ADJ',\n",
       " 'SYM>NUM>ADP',\n",
       " 'PROPN>VERB>CONJ',\n",
       " 'ADP>PROPN>ADJ',\n",
       " 'PART>ADP>NUM',\n",
       " 'NOUN>CONJ>PUNCT',\n",
       " 'VERB>NUM>VERB',\n",
       " 'ADV>ADV>DET',\n",
       " 'ADJ>ADP>ADP',\n",
       " 'PROPN>CONJ>ADV',\n",
       " 'CONJ>ADJ>PROPN',\n",
       " 'ADP>VERB>PRON',\n",
       " 'ADJ>CONJ>DET',\n",
       " 'PRON>ADP>VERB',\n",
       " 'PART>ADP>PROPN',\n",
       " 'CONJ>ADV>DET',\n",
       " 'NUM>CONJ>ADV',\n",
       " 'PART>NOUN>PROPN',\n",
       " 'DET>PART>VERB',\n",
       " 'PUNCT>ADJ>PRON',\n",
       " 'ADV>ADP>PUNCT',\n",
       " 'PUNCT>NOUN>DET',\n",
       " 'ADJ>VERB>PROPN',\n",
       " 'DET>PUNCT>VERB',\n",
       " 'VERB>PROPN>NUM',\n",
       " 'PART>ADV>ADJ',\n",
       " 'ADP>VERB>CONJ',\n",
       " 'NOUN>ADV>PART',\n",
       " 'PROPN>NUM>PROPN',\n",
       " 'NOUN>NOUN>PRON',\n",
       " 'CONJ>PROPN>ADV',\n",
       " 'PART>PROPN>ADP',\n",
       " 'ADP>PRON>ADV',\n",
       " 'DET>PROPN>ADJ',\n",
       " 'ADJ>PROPN>CONJ',\n",
       " 'CONJ>ADJ>VERB',\n",
       " 'PRON>ADP>PROPN',\n",
       " 'DET>ADV>ADP',\n",
       " 'ADP>CONJ>ADP',\n",
       " 'DET>VERB>PART',\n",
       " 'NOUN>CONJ>PRON',\n",
       " 'VERB>ADV>PROPN',\n",
       " 'VERB>ADP>PART',\n",
       " 'NOUN>ADP>SYM',\n",
       " 'ADP>ADV>ADV',\n",
       " 'ADP>PUNCT>ADP',\n",
       " 'NOUN>ADJ>ADV',\n",
       " 'DET>PUNCT>ADP',\n",
       " 'DET>ADV>ADV',\n",
       " 'PROPN>ADV>DET',\n",
       " 'PRON>PUNCT>VERB',\n",
       " 'PROPN>NUM>VERB',\n",
       " 'NOUN>PROPN>ADP',\n",
       " 'NOUN>DET>PROPN',\n",
       " 'CONJ>PUNCT>ADP',\n",
       " 'ADJ>NUM>ADJ',\n",
       " 'ADJ>VERB>PUNCT',\n",
       " 'VERB>PROPN>ADV',\n",
       " 'PART>DET>ADJ',\n",
       " 'PUNCT>NUM>VERB',\n",
       " 'PROPN>PROPN>NUM',\n",
       " 'PUNCT>NOUN>NUM',\n",
       " 'VERB>PRON>NOUN',\n",
       " 'PRON>CONJ>VERB',\n",
       " 'NOUN>PROPN>CONJ',\n",
       " 'PROPN>ADJ>VERB',\n",
       " 'VERB>NOUN>PROPN',\n",
       " 'VERB>ADJ>NUM',\n",
       " 'ADP>DET>DET',\n",
       " 'DET>ADJ>DET',\n",
       " 'ADJ>ADJ>NUM',\n",
       " 'NOUN>PRON>PUNCT',\n",
       " 'PRON>NUM>NOUN',\n",
       " 'CONJ>PART>VERB',\n",
       " 'ADJ>VERB>PRON',\n",
       " 'PRON>ADV>ADV',\n",
       " 'ADV>ADJ>VERB',\n",
       " 'PRON>PUNCT>CONJ',\n",
       " 'VERB>ADJ>DET',\n",
       " 'VERB>NOUN>DET',\n",
       " 'PART>PART>VERB',\n",
       " 'PUNCT>NUM>PROPN',\n",
       " 'CONJ>PROPN>CONJ',\n",
       " 'PART>NOUN>DET',\n",
       " 'PROPN>ADP>PRON',\n",
       " 'NUM>PROPN>ADP',\n",
       " 'PROPN>CONJ>NUM',\n",
       " 'NOUN>ADV>NUM',\n",
       " 'VERB>PART>PART',\n",
       " 'NOUN>PART>ADP',\n",
       " 'ADV>ADV>CONJ',\n",
       " 'VERB>PART>NUM',\n",
       " 'PUNCT>NUM>CONJ',\n",
       " 'VERB>CONJ>NUM',\n",
       " 'NUM>ADP>VERB',\n",
       " 'X>PUNCT>NOUN',\n",
       " 'NOUN>PART>PROPN',\n",
       " 'ADJ>ADP>PUNCT',\n",
       " 'ADP>PROPN>DET',\n",
       " 'PROPN>CONJ>ADP',\n",
       " 'NUM>CONJ>ADJ',\n",
       " 'ADV>NOUN>CONJ',\n",
       " 'PRON>CONJ>ADJ',\n",
       " 'PRON>ADV>ADJ',\n",
       " 'NUM>ADV>PUNCT',\n",
       " 'NUM>VERB>ADV',\n",
       " 'DET>CONJ>NOUN',\n",
       " 'VERB>PROPN>DET',\n",
       " 'PRON>ADJ>ADP',\n",
       " 'DET>PUNCT>ADV',\n",
       " 'NUM>ADP>PRON',\n",
       " 'PRON>NOUN>ADP',\n",
       " 'ADP>ADP>PUNCT',\n",
       " 'ADP>ADV>NOUN',\n",
       " 'NUM>ADJ>NUM',\n",
       " 'VERB>PART>CONJ',\n",
       " 'PROPN>NUM>DET',\n",
       " 'ADV>DET>VERB',\n",
       " 'ADV>ADV>NUM',\n",
       " 'ADJ>ADP>ADV',\n",
       " 'NOUN>ADJ>PROPN',\n",
       " 'PART>NOUN>ADJ',\n",
       " 'X>PUNCT>ADJ',\n",
       " 'NOUN>ADV>PROPN',\n",
       " 'NUM>VERB>NUM',\n",
       " 'DET>PUNCT>NUM',\n",
       " 'ADV>DET>ADP',\n",
       " 'CONJ>ADV>NOUN',\n",
       " 'PART>NUM>PUNCT',\n",
       " 'PROPN>ADP>ADP',\n",
       " 'NUM>PART>NUM',\n",
       " 'ADV>PUNCT>NUM',\n",
       " 'DET>ADV>NOUN',\n",
       " 'NUM>ADV>ADV',\n",
       " 'NOUN>NUM>VERB',\n",
       " 'ADJ>NUM>VERB',\n",
       " 'VERB>NOUN>NUM',\n",
       " 'PART>ADJ>PUNCT',\n",
       " 'PROPN>PROPN>DET',\n",
       " 'NOUN>PART>PUNCT',\n",
       " 'DET>NUM>ADP',\n",
       " 'PART>CONJ>VERB',\n",
       " 'ADP>PRON>CONJ',\n",
       " 'CONJ>PRON>ADV',\n",
       " 'VERB>ADP>CONJ',\n",
       " 'CONJ>VERB>CONJ',\n",
       " 'ADV>ADP>ADV',\n",
       " 'NOUN>ADJ>PART',\n",
       " 'ADJ>NUM>CONJ',\n",
       " 'ADP>PROPN>PRON',\n",
       " 'PUNCT>PRON>NUM',\n",
       " 'ADV>SYM>NUM',\n",
       " 'PROPN>NOUN>ADJ',\n",
       " 'PROPN>PUNCT>PART',\n",
       " 'ADP>PUNCT>ADV',\n",
       " 'PRON>VERB>CONJ',\n",
       " 'ADV>NUM>VERB',\n",
       " 'NUM>ADV>VERB',\n",
       " 'PROPN>PART>ADV',\n",
       " 'CONJ>NOUN>PROPN',\n",
       " 'ADV>ADV>NOUN',\n",
       " 'PROPN>ADJ>ADP',\n",
       " 'ADP>PUNCT>PROPN',\n",
       " 'CONJ>DET>ADV',\n",
       " 'VERB>PRON>CONJ',\n",
       " 'ADV>ADJ>DET',\n",
       " 'CONJ>NUM>PROPN',\n",
       " 'ADJ>ADV>ADV',\n",
       " 'NOUN>PRON>ADV',\n",
       " 'NUM>PROPN>CONJ',\n",
       " 'ADV>PROPN>PUNCT',\n",
       " 'VERB>NUM>PROPN',\n",
       " 'PUNCT>NOUN>PRON',\n",
       " 'ADV>ADJ>PROPN',\n",
       " 'ADJ>PUNCT>NUM',\n",
       " 'PRON>ADV>DET',\n",
       " 'PART>PROPN>NOUN',\n",
       " 'DET>PUNCT>PROPN',\n",
       " 'PUNCT>ADJ>NUM',\n",
       " 'ADP>ADP>VERB',\n",
       " 'DET>ADV>DET',\n",
       " 'NOUN>VERB>SYM',\n",
       " 'PROPN>ADJ>PUNCT',\n",
       " 'PUNCT>ADJ>DET',\n",
       " 'VERB>NOUN>PRON',\n",
       " 'PROPN>ADP>ADV',\n",
       " 'PROPN>NUM>PRON',\n",
       " 'VERB>PUNCT>NUM',\n",
       " 'NUM>DET>ADJ',\n",
       " 'DET>VERB>PRON',\n",
       " 'CONJ>ADJ>CONJ',\n",
       " 'NOUN>ADJ>DET',\n",
       " 'CONJ>ADV>NUM',\n",
       " 'ADV>ADJ>ADV',\n",
       " 'VERB>PART>PROPN',\n",
       " 'VERB>ADV>PRON',\n",
       " 'NOUN>NUM>ADJ',\n",
       " 'PUNCT>DET>PUNCT',\n",
       " 'NUM>ADJ>VERB',\n",
       " 'VERB>NUM>NUM',\n",
       " 'NOUN>ADJ>PRON',\n",
       " 'PROPN>DET>PROPN',\n",
       " 'PART>PUNCT>VERB',\n",
       " 'ADJ>PROPN>PART',\n",
       " 'PROPN>ADV>ADJ',\n",
       " 'NOUN>DET>NUM',\n",
       " 'VERB>NUM>ADV',\n",
       " 'ADV>DET>NUM',\n",
       " 'ADV>DET>ADV',\n",
       " 'ADP>ADJ>PART',\n",
       " 'NOUN>CONJ>PART',\n",
       " 'PART>PUNCT>CONJ',\n",
       " 'ADJ>PROPN>NUM',\n",
       " 'NUM>CONJ>NOUN',\n",
       " 'VERB>PROPN>ADJ',\n",
       " 'PRON>CONJ>PROPN',\n",
       " 'NUM>VERB>CONJ',\n",
       " 'PROPN>PART>PUNCT',\n",
       " 'PROPN>ADV>PRON',\n",
       " 'PRON>PUNCT>ADP',\n",
       " 'ADV>PUNCT>PART',\n",
       " 'NUM>CONJ>PROPN',\n",
       " 'CONJ>PROPN>NUM',\n",
       " 'PROPN>DET>VERB',\n",
       " 'PROPN>ADJ>ADJ',\n",
       " 'ADJ>CONJ>ADP',\n",
       " 'DET>ADV>NUM',\n",
       " 'NOUN>PROPN>PART',\n",
       " 'PUNCT>PRON>ADJ',\n",
       " 'NOUN>DET>ADV',\n",
       " 'CONJ>NOUN>NUM',\n",
       " 'NUM>ADP>ADP',\n",
       " 'DET>PUNCT>CONJ',\n",
       " 'ADP>CONJ>VERB',\n",
       " 'VERB>PUNCT>PART',\n",
       " 'PRON>ADJ>PUNCT',\n",
       " 'NOUN>PUNCT>X',\n",
       " 'VERB>CONJ>PRON',\n",
       " 'VERB>CONJ>ADP',\n",
       " 'PRON>ADJ>ADJ',\n",
       " 'X>NOUN>PUNCT',\n",
       " 'ADP>CONJ>NUM',\n",
       " 'ADJ>CONJ>PROPN',\n",
       " 'ADP>ADP>PRON',\n",
       " 'PUNCT>ADJ>PART',\n",
       " 'NUM>ADP>ADV',\n",
       " 'CONJ>ADP>PUNCT',\n",
       " 'ADP>CONJ>DET',\n",
       " 'ADV>ADJ>NUM',\n",
       " 'X>X>PUNCT',\n",
       " 'NOUN>ADP>X',\n",
       " 'PRON>NOUN>PUNCT',\n",
       " 'SYM>NUM>NOUN',\n",
       " 'CONJ>NOUN>DET',\n",
       " ...]"
      ]
     },
     "execution_count": 50,
     "metadata": {},
     "output_type": "execute_result"
    }
   ],
   "source": [
    "vocab"
   ]
  },
  {
   "cell_type": "code",
   "execution_count": null,
   "metadata": {
    "collapsed": true
   },
   "outputs": [],
   "source": []
  },
  {
   "cell_type": "code",
   "execution_count": null,
   "metadata": {
    "collapsed": true
   },
   "outputs": [],
   "source": []
  },
  {
   "cell_type": "code",
   "execution_count": null,
   "metadata": {
    "collapsed": true
   },
   "outputs": [],
   "source": []
  },
  {
   "cell_type": "code",
   "execution_count": null,
   "metadata": {
    "collapsed": true
   },
   "outputs": [],
   "source": []
  },
  {
   "cell_type": "code",
   "execution_count": null,
   "metadata": {
    "collapsed": true
   },
   "outputs": [],
   "source": []
  },
  {
   "cell_type": "code",
   "execution_count": null,
   "metadata": {
    "collapsed": true
   },
   "outputs": [],
   "source": []
  }
 ],
 "metadata": {
  "kernelspec": {
   "display_name": "Python 3",
   "language": "python",
   "name": "python3"
  },
  "language_info": {
   "codemirror_mode": {
    "name": "ipython",
    "version": 3
   },
   "file_extension": ".py",
   "mimetype": "text/x-python",
   "name": "python",
   "nbconvert_exporter": "python",
   "pygments_lexer": "ipython3",
   "version": "3.6.0"
  }
 },
 "nbformat": 4,
 "nbformat_minor": 2
}
