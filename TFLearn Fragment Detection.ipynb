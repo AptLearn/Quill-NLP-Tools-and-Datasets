{
 "cells": [
  {
   "cell_type": "markdown",
   "metadata": {},
   "source": [
    "## TFLearn Fragment Detection\n",
    "\n",
    "Catherine has prepared datafiles with sentences turned into fragments. I will use as input 60,000 fragments and 60,000 sentences. The fragments will come from the sentences. In the future the fragments will not be descendants of the input sentences. The labels will be either a 1 or 0, where 1 indicates a sentence and 0 indicates a fragment."
   ]
  },
  {
   "cell_type": "markdown",
   "metadata": {},
   "source": [
    "#### Install Dependencies"
   ]
  },
  {
   "cell_type": "code",
   "execution_count": 47,
   "metadata": {
    "collapsed": false
   },
   "outputs": [],
   "source": [
    "import pandas as pd\n",
    "import numpy as np\n",
    "import tensorflow as tf\n",
    "import tflearn\n",
    "from tflearn.data_utils import to_categorical\n",
    "import spacy\n",
    "nlp = spacy.load('en')\n",
    "import re\n",
    "from nltk.util import ngrams, trigrams\n",
    "import csv"
   ]
  },
  {
   "cell_type": "markdown",
   "metadata": {},
   "source": [
    "#### Load Datafiles"
   ]
  },
  {
   "cell_type": "code",
   "execution_count": 3,
   "metadata": {
    "collapsed": false
   },
   "outputs": [
    {
     "name": "stdout",
     "output_type": "stream",
     "text": [
      "['With 92% of dawson creek residents canadian-born, and 93% speaking only english, the city has few visible minorities.', 'With 92% of Dawson Creek residents being Canadian-born, and 93% speaking only English, the city has few visible minorities.', 'By the end of the year, the texians all mexican troops from texas.', 'By the end of the year, the Texians had driven all Mexican troops from Texas.', 'In northern manitoba, quartz to make arrowheads.', 'In Northern Manitoba, quartz was mined to make arrowheads.', 'There significant fictionalisation, however.', 'There was significant fictionalisation, however.', \"Extremeolation from society and community also apparent in crane's work.\", \"Extreme isolation from society and community is also apparent in Crane's work.\"]\n"
     ]
    }
   ],
   "source": [
    "texts = []\n",
    "labels = []\n",
    "\n",
    "with open(\"./removingPOS/updatedSentences/conjunctionSentences/detailedRemoval.txt\",\"r\") as f:\n",
    "    for line in f:\n",
    "        asArray = line.split(\" ||| \")\n",
    "        fragment = asArray[2].strip()\n",
    "        fragment = re.sub(\"\\ \\.\", \".\", fragment)\n",
    "        fragment = re.sub(\"\\,\\.\", \".\", fragment)\n",
    "        texts.append(fragment.capitalize())\n",
    "        labels.append(0)\n",
    "        texts.append(asArray[0].strip())\n",
    "        labels.append(1)\n",
    "        \n",
    "with open(\"./removingPOS/updatedSentences/nounSentences/detailedRemoval.txt\",\"r\") as f:\n",
    "    for line in f:\n",
    "        asArray = line.split(\" ||| \")\n",
    "        fragment = asArray[2].strip()\n",
    "        fragment = re.sub(\"\\ \\.\", \".\", fragment)\n",
    "        fragment = re.sub(\"\\,\\.\", \".\", fragment)\n",
    "        texts.append(fragment.capitalize())\n",
    "        labels.append(0)\n",
    "        texts.append(asArray[0].strip())\n",
    "        labels.append(1)\n",
    "\n",
    "with open(\"./removingPOS/updatedSentences/nounverbSentences/detailedRemoval.txt\",\"r\") as f:\n",
    "    for line in f:\n",
    "        asArray = line.split(\" ||| \")\n",
    "        fragment = asArray[2].strip()\n",
    "        fragment = re.sub(\"\\ \\.\", \".\", fragment)\n",
    "        fragment = re.sub(\"\\,\\.\", \".\", fragment)\n",
    "        texts.append(fragment.capitalize())\n",
    "        labels.append(0)\n",
    "        texts.append(asArray[0].strip())\n",
    "        labels.append(1)\n",
    "        \n",
    "with open(\"./removingPOS/updatedSentences/verbSentences/detailedRemoval.txt\",\"r\") as f:\n",
    "    for line in f:\n",
    "        asArray = line.split(\" ||| \")\n",
    "        fragment = asArray[2].strip()\n",
    "        fragment = re.sub(\"\\ \\.\", \".\", fragment)\n",
    "        fragment = re.sub(\"\\,\\.\", \".\", fragment)\n",
    "        texts.append(fragment.capitalize())\n",
    "        labels.append(0)\n",
    "        texts.append(asArray[0].strip())\n",
    "        labels.append(1)\n",
    "        \n",
    "print(texts[-10:])"
   ]
  },
  {
   "cell_type": "markdown",
   "metadata": {},
   "source": [
    "##### Shuffle the data"
   ]
  },
  {
   "cell_type": "code",
   "execution_count": 4,
   "metadata": {
    "collapsed": false
   },
   "outputs": [
    {
     "name": "stdout",
     "output_type": "stream",
     "text": [
      "['The next major inlet is Cork Harbour, at the mouth of the River Lee, in which Great Island is situated.', 'His possessions were auctioned for only $99.50.', 'The rest of the ditch remains unprotected.', 'Dunball railway station, which had opened in 1873, was closed to both passengers and goods in 1964.', 'All battleships are top heavy and tend to settle upside down when they sink.', 'Agrarian voters were about equally split between Clay and Clardy, while Free Silver Democrats were about equally split between Hardin and Clardy.', 'Again, almost 5,000 of the ballots contained no vote either way.', \"In 1961 bessie's aldermanic term on liverpool's council.\", 'Suffered three of its five losses against then top-twelve ranked teams.', 'For England, he most often batted at number six.']\n",
      "[1, 1, 1, 1, 1, 1, 1, 0, 0, 1]\n"
     ]
    }
   ],
   "source": [
    "import random\n",
    "\n",
    "combined = list(zip(texts,labels))\n",
    "random.shuffle(combined)\n",
    "\n",
    "texts[:], labels[:] = zip(*combined)\n",
    "print(texts[-10:])\n",
    "print(labels[-10:])"
   ]
  },
  {
   "cell_type": "markdown",
   "metadata": {},
   "source": [
    "##### Get parts of speech for text string"
   ]
  },
  {
   "cell_type": "code",
   "execution_count": 5,
   "metadata": {
    "collapsed": false
   },
   "outputs": [
    {
     "data": {
      "text/plain": [
       "['PROPN',\n",
       " 'ADP',\n",
       " 'DET',\n",
       " 'ADJ',\n",
       " 'NOUN',\n",
       " 'VERB',\n",
       " 'VERB',\n",
       " 'PART',\n",
       " 'CONJ',\n",
       " 'DET',\n",
       " 'NOUN',\n",
       " 'VERB',\n",
       " 'PART',\n",
       " 'DET',\n",
       " 'NOUN',\n",
       " 'PUNCT']"
      ]
     },
     "execution_count": 5,
     "metadata": {},
     "output_type": "execute_result"
    }
   ],
   "source": [
    "def textStringToPOSArray(text):\n",
    "    doc = nlp(text)\n",
    "    tags = []\n",
    "    for word in doc:\n",
    "        tags.append(word.pos_)\n",
    "    return tags\n",
    "\n",
    "textStringToPOSArray(texts[3])"
   ]
  },
  {
   "cell_type": "markdown",
   "metadata": {},
   "source": [
    "##### Get POS trigrams for a text string"
   ]
  },
  {
   "cell_type": "code",
   "execution_count": 6,
   "metadata": {
    "collapsed": false
   },
   "outputs": [
    {
     "name": "stdout",
     "output_type": "stream",
     "text": [
      "Text:  Hassett as the first day was washed out and the match ended in a draw. 0\n"
     ]
    },
    {
     "data": {
      "text/plain": [
       "[('PROPN', 'ADP', 'DET'),\n",
       " ('ADP', 'DET', 'ADJ'),\n",
       " ('DET', 'ADJ', 'NOUN'),\n",
       " ('ADJ', 'NOUN', 'VERB'),\n",
       " ('NOUN', 'VERB', 'VERB'),\n",
       " ('VERB', 'VERB', 'PART'),\n",
       " ('VERB', 'PART', 'CONJ'),\n",
       " ('PART', 'CONJ', 'DET'),\n",
       " ('CONJ', 'DET', 'NOUN'),\n",
       " ('DET', 'NOUN', 'VERB'),\n",
       " ('NOUN', 'VERB', 'PART'),\n",
       " ('VERB', 'PART', 'DET'),\n",
       " ('PART', 'DET', 'NOUN'),\n",
       " ('DET', 'NOUN', 'PUNCT')]"
      ]
     },
     "execution_count": 6,
     "metadata": {},
     "output_type": "execute_result"
    }
   ],
   "source": [
    "def find_ngrams(input_list, n):\n",
    "  return zip(*[input_list[i:] for i in range(n)])\n",
    "\n",
    "def getPOSTrigramsForTextString(text):\n",
    "    tags = textStringToPOSArray(text)\n",
    "    tgrams = list(trigrams(tags))\n",
    "    return tgrams\n",
    "\n",
    "print(\"Text: \", texts[3], labels[3])\n",
    "getPOSTrigramsForTextString(texts[3])"
   ]
  },
  {
   "cell_type": "markdown",
   "metadata": {},
   "source": [
    "##### Turn Trigrams into Dict keys"
   ]
  },
  {
   "cell_type": "code",
   "execution_count": 7,
   "metadata": {
    "collapsed": false
   },
   "outputs": [
    {
     "name": "stdout",
     "output_type": "stream",
     "text": [
      "It was planned to be his last operation.\n",
      "['PRON>VERB>VERB', 'VERB>VERB>PART', 'VERB>PART>VERB', 'PART>VERB>ADJ', 'VERB>ADJ>ADJ', 'ADJ>ADJ>NOUN', 'ADJ>NOUN>PUNCT']\n"
     ]
    }
   ],
   "source": [
    "def trigramsToDictKeys(trigrams):\n",
    "    keys = []\n",
    "    for trigram in trigrams:\n",
    "        keys.append('>'.join(trigram))\n",
    "    return keys\n",
    "\n",
    "print(texts[2])\n",
    "print(trigramsToDictKeys(getPOSTrigramsForTextString(texts[2])))"
   ]
  },
  {
   "cell_type": "code",
   "execution_count": 8,
   "metadata": {
    "collapsed": false
   },
   "outputs": [
    {
     "name": "stdout",
     "output_type": "stream",
     "text": [
      "Total words in data set:  2097\n"
     ]
    }
   ],
   "source": [
    "from collections import Counter\n",
    "\n",
    "c = Counter()\n",
    "\n",
    "for textString in texts:\n",
    "    c.update(trigramsToDictKeys(getPOSTrigramsForTextString(textString)))\n",
    "\n",
    "total_counts = c\n",
    "\n",
    "print(\"Total words in data set: \", len(total_counts))"
   ]
  },
  {
   "cell_type": "code",
   "execution_count": 9,
   "metadata": {
    "collapsed": false
   },
   "outputs": [
    {
     "name": "stdout",
     "output_type": "stream",
     "text": [
      "['ADP>DET>NOUN', 'NOUN>ADP>DET', 'ADJ>NOUN>PUNCT', 'DET>ADJ>NOUN', 'DET>NOUN>ADP', 'ADJ>NOUN>ADP', 'NOUN>ADP>NOUN', 'DET>NOUN>PUNCT', 'ADP>ADJ>NOUN', 'ADP>DET>ADJ', 'VERB>DET>NOUN', 'NOUN>NOUN>PUNCT', 'VERB>ADP>DET', 'DET>NOUN>VERB', 'ADP>NOUN>PUNCT', 'VERB>VERB>ADP', 'NOUN>ADP>ADJ', 'NOUN>VERB>VERB', 'ADJ>NOUN>VERB', 'ADJ>ADJ>NOUN', 'ADJ>NOUN>NOUN', 'NOUN>ADP>PROPN', 'DET>NOUN>NOUN', 'VERB>ADJ>NOUN', 'PROPN>PROPN>PUNCT', 'NOUN>NOUN>ADP', 'VERB>DET>ADJ', 'NOUN>VERB>ADP', 'NOUN>PUNCT>NOUN', 'NOUN>PUNCT>VERB', 'VERB>ADP>NOUN', 'ADP>NOUN>ADP', 'ADP>NUM>PUNCT', 'NOUN>ADP>NUM', 'ADP>DET>PROPN', 'NOUN>PUNCT>CONJ', 'NOUN>CONJ>NOUN', 'ADP>PROPN>PUNCT', 'VERB>NOUN>ADP', 'PROPN>PROPN>PROPN', 'DET>PROPN>PROPN', 'VERB>ADP>PROPN', 'NOUN>NOUN>VERB', 'NUM>NOUN>PUNCT', 'VERB>PART>VERB', 'VERB>ADV>VERB', 'PUNCT>DET>NOUN', 'ADP>PROPN>PROPN', 'VERB>ADP>ADJ', 'NOUN>VERB>DET', 'NOUN>PART>VERB', 'ADP>NUM>NOUN', 'VERB>NOUN>PUNCT', 'NOUN>VERB>ADV', 'ADV>VERB>ADP', 'ADP>NOUN>NOUN', 'NOUN>CONJ>VERB', 'NUM>NOUN>ADP', 'ADJ>NOUN>CONJ', 'NOUN>VERB>ADJ']\n"
     ]
    }
   ],
   "source": [
    "vocab = sorted(total_counts, key=total_counts.get, reverse=True)[:1200]\n",
    "print(vocab[:60])"
   ]
  },
  {
   "cell_type": "code",
   "execution_count": 10,
   "metadata": {
    "collapsed": false
   },
   "outputs": [
    {
     "name": "stdout",
     "output_type": "stream",
     "text": [
      "CONJ>ADV>PART :  27\n"
     ]
    }
   ],
   "source": [
    "print(vocab[-1], ': ', total_counts[vocab[-1]])"
   ]
  },
  {
   "cell_type": "markdown",
   "metadata": {},
   "source": [
    "Take the trigrams and index them"
   ]
  },
  {
   "cell_type": "code",
   "execution_count": 11,
   "metadata": {
    "collapsed": false
   },
   "outputs": [
    {
     "name": "stdout",
     "output_type": "stream",
     "text": [
      "{'ADP>DET>NOUN': 0, 'NOUN>ADP>DET': 1, 'ADJ>NOUN>PUNCT': 2, 'DET>ADJ>NOUN': 3, 'DET>NOUN>ADP': 4, 'ADJ>NOUN>ADP': 5, 'NOUN>ADP>NOUN': 6, 'DET>NOUN>PUNCT': 7, 'ADP>ADJ>NOUN': 8, 'ADP>DET>ADJ': 9, 'VERB>DET>NOUN': 10, 'NOUN>NOUN>PUNCT': 11, 'VERB>ADP>DET': 12, 'DET>NOUN>VERB': 13, 'ADP>NOUN>PUNCT': 14, 'VERB>VERB>ADP': 15, 'NOUN>ADP>ADJ': 16, 'NOUN>VERB>VERB': 17, 'ADJ>NOUN>VERB': 18, 'ADJ>ADJ>NOUN': 19, 'ADJ>NOUN>NOUN': 20, 'NOUN>ADP>PROPN': 21, 'DET>NOUN>NOUN': 22, 'VERB>ADJ>NOUN': 23, 'PROPN>PROPN>PUNCT': 24, 'NOUN>NOUN>ADP': 25, 'VERB>DET>ADJ': 26, 'NOUN>VERB>ADP': 27, 'NOUN>PUNCT>NOUN': 28, 'NOUN>PUNCT>VERB': 29, 'VERB>ADP>NOUN': 30, 'ADP>NOUN>ADP': 31, 'ADP>NUM>PUNCT': 32, 'NOUN>ADP>NUM': 33, 'ADP>DET>PROPN': 34, 'NOUN>PUNCT>CONJ': 35, 'NOUN>CONJ>NOUN': 36, 'ADP>PROPN>PUNCT': 37, 'VERB>NOUN>ADP': 38, 'PROPN>PROPN>PROPN': 39, 'DET>PROPN>PROPN': 40, 'VERB>ADP>PROPN': 41, 'NOUN>NOUN>VERB': 42, 'NUM>NOUN>PUNCT': 43, 'VERB>PART>VERB': 44, 'VERB>ADV>VERB': 45, 'PUNCT>DET>NOUN': 46, 'ADP>PROPN>PROPN': 47, 'VERB>ADP>ADJ': 48, 'NOUN>VERB>DET': 49, 'NOUN>PART>VERB': 50, 'ADP>NUM>NOUN': 51, 'VERB>NOUN>PUNCT': 52, 'NOUN>VERB>ADV': 53, 'ADV>VERB>ADP': 54, 'ADP>NOUN>NOUN': 55, 'NOUN>CONJ>VERB': 56, 'NUM>NOUN>ADP': 57, 'ADJ>NOUN>CONJ': 58, 'NOUN>VERB>ADJ': 59, 'NOUN>PUNCT>DET': 60, 'NOUN>NOUN>NOUN': 61, 'CONJ>ADJ>NOUN': 62, 'NOUN>PART>NOUN': 63, 'PROPN>PROPN>VERB': 64, 'PROPN>VERB>DET': 65, 'DET>NOUN>PART': 66, 'PART>VERB>DET': 67, 'NOUN>PUNCT>ADJ': 68, 'PROPN>VERB>VERB': 69, 'PUNCT>NOUN>NOUN': 70, 'PROPN>PART>NOUN': 71, 'PUNCT>PROPN>VERB': 72, 'PROPN>NUM>PUNCT': 73, 'VERB>ADP>NUM': 74, 'PUNCT>NOUN>PUNCT': 75, 'NOUN>PUNCT>ADP': 76, 'ADP>PROPN>NUM': 77, 'PROPN>PUNCT>PROPN': 78, 'PROPN>ADP>PROPN': 79, 'VERB>VERB>PUNCT': 80, 'NOUN>PUNCT>PROPN': 81, 'PUNCT>PRON>VERB': 82, 'ADJ>ADP>DET': 83, 'VERB>NUM>NOUN': 84, 'ADP>ADJ>ADJ': 85, 'DET>ADJ>ADJ': 86, 'PUNCT>ADJ>NOUN': 87, 'PUNCT>CONJ>VERB': 88, 'CONJ>NOUN>PUNCT': 89, 'PROPN>VERB>ADP': 90, 'NOUN>VERB>NOUN': 91, 'DET>NOUN>CONJ': 92, 'ADP>NOUN>CONJ': 93, 'PRON>VERB>VERB': 94, 'PROPN>PROPN>ADP': 95, 'PUNCT>NOUN>VERB': 96, 'NOUN>ADV>VERB': 97, 'ADV>ADP>DET': 98, 'PART>NOUN>PUNCT': 99, 'ADV>VERB>DET': 100, 'VERB>ADV>ADP': 101, 'PUNCT>VERB>ADP': 102, 'NOUN>NOUN>CONJ': 103, 'ADP>NOUN>VERB': 104, 'VERB>ADJ>ADP': 105, 'CONJ>DET>NOUN': 106, 'PROPN>NOUN>PUNCT': 107, 'PROPN>CONJ>PROPN': 108, 'NOUN>PUNCT>ADV': 109, 'PART>ADJ>NOUN': 110, 'PROPN>ADP>DET': 111, 'VERB>NOUN>NOUN': 112, 'PUNCT>VERB>DET': 113, 'NOUN>CONJ>ADJ': 114, 'PUNCT>DET>ADJ': 115, 'PART>VERB>NOUN': 116, 'NOUN>ADP>VERB': 117, 'DET>NOUN>ADV': 118, 'PRON>VERB>DET': 119, 'PART>VERB>ADP': 120, 'VERB>ADV>ADJ': 121, 'PUNCT>VERB>NOUN': 122, 'CONJ>NOUN>NOUN': 123, 'VERB>VERB>VERB': 124, 'PRON>VERB>ADP': 125, 'CONJ>VERB>ADP': 126, 'NOUN>VERB>PUNCT': 127, 'ADP>PROPN>PART': 128, 'ADP>PROPN>ADP': 129, 'ADJ>NOUN>PART': 130, 'ADV>VERB>PUNCT': 131, 'ADV>ADJ>NOUN': 132, 'VERB>VERB>DET': 133, 'VERB>ADJ>PUNCT': 134, 'PROPN>VERB>ADJ': 135, 'CONJ>VERB>DET': 136, 'VERB>ADJ>ADJ': 137, 'ADP>PROPN>VERB': 138, 'PROPN>VERB>ADV': 139, 'ADJ>PUNCT>NOUN': 140, 'PUNCT>PROPN>PROPN': 141, 'PRON>VERB>ADV': 142, 'PART>VERB>ADJ': 143, 'ADJ>NOUN>ADV': 144, 'PUNCT>CONJ>DET': 145, 'PROPN>PUNCT>VERB': 146, 'ADP>DET>NUM': 147, 'VERB>ADV>PUNCT': 148, 'PUNCT>ADP>DET': 149, 'NUM>NOUN>VERB': 150, 'DET>NUM>NOUN': 151, 'NOUN>VERB>PART': 152, 'DET>ADJ>PUNCT': 153, 'PART>NOUN>ADP': 154, 'NOUN>PUNCT>PRON': 155, 'VERB>VERB>PART': 156, 'NUM>ADJ>NOUN': 157, 'DET>VERB>NOUN': 158, 'VERB>DET>PROPN': 159, 'NUM>ADP>DET': 160, 'ADP>NOUN>PART': 161, 'PUNCT>CONJ>NOUN': 162, 'NOUN>ADV>PUNCT': 163, 'CONJ>NOUN>VERB': 164, 'PART>NOUN>VERB': 165, 'ADV>VERB>NOUN': 166, 'NOUN>ADJ>NOUN': 167, 'NOUN>CONJ>DET': 168, 'DET>PROPN>NOUN': 169, 'ADP>NUM>PROPN': 170, 'PUNCT>PROPN>PUNCT': 171, 'ADP>PRON>VERB': 172, 'CONJ>NOUN>ADP': 173, 'PROPN>ADV>VERB': 174, 'ADJ>ADP>NOUN': 175, 'PROPN>PUNCT>DET': 176, 'ADV>VERB>ADJ': 177, 'ADP>NUM>ADP': 178, 'NOUN>NUM>PUNCT': 179, 'PUNCT>ADJ>VERB': 180, 'ADJ>ADP>ADJ': 181, 'NOUN>DET>NOUN': 182, 'PUNCT>NOUN>ADP': 183, 'VERB>VERB>ADV': 184, 'VERB>CONJ>VERB': 185, 'ADP>NOUN>NUM': 186, 'ADJ>CONJ>ADJ': 187, 'PROPN>NOUN>VERB': 188, 'VERB>VERB>ADJ': 189, 'VERB>PROPN>PROPN': 190, 'PRON>VERB>ADJ': 191, 'PROPN>ADP>NUM': 192, 'CONJ>VERB>NOUN': 193, 'ADV>DET>NOUN': 194, 'ADP>VERB>NOUN': 195, 'NUM>PUNCT>NUM': 196, 'CONJ>VERB>ADJ': 197, 'ADV>ADP>NOUN': 198, 'ADV>ADJ>ADP': 199, 'VERB>NOUN>CONJ': 200, 'NOUN>PART>ADJ': 201, 'NOUN>ADV>ADP': 202, 'PROPN>PROPN>CONJ': 203, 'DET>PROPN>PUNCT': 204, 'CONJ>VERB>VERB': 205, 'DET>NOUN>ADJ': 206, 'ADP>DET>VERB': 207, 'ADV>PUNCT>VERB': 208, 'NUM>NOUN>NOUN': 209, 'VERB>ADV>ADV': 210, 'PROPN>PART>ADJ': 211, 'PRON>ADV>VERB': 212, 'DET>PROPN>ADP': 213, 'VERB>VERB>NOUN': 214, 'PUNCT>VERB>ADJ': 215, 'PROPN>PUNCT>CONJ': 216, 'ADP>PROPN>CONJ': 217, 'ADV>ADJ>PUNCT': 218, 'NUM>PUNCT>NOUN': 219, 'PUNCT>VERB>VERB': 220, 'ADJ>NOUN>ADJ': 221, 'DET>ADJ>PROPN': 222, 'CONJ>ADV>VERB': 223, 'DET>ADP>DET': 224, 'ADV>PUNCT>DET': 225, 'PUNCT>NUM>PUNCT': 226, 'PROPN>PROPN>NOUN': 227, 'ADJ>PART>VERB': 228, 'NOUN>ADJ>VERB': 229, 'ADV>NUM>NOUN': 230, 'DET>PROPN>VERB': 231, 'PUNCT>CONJ>ADJ': 232, 'PUNCT>NOUN>CONJ': 233, 'PUNCT>ADP>NOUN': 234, 'CONJ>DET>ADJ': 235, 'CONJ>VERB>ADV': 236, 'PART>VERB>PUNCT': 237, 'NUM>PUNCT>DET': 238, 'ADP>ADJ>PUNCT': 239, 'VERB>NOUN>VERB': 240, 'PUNCT>ADV>VERB': 241, 'CONJ>PROPN>PROPN': 242, 'PUNCT>ADP>ADJ': 243, 'NUM>PUNCT>PROPN': 244, 'VERB>PRON>ADP': 245, 'PROPN>PUNCT>NOUN': 246, 'NOUN>VERB>PROPN': 247, 'PUNCT>DET>PROPN': 248, 'NOUN>PROPN>PROPN': 249, 'DET>ADV>ADJ': 250, 'NUM>NOUN>CONJ': 251, 'PROPN>VERB>NOUN': 252, 'ADP>VERB>DET': 253, 'NOUN>VERB>NUM': 254, 'ADP>NUM>CONJ': 255, 'PROPN>PUNCT>ADP': 256, 'DET>ADJ>ADP': 257, 'PROPN>NOUN>ADP': 258, 'ADJ>NUM>NOUN': 259, 'VERB>PUNCT>CONJ': 260, 'PROPN>VERB>PROPN': 261, 'CONJ>NUM>NOUN': 262, 'VERB>ADP>VERB': 263, 'PART>VERB>VERB': 264, 'PROPN>PROPN>PART': 265, 'VERB>NOUN>PART': 266, 'ADV>ADP>ADJ': 267, 'PROPN>VERB>PART': 268, 'CONJ>PROPN>VERB': 269, 'PART>NOUN>NOUN': 270, 'VERB>PROPN>ADP': 271, 'ADJ>VERB>VERB': 272, 'ADJ>PUNCT>ADJ': 273, 'ADV>VERB>PART': 274, 'ADP>ADP>DET': 275, 'VERB>PROPN>PART': 276, 'NOUN>PRON>VERB': 277, 'PUNCT>ADV>PUNCT': 278, 'NUM>PUNCT>VERB': 279, 'ADP>DET>PUNCT': 280, 'ADP>ADJ>NUM': 281, 'NOUN>NOUN>PART': 282, 'ADV>ADV>PUNCT': 283, 'PUNCT>CONJ>ADV': 284, 'PUNCT>CONJ>PROPN': 285, 'ADJ>PROPN>PROPN': 286, 'ADV>ADP>PROPN': 287, 'NUM>PUNCT>CONJ': 288, 'PROPN>VERB>NUM': 289, 'NOUN>NOUN>ADV': 290, 'NOUN>ADJ>ADP': 291, 'PUNCT>VERB>NUM': 292, 'PROPN>PART>VERB': 293, 'VERB>ADP>PRON': 294, 'NUM>ADP>NUM': 295, 'CONJ>PROPN>PUNCT': 296, 'ADJ>VERB>NOUN': 297, 'ADV>ADV>VERB': 298, 'ADV>VERB>ADV': 299, 'PUNCT>ADV>ADP': 300, 'VERB>NUM>ADP': 301, 'ADP>VERB>ADP': 302, 'ADV>ADV>ADP': 303, 'VERB>PROPN>PUNCT': 304, 'PUNCT>NUM>NOUN': 305, 'CONJ>PRON>VERB': 306, 'VERB>PART>ADP': 307, 'DET>ADP>NOUN': 308, 'ADV>VERB>VERB': 309, 'ADP>PROPN>NOUN': 310, 'ADP>PUNCT>NOUN': 311, 'PROPN>PUNCT>ADV': 312, 'PUNCT>VERB>ADV': 313, 'ADV>DET>ADJ': 314, 'NUM>PROPN>NUM': 315, 'ADJ>ADJ>ADJ': 316, 'PUNCT>ADP>NUM': 317, 'ADV>PRON>VERB': 318, 'NUM>NOUN>ADV': 319, 'NOUN>PUNCT>NUM': 320, 'ADJ>VERB>ADP': 321, 'NOUN>VERB>PRON': 322, 'ADP>ADJ>PROPN': 323, 'PROPN>PUNCT>ADJ': 324, 'NUM>CONJ>NUM': 325, 'NOUN>CONJ>NUM': 326, 'NOUN>DET>ADJ': 327, 'PUNCT>CONJ>ADP': 328, 'ADP>DET>ADP': 329, 'DET>NOUN>DET': 330, 'DET>ADJ>NUM': 331, 'PROPN>CONJ>VERB': 332, 'PRON>VERB>PART': 333, 'PROPN>ADP>ADJ': 334, 'PRON>VERB>NOUN': 335, 'PUNCT>ADP>PROPN': 336, 'NOUN>ADJ>PUNCT': 337, 'VERB>ADP>ADP': 338, 'NOUN>NOUN>ADJ': 339, 'VERB>PUNCT>VERB': 340, 'ADJ>PUNCT>CONJ': 341, 'NOUN>ADP>PRON': 342, 'ADV>PUNCT>ADP': 343, 'PRON>ADP>DET': 344, 'DET>ADJ>VERB': 345, 'ADJ>NOUN>DET': 346, 'ADJ>NOUN>PROPN': 347, 'ADJ>NUM>PUNCT': 348, 'NOUN>ADP>ADV': 349, 'VERB>PRON>PUNCT': 350, 'PUNCT>CONJ>PRON': 351, 'ADJ>ADP>NUM': 352, 'VERB>ADV>DET': 353, 'NUM>PUNCT>PRON': 354, 'PUNCT>ADJ>ADP': 355, 'VERB>NUM>PUNCT': 356, 'PART>VERB>ADV': 357, 'VERB>VERB>CONJ': 358, 'ADJ>ADJ>PUNCT': 359, 'ADV>PUNCT>NOUN': 360, 'NOUN>NUM>NOUN': 361, 'NOUN>CONJ>ADV': 362, 'PROPN>NOUN>NOUN': 363, 'CONJ>ADJ>ADJ': 364, 'ADJ>PROPN>PUNCT': 365, 'DET>VERB>VERB': 366, 'ADJ>VERB>DET': 367, 'NUM>PUNCT>ADP': 368, 'ADJ>ADP>PROPN': 369, 'VERB>ADJ>PART': 370, 'ADP>NUM>ADJ': 371, 'CONJ>VERB>PART': 372, 'ADJ>PUNCT>VERB': 373, 'PRON>VERB>NUM': 374, 'NUM>CONJ>VERB': 375, 'DET>VERB>DET': 376, 'NUM>ADP>NOUN': 377, 'NOUN>ADP>ADP': 378, 'ADP>PRON>PUNCT': 379, 'ADP>ADJ>ADP': 380, 'NUM>PROPN>PUNCT': 381, 'DET>ADJ>CONJ': 382, 'PROPN>ADP>NOUN': 383, 'CONJ>VERB>NUM': 384, 'PROPN>PART>PROPN': 385, 'VERB>DET>ADV': 386, 'VERB>DET>VERB': 387, 'DET>ADV>VERB': 388, 'ADP>DET>ADV': 389, 'ADV>PUNCT>PRON': 390, 'ADP>VERB>ADJ': 391, 'ADV>PUNCT>PROPN': 392, 'ADP>ADP>NOUN': 393, 'PROPN>VERB>PUNCT': 394, 'PRON>VERB>PUNCT': 395, 'PUNCT>ADJ>ADJ': 396, 'ADV>PART>VERB': 397, 'PUNCT>PROPN>CONJ': 398, 'ADV>PUNCT>ADJ': 399, 'ADV>ADP>NUM': 400, 'PART>VERB>PROPN': 401, 'ADP>NOUN>ADJ': 402, 'DET>VERB>ADJ': 403, 'PUNCT>VERB>PROPN': 404, 'PART>VERB>PRON': 405, 'CONJ>VERB>PUNCT': 406, 'ADJ>PROPN>NOUN': 407, 'ADP>NOUN>ADV': 408, 'PROPN>CONJ>DET': 409, 'VERB>ADV>NUM': 410, 'DET>ADP>ADJ': 411, 'NOUN>ADV>ADV': 412, 'DET>NUM>PUNCT': 413, 'NUM>ADP>ADJ': 414, 'ADJ>VERB>ADJ': 415, 'VERB>ADJ>CONJ': 416, 'PUNCT>ADJ>PUNCT': 417, 'DET>VERB>ADP': 418, 'ADV>PUNCT>CONJ': 419, 'ADP>PUNCT>DET': 420, 'ADV>VERB>PROPN': 421, 'CONJ>ADP>DET': 422, 'CONJ>DET>PROPN': 423, 'PRON>PART>VERB': 424, 'VERB>ADP>ADV': 425, 'VERB>PRON>VERB': 426, 'VERB>NUM>ADJ': 427, 'VERB>DET>NUM': 428, 'ADJ>VERB>ADV': 429, 'ADJ>DET>NOUN': 430, 'ADP>ADV>NUM': 431, 'PUNCT>VERB>PUNCT': 432, 'CONJ>NUM>PUNCT': 433, 'ADV>VERB>NUM': 434, 'PROPN>CONJ>ADJ': 435, 'ADP>ADP>ADJ': 436, 'PUNCT>PROPN>PART': 437, 'NOUN>PROPN>VERB': 438, 'VERB>PART>DET': 439, 'ADP>NUM>VERB': 440, 'NOUN>CONJ>ADP': 441, 'CONJ>VERB>PRON': 442, 'PUNCT>NOUN>PART': 443, 'VERB>PUNCT>ADP': 444, 'NUM>ADP>PROPN': 445, 'PART>NOUN>CONJ': 446, 'DET>NOUN>PROPN': 447, 'DET>NOUN>PRON': 448, 'NOUN>ADV>ADJ': 449, 'PUNCT>VERB>PART': 450, 'VERB>PRON>PART': 451, 'PROPN>ADJ>NOUN': 452, 'CONJ>ADJ>PUNCT': 453, 'NOUN>VERB>CONJ': 454, 'DET>PROPN>PART': 455, 'NUM>NOUN>NUM': 456, 'DET>VERB>ADV': 457, 'ADV>PUNCT>ADV': 458, 'ADJ>ADP>VERB': 459, 'ADP>ADP>NUM': 460, 'PUNCT>VERB>PRON': 461, 'ADP>ADV>VERB': 462, 'DET>PUNCT>NOUN': 463, 'SYM>NUM>NUM': 464, 'PRON>ADP>NOUN': 465, 'VERB>NOUN>ADV': 466, 'PRON>VERB>PROPN': 467, 'PART>VERB>PART': 468, 'ADP>ADJ>VERB': 469, 'ADJ>PUNCT>ADP': 470, 'ADV>ADV>ADJ': 471, 'NUM>PUNCT>ADV': 472, 'PART>ADP>DET': 473, 'DET>PROPN>CONJ': 474, 'ADJ>PROPN>VERB': 475, 'NOUN>NOUN>DET': 476, 'PUNCT>CONJ>NUM': 477, 'ADP>ADJ>CONJ': 478, 'VERB>VERB>PROPN': 479, 'ADJ>CONJ>VERB': 480, 'ADP>VERB>PUNCT': 481, 'NUM>PUNCT>ADJ': 482, 'PROPN>PROPN>ADV': 483, 'VERB>PART>PUNCT': 484, 'DET>NOUN>NUM': 485, 'PUNCT>NOUN>ADV': 486, 'ADV>NOUN>ADP': 487, 'PROPN>VERB>PRON': 488, 'PRON>DET>NOUN': 489, 'ADJ>ADV>VERB': 490, 'PUNCT>ADV>ADV': 491, 'NUM>NOUN>ADJ': 492, 'PROPN>NUM>ADP': 493, 'ADV>NOUN>PUNCT': 494, 'NUM>PROPN>PROPN': 495, 'ADV>VERB>CONJ': 496, 'ADV>VERB>PRON': 497, 'PROPN>PUNCT>PRON': 498, 'ADJ>PRON>VERB': 499, 'PUNCT>DET>VERB': 500, 'PUNCT>PROPN>NOUN': 501, 'VERB>PART>NOUN': 502, 'ADV>CONJ>VERB': 503, 'PUNCT>ADV>ADJ': 504, 'VERB>VERB>NUM': 505, 'VERB>PUNCT>DET': 506, 'PART>ADJ>ADJ': 507, 'VERB>DET>ADP': 508, 'ADP>VERB>VERB': 509, 'DET>NUM>ADJ': 510, 'PROPN>DET>NOUN': 511, 'PUNCT>ADP>VERB': 512, 'PUNCT>ADV>DET': 513, 'NOUN>ADV>DET': 514, 'ADP>ADV>ADJ': 515, 'ADV>ADP>VERB': 516, 'NOUN>PROPN>PUNCT': 517, 'DET>ADV>PUNCT': 518, 'VERB>PUNCT>ADV': 519, 'PUNCT>NUM>ADP': 520, 'NOUN>NOUN>PROPN': 521, 'ADP>SYM>NUM': 522, 'PROPN>NOUN>CONJ': 523, 'VERB>PUNCT>NOUN': 524, 'PART>DET>NOUN': 525, 'ADJ>PUNCT>DET': 526, 'NUM>NOUN>PART': 527, 'PUNCT>PART>VERB': 528, 'VERB>ADV>CONJ': 529, 'PUNCT>ADV>PRON': 530, 'CONJ>PROPN>NOUN': 531, 'ADV>ADJ>ADJ': 532, 'VERB>ADP>PUNCT': 533, 'ADP>ADV>PUNCT': 534, 'NOUN>NUM>ADP': 535, 'PRON>DET>ADJ': 536, 'ADV>PROPN>VERB': 537, 'VERB>NOUN>ADJ': 538, 'PART>PROPN>PROPN': 539, 'ADJ>NOUN>PRON': 540, 'ADJ>PROPN>ADP': 541, 'DET>NUM>PROPN': 542, 'PUNCT>NOUN>ADJ': 543, 'ADV>ADJ>CONJ': 544, 'PART>NUM>NOUN': 545, 'DET>ADJ>ADV': 546, 'NUM>NUM>NOUN': 547, 'ADJ>PUNCT>ADV': 548, 'PART>VERB>CONJ': 549, 'PUNCT>ADP>ADP': 550, 'ADJ>ADJ>ADP': 551, 'DET>DET>NOUN': 552, 'DET>PUNCT>DET': 553, 'CONJ>ADV>ADJ': 554, 'PUNCT>ADP>PRON': 555, 'NOUN>CONJ>PROPN': 556, 'PUNCT>DET>ADP': 557, 'PRON>ADP>ADJ': 558, 'NUM>PROPN>VERB': 559, 'VERB>PRON>DET': 560, 'PUNCT>PRON>ADV': 561, 'PROPN>NOUN>PART': 562, 'PUNCT>ADP>PUNCT': 563, 'NUM>PRON>VERB': 564, 'PUNCT>ADV>NOUN': 565, 'CONJ>ADP>ADJ': 566, 'CONJ>NOUN>ADV': 567, 'ADP>NOUN>DET': 568, 'CONJ>ADP>NOUN': 569, 'VERB>PROPN>CONJ': 570, 'NUM>VERB>VERB': 571, 'VERB>PART>ADJ': 572, 'VERB>ADV>NOUN': 573, 'ADP>ADP>PROPN': 574, 'CONJ>NOUN>PART': 575, 'PART>NOUN>PART': 576, 'PROPN>NUM>NOUN': 577, 'ADJ>CONJ>NOUN': 578, 'VERB>PROPN>NOUN': 579, 'ADP>PUNCT>PRON': 580, 'ADP>VERB>ADV': 581, 'ADP>PROPN>ADV': 582, 'ADJ>ADV>PUNCT': 583, 'CONJ>ADJ>ADP': 584, 'PROPN>DET>ADJ': 585, 'ADP>NOUN>PROPN': 586, 'VERB>PUNCT>PROPN': 587, 'ADP>ADJ>DET': 588, 'ADJ>ADJ>CONJ': 589, 'PART>VERB>NUM': 590, 'NUM>VERB>ADP': 591, 'ADP>VERB>PART': 592, 'NUM>NUM>PUNCT': 593, 'VERB>PRON>ADV': 594, 'CONJ>DET>VERB': 595, 'VERB>VERB>PRON': 596, 'CONJ>ADP>NUM': 597, 'ADV>ADJ>PART': 598, 'ADP>PUNCT>VERB': 599, 'PROPN>ADP>VERB': 600, 'PUNCT>PROPN>ADV': 601, 'ADV>NOUN>VERB': 602, 'NUM>VERB>NOUN': 603, 'PUNCT>ADP>ADV': 604, 'VERB>ADV>PART': 605, 'ADJ>PUNCT>PROPN': 606, 'PART>NOUN>ADV': 607, 'CONJ>PROPN>ADP': 608, 'CONJ>VERB>PROPN': 609, 'PROPN>CONJ>NOUN': 610, 'NUM>NOUN>DET': 611, 'VERB>PRON>ADJ': 612, 'PUNCT>ADV>NUM': 613, 'DET>ADP>NUM': 614, 'CONJ>NUM>ADJ': 615, 'ADJ>ADP>PRON': 616, 'NOUN>ADP>PUNCT': 617, 'NUM>PART>VERB': 618, 'NOUN>PUNCT>PART': 619, 'ADJ>CONJ>ADV': 620, 'CONJ>ADV>ADP': 621, 'CONJ>NOUN>CONJ': 622, 'NUM>DET>NOUN': 623, 'PROPN>ADV>ADP': 624, 'PART>ADP>NOUN': 625, 'ADP>ADV>DET': 626, 'ADP>NUM>PRON': 627, 'NOUN>ADJ>ADJ': 628, 'DET>VERB>NUM': 629, 'VERB>ADJ>PROPN': 630, 'ADJ>NOUN>NUM': 631, 'PRON>VERB>PRON': 632, 'VERB>PUNCT>ADJ': 633, 'ADP>PRON>ADP': 634, 'PUNCT>PROPN>ADP': 635, 'NOUN>PROPN>NOUN': 636, 'VERB>ADJ>ADV': 637, 'PROPN>NUM>CONJ': 638, 'ADP>VERB>PROPN': 639, 'VERB>NUM>CONJ': 640, 'PROPN>NOUN>PROPN': 641, 'PUNCT>DET>ADV': 642, 'VERB>CONJ>NOUN': 643, 'DET>NUM>VERB': 644, 'ADP>NUM>DET': 645, 'PROPN>PUNCT>NUM': 646, 'ADP>PART>VERB': 647, 'ADP>VERB>NUM': 648, 'PUNCT>ADJ>ADV': 649, 'DET>VERB>PROPN': 650, 'VERB>SYM>NUM': 651, 'VERB>ADJ>VERB': 652, 'NOUN>ADV>NOUN': 653, 'ADJ>PUNCT>PRON': 654, 'PUNCT>NOUN>PROPN': 655, 'ADJ>ADV>ADP': 656, 'NUM>ADJ>PUNCT': 657, 'CONJ>NUM>ADP': 658, 'PUNCT>VERB>CONJ': 659, 'ADP>NOUN>PRON': 660, 'ADJ>ADJ>PROPN': 661, 'PUNCT>ADJ>CONJ': 662, 'PART>ADV>VERB': 663, 'ADV>NUM>PUNCT': 664, 'PROPN>NOUN>ADV': 665, 'PART>PROPN>PUNCT': 666, 'PUNCT>DET>NUM': 667, 'DET>VERB>PUNCT': 668, 'ADV>CONJ>ADV': 669, 'CONJ>ADV>PUNCT': 670, 'ADV>NUM>ADJ': 671, 'ADP>PUNCT>ADJ': 672, 'CONJ>NOUN>ADJ': 673, 'VERB>CONJ>DET': 674, 'CONJ>ADP>PROPN': 675, 'ADV>ADP>ADP': 676, 'ADJ>ADV>ADJ': 677, 'NOUN>ADV>CONJ': 678, 'VERB>PUNCT>PRON': 679, 'PROPN>ADV>PUNCT': 680, 'PRON>ADV>ADP': 681, 'ADJ>DET>ADJ': 682, 'PUNCT>ADJ>PROPN': 683, 'PRON>ADJ>NOUN': 684, 'NUM>ADJ>ADJ': 685, 'ADV>PROPN>PROPN': 686, 'ADV>ADP>PRON': 687, 'NUM>NUM>ADP': 688, 'CONJ>ADV>ADV': 689, 'VERB>CONJ>ADJ': 690, 'VERB>DET>PUNCT': 691, 'NOUN>PART>NUM': 692, 'NUM>VERB>DET': 693, 'CONJ>PROPN>PART': 694, 'ADV>NOUN>NOUN': 695, 'VERB>CONJ>ADV': 696, 'NOUN>NOUN>NUM': 697, 'NOUN>PART>ADV': 698, 'ADP>ADJ>PRON': 699, 'DET>PUNCT>ADJ': 700, 'DET>PROPN>ADV': 701, 'PROPN>PRON>VERB': 702, 'ADP>NUM>PART': 703, 'ADP>NUM>ADV': 704, 'VERB>PROPN>VERB': 705, 'DET>PROPN>NUM': 706, 'CONJ>NUM>VERB': 707, 'NOUN>ADV>PRON': 708, 'NUM>PROPN>NOUN': 709, 'ADP>ADV>ADP': 710, 'SYM>NUM>PUNCT': 711, 'PUNCT>PRON>ADP': 712, 'ADJ>ADJ>VERB': 713, 'PROPN>ADV>ADV': 714, 'ADP>NUM>NUM': 715, 'CONJ>DET>NUM': 716, 'ADJ>NUM>ADP': 717, 'PART>ADP>ADJ': 718, 'PUNCT>CONJ>PUNCT': 719, 'ADJ>VERB>PART': 720, 'PUNCT>ADV>PROPN': 721, 'PROPN>PART>NUM': 722, 'ADP>PUNCT>NUM': 723, 'PUNCT>PRON>DET': 724, 'PROPN>PROPN>ADJ': 725, 'ADV>ADV>ADV': 726, 'NUM>VERB>PUNCT': 727, 'VERB>PART>ADV': 728, 'ADP>ADJ>ADV': 729, 'NOUN>DET>VERB': 730, 'DET>DET>ADJ': 731, 'NUM>VERB>ADJ': 732, 'NOUN>ADJ>CONJ': 733, 'DET>ADJ>PART': 734, 'PRON>ADP>NUM': 735, 'DET>ADP>PROPN': 736, 'PRON>ADV>PUNCT': 737, 'VERB>ADP>SYM': 738, 'ADJ>VERB>NUM': 739, 'ADV>NUM>ADP': 740, 'DET>PUNCT>PRON': 741, 'NUM>CONJ>DET': 742, 'NOUN>NUM>CONJ': 743, 'NOUN>ADP>CONJ': 744, 'ADV>DET>PROPN': 745, 'PUNCT>NUM>ADJ': 746, 'SYM>NUM>ADP': 747, 'PROPN>VERB>CONJ': 748, 'ADP>PROPN>ADJ': 749, 'PART>ADP>NUM': 750, 'NOUN>CONJ>PUNCT': 751, 'VERB>NUM>VERB': 752, 'ADV>ADV>DET': 753, 'ADJ>ADP>ADP': 754, 'PROPN>CONJ>ADV': 755, 'CONJ>ADJ>PROPN': 756, 'ADP>VERB>PRON': 757, 'ADJ>CONJ>DET': 758, 'PRON>ADP>VERB': 759, 'PART>ADP>PROPN': 760, 'CONJ>ADV>DET': 761, 'NUM>CONJ>ADV': 762, 'PART>NOUN>PROPN': 763, 'DET>PART>VERB': 764, 'PUNCT>ADJ>PRON': 765, 'ADV>ADP>PUNCT': 766, 'PUNCT>NOUN>DET': 767, 'ADJ>VERB>PROPN': 768, 'DET>PUNCT>VERB': 769, 'VERB>PROPN>NUM': 770, 'PART>ADV>ADJ': 771, 'ADP>VERB>CONJ': 772, 'NOUN>ADV>PART': 773, 'PROPN>NUM>PROPN': 774, 'NOUN>NOUN>PRON': 775, 'CONJ>PROPN>ADV': 776, 'PART>PROPN>ADP': 777, 'ADP>PRON>ADV': 778, 'DET>PROPN>ADJ': 779, 'ADJ>PROPN>CONJ': 780, 'CONJ>ADJ>VERB': 781, 'PRON>ADP>PROPN': 782, 'DET>ADV>ADP': 783, 'ADP>CONJ>ADP': 784, 'DET>VERB>PART': 785, 'NOUN>CONJ>PRON': 786, 'VERB>ADV>PROPN': 787, 'VERB>ADP>PART': 788, 'NOUN>ADP>SYM': 789, 'ADP>ADV>ADV': 790, 'ADP>PUNCT>ADP': 791, 'NOUN>ADJ>ADV': 792, 'DET>PUNCT>ADP': 793, 'DET>ADV>ADV': 794, 'PROPN>ADV>DET': 795, 'PRON>PUNCT>VERB': 796, 'PROPN>NUM>VERB': 797, 'NOUN>PROPN>ADP': 798, 'NOUN>DET>PROPN': 799, 'CONJ>PUNCT>ADP': 800, 'ADJ>NUM>ADJ': 801, 'ADJ>VERB>PUNCT': 802, 'VERB>PROPN>ADV': 803, 'PART>DET>ADJ': 804, 'PUNCT>NUM>VERB': 805, 'PROPN>PROPN>NUM': 806, 'PUNCT>NOUN>NUM': 807, 'VERB>PRON>NOUN': 808, 'PRON>CONJ>VERB': 809, 'NOUN>PROPN>CONJ': 810, 'PROPN>ADJ>VERB': 811, 'VERB>NOUN>PROPN': 812, 'VERB>ADJ>NUM': 813, 'ADP>DET>DET': 814, 'DET>ADJ>DET': 815, 'ADJ>ADJ>NUM': 816, 'NOUN>PRON>PUNCT': 817, 'PRON>NUM>NOUN': 818, 'CONJ>PART>VERB': 819, 'ADJ>VERB>PRON': 820, 'PRON>ADV>ADV': 821, 'ADV>ADJ>VERB': 822, 'PRON>PUNCT>CONJ': 823, 'VERB>ADJ>DET': 824, 'VERB>NOUN>DET': 825, 'PART>PART>VERB': 826, 'PUNCT>NUM>PROPN': 827, 'CONJ>PROPN>CONJ': 828, 'PART>NOUN>DET': 829, 'PROPN>ADP>PRON': 830, 'NUM>PROPN>ADP': 831, 'PROPN>CONJ>NUM': 832, 'NOUN>ADV>NUM': 833, 'VERB>PART>PART': 834, 'NOUN>PART>ADP': 835, 'ADV>ADV>CONJ': 836, 'VERB>PART>NUM': 837, 'PUNCT>NUM>CONJ': 838, 'VERB>CONJ>NUM': 839, 'NUM>ADP>VERB': 840, 'X>PUNCT>NOUN': 841, 'NOUN>PART>PROPN': 842, 'ADJ>ADP>PUNCT': 843, 'ADP>PROPN>DET': 844, 'PROPN>CONJ>ADP': 845, 'NUM>CONJ>ADJ': 846, 'ADV>NOUN>CONJ': 847, 'PRON>CONJ>ADJ': 848, 'PRON>ADV>ADJ': 849, 'NUM>ADV>PUNCT': 850, 'NUM>VERB>ADV': 851, 'DET>CONJ>NOUN': 852, 'VERB>PROPN>DET': 853, 'PRON>ADJ>ADP': 854, 'DET>PUNCT>ADV': 855, 'NUM>ADP>PRON': 856, 'PRON>NOUN>ADP': 857, 'ADP>ADP>PUNCT': 858, 'ADP>ADV>NOUN': 859, 'NUM>ADJ>NUM': 860, 'VERB>PART>CONJ': 861, 'PROPN>NUM>DET': 862, 'ADV>DET>VERB': 863, 'ADV>ADV>NUM': 864, 'ADJ>ADP>ADV': 865, 'NOUN>ADJ>PROPN': 866, 'PART>NOUN>ADJ': 867, 'X>PUNCT>ADJ': 868, 'NOUN>ADV>PROPN': 869, 'NUM>VERB>NUM': 870, 'DET>PUNCT>NUM': 871, 'ADV>DET>ADP': 872, 'CONJ>ADV>NOUN': 873, 'PART>NUM>PUNCT': 874, 'PROPN>ADP>ADP': 875, 'NUM>PART>NUM': 876, 'ADV>PUNCT>NUM': 877, 'DET>ADV>NOUN': 878, 'NUM>ADV>ADV': 879, 'NOUN>NUM>VERB': 880, 'ADJ>NUM>VERB': 881, 'VERB>NOUN>NUM': 882, 'PART>ADJ>PUNCT': 883, 'PROPN>PROPN>DET': 884, 'NOUN>PART>PUNCT': 885, 'DET>NUM>ADP': 886, 'PART>CONJ>VERB': 887, 'ADP>PRON>CONJ': 888, 'CONJ>PRON>ADV': 889, 'VERB>ADP>CONJ': 890, 'CONJ>VERB>CONJ': 891, 'ADV>ADP>ADV': 892, 'NOUN>ADJ>PART': 893, 'ADJ>NUM>CONJ': 894, 'ADP>PROPN>PRON': 895, 'PUNCT>PRON>NUM': 896, 'ADV>SYM>NUM': 897, 'PROPN>NOUN>ADJ': 898, 'PROPN>PUNCT>PART': 899, 'ADP>PUNCT>ADV': 900, 'PRON>VERB>CONJ': 901, 'ADV>NUM>VERB': 902, 'NUM>ADV>VERB': 903, 'PROPN>PART>ADV': 904, 'CONJ>NOUN>PROPN': 905, 'ADV>ADV>NOUN': 906, 'PROPN>ADJ>ADP': 907, 'ADP>PUNCT>PROPN': 908, 'CONJ>DET>ADV': 909, 'VERB>PRON>CONJ': 910, 'ADV>ADJ>DET': 911, 'CONJ>NUM>PROPN': 912, 'ADJ>ADV>ADV': 913, 'NOUN>PRON>ADV': 914, 'NUM>PROPN>CONJ': 915, 'ADV>PROPN>PUNCT': 916, 'VERB>NUM>PROPN': 917, 'PUNCT>NOUN>PRON': 918, 'ADV>ADJ>PROPN': 919, 'ADJ>PUNCT>NUM': 920, 'PRON>ADV>DET': 921, 'PART>PROPN>NOUN': 922, 'DET>PUNCT>PROPN': 923, 'PUNCT>ADJ>NUM': 924, 'ADP>ADP>VERB': 925, 'DET>ADV>DET': 926, 'NOUN>VERB>SYM': 927, 'PROPN>ADJ>PUNCT': 928, 'PUNCT>ADJ>DET': 929, 'VERB>NOUN>PRON': 930, 'PROPN>ADP>ADV': 931, 'PROPN>NUM>PRON': 932, 'VERB>PUNCT>NUM': 933, 'NUM>DET>ADJ': 934, 'DET>VERB>PRON': 935, 'CONJ>ADJ>CONJ': 936, 'NOUN>ADJ>DET': 937, 'CONJ>ADV>NUM': 938, 'ADV>ADJ>ADV': 939, 'VERB>PART>PROPN': 940, 'VERB>ADV>PRON': 941, 'NOUN>NUM>ADJ': 942, 'PUNCT>DET>PUNCT': 943, 'NUM>ADJ>VERB': 944, 'VERB>NUM>NUM': 945, 'NOUN>ADJ>PRON': 946, 'PROPN>DET>PROPN': 947, 'PART>PUNCT>VERB': 948, 'ADJ>PROPN>PART': 949, 'PROPN>ADV>ADJ': 950, 'NOUN>DET>NUM': 951, 'VERB>NUM>ADV': 952, 'ADV>DET>NUM': 953, 'ADV>DET>ADV': 954, 'ADP>ADJ>PART': 955, 'NOUN>CONJ>PART': 956, 'PART>PUNCT>CONJ': 957, 'ADJ>PROPN>NUM': 958, 'NUM>CONJ>NOUN': 959, 'VERB>PROPN>ADJ': 960, 'PRON>CONJ>PROPN': 961, 'NUM>VERB>CONJ': 962, 'PROPN>PART>PUNCT': 963, 'PROPN>ADV>PRON': 964, 'PRON>PUNCT>ADP': 965, 'ADV>PUNCT>PART': 966, 'NUM>CONJ>PROPN': 967, 'CONJ>PROPN>NUM': 968, 'PROPN>DET>VERB': 969, 'PROPN>ADJ>ADJ': 970, 'ADJ>CONJ>ADP': 971, 'DET>ADV>NUM': 972, 'NOUN>PROPN>PART': 973, 'PUNCT>PRON>ADJ': 974, 'NOUN>DET>ADV': 975, 'CONJ>NOUN>NUM': 976, 'NUM>ADP>ADP': 977, 'DET>PUNCT>CONJ': 978, 'ADP>CONJ>VERB': 979, 'VERB>PUNCT>PART': 980, 'PRON>ADJ>PUNCT': 981, 'NOUN>PUNCT>X': 982, 'VERB>CONJ>PRON': 983, 'VERB>CONJ>ADP': 984, 'PRON>ADJ>ADJ': 985, 'X>NOUN>PUNCT': 986, 'ADP>CONJ>NUM': 987, 'ADJ>CONJ>PROPN': 988, 'ADP>ADP>PRON': 989, 'PUNCT>ADJ>PART': 990, 'NUM>ADP>ADV': 991, 'CONJ>ADP>PUNCT': 992, 'ADP>CONJ>DET': 993, 'ADV>ADJ>NUM': 994, 'X>X>PUNCT': 995, 'NOUN>ADP>X': 996, 'PRON>NOUN>PUNCT': 997, 'SYM>NUM>NOUN': 998, 'CONJ>NOUN>DET': 999, 'CONJ>NUM>ADV': 1000, 'CONJ>ADJ>ADV': 1001, 'ADP>PRON>PART': 1002, 'ADJ>ADV>PART': 1003, 'PART>ADV>PUNCT': 1004, 'PART>ADJ>PROPN': 1005, 'DET>ADP>VERB': 1006, 'PART>ADJ>CONJ': 1007, 'DET>SYM>NUM': 1008, 'PUNCT>PRON>CONJ': 1009, 'PUNCT>ADV>PART': 1010, 'ADP>DET>CONJ': 1011, 'DET>X>PUNCT': 1012, 'DET>CONJ>VERB': 1013, 'NUM>NOUN>PROPN': 1014, 'NOUN>PRON>ADP': 1015, 'PART>NUM>ADJ': 1016, 'PRON>PART>PUNCT': 1017, 'PRON>ADJ>PART': 1018, 'ADV>CONJ>DET': 1019, 'ADV>PROPN>PART': 1020, 'PART>PROPN>VERB': 1021, 'DET>CONJ>ADJ': 1022, 'NOUN>PUNCT>PUNCT': 1023, 'ADV>CONJ>ADP': 1024, 'PRON>ADP>ADP': 1025, 'ADP>CONJ>NOUN': 1026, 'CONJ>DET>ADP': 1027, 'VERB>CONJ>PROPN': 1028, 'PUNCT>PART>NOUN': 1029, 'CONJ>PUNCT>ADV': 1030, 'NUM>NOUN>PRON': 1031, 'PROPN>PRON>PUNCT': 1032, 'CONJ>ADJ>PART': 1033, 'ADJ>PART>NOUN': 1034, 'PUNCT>PROPN>NUM': 1035, 'PRON>PUNCT>ADV': 1036, 'ADP>ADP>ADV': 1037, 'ADP>PUNCT>CONJ': 1038, 'ADV>NUM>NUM': 1039, 'NUM>ADJ>CONJ': 1040, 'NOUN>DET>PUNCT': 1041, 'NOUN>PRON>DET': 1042, 'PART>ADJ>VERB': 1043, 'NUM>SYM>NUM': 1044, 'ADV>CONJ>ADJ': 1045, 'NUM>PROPN>DET': 1046, 'PUNCT>PRON>PART': 1047, 'ADP>X>PUNCT': 1048, 'ADV>NOUN>PART': 1049, 'PUNCT>PRON>NOUN': 1050, 'CONJ>ADP>VERB': 1051, 'CONJ>ADJ>NUM': 1052, 'DET>VERB>CONJ': 1053, 'ADV>ADV>PRON': 1054, 'ADJ>NUM>PROPN': 1055, 'ADJ>CONJ>NUM': 1056, 'CONJ>ADV>PROPN': 1057, 'PROPN>NOUN>DET': 1058, 'ADJ>ADJ>PART': 1059, 'DET>NUM>ADV': 1060, 'PRON>NUM>ADP': 1061, 'PART>ADV>ADP': 1062, 'CONJ>ADP>PRON': 1063, 'NUM>VERB>PART': 1064, 'ADV>NUM>CONJ': 1065, 'NUM>DET>PROPN': 1066, 'ADJ>PROPN>ADJ': 1067, 'DET>ADP>PRON': 1068, 'NUM>ADJ>ADP': 1069, 'NOUN>DET>ADP': 1070, 'PRON>ADP>PRON': 1071, 'DET>ADP>ADP': 1072, 'NUM>ADV>ADJ': 1073, 'NOUN>PART>CONJ': 1074, 'DET>CONJ>DET': 1075, 'ADJ>X>PUNCT': 1076, 'ADJ>ADV>NOUN': 1077, 'ADJ>PROPN>ADV': 1078, 'PROPN>NUM>PART': 1079, 'NUM>ADV>ADP': 1080, 'PROPN>PROPN>PRON': 1081, 'CONJ>ADP>ADP': 1082, 'NOUN>NUM>DET': 1083, 'VERB>NUM>PART': 1084, 'ADJ>PART>ADJ': 1085, 'ADP>ADV>PROPN': 1086, 'PRON>NUM>VERB': 1087, 'NUM>CONJ>ADP': 1088, 'PART>DET>PROPN': 1089, 'ADJ>ADJ>ADV': 1090, 'DET>PRON>VERB': 1091, 'CONJ>PROPN>DET': 1092, 'CONJ>NUM>CONJ': 1093, 'PRON>CONJ>DET': 1094, 'ADV>NOUN>ADV': 1095, 'PRON>PUNCT>DET': 1096, 'ADV>ADV>PART': 1097, 'PROPN>NUM>ADJ': 1098, 'PRON>PUNCT>PRON': 1099, 'DET>NUM>CONJ': 1100, 'INTJ>PUNCT>NUM': 1101, 'VERB>PRON>NUM': 1102, 'PROPN>ADJ>PROPN': 1103, 'ADP>ADV>PRON': 1104, 'ADV>PRON>ADV': 1105, 'X>X>X': 1106, 'ADP>PRON>ADJ': 1107, 'ADJ>DET>PROPN': 1108, 'ADV>CONJ>NOUN': 1109, 'PRON>ADV>NUM': 1110, 'NUM>VERB>PROPN': 1111, 'PART>NOUN>PRON': 1112, 'ADJ>PRON>ADV': 1113, 'ADP>CONJ>ADJ': 1114, 'NOUN>PROPN>ADV': 1115, 'ADP>ADV>SYM': 1116, 'PRON>PUNCT>ADJ': 1117, 'ADJ>SYM>NUM': 1118, 'ADJ>DET>NUM': 1119, 'NUM>PROPN>PART': 1120, 'ADJ>VERB>CONJ': 1121, 'ADP>PRON>DET': 1122, 'ADP>CONJ>PROPN': 1123, 'CONJ>PUNCT>NOUN': 1124, 'CONJ>ADP>ADV': 1125, 'PROPN>PUNCT>PUNCT': 1126, 'NUM>ADJ>PROPN': 1127, 'ADP>DET>X': 1128, 'NUM>NUM>ADJ': 1129, 'ADJ>ADJ>DET': 1130, 'PRON>PUNCT>PROPN': 1131, 'VERB>ADV>SYM': 1132, 'PRON>PUNCT>NOUN': 1133, 'ADP>ADP>ADP': 1134, 'NOUN>NUM>PRON': 1135, 'ADV>ADV>PROPN': 1136, 'NOUN>SYM>NUM': 1137, 'ADP>DET>PART': 1138, 'PRON>ADP>ADV': 1139, 'PRON>DET>ADV': 1140, 'DET>DET>PUNCT': 1141, 'ADV>ADP>CONJ': 1142, 'CONJ>PRON>CONJ': 1143, 'ADJ>PART>ADV': 1144, 'ADP>ADV>PART': 1145, 'NOUN>ADP>PART': 1146, 'PUNCT>PROPN>ADJ': 1147, 'PART>ADJ>NUM': 1148, 'PRON>NOUN>CONJ': 1149, 'PART>PROPN>CONJ': 1150, 'PROPN>ADV>NUM': 1151, 'PUNCT>X>PUNCT': 1152, 'NOUN>X>NOUN': 1153, 'CONJ>ADV>PRON': 1154, 'NOUN>PART>DET': 1155, 'NOUN>NUM>PART': 1156, 'PART>NUM>ADP': 1157, 'CONJ>PUNCT>VERB': 1158, 'X>X>NOUN': 1159, 'PUNCT>INTJ>PUNCT': 1160, 'ADJ>DET>VERB': 1161, 'PART>NOUN>NUM': 1162, 'NUM>VERB>PRON': 1163, 'PART>PUNCT>DET': 1164, 'DET>NUM>NUM': 1165, 'NUM>PUNCT>PART': 1166, 'PROPN>PART>CONJ': 1167, 'ADV>NOUN>ADJ': 1168, 'PROPN>PART>ADP': 1169, 'CONJ>PROPN>ADJ': 1170, 'PART>PUNCT>PROPN': 1171, 'PART>ADJ>ADP': 1172, 'ADJ>DET>PUNCT': 1173, 'PUNCT>VERB>SYM': 1174, 'PUNCT>NUM>ADV': 1175, 'PUNCT>CONJ>PART': 1176, 'PROPN>ADJ>CONJ': 1177, 'DET>ADP>ADV': 1178, 'ADP>DET>PRON': 1179, 'SYM>NUM>CONJ': 1180, 'PUNCT>PART>PUNCT': 1181, 'ADV>NUM>PROPN': 1182, 'NOUN>ADJ>NUM': 1183, 'PRON>PRON>VERB': 1184, 'PROPN>NOUN>NUM': 1185, 'DET>DET>ADP': 1186, 'PROPN>ADV>NOUN': 1187, 'PROPN>ADV>PART': 1188, 'ADJ>CONJ>PRON': 1189, 'CONJ>ADJ>DET': 1190, 'PART>ADP>VERB': 1191, 'NOUN>PROPN>ADJ': 1192, 'PRON>DET>VERB': 1193, 'PROPN>CONJ>PUNCT': 1194, 'PROPN>CONJ>PRON': 1195, 'NUM>ADV>DET': 1196, 'NOUN>X>X': 1197, 'PRON>ADV>NOUN': 1198, 'CONJ>ADV>PART': 1199}\n"
     ]
    }
   ],
   "source": [
    "word2idx = {n: i for i, n in enumerate(vocab)}## create the word-to-index dictionary here\n",
    "print(word2idx)"
   ]
  },
  {
   "cell_type": "code",
   "execution_count": 12,
   "metadata": {
    "collapsed": true
   },
   "outputs": [],
   "source": [
    "def textToTrigrams(text): \n",
    "    return trigramsToDictKeys(getPOSTrigramsForTextString(text))\n",
    "\n",
    "def text_to_vector(text):\n",
    "    wordVector = np.zeros(len(vocab))\n",
    "    for word in textToTrigrams(text):\n",
    "        index = word2idx.get(word, None)\n",
    "        if index != None:\n",
    "            wordVector[index] += 1\n",
    "    return wordVector"
   ]
  },
  {
   "cell_type": "code",
   "execution_count": 13,
   "metadata": {
    "collapsed": false
   },
   "outputs": [
    {
     "data": {
      "text/plain": [
       "array([ 2.,  1.,  0.,  0.,  2.,  0.,  0.,  0.,  0.,  0.,  2.,  0.,  1.,\n",
       "        1.,  0.,  0.,  0.,  0.,  0.,  0.,  0.,  0.,  0.,  0.,  0.,  0.,\n",
       "        0.,  1.,  0.,  0.,  0.,  0.,  0.,  0.,  0.,  0.,  0.,  0.,  0.,\n",
       "        0.,  0.,  0.,  0.,  0.,  0.,  0.,  0.,  0.,  0.,  0.,  1.,  0.,\n",
       "        0.,  0.,  0.,  0.,  0.,  0.,  0.,  0.,  0.,  0.,  0.,  0.,  0.])"
      ]
     },
     "execution_count": 13,
     "metadata": {},
     "output_type": "execute_result"
    }
   ],
   "source": [
    "text_to_vector('The tea is for a party to celebrate '\n",
    "               'the movie so she has no time for a cake')[:65]"
   ]
  },
  {
   "cell_type": "code",
   "execution_count": 14,
   "metadata": {
    "collapsed": false
   },
   "outputs": [],
   "source": [
    "word_vectors = np.zeros((len(texts), len(vocab)), dtype=np.int_)\n",
    "for ii, text in enumerate(texts):\n",
    "    word_vectors[ii] = text_to_vector(text)"
   ]
  },
  {
   "cell_type": "code",
   "execution_count": 15,
   "metadata": {
    "collapsed": false
   },
   "outputs": [
    {
     "data": {
      "text/plain": [
       "array([[0, 0, 0, 2, 0, 2, 0, 0, 0, 0, 1, 0, 0, 0, 0, 0, 0, 0, 0, 0, 0, 2, 0],\n",
       "       [1, 1, 0, 0, 0, 1, 1, 1, 2, 0, 0, 0, 0, 0, 0, 0, 1, 0, 1, 0, 0, 0, 0],\n",
       "       [0, 0, 1, 0, 0, 0, 0, 0, 0, 0, 0, 0, 0, 0, 0, 0, 0, 0, 0, 1, 0, 0, 0],\n",
       "       [0, 0, 0, 1, 0, 0, 0, 1, 0, 1, 0, 0, 0, 1, 0, 0, 0, 1, 1, 0, 0, 0, 0],\n",
       "       [1, 0, 0, 0, 2, 1, 0, 1, 1, 0, 2, 0, 0, 0, 0, 0, 1, 0, 0, 0, 0, 2, 0]])"
      ]
     },
     "execution_count": 15,
     "metadata": {},
     "output_type": "execute_result"
    }
   ],
   "source": [
    "# Printing out the first 5 word vectors\n",
    "word_vectors[:5, :23]"
   ]
  },
  {
   "cell_type": "markdown",
   "metadata": {},
   "source": [
    "### Chunking the data for TF"
   ]
  },
  {
   "cell_type": "code",
   "execution_count": 16,
   "metadata": {
    "collapsed": false
   },
   "outputs": [
    {
     "name": "stdout",
     "output_type": "stream",
     "text": [
      "106133 106133\n"
     ]
    }
   ],
   "source": [
    "records = len(labels)\n",
    "test_fraction = 0.9\n",
    "\n",
    "train_split, test_split = int(records*test_fraction), int(records*test_fraction)\n",
    "print(train_split, test_split)\n",
    "trainX, trainY = word_vectors[:train_split], to_categorical(labels[:train_split], 2)\n",
    "testX, testY = word_vectors[test_split:], to_categorical(labels[test_split:], 2)"
   ]
  },
  {
   "cell_type": "code",
   "execution_count": 1,
   "metadata": {
    "collapsed": false
   },
   "outputs": [
    {
     "ename": "NameError",
     "evalue": "name 'trainX' is not defined",
     "output_type": "error",
     "traceback": [
      "\u001b[0;31m---------------------------------------------------------------------------\u001b[0m",
      "\u001b[0;31mNameError\u001b[0m                                 Traceback (most recent call last)",
      "\u001b[0;32m<ipython-input-1-98103fedf808>\u001b[0m in \u001b[0;36m<module>\u001b[0;34m()\u001b[0m\n\u001b[0;32m----> 1\u001b[0;31m \u001b[0mtrainX\u001b[0m\u001b[0;34m[\u001b[0m\u001b[0;34m-\u001b[0m\u001b[0;36m10\u001b[0m\u001b[0;34m]\u001b[0m\u001b[0;34m,\u001b[0m \u001b[0mtrainY\u001b[0m\u001b[0;34m[\u001b[0m\u001b[0;34m-\u001b[0m\u001b[0;36m10\u001b[0m\u001b[0;34m]\u001b[0m\u001b[0;34m\u001b[0m\u001b[0m\n\u001b[0m",
      "\u001b[0;31mNameError\u001b[0m: name 'trainX' is not defined"
     ]
    }
   ],
   "source": [
    "trainX[-1], trainY[-1]"
   ]
  },
  {
   "cell_type": "code",
   "execution_count": 18,
   "metadata": {
    "collapsed": false
   },
   "outputs": [
    {
     "data": {
      "text/plain": [
       "(106133, 11793, 117926)"
      ]
     },
     "execution_count": 18,
     "metadata": {},
     "output_type": "execute_result"
    }
   ],
   "source": [
    "len(trainY), len(testY), len(trainY) + len(testY)"
   ]
  },
  {
   "cell_type": "markdown",
   "metadata": {},
   "source": [
    "# Setting up TF"
   ]
  },
  {
   "cell_type": "code",
   "execution_count": 19,
   "metadata": {
    "collapsed": true
   },
   "outputs": [],
   "source": [
    "# Network building\n",
    "def build_model():\n",
    "    # This resets all parameters and variables, leave this here\n",
    "    tf.reset_default_graph()\n",
    "    \n",
    "    #### Your code ####\n",
    "    net = tflearn.input_data([None, len(vocab)])                          # Input\n",
    "    net = tflearn.fully_connected(net, 200, activation='ReLU')      # Hidden\n",
    "    net = tflearn.fully_connected(net, 25, activation='ReLU')      # Hidden\n",
    "    net = tflearn.fully_connected(net, 2, activation='softmax')   # Output\n",
    "    net = tflearn.regression(net, optimizer='sgd', learning_rate=0.1, loss='categorical_crossentropy')\n",
    "    model = tflearn.DNN(net)\n",
    "\n",
    "    return model"
   ]
  },
  {
   "cell_type": "code",
   "execution_count": 46,
   "metadata": {
    "collapsed": false
   },
   "outputs": [
    {
     "data": {
      "text/plain": [
       "1200"
      ]
     },
     "execution_count": 46,
     "metadata": {},
     "output_type": "execute_result"
    }
   ],
   "source": [
    "len(vocab)"
   ]
  },
  {
   "cell_type": "markdown",
   "metadata": {},
   "source": [
    "### Initialize"
   ]
  },
  {
   "cell_type": "code",
   "execution_count": 20,
   "metadata": {
    "collapsed": true
   },
   "outputs": [],
   "source": [
    "model = build_model()"
   ]
  },
  {
   "cell_type": "markdown",
   "metadata": {},
   "source": [
    "### Training"
   ]
  },
  {
   "cell_type": "code",
   "execution_count": 21,
   "metadata": {
    "collapsed": false
   },
   "outputs": [
    {
     "name": "stdout",
     "output_type": "stream",
     "text": [
      "Training Step: 37349  | total loss: \u001b[1m\u001b[32m0.06198\u001b[0m\u001b[0m | time: 4.419s\n",
      "| SGD | epoch: 050 | loss: 0.06198 - acc: 0.9736 -- iter: 95488/95519\n",
      "Training Step: 37350  | total loss: \u001b[1m\u001b[32m0.05847\u001b[0m\u001b[0m | time: 5.478s\n",
      "| SGD | epoch: 050 | loss: 0.05847 - acc: 0.9762 | val_loss: 0.62146 - val_acc: 0.8463 -- iter: 95519/95519\n",
      "--\n"
     ]
    }
   ],
   "source": [
    "# Training\n",
    "model.fit(trainX, trainY, validation_set=0.1, show_metric=True, batch_size=128, n_epoch=50)"
   ]
  },
  {
   "cell_type": "code",
   "execution_count": 22,
   "metadata": {
    "collapsed": false
   },
   "outputs": [
    {
     "name": "stdout",
     "output_type": "stream",
     "text": [
      "Test accuracy:  0.842618502501\n"
     ]
    }
   ],
   "source": [
    "# Testing\n",
    "predictions = (np.array(model.predict(testX))[:,0] >= 0.5).astype(np.int_)\n",
    "test_accuracy = np.mean(predictions == testY[:,0], axis=0)\n",
    "print(\"Test accuracy: \", test_accuracy)"
   ]
  },
  {
   "cell_type": "markdown",
   "metadata": {},
   "source": [
    "### Playground"
   ]
  },
  {
   "cell_type": "code",
   "execution_count": 42,
   "metadata": {
    "collapsed": true
   },
   "outputs": [],
   "source": [
    "def test_sentence(sentence):\n",
    "    positive_prob = model.predict([text_to_vector(sentence)])[0][1]\n",
    "    print('Sentence: {}'.format(sentence))\n",
    "    print('P(positive) = {:.3f} :'.format(positive_prob), \n",
    "          'Positive' if positive_prob > 0.5 else 'Negative')"
   ]
  },
  {
   "cell_type": "code",
   "execution_count": 43,
   "metadata": {
    "collapsed": false,
    "scrolled": true
   },
   "outputs": [
    {
     "name": "stdout",
     "output_type": "stream",
     "text": [
      "Sentence: Even though he had the better arguments and was by far the more powerful speaker.\n",
      "P(positive) = 0.386 : Negative\n"
     ]
    }
   ],
   "source": [
    "test_sentence(\"Even though he had the better arguments and was by far the more powerful speaker.\")"
   ]
  },
  {
   "cell_type": "code",
   "execution_count": 44,
   "metadata": {
    "collapsed": false
   },
   "outputs": [
    {
     "name": "stdout",
     "output_type": "stream",
     "text": [
      "Sentence: Even though he had the better arguments and was by far the more powerful speaker, Peter lost the debate.\n",
      "P(positive) = 1.000 : Positive\n"
     ]
    }
   ],
   "source": [
    "test_sentence(\"Even though he had the better arguments and was by far the more powerful speaker, Peter lost the debate.\")"
   ]
  },
  {
   "cell_type": "code",
   "execution_count": 26,
   "metadata": {
    "collapsed": false
   },
   "outputs": [
    {
     "name": "stdout",
     "output_type": "stream",
     "text": [
      "Sentence: Working far into the night in an effort to salvage her little boat.\n",
      "P(positive) = 0.000 : Negative\n"
     ]
    }
   ],
   "source": [
    "test_sentence(\"Working far into the night in an effort to salvage her little boat.\")"
   ]
  },
  {
   "cell_type": "code",
   "execution_count": 27,
   "metadata": {
    "collapsed": false
   },
   "outputs": [
    {
     "name": "stdout",
     "output_type": "stream",
     "text": [
      "Sentence: She was working far into the night in an effort to salvage her little boat.\n",
      "P(positive) = 0.857 : Positive\n"
     ]
    }
   ],
   "source": [
    "test_sentence(\"She was working far into the night in an effort to salvage her little boat.\")"
   ]
  },
  {
   "cell_type": "code",
   "execution_count": 28,
   "metadata": {
    "collapsed": false
   },
   "outputs": [
    {
     "name": "stdout",
     "output_type": "stream",
     "text": [
      "Sentence: The man eating pizza.\n",
      "P(positive) = 0.202 : Negative\n"
     ]
    }
   ],
   "source": [
    "test_sentence(\"The man eating pizza.\")"
   ]
  },
  {
   "cell_type": "code",
   "execution_count": 29,
   "metadata": {
    "collapsed": false
   },
   "outputs": [
    {
     "name": "stdout",
     "output_type": "stream",
     "text": [
      "Sentence: The man eating pizza is overwieght.\n",
      "P(positive) = 0.001 : Negative\n"
     ]
    }
   ],
   "source": [
    "test_sentence(\"The man eating pizza is overwieght.\")"
   ]
  },
  {
   "cell_type": "code",
   "execution_count": 30,
   "metadata": {
    "collapsed": false
   },
   "outputs": [
    {
     "name": "stdout",
     "output_type": "stream",
     "text": [
      "Sentence: While we were swimming at the lake.\n",
      "P(positive) = 0.009 : Negative\n"
     ]
    }
   ],
   "source": [
    "test_sentence(\"While we were swimming at the lake.\")"
   ]
  },
  {
   "cell_type": "code",
   "execution_count": 31,
   "metadata": {
    "collapsed": false
   },
   "outputs": [
    {
     "name": "stdout",
     "output_type": "stream",
     "text": [
      "Sentence: While we were swimming at the lake, we saw a fish.\n",
      "P(positive) = 0.153 : Negative\n"
     ]
    }
   ],
   "source": [
    "test_sentence(\"While we were swimming at the lake, we saw a fish.\")"
   ]
  },
  {
   "cell_type": "code",
   "execution_count": 32,
   "metadata": {
    "collapsed": false
   },
   "outputs": [
    {
     "name": "stdout",
     "output_type": "stream",
     "text": [
      "Sentence: Keep going.\n",
      "P(positive) = 0.000 : Negative\n"
     ]
    }
   ],
   "source": [
    "test_sentence(\"Keep going.\")"
   ]
  },
  {
   "cell_type": "code",
   "execution_count": 33,
   "metadata": {
    "collapsed": false
   },
   "outputs": [
    {
     "name": "stdout",
     "output_type": "stream",
     "text": [
      "Sentence: A time of wonder and amazement\n",
      "P(positive) = 0.000 : Negative\n"
     ]
    }
   ],
   "source": [
    "test_sentence(\"A time of wonder and amazement\")"
   ]
  },
  {
   "cell_type": "code",
   "execution_count": 34,
   "metadata": {
    "collapsed": false
   },
   "outputs": [
    {
     "name": "stdout",
     "output_type": "stream",
     "text": [
      "Sentence: That was a time of wonder and amazement\n",
      "P(positive) = 0.003 : Negative\n"
     ]
    }
   ],
   "source": [
    "test_sentence(\"That was a time of wonder and amazement\")"
   ]
  },
  {
   "cell_type": "code",
   "execution_count": 53,
   "metadata": {
    "collapsed": false
   },
   "outputs": [
    {
     "name": "stdout",
     "output_type": "stream",
     "text": [
      "Sentence: Since she never saw that movie.\n",
      "P(positive) = 0.160 : Negative\n"
     ]
    }
   ],
   "source": [
    "test_sentence(\"Since she never saw that movie.\") \n"
   ]
  },
  {
   "cell_type": "code",
   "execution_count": 36,
   "metadata": {
    "collapsed": false
   },
   "outputs": [
    {
     "name": "stdout",
     "output_type": "stream",
     "text": [
      "Sentence: We should invite her, since she never saw that movie.\n",
      "P(positive) = 0.851 : Positive\n"
     ]
    }
   ],
   "source": [
    "test_sentence(\"We should invite her, since she never saw that movie.\")"
   ]
  },
  {
   "cell_type": "code",
   "execution_count": 37,
   "metadata": {
    "collapsed": false
   },
   "outputs": [
    {
     "name": "stdout",
     "output_type": "stream",
     "text": [
      "Sentence: Affecting the lives of many students in New York City.\n",
      "P(positive) = 0.002 : Negative\n"
     ]
    }
   ],
   "source": [
    "test_sentence(\"Affecting the lives of many students in New York City.\")"
   ]
  },
  {
   "cell_type": "code",
   "execution_count": 38,
   "metadata": {
    "collapsed": false
   },
   "outputs": [
    {
     "name": "stdout",
     "output_type": "stream",
     "text": [
      "Sentence: Quill is affecting the lives of many students in New York City.\n",
      "P(positive) = 0.999 : Positive\n"
     ]
    }
   ],
   "source": [
    "test_sentence(\"Quill is affecting the lives of many students in New York City.\")"
   ]
  },
  {
   "cell_type": "code",
   "execution_count": 39,
   "metadata": {
    "collapsed": false
   },
   "outputs": [
    {
     "name": "stdout",
     "output_type": "stream",
     "text": [
      "Sentence: Standing on the edge of the cliff looking down.\n",
      "P(positive) = 0.024 : Negative\n"
     ]
    }
   ],
   "source": [
    "test_sentence(\"Standing on the edge of the cliff looking down.\")"
   ]
  },
  {
   "cell_type": "code",
   "execution_count": 40,
   "metadata": {
    "collapsed": false
   },
   "outputs": [
    {
     "name": "stdout",
     "output_type": "stream",
     "text": [
      "Sentence: I'm standing on the edge of the cliff and looking down.\n",
      "P(positive) = 0.339 : Negative\n"
     ]
    }
   ],
   "source": [
    "test_sentence(\"I'm standing on the edge of the cliff and looking down.\")"
   ]
  },
  {
   "cell_type": "code",
   "execution_count": 56,
   "metadata": {
    "collapsed": false
   },
   "outputs": [
    {
     "name": "stdout",
     "output_type": "stream",
     "text": [
      "Sentence: The team looked forward to victory.\n",
      "P(positive) = 0.978 : Positive\n"
     ]
    }
   ],
   "source": [
    "test_sentence(\"The team looked forward to victory.\")"
   ]
  },
  {
   "cell_type": "code",
   "execution_count": 55,
   "metadata": {
    "collapsed": false
   },
   "outputs": [
    {
     "name": "stdout",
     "output_type": "stream",
     "text": [
      "INFO:tensorflow:/Users/donald/Programming/Python/Quill-NLP-Tools-and-Datasets/model.tfl is not in all_model_checkpoint_paths. Manually adding it.\n"
     ]
    }
   ],
   "source": [
    "model.save(\"./model.tfl\")"
   ]
  },
  {
   "cell_type": "markdown",
   "metadata": {},
   "source": [
    "Save the vocab"
   ]
  },
  {
   "cell_type": "code",
   "execution_count": 57,
   "metadata": {
    "collapsed": false
   },
   "outputs": [],
   "source": [
    "w = csv.writer(open(\"./vocabindex.csv\", \"w\"))\n",
    "for key, val in word2idx.items():\n",
    "    w.writerow([key, val])"
   ]
  },
  {
   "cell_type": "code",
   "execution_count": 50,
   "metadata": {
    "collapsed": false
   },
   "outputs": [
    {
     "data": {
      "text/plain": [
       "['ADP>DET>NOUN',\n",
       " 'NOUN>ADP>DET',\n",
       " 'ADJ>NOUN>PUNCT',\n",
       " 'DET>ADJ>NOUN',\n",
       " 'DET>NOUN>ADP',\n",
       " 'ADJ>NOUN>ADP',\n",
       " 'NOUN>ADP>NOUN',\n",
       " 'DET>NOUN>PUNCT',\n",
       " 'ADP>ADJ>NOUN',\n",
       " 'ADP>DET>ADJ',\n",
       " 'VERB>DET>NOUN',\n",
       " 'NOUN>NOUN>PUNCT',\n",
       " 'VERB>ADP>DET',\n",
       " 'DET>NOUN>VERB',\n",
       " 'ADP>NOUN>PUNCT',\n",
       " 'VERB>VERB>ADP',\n",
       " 'NOUN>ADP>ADJ',\n",
       " 'NOUN>VERB>VERB',\n",
       " 'ADJ>NOUN>VERB',\n",
       " 'ADJ>ADJ>NOUN',\n",
       " 'ADJ>NOUN>NOUN',\n",
       " 'NOUN>ADP>PROPN',\n",
       " 'DET>NOUN>NOUN',\n",
       " 'VERB>ADJ>NOUN',\n",
       " 'PROPN>PROPN>PUNCT',\n",
       " 'NOUN>NOUN>ADP',\n",
       " 'VERB>DET>ADJ',\n",
       " 'NOUN>VERB>ADP',\n",
       " 'NOUN>PUNCT>NOUN',\n",
       " 'NOUN>PUNCT>VERB',\n",
       " 'VERB>ADP>NOUN',\n",
       " 'ADP>NOUN>ADP',\n",
       " 'ADP>NUM>PUNCT',\n",
       " 'NOUN>ADP>NUM',\n",
       " 'ADP>DET>PROPN',\n",
       " 'NOUN>PUNCT>CONJ',\n",
       " 'NOUN>CONJ>NOUN',\n",
       " 'ADP>PROPN>PUNCT',\n",
       " 'VERB>NOUN>ADP',\n",
       " 'PROPN>PROPN>PROPN',\n",
       " 'DET>PROPN>PROPN',\n",
       " 'VERB>ADP>PROPN',\n",
       " 'NOUN>NOUN>VERB',\n",
       " 'NUM>NOUN>PUNCT',\n",
       " 'VERB>PART>VERB',\n",
       " 'VERB>ADV>VERB',\n",
       " 'PUNCT>DET>NOUN',\n",
       " 'ADP>PROPN>PROPN',\n",
       " 'VERB>ADP>ADJ',\n",
       " 'NOUN>VERB>DET',\n",
       " 'NOUN>PART>VERB',\n",
       " 'ADP>NUM>NOUN',\n",
       " 'VERB>NOUN>PUNCT',\n",
       " 'NOUN>VERB>ADV',\n",
       " 'ADV>VERB>ADP',\n",
       " 'ADP>NOUN>NOUN',\n",
       " 'NOUN>CONJ>VERB',\n",
       " 'NUM>NOUN>ADP',\n",
       " 'ADJ>NOUN>CONJ',\n",
       " 'NOUN>VERB>ADJ',\n",
       " 'NOUN>PUNCT>DET',\n",
       " 'NOUN>NOUN>NOUN',\n",
       " 'CONJ>ADJ>NOUN',\n",
       " 'NOUN>PART>NOUN',\n",
       " 'PROPN>PROPN>VERB',\n",
       " 'PROPN>VERB>DET',\n",
       " 'DET>NOUN>PART',\n",
       " 'PART>VERB>DET',\n",
       " 'NOUN>PUNCT>ADJ',\n",
       " 'PROPN>VERB>VERB',\n",
       " 'PUNCT>NOUN>NOUN',\n",
       " 'PROPN>PART>NOUN',\n",
       " 'PUNCT>PROPN>VERB',\n",
       " 'PROPN>NUM>PUNCT',\n",
       " 'VERB>ADP>NUM',\n",
       " 'PUNCT>NOUN>PUNCT',\n",
       " 'NOUN>PUNCT>ADP',\n",
       " 'ADP>PROPN>NUM',\n",
       " 'PROPN>PUNCT>PROPN',\n",
       " 'PROPN>ADP>PROPN',\n",
       " 'VERB>VERB>PUNCT',\n",
       " 'NOUN>PUNCT>PROPN',\n",
       " 'PUNCT>PRON>VERB',\n",
       " 'ADJ>ADP>DET',\n",
       " 'VERB>NUM>NOUN',\n",
       " 'ADP>ADJ>ADJ',\n",
       " 'DET>ADJ>ADJ',\n",
       " 'PUNCT>ADJ>NOUN',\n",
       " 'PUNCT>CONJ>VERB',\n",
       " 'CONJ>NOUN>PUNCT',\n",
       " 'PROPN>VERB>ADP',\n",
       " 'NOUN>VERB>NOUN',\n",
       " 'DET>NOUN>CONJ',\n",
       " 'ADP>NOUN>CONJ',\n",
       " 'PRON>VERB>VERB',\n",
       " 'PROPN>PROPN>ADP',\n",
       " 'PUNCT>NOUN>VERB',\n",
       " 'NOUN>ADV>VERB',\n",
       " 'ADV>ADP>DET',\n",
       " 'PART>NOUN>PUNCT',\n",
       " 'ADV>VERB>DET',\n",
       " 'VERB>ADV>ADP',\n",
       " 'PUNCT>VERB>ADP',\n",
       " 'NOUN>NOUN>CONJ',\n",
       " 'ADP>NOUN>VERB',\n",
       " 'VERB>ADJ>ADP',\n",
       " 'CONJ>DET>NOUN',\n",
       " 'PROPN>NOUN>PUNCT',\n",
       " 'PROPN>CONJ>PROPN',\n",
       " 'NOUN>PUNCT>ADV',\n",
       " 'PART>ADJ>NOUN',\n",
       " 'PROPN>ADP>DET',\n",
       " 'VERB>NOUN>NOUN',\n",
       " 'PUNCT>VERB>DET',\n",
       " 'NOUN>CONJ>ADJ',\n",
       " 'PUNCT>DET>ADJ',\n",
       " 'PART>VERB>NOUN',\n",
       " 'NOUN>ADP>VERB',\n",
       " 'DET>NOUN>ADV',\n",
       " 'PRON>VERB>DET',\n",
       " 'PART>VERB>ADP',\n",
       " 'VERB>ADV>ADJ',\n",
       " 'PUNCT>VERB>NOUN',\n",
       " 'CONJ>NOUN>NOUN',\n",
       " 'VERB>VERB>VERB',\n",
       " 'PRON>VERB>ADP',\n",
       " 'CONJ>VERB>ADP',\n",
       " 'NOUN>VERB>PUNCT',\n",
       " 'ADP>PROPN>PART',\n",
       " 'ADP>PROPN>ADP',\n",
       " 'ADJ>NOUN>PART',\n",
       " 'ADV>VERB>PUNCT',\n",
       " 'ADV>ADJ>NOUN',\n",
       " 'VERB>VERB>DET',\n",
       " 'VERB>ADJ>PUNCT',\n",
       " 'PROPN>VERB>ADJ',\n",
       " 'CONJ>VERB>DET',\n",
       " 'VERB>ADJ>ADJ',\n",
       " 'ADP>PROPN>VERB',\n",
       " 'PROPN>VERB>ADV',\n",
       " 'ADJ>PUNCT>NOUN',\n",
       " 'PUNCT>PROPN>PROPN',\n",
       " 'PRON>VERB>ADV',\n",
       " 'PART>VERB>ADJ',\n",
       " 'ADJ>NOUN>ADV',\n",
       " 'PUNCT>CONJ>DET',\n",
       " 'PROPN>PUNCT>VERB',\n",
       " 'ADP>DET>NUM',\n",
       " 'VERB>ADV>PUNCT',\n",
       " 'PUNCT>ADP>DET',\n",
       " 'NUM>NOUN>VERB',\n",
       " 'DET>NUM>NOUN',\n",
       " 'NOUN>VERB>PART',\n",
       " 'DET>ADJ>PUNCT',\n",
       " 'PART>NOUN>ADP',\n",
       " 'NOUN>PUNCT>PRON',\n",
       " 'VERB>VERB>PART',\n",
       " 'NUM>ADJ>NOUN',\n",
       " 'DET>VERB>NOUN',\n",
       " 'VERB>DET>PROPN',\n",
       " 'NUM>ADP>DET',\n",
       " 'ADP>NOUN>PART',\n",
       " 'PUNCT>CONJ>NOUN',\n",
       " 'NOUN>ADV>PUNCT',\n",
       " 'CONJ>NOUN>VERB',\n",
       " 'PART>NOUN>VERB',\n",
       " 'ADV>VERB>NOUN',\n",
       " 'NOUN>ADJ>NOUN',\n",
       " 'NOUN>CONJ>DET',\n",
       " 'DET>PROPN>NOUN',\n",
       " 'ADP>NUM>PROPN',\n",
       " 'PUNCT>PROPN>PUNCT',\n",
       " 'ADP>PRON>VERB',\n",
       " 'CONJ>NOUN>ADP',\n",
       " 'PROPN>ADV>VERB',\n",
       " 'ADJ>ADP>NOUN',\n",
       " 'PROPN>PUNCT>DET',\n",
       " 'ADV>VERB>ADJ',\n",
       " 'ADP>NUM>ADP',\n",
       " 'NOUN>NUM>PUNCT',\n",
       " 'PUNCT>ADJ>VERB',\n",
       " 'ADJ>ADP>ADJ',\n",
       " 'NOUN>DET>NOUN',\n",
       " 'PUNCT>NOUN>ADP',\n",
       " 'VERB>VERB>ADV',\n",
       " 'VERB>CONJ>VERB',\n",
       " 'ADP>NOUN>NUM',\n",
       " 'ADJ>CONJ>ADJ',\n",
       " 'PROPN>NOUN>VERB',\n",
       " 'VERB>VERB>ADJ',\n",
       " 'VERB>PROPN>PROPN',\n",
       " 'PRON>VERB>ADJ',\n",
       " 'PROPN>ADP>NUM',\n",
       " 'CONJ>VERB>NOUN',\n",
       " 'ADV>DET>NOUN',\n",
       " 'ADP>VERB>NOUN',\n",
       " 'NUM>PUNCT>NUM',\n",
       " 'CONJ>VERB>ADJ',\n",
       " 'ADV>ADP>NOUN',\n",
       " 'ADV>ADJ>ADP',\n",
       " 'VERB>NOUN>CONJ',\n",
       " 'NOUN>PART>ADJ',\n",
       " 'NOUN>ADV>ADP',\n",
       " 'PROPN>PROPN>CONJ',\n",
       " 'DET>PROPN>PUNCT',\n",
       " 'CONJ>VERB>VERB',\n",
       " 'DET>NOUN>ADJ',\n",
       " 'ADP>DET>VERB',\n",
       " 'ADV>PUNCT>VERB',\n",
       " 'NUM>NOUN>NOUN',\n",
       " 'VERB>ADV>ADV',\n",
       " 'PROPN>PART>ADJ',\n",
       " 'PRON>ADV>VERB',\n",
       " 'DET>PROPN>ADP',\n",
       " 'VERB>VERB>NOUN',\n",
       " 'PUNCT>VERB>ADJ',\n",
       " 'PROPN>PUNCT>CONJ',\n",
       " 'ADP>PROPN>CONJ',\n",
       " 'ADV>ADJ>PUNCT',\n",
       " 'NUM>PUNCT>NOUN',\n",
       " 'PUNCT>VERB>VERB',\n",
       " 'ADJ>NOUN>ADJ',\n",
       " 'DET>ADJ>PROPN',\n",
       " 'CONJ>ADV>VERB',\n",
       " 'DET>ADP>DET',\n",
       " 'ADV>PUNCT>DET',\n",
       " 'PUNCT>NUM>PUNCT',\n",
       " 'PROPN>PROPN>NOUN',\n",
       " 'ADJ>PART>VERB',\n",
       " 'NOUN>ADJ>VERB',\n",
       " 'ADV>NUM>NOUN',\n",
       " 'DET>PROPN>VERB',\n",
       " 'PUNCT>CONJ>ADJ',\n",
       " 'PUNCT>NOUN>CONJ',\n",
       " 'PUNCT>ADP>NOUN',\n",
       " 'CONJ>DET>ADJ',\n",
       " 'CONJ>VERB>ADV',\n",
       " 'PART>VERB>PUNCT',\n",
       " 'NUM>PUNCT>DET',\n",
       " 'ADP>ADJ>PUNCT',\n",
       " 'VERB>NOUN>VERB',\n",
       " 'PUNCT>ADV>VERB',\n",
       " 'CONJ>PROPN>PROPN',\n",
       " 'PUNCT>ADP>ADJ',\n",
       " 'NUM>PUNCT>PROPN',\n",
       " 'VERB>PRON>ADP',\n",
       " 'PROPN>PUNCT>NOUN',\n",
       " 'NOUN>VERB>PROPN',\n",
       " 'PUNCT>DET>PROPN',\n",
       " 'NOUN>PROPN>PROPN',\n",
       " 'DET>ADV>ADJ',\n",
       " 'NUM>NOUN>CONJ',\n",
       " 'PROPN>VERB>NOUN',\n",
       " 'ADP>VERB>DET',\n",
       " 'NOUN>VERB>NUM',\n",
       " 'ADP>NUM>CONJ',\n",
       " 'PROPN>PUNCT>ADP',\n",
       " 'DET>ADJ>ADP',\n",
       " 'PROPN>NOUN>ADP',\n",
       " 'ADJ>NUM>NOUN',\n",
       " 'VERB>PUNCT>CONJ',\n",
       " 'PROPN>VERB>PROPN',\n",
       " 'CONJ>NUM>NOUN',\n",
       " 'VERB>ADP>VERB',\n",
       " 'PART>VERB>VERB',\n",
       " 'PROPN>PROPN>PART',\n",
       " 'VERB>NOUN>PART',\n",
       " 'ADV>ADP>ADJ',\n",
       " 'PROPN>VERB>PART',\n",
       " 'CONJ>PROPN>VERB',\n",
       " 'PART>NOUN>NOUN',\n",
       " 'VERB>PROPN>ADP',\n",
       " 'ADJ>VERB>VERB',\n",
       " 'ADJ>PUNCT>ADJ',\n",
       " 'ADV>VERB>PART',\n",
       " 'ADP>ADP>DET',\n",
       " 'VERB>PROPN>PART',\n",
       " 'NOUN>PRON>VERB',\n",
       " 'PUNCT>ADV>PUNCT',\n",
       " 'NUM>PUNCT>VERB',\n",
       " 'ADP>DET>PUNCT',\n",
       " 'ADP>ADJ>NUM',\n",
       " 'NOUN>NOUN>PART',\n",
       " 'ADV>ADV>PUNCT',\n",
       " 'PUNCT>CONJ>ADV',\n",
       " 'PUNCT>CONJ>PROPN',\n",
       " 'ADJ>PROPN>PROPN',\n",
       " 'ADV>ADP>PROPN',\n",
       " 'NUM>PUNCT>CONJ',\n",
       " 'PROPN>VERB>NUM',\n",
       " 'NOUN>NOUN>ADV',\n",
       " 'NOUN>ADJ>ADP',\n",
       " 'PUNCT>VERB>NUM',\n",
       " 'PROPN>PART>VERB',\n",
       " 'VERB>ADP>PRON',\n",
       " 'NUM>ADP>NUM',\n",
       " 'CONJ>PROPN>PUNCT',\n",
       " 'ADJ>VERB>NOUN',\n",
       " 'ADV>ADV>VERB',\n",
       " 'ADV>VERB>ADV',\n",
       " 'PUNCT>ADV>ADP',\n",
       " 'VERB>NUM>ADP',\n",
       " 'ADP>VERB>ADP',\n",
       " 'ADV>ADV>ADP',\n",
       " 'VERB>PROPN>PUNCT',\n",
       " 'PUNCT>NUM>NOUN',\n",
       " 'CONJ>PRON>VERB',\n",
       " 'VERB>PART>ADP',\n",
       " 'DET>ADP>NOUN',\n",
       " 'ADV>VERB>VERB',\n",
       " 'ADP>PROPN>NOUN',\n",
       " 'ADP>PUNCT>NOUN',\n",
       " 'PROPN>PUNCT>ADV',\n",
       " 'PUNCT>VERB>ADV',\n",
       " 'ADV>DET>ADJ',\n",
       " 'NUM>PROPN>NUM',\n",
       " 'ADJ>ADJ>ADJ',\n",
       " 'PUNCT>ADP>NUM',\n",
       " 'ADV>PRON>VERB',\n",
       " 'NUM>NOUN>ADV',\n",
       " 'NOUN>PUNCT>NUM',\n",
       " 'ADJ>VERB>ADP',\n",
       " 'NOUN>VERB>PRON',\n",
       " 'ADP>ADJ>PROPN',\n",
       " 'PROPN>PUNCT>ADJ',\n",
       " 'NUM>CONJ>NUM',\n",
       " 'NOUN>CONJ>NUM',\n",
       " 'NOUN>DET>ADJ',\n",
       " 'PUNCT>CONJ>ADP',\n",
       " 'ADP>DET>ADP',\n",
       " 'DET>NOUN>DET',\n",
       " 'DET>ADJ>NUM',\n",
       " 'PROPN>CONJ>VERB',\n",
       " 'PRON>VERB>PART',\n",
       " 'PROPN>ADP>ADJ',\n",
       " 'PRON>VERB>NOUN',\n",
       " 'PUNCT>ADP>PROPN',\n",
       " 'NOUN>ADJ>PUNCT',\n",
       " 'VERB>ADP>ADP',\n",
       " 'NOUN>NOUN>ADJ',\n",
       " 'VERB>PUNCT>VERB',\n",
       " 'ADJ>PUNCT>CONJ',\n",
       " 'NOUN>ADP>PRON',\n",
       " 'ADV>PUNCT>ADP',\n",
       " 'PRON>ADP>DET',\n",
       " 'DET>ADJ>VERB',\n",
       " 'ADJ>NOUN>DET',\n",
       " 'ADJ>NOUN>PROPN',\n",
       " 'ADJ>NUM>PUNCT',\n",
       " 'NOUN>ADP>ADV',\n",
       " 'VERB>PRON>PUNCT',\n",
       " 'PUNCT>CONJ>PRON',\n",
       " 'ADJ>ADP>NUM',\n",
       " 'VERB>ADV>DET',\n",
       " 'NUM>PUNCT>PRON',\n",
       " 'PUNCT>ADJ>ADP',\n",
       " 'VERB>NUM>PUNCT',\n",
       " 'PART>VERB>ADV',\n",
       " 'VERB>VERB>CONJ',\n",
       " 'ADJ>ADJ>PUNCT',\n",
       " 'ADV>PUNCT>NOUN',\n",
       " 'NOUN>NUM>NOUN',\n",
       " 'NOUN>CONJ>ADV',\n",
       " 'PROPN>NOUN>NOUN',\n",
       " 'CONJ>ADJ>ADJ',\n",
       " 'ADJ>PROPN>PUNCT',\n",
       " 'DET>VERB>VERB',\n",
       " 'ADJ>VERB>DET',\n",
       " 'NUM>PUNCT>ADP',\n",
       " 'ADJ>ADP>PROPN',\n",
       " 'VERB>ADJ>PART',\n",
       " 'ADP>NUM>ADJ',\n",
       " 'CONJ>VERB>PART',\n",
       " 'ADJ>PUNCT>VERB',\n",
       " 'PRON>VERB>NUM',\n",
       " 'NUM>CONJ>VERB',\n",
       " 'DET>VERB>DET',\n",
       " 'NUM>ADP>NOUN',\n",
       " 'NOUN>ADP>ADP',\n",
       " 'ADP>PRON>PUNCT',\n",
       " 'ADP>ADJ>ADP',\n",
       " 'NUM>PROPN>PUNCT',\n",
       " 'DET>ADJ>CONJ',\n",
       " 'PROPN>ADP>NOUN',\n",
       " 'CONJ>VERB>NUM',\n",
       " 'PROPN>PART>PROPN',\n",
       " 'VERB>DET>ADV',\n",
       " 'VERB>DET>VERB',\n",
       " 'DET>ADV>VERB',\n",
       " 'ADP>DET>ADV',\n",
       " 'ADV>PUNCT>PRON',\n",
       " 'ADP>VERB>ADJ',\n",
       " 'ADV>PUNCT>PROPN',\n",
       " 'ADP>ADP>NOUN',\n",
       " 'PROPN>VERB>PUNCT',\n",
       " 'PRON>VERB>PUNCT',\n",
       " 'PUNCT>ADJ>ADJ',\n",
       " 'ADV>PART>VERB',\n",
       " 'PUNCT>PROPN>CONJ',\n",
       " 'ADV>PUNCT>ADJ',\n",
       " 'ADV>ADP>NUM',\n",
       " 'PART>VERB>PROPN',\n",
       " 'ADP>NOUN>ADJ',\n",
       " 'DET>VERB>ADJ',\n",
       " 'PUNCT>VERB>PROPN',\n",
       " 'PART>VERB>PRON',\n",
       " 'CONJ>VERB>PUNCT',\n",
       " 'ADJ>PROPN>NOUN',\n",
       " 'ADP>NOUN>ADV',\n",
       " 'PROPN>CONJ>DET',\n",
       " 'VERB>ADV>NUM',\n",
       " 'DET>ADP>ADJ',\n",
       " 'NOUN>ADV>ADV',\n",
       " 'DET>NUM>PUNCT',\n",
       " 'NUM>ADP>ADJ',\n",
       " 'ADJ>VERB>ADJ',\n",
       " 'VERB>ADJ>CONJ',\n",
       " 'PUNCT>ADJ>PUNCT',\n",
       " 'DET>VERB>ADP',\n",
       " 'ADV>PUNCT>CONJ',\n",
       " 'ADP>PUNCT>DET',\n",
       " 'ADV>VERB>PROPN',\n",
       " 'CONJ>ADP>DET',\n",
       " 'CONJ>DET>PROPN',\n",
       " 'PRON>PART>VERB',\n",
       " 'VERB>ADP>ADV',\n",
       " 'VERB>PRON>VERB',\n",
       " 'VERB>NUM>ADJ',\n",
       " 'VERB>DET>NUM',\n",
       " 'ADJ>VERB>ADV',\n",
       " 'ADJ>DET>NOUN',\n",
       " 'ADP>ADV>NUM',\n",
       " 'PUNCT>VERB>PUNCT',\n",
       " 'CONJ>NUM>PUNCT',\n",
       " 'ADV>VERB>NUM',\n",
       " 'PROPN>CONJ>ADJ',\n",
       " 'ADP>ADP>ADJ',\n",
       " 'PUNCT>PROPN>PART',\n",
       " 'NOUN>PROPN>VERB',\n",
       " 'VERB>PART>DET',\n",
       " 'ADP>NUM>VERB',\n",
       " 'NOUN>CONJ>ADP',\n",
       " 'CONJ>VERB>PRON',\n",
       " 'PUNCT>NOUN>PART',\n",
       " 'VERB>PUNCT>ADP',\n",
       " 'NUM>ADP>PROPN',\n",
       " 'PART>NOUN>CONJ',\n",
       " 'DET>NOUN>PROPN',\n",
       " 'DET>NOUN>PRON',\n",
       " 'NOUN>ADV>ADJ',\n",
       " 'PUNCT>VERB>PART',\n",
       " 'VERB>PRON>PART',\n",
       " 'PROPN>ADJ>NOUN',\n",
       " 'CONJ>ADJ>PUNCT',\n",
       " 'NOUN>VERB>CONJ',\n",
       " 'DET>PROPN>PART',\n",
       " 'NUM>NOUN>NUM',\n",
       " 'DET>VERB>ADV',\n",
       " 'ADV>PUNCT>ADV',\n",
       " 'ADJ>ADP>VERB',\n",
       " 'ADP>ADP>NUM',\n",
       " 'PUNCT>VERB>PRON',\n",
       " 'ADP>ADV>VERB',\n",
       " 'DET>PUNCT>NOUN',\n",
       " 'SYM>NUM>NUM',\n",
       " 'PRON>ADP>NOUN',\n",
       " 'VERB>NOUN>ADV',\n",
       " 'PRON>VERB>PROPN',\n",
       " 'PART>VERB>PART',\n",
       " 'ADP>ADJ>VERB',\n",
       " 'ADJ>PUNCT>ADP',\n",
       " 'ADV>ADV>ADJ',\n",
       " 'NUM>PUNCT>ADV',\n",
       " 'PART>ADP>DET',\n",
       " 'DET>PROPN>CONJ',\n",
       " 'ADJ>PROPN>VERB',\n",
       " 'NOUN>NOUN>DET',\n",
       " 'PUNCT>CONJ>NUM',\n",
       " 'ADP>ADJ>CONJ',\n",
       " 'VERB>VERB>PROPN',\n",
       " 'ADJ>CONJ>VERB',\n",
       " 'ADP>VERB>PUNCT',\n",
       " 'NUM>PUNCT>ADJ',\n",
       " 'PROPN>PROPN>ADV',\n",
       " 'VERB>PART>PUNCT',\n",
       " 'DET>NOUN>NUM',\n",
       " 'PUNCT>NOUN>ADV',\n",
       " 'ADV>NOUN>ADP',\n",
       " 'PROPN>VERB>PRON',\n",
       " 'PRON>DET>NOUN',\n",
       " 'ADJ>ADV>VERB',\n",
       " 'PUNCT>ADV>ADV',\n",
       " 'NUM>NOUN>ADJ',\n",
       " 'PROPN>NUM>ADP',\n",
       " 'ADV>NOUN>PUNCT',\n",
       " 'NUM>PROPN>PROPN',\n",
       " 'ADV>VERB>CONJ',\n",
       " 'ADV>VERB>PRON',\n",
       " 'PROPN>PUNCT>PRON',\n",
       " 'ADJ>PRON>VERB',\n",
       " 'PUNCT>DET>VERB',\n",
       " 'PUNCT>PROPN>NOUN',\n",
       " 'VERB>PART>NOUN',\n",
       " 'ADV>CONJ>VERB',\n",
       " 'PUNCT>ADV>ADJ',\n",
       " 'VERB>VERB>NUM',\n",
       " 'VERB>PUNCT>DET',\n",
       " 'PART>ADJ>ADJ',\n",
       " 'VERB>DET>ADP',\n",
       " 'ADP>VERB>VERB',\n",
       " 'DET>NUM>ADJ',\n",
       " 'PROPN>DET>NOUN',\n",
       " 'PUNCT>ADP>VERB',\n",
       " 'PUNCT>ADV>DET',\n",
       " 'NOUN>ADV>DET',\n",
       " 'ADP>ADV>ADJ',\n",
       " 'ADV>ADP>VERB',\n",
       " 'NOUN>PROPN>PUNCT',\n",
       " 'DET>ADV>PUNCT',\n",
       " 'VERB>PUNCT>ADV',\n",
       " 'PUNCT>NUM>ADP',\n",
       " 'NOUN>NOUN>PROPN',\n",
       " 'ADP>SYM>NUM',\n",
       " 'PROPN>NOUN>CONJ',\n",
       " 'VERB>PUNCT>NOUN',\n",
       " 'PART>DET>NOUN',\n",
       " 'ADJ>PUNCT>DET',\n",
       " 'NUM>NOUN>PART',\n",
       " 'PUNCT>PART>VERB',\n",
       " 'VERB>ADV>CONJ',\n",
       " 'PUNCT>ADV>PRON',\n",
       " 'CONJ>PROPN>NOUN',\n",
       " 'ADV>ADJ>ADJ',\n",
       " 'VERB>ADP>PUNCT',\n",
       " 'ADP>ADV>PUNCT',\n",
       " 'NOUN>NUM>ADP',\n",
       " 'PRON>DET>ADJ',\n",
       " 'ADV>PROPN>VERB',\n",
       " 'VERB>NOUN>ADJ',\n",
       " 'PART>PROPN>PROPN',\n",
       " 'ADJ>NOUN>PRON',\n",
       " 'ADJ>PROPN>ADP',\n",
       " 'DET>NUM>PROPN',\n",
       " 'PUNCT>NOUN>ADJ',\n",
       " 'ADV>ADJ>CONJ',\n",
       " 'PART>NUM>NOUN',\n",
       " 'DET>ADJ>ADV',\n",
       " 'NUM>NUM>NOUN',\n",
       " 'ADJ>PUNCT>ADV',\n",
       " 'PART>VERB>CONJ',\n",
       " 'PUNCT>ADP>ADP',\n",
       " 'ADJ>ADJ>ADP',\n",
       " 'DET>DET>NOUN',\n",
       " 'DET>PUNCT>DET',\n",
       " 'CONJ>ADV>ADJ',\n",
       " 'PUNCT>ADP>PRON',\n",
       " 'NOUN>CONJ>PROPN',\n",
       " 'PUNCT>DET>ADP',\n",
       " 'PRON>ADP>ADJ',\n",
       " 'NUM>PROPN>VERB',\n",
       " 'VERB>PRON>DET',\n",
       " 'PUNCT>PRON>ADV',\n",
       " 'PROPN>NOUN>PART',\n",
       " 'PUNCT>ADP>PUNCT',\n",
       " 'NUM>PRON>VERB',\n",
       " 'PUNCT>ADV>NOUN',\n",
       " 'CONJ>ADP>ADJ',\n",
       " 'CONJ>NOUN>ADV',\n",
       " 'ADP>NOUN>DET',\n",
       " 'CONJ>ADP>NOUN',\n",
       " 'VERB>PROPN>CONJ',\n",
       " 'NUM>VERB>VERB',\n",
       " 'VERB>PART>ADJ',\n",
       " 'VERB>ADV>NOUN',\n",
       " 'ADP>ADP>PROPN',\n",
       " 'CONJ>NOUN>PART',\n",
       " 'PART>NOUN>PART',\n",
       " 'PROPN>NUM>NOUN',\n",
       " 'ADJ>CONJ>NOUN',\n",
       " 'VERB>PROPN>NOUN',\n",
       " 'ADP>PUNCT>PRON',\n",
       " 'ADP>VERB>ADV',\n",
       " 'ADP>PROPN>ADV',\n",
       " 'ADJ>ADV>PUNCT',\n",
       " 'CONJ>ADJ>ADP',\n",
       " 'PROPN>DET>ADJ',\n",
       " 'ADP>NOUN>PROPN',\n",
       " 'VERB>PUNCT>PROPN',\n",
       " 'ADP>ADJ>DET',\n",
       " 'ADJ>ADJ>CONJ',\n",
       " 'PART>VERB>NUM',\n",
       " 'NUM>VERB>ADP',\n",
       " 'ADP>VERB>PART',\n",
       " 'NUM>NUM>PUNCT',\n",
       " 'VERB>PRON>ADV',\n",
       " 'CONJ>DET>VERB',\n",
       " 'VERB>VERB>PRON',\n",
       " 'CONJ>ADP>NUM',\n",
       " 'ADV>ADJ>PART',\n",
       " 'ADP>PUNCT>VERB',\n",
       " 'PROPN>ADP>VERB',\n",
       " 'PUNCT>PROPN>ADV',\n",
       " 'ADV>NOUN>VERB',\n",
       " 'NUM>VERB>NOUN',\n",
       " 'PUNCT>ADP>ADV',\n",
       " 'VERB>ADV>PART',\n",
       " 'ADJ>PUNCT>PROPN',\n",
       " 'PART>NOUN>ADV',\n",
       " 'CONJ>PROPN>ADP',\n",
       " 'CONJ>VERB>PROPN',\n",
       " 'PROPN>CONJ>NOUN',\n",
       " 'NUM>NOUN>DET',\n",
       " 'VERB>PRON>ADJ',\n",
       " 'PUNCT>ADV>NUM',\n",
       " 'DET>ADP>NUM',\n",
       " 'CONJ>NUM>ADJ',\n",
       " 'ADJ>ADP>PRON',\n",
       " 'NOUN>ADP>PUNCT',\n",
       " 'NUM>PART>VERB',\n",
       " 'NOUN>PUNCT>PART',\n",
       " 'ADJ>CONJ>ADV',\n",
       " 'CONJ>ADV>ADP',\n",
       " 'CONJ>NOUN>CONJ',\n",
       " 'NUM>DET>NOUN',\n",
       " 'PROPN>ADV>ADP',\n",
       " 'PART>ADP>NOUN',\n",
       " 'ADP>ADV>DET',\n",
       " 'ADP>NUM>PRON',\n",
       " 'NOUN>ADJ>ADJ',\n",
       " 'DET>VERB>NUM',\n",
       " 'VERB>ADJ>PROPN',\n",
       " 'ADJ>NOUN>NUM',\n",
       " 'PRON>VERB>PRON',\n",
       " 'VERB>PUNCT>ADJ',\n",
       " 'ADP>PRON>ADP',\n",
       " 'PUNCT>PROPN>ADP',\n",
       " 'NOUN>PROPN>NOUN',\n",
       " 'VERB>ADJ>ADV',\n",
       " 'PROPN>NUM>CONJ',\n",
       " 'ADP>VERB>PROPN',\n",
       " 'VERB>NUM>CONJ',\n",
       " 'PROPN>NOUN>PROPN',\n",
       " 'PUNCT>DET>ADV',\n",
       " 'VERB>CONJ>NOUN',\n",
       " 'DET>NUM>VERB',\n",
       " 'ADP>NUM>DET',\n",
       " 'PROPN>PUNCT>NUM',\n",
       " 'ADP>PART>VERB',\n",
       " 'ADP>VERB>NUM',\n",
       " 'PUNCT>ADJ>ADV',\n",
       " 'DET>VERB>PROPN',\n",
       " 'VERB>SYM>NUM',\n",
       " 'VERB>ADJ>VERB',\n",
       " 'NOUN>ADV>NOUN',\n",
       " 'ADJ>PUNCT>PRON',\n",
       " 'PUNCT>NOUN>PROPN',\n",
       " 'ADJ>ADV>ADP',\n",
       " 'NUM>ADJ>PUNCT',\n",
       " 'CONJ>NUM>ADP',\n",
       " 'PUNCT>VERB>CONJ',\n",
       " 'ADP>NOUN>PRON',\n",
       " 'ADJ>ADJ>PROPN',\n",
       " 'PUNCT>ADJ>CONJ',\n",
       " 'PART>ADV>VERB',\n",
       " 'ADV>NUM>PUNCT',\n",
       " 'PROPN>NOUN>ADV',\n",
       " 'PART>PROPN>PUNCT',\n",
       " 'PUNCT>DET>NUM',\n",
       " 'DET>VERB>PUNCT',\n",
       " 'ADV>CONJ>ADV',\n",
       " 'CONJ>ADV>PUNCT',\n",
       " 'ADV>NUM>ADJ',\n",
       " 'ADP>PUNCT>ADJ',\n",
       " 'CONJ>NOUN>ADJ',\n",
       " 'VERB>CONJ>DET',\n",
       " 'CONJ>ADP>PROPN',\n",
       " 'ADV>ADP>ADP',\n",
       " 'ADJ>ADV>ADJ',\n",
       " 'NOUN>ADV>CONJ',\n",
       " 'VERB>PUNCT>PRON',\n",
       " 'PROPN>ADV>PUNCT',\n",
       " 'PRON>ADV>ADP',\n",
       " 'ADJ>DET>ADJ',\n",
       " 'PUNCT>ADJ>PROPN',\n",
       " 'PRON>ADJ>NOUN',\n",
       " 'NUM>ADJ>ADJ',\n",
       " 'ADV>PROPN>PROPN',\n",
       " 'ADV>ADP>PRON',\n",
       " 'NUM>NUM>ADP',\n",
       " 'CONJ>ADV>ADV',\n",
       " 'VERB>CONJ>ADJ',\n",
       " 'VERB>DET>PUNCT',\n",
       " 'NOUN>PART>NUM',\n",
       " 'NUM>VERB>DET',\n",
       " 'CONJ>PROPN>PART',\n",
       " 'ADV>NOUN>NOUN',\n",
       " 'VERB>CONJ>ADV',\n",
       " 'NOUN>NOUN>NUM',\n",
       " 'NOUN>PART>ADV',\n",
       " 'ADP>ADJ>PRON',\n",
       " 'DET>PUNCT>ADJ',\n",
       " 'DET>PROPN>ADV',\n",
       " 'PROPN>PRON>VERB',\n",
       " 'ADP>NUM>PART',\n",
       " 'ADP>NUM>ADV',\n",
       " 'VERB>PROPN>VERB',\n",
       " 'DET>PROPN>NUM',\n",
       " 'CONJ>NUM>VERB',\n",
       " 'NOUN>ADV>PRON',\n",
       " 'NUM>PROPN>NOUN',\n",
       " 'ADP>ADV>ADP',\n",
       " 'SYM>NUM>PUNCT',\n",
       " 'PUNCT>PRON>ADP',\n",
       " 'ADJ>ADJ>VERB',\n",
       " 'PROPN>ADV>ADV',\n",
       " 'ADP>NUM>NUM',\n",
       " 'CONJ>DET>NUM',\n",
       " 'ADJ>NUM>ADP',\n",
       " 'PART>ADP>ADJ',\n",
       " 'PUNCT>CONJ>PUNCT',\n",
       " 'ADJ>VERB>PART',\n",
       " 'PUNCT>ADV>PROPN',\n",
       " 'PROPN>PART>NUM',\n",
       " 'ADP>PUNCT>NUM',\n",
       " 'PUNCT>PRON>DET',\n",
       " 'PROPN>PROPN>ADJ',\n",
       " 'ADV>ADV>ADV',\n",
       " 'NUM>VERB>PUNCT',\n",
       " 'VERB>PART>ADV',\n",
       " 'ADP>ADJ>ADV',\n",
       " 'NOUN>DET>VERB',\n",
       " 'DET>DET>ADJ',\n",
       " 'NUM>VERB>ADJ',\n",
       " 'NOUN>ADJ>CONJ',\n",
       " 'DET>ADJ>PART',\n",
       " 'PRON>ADP>NUM',\n",
       " 'DET>ADP>PROPN',\n",
       " 'PRON>ADV>PUNCT',\n",
       " 'VERB>ADP>SYM',\n",
       " 'ADJ>VERB>NUM',\n",
       " 'ADV>NUM>ADP',\n",
       " 'DET>PUNCT>PRON',\n",
       " 'NUM>CONJ>DET',\n",
       " 'NOUN>NUM>CONJ',\n",
       " 'NOUN>ADP>CONJ',\n",
       " 'ADV>DET>PROPN',\n",
       " 'PUNCT>NUM>ADJ',\n",
       " 'SYM>NUM>ADP',\n",
       " 'PROPN>VERB>CONJ',\n",
       " 'ADP>PROPN>ADJ',\n",
       " 'PART>ADP>NUM',\n",
       " 'NOUN>CONJ>PUNCT',\n",
       " 'VERB>NUM>VERB',\n",
       " 'ADV>ADV>DET',\n",
       " 'ADJ>ADP>ADP',\n",
       " 'PROPN>CONJ>ADV',\n",
       " 'CONJ>ADJ>PROPN',\n",
       " 'ADP>VERB>PRON',\n",
       " 'ADJ>CONJ>DET',\n",
       " 'PRON>ADP>VERB',\n",
       " 'PART>ADP>PROPN',\n",
       " 'CONJ>ADV>DET',\n",
       " 'NUM>CONJ>ADV',\n",
       " 'PART>NOUN>PROPN',\n",
       " 'DET>PART>VERB',\n",
       " 'PUNCT>ADJ>PRON',\n",
       " 'ADV>ADP>PUNCT',\n",
       " 'PUNCT>NOUN>DET',\n",
       " 'ADJ>VERB>PROPN',\n",
       " 'DET>PUNCT>VERB',\n",
       " 'VERB>PROPN>NUM',\n",
       " 'PART>ADV>ADJ',\n",
       " 'ADP>VERB>CONJ',\n",
       " 'NOUN>ADV>PART',\n",
       " 'PROPN>NUM>PROPN',\n",
       " 'NOUN>NOUN>PRON',\n",
       " 'CONJ>PROPN>ADV',\n",
       " 'PART>PROPN>ADP',\n",
       " 'ADP>PRON>ADV',\n",
       " 'DET>PROPN>ADJ',\n",
       " 'ADJ>PROPN>CONJ',\n",
       " 'CONJ>ADJ>VERB',\n",
       " 'PRON>ADP>PROPN',\n",
       " 'DET>ADV>ADP',\n",
       " 'ADP>CONJ>ADP',\n",
       " 'DET>VERB>PART',\n",
       " 'NOUN>CONJ>PRON',\n",
       " 'VERB>ADV>PROPN',\n",
       " 'VERB>ADP>PART',\n",
       " 'NOUN>ADP>SYM',\n",
       " 'ADP>ADV>ADV',\n",
       " 'ADP>PUNCT>ADP',\n",
       " 'NOUN>ADJ>ADV',\n",
       " 'DET>PUNCT>ADP',\n",
       " 'DET>ADV>ADV',\n",
       " 'PROPN>ADV>DET',\n",
       " 'PRON>PUNCT>VERB',\n",
       " 'PROPN>NUM>VERB',\n",
       " 'NOUN>PROPN>ADP',\n",
       " 'NOUN>DET>PROPN',\n",
       " 'CONJ>PUNCT>ADP',\n",
       " 'ADJ>NUM>ADJ',\n",
       " 'ADJ>VERB>PUNCT',\n",
       " 'VERB>PROPN>ADV',\n",
       " 'PART>DET>ADJ',\n",
       " 'PUNCT>NUM>VERB',\n",
       " 'PROPN>PROPN>NUM',\n",
       " 'PUNCT>NOUN>NUM',\n",
       " 'VERB>PRON>NOUN',\n",
       " 'PRON>CONJ>VERB',\n",
       " 'NOUN>PROPN>CONJ',\n",
       " 'PROPN>ADJ>VERB',\n",
       " 'VERB>NOUN>PROPN',\n",
       " 'VERB>ADJ>NUM',\n",
       " 'ADP>DET>DET',\n",
       " 'DET>ADJ>DET',\n",
       " 'ADJ>ADJ>NUM',\n",
       " 'NOUN>PRON>PUNCT',\n",
       " 'PRON>NUM>NOUN',\n",
       " 'CONJ>PART>VERB',\n",
       " 'ADJ>VERB>PRON',\n",
       " 'PRON>ADV>ADV',\n",
       " 'ADV>ADJ>VERB',\n",
       " 'PRON>PUNCT>CONJ',\n",
       " 'VERB>ADJ>DET',\n",
       " 'VERB>NOUN>DET',\n",
       " 'PART>PART>VERB',\n",
       " 'PUNCT>NUM>PROPN',\n",
       " 'CONJ>PROPN>CONJ',\n",
       " 'PART>NOUN>DET',\n",
       " 'PROPN>ADP>PRON',\n",
       " 'NUM>PROPN>ADP',\n",
       " 'PROPN>CONJ>NUM',\n",
       " 'NOUN>ADV>NUM',\n",
       " 'VERB>PART>PART',\n",
       " 'NOUN>PART>ADP',\n",
       " 'ADV>ADV>CONJ',\n",
       " 'VERB>PART>NUM',\n",
       " 'PUNCT>NUM>CONJ',\n",
       " 'VERB>CONJ>NUM',\n",
       " 'NUM>ADP>VERB',\n",
       " 'X>PUNCT>NOUN',\n",
       " 'NOUN>PART>PROPN',\n",
       " 'ADJ>ADP>PUNCT',\n",
       " 'ADP>PROPN>DET',\n",
       " 'PROPN>CONJ>ADP',\n",
       " 'NUM>CONJ>ADJ',\n",
       " 'ADV>NOUN>CONJ',\n",
       " 'PRON>CONJ>ADJ',\n",
       " 'PRON>ADV>ADJ',\n",
       " 'NUM>ADV>PUNCT',\n",
       " 'NUM>VERB>ADV',\n",
       " 'DET>CONJ>NOUN',\n",
       " 'VERB>PROPN>DET',\n",
       " 'PRON>ADJ>ADP',\n",
       " 'DET>PUNCT>ADV',\n",
       " 'NUM>ADP>PRON',\n",
       " 'PRON>NOUN>ADP',\n",
       " 'ADP>ADP>PUNCT',\n",
       " 'ADP>ADV>NOUN',\n",
       " 'NUM>ADJ>NUM',\n",
       " 'VERB>PART>CONJ',\n",
       " 'PROPN>NUM>DET',\n",
       " 'ADV>DET>VERB',\n",
       " 'ADV>ADV>NUM',\n",
       " 'ADJ>ADP>ADV',\n",
       " 'NOUN>ADJ>PROPN',\n",
       " 'PART>NOUN>ADJ',\n",
       " 'X>PUNCT>ADJ',\n",
       " 'NOUN>ADV>PROPN',\n",
       " 'NUM>VERB>NUM',\n",
       " 'DET>PUNCT>NUM',\n",
       " 'ADV>DET>ADP',\n",
       " 'CONJ>ADV>NOUN',\n",
       " 'PART>NUM>PUNCT',\n",
       " 'PROPN>ADP>ADP',\n",
       " 'NUM>PART>NUM',\n",
       " 'ADV>PUNCT>NUM',\n",
       " 'DET>ADV>NOUN',\n",
       " 'NUM>ADV>ADV',\n",
       " 'NOUN>NUM>VERB',\n",
       " 'ADJ>NUM>VERB',\n",
       " 'VERB>NOUN>NUM',\n",
       " 'PART>ADJ>PUNCT',\n",
       " 'PROPN>PROPN>DET',\n",
       " 'NOUN>PART>PUNCT',\n",
       " 'DET>NUM>ADP',\n",
       " 'PART>CONJ>VERB',\n",
       " 'ADP>PRON>CONJ',\n",
       " 'CONJ>PRON>ADV',\n",
       " 'VERB>ADP>CONJ',\n",
       " 'CONJ>VERB>CONJ',\n",
       " 'ADV>ADP>ADV',\n",
       " 'NOUN>ADJ>PART',\n",
       " 'ADJ>NUM>CONJ',\n",
       " 'ADP>PROPN>PRON',\n",
       " 'PUNCT>PRON>NUM',\n",
       " 'ADV>SYM>NUM',\n",
       " 'PROPN>NOUN>ADJ',\n",
       " 'PROPN>PUNCT>PART',\n",
       " 'ADP>PUNCT>ADV',\n",
       " 'PRON>VERB>CONJ',\n",
       " 'ADV>NUM>VERB',\n",
       " 'NUM>ADV>VERB',\n",
       " 'PROPN>PART>ADV',\n",
       " 'CONJ>NOUN>PROPN',\n",
       " 'ADV>ADV>NOUN',\n",
       " 'PROPN>ADJ>ADP',\n",
       " 'ADP>PUNCT>PROPN',\n",
       " 'CONJ>DET>ADV',\n",
       " 'VERB>PRON>CONJ',\n",
       " 'ADV>ADJ>DET',\n",
       " 'CONJ>NUM>PROPN',\n",
       " 'ADJ>ADV>ADV',\n",
       " 'NOUN>PRON>ADV',\n",
       " 'NUM>PROPN>CONJ',\n",
       " 'ADV>PROPN>PUNCT',\n",
       " 'VERB>NUM>PROPN',\n",
       " 'PUNCT>NOUN>PRON',\n",
       " 'ADV>ADJ>PROPN',\n",
       " 'ADJ>PUNCT>NUM',\n",
       " 'PRON>ADV>DET',\n",
       " 'PART>PROPN>NOUN',\n",
       " 'DET>PUNCT>PROPN',\n",
       " 'PUNCT>ADJ>NUM',\n",
       " 'ADP>ADP>VERB',\n",
       " 'DET>ADV>DET',\n",
       " 'NOUN>VERB>SYM',\n",
       " 'PROPN>ADJ>PUNCT',\n",
       " 'PUNCT>ADJ>DET',\n",
       " 'VERB>NOUN>PRON',\n",
       " 'PROPN>ADP>ADV',\n",
       " 'PROPN>NUM>PRON',\n",
       " 'VERB>PUNCT>NUM',\n",
       " 'NUM>DET>ADJ',\n",
       " 'DET>VERB>PRON',\n",
       " 'CONJ>ADJ>CONJ',\n",
       " 'NOUN>ADJ>DET',\n",
       " 'CONJ>ADV>NUM',\n",
       " 'ADV>ADJ>ADV',\n",
       " 'VERB>PART>PROPN',\n",
       " 'VERB>ADV>PRON',\n",
       " 'NOUN>NUM>ADJ',\n",
       " 'PUNCT>DET>PUNCT',\n",
       " 'NUM>ADJ>VERB',\n",
       " 'VERB>NUM>NUM',\n",
       " 'NOUN>ADJ>PRON',\n",
       " 'PROPN>DET>PROPN',\n",
       " 'PART>PUNCT>VERB',\n",
       " 'ADJ>PROPN>PART',\n",
       " 'PROPN>ADV>ADJ',\n",
       " 'NOUN>DET>NUM',\n",
       " 'VERB>NUM>ADV',\n",
       " 'ADV>DET>NUM',\n",
       " 'ADV>DET>ADV',\n",
       " 'ADP>ADJ>PART',\n",
       " 'NOUN>CONJ>PART',\n",
       " 'PART>PUNCT>CONJ',\n",
       " 'ADJ>PROPN>NUM',\n",
       " 'NUM>CONJ>NOUN',\n",
       " 'VERB>PROPN>ADJ',\n",
       " 'PRON>CONJ>PROPN',\n",
       " 'NUM>VERB>CONJ',\n",
       " 'PROPN>PART>PUNCT',\n",
       " 'PROPN>ADV>PRON',\n",
       " 'PRON>PUNCT>ADP',\n",
       " 'ADV>PUNCT>PART',\n",
       " 'NUM>CONJ>PROPN',\n",
       " 'CONJ>PROPN>NUM',\n",
       " 'PROPN>DET>VERB',\n",
       " 'PROPN>ADJ>ADJ',\n",
       " 'ADJ>CONJ>ADP',\n",
       " 'DET>ADV>NUM',\n",
       " 'NOUN>PROPN>PART',\n",
       " 'PUNCT>PRON>ADJ',\n",
       " 'NOUN>DET>ADV',\n",
       " 'CONJ>NOUN>NUM',\n",
       " 'NUM>ADP>ADP',\n",
       " 'DET>PUNCT>CONJ',\n",
       " 'ADP>CONJ>VERB',\n",
       " 'VERB>PUNCT>PART',\n",
       " 'PRON>ADJ>PUNCT',\n",
       " 'NOUN>PUNCT>X',\n",
       " 'VERB>CONJ>PRON',\n",
       " 'VERB>CONJ>ADP',\n",
       " 'PRON>ADJ>ADJ',\n",
       " 'X>NOUN>PUNCT',\n",
       " 'ADP>CONJ>NUM',\n",
       " 'ADJ>CONJ>PROPN',\n",
       " 'ADP>ADP>PRON',\n",
       " 'PUNCT>ADJ>PART',\n",
       " 'NUM>ADP>ADV',\n",
       " 'CONJ>ADP>PUNCT',\n",
       " 'ADP>CONJ>DET',\n",
       " 'ADV>ADJ>NUM',\n",
       " 'X>X>PUNCT',\n",
       " 'NOUN>ADP>X',\n",
       " 'PRON>NOUN>PUNCT',\n",
       " 'SYM>NUM>NOUN',\n",
       " 'CONJ>NOUN>DET',\n",
       " ...]"
      ]
     },
     "execution_count": 50,
     "metadata": {},
     "output_type": "execute_result"
    }
   ],
   "source": [
    "vocab"
   ]
  },
  {
   "cell_type": "code",
   "execution_count": null,
   "metadata": {
    "collapsed": true
   },
   "outputs": [],
   "source": []
  },
  {
   "cell_type": "code",
   "execution_count": null,
   "metadata": {
    "collapsed": true
   },
   "outputs": [],
   "source": []
  },
  {
   "cell_type": "code",
   "execution_count": null,
   "metadata": {
    "collapsed": true
   },
   "outputs": [],
   "source": []
  },
  {
   "cell_type": "code",
   "execution_count": null,
   "metadata": {
    "collapsed": true
   },
   "outputs": [],
   "source": []
  },
  {
   "cell_type": "code",
   "execution_count": null,
   "metadata": {
    "collapsed": true
   },
   "outputs": [],
   "source": []
  },
  {
   "cell_type": "code",
   "execution_count": null,
   "metadata": {
    "collapsed": true
   },
   "outputs": [],
   "source": []
  }
 ],
 "metadata": {
  "kernelspec": {
   "display_name": "Python 3",
   "language": "python",
   "name": "python3"
  },
  "language_info": {
   "codemirror_mode": {
    "name": "ipython",
    "version": 3
   },
   "file_extension": ".py",
   "mimetype": "text/x-python",
   "name": "python",
   "nbconvert_exporter": "python",
   "pygments_lexer": "ipython3",
   "version": "3.6.0"
  }
 },
 "nbformat": 4,
 "nbformat_minor": 2
}
