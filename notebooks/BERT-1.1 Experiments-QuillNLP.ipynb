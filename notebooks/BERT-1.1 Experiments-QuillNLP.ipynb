{
 "cells": [
  {
   "cell_type": "markdown",
   "metadata": {},
   "source": [
    "# First BERT Experiments\n",
    "\n",
    "In this notebook we do some first experiments with BERT: we finetune a BERT model+classifier on each of our datasets separately and compute the accuracy of the resulting classifier on the test data."
   ]
  },
  {
   "cell_type": "markdown",
   "metadata": {},
   "source": [
    "For these experiments we use the `pytorch_transformers` package. It contains a variety of neural network architectures for transfer learning and pretrained models, including BERT and XLNET.\n",
    "\n",
    "Two different BERT models are relevant for our experiments: \n",
    "\n",
    "- BERT-base-uncased: a relatively small BERT model that should already give reasonable results,\n",
    "- BERT-large-uncased: a larger model for real state-of-the-art results."
   ]
  },
  {
   "cell_type": "code",
   "execution_count": 1,
   "metadata": {},
   "outputs": [],
   "source": [
    "BERT_MODEL = 'bert-base-uncased'\n",
    "BATCH_SIZE = 16 if \"base\" in BERT_MODEL else 2\n",
    "GRADIENT_ACCUMULATION_STEPS = 1 if \"base\" in BERT_MODEL else 8\n",
    "MAX_SEQ_LENGTH = 100\n",
    "PREFIX = \"junkfood_but\""
   ]
  },
  {
   "cell_type": "markdown",
   "metadata": {},
   "source": [
    "## Data\n",
    "\n",
    "We use the same data as for all our previous experiments. Here we load the training, development and test data for a particular prompt."
   ]
  },
  {
   "cell_type": "code",
   "execution_count": 2,
   "metadata": {},
   "outputs": [],
   "source": [
    "import sys\n",
    "sys.path.append('../')\n",
    "\n",
    "import ndjson\n",
    "import glob\n",
    "\n",
    "from quillnlp.models.bert.preprocessing import preprocess, create_label_vocabulary\n",
    "\n",
    "train_file = f\"../data/interim/{PREFIX}_train_withprompt_diverse200.ndjson\"\n",
    "synth_files = glob.glob(f\"../data/interim/{PREFIX}_train_withprompt_*.ndjson\")\n",
    "dev_file = f\"../data/interim/{PREFIX}_dev_withprompt.ndjson\"\n",
    "test_file = f\"../data/interim/{PREFIX}_test_withprompt.ndjson\"\n",
    "\n",
    "with open(train_file) as i:\n",
    "    train_data = ndjson.load(i)\n",
    "\n",
    "synth_data = []\n",
    "for f in synth_files:\n",
    "    if \"allsynth\" in f:\n",
    "        continue\n",
    "    with open(f) as i:\n",
    "        synth_data += ndjson.load(i)\n",
    "    \n",
    "with open(dev_file) as i:\n",
    "    dev_data = ndjson.load(i)\n",
    "    \n",
    "with open(test_file) as i:\n",
    "    test_data = ndjson.load(i)\n",
    "    \n",
    "label2idx = create_label_vocabulary(train_data)\n",
    "idx2label = {v:k for k,v in label2idx.items()}\n",
    "target_names = [idx2label[s] for s in range(len(idx2label))]\n",
    "\n",
    "train_dataloader = preprocess(train_data, BERT_MODEL, label2idx, MAX_SEQ_LENGTH, BATCH_SIZE)\n",
    "dev_dataloader = preprocess(dev_data, BERT_MODEL, label2idx, MAX_SEQ_LENGTH, BATCH_SIZE)\n",
    "test_dataloader = preprocess(test_data, BERT_MODEL, label2idx, MAX_SEQ_LENGTH, BATCH_SIZE, shuffle=False)"
   ]
  },
  {
   "cell_type": "markdown",
   "metadata": {},
   "source": [
    "## Model"
   ]
  },
  {
   "cell_type": "code",
   "execution_count": 3,
   "metadata": {},
   "outputs": [],
   "source": [
    "import torch\n",
    "from quillnlp.models.bert.models import get_bert_classifier\n",
    "\n",
    "device = \"cuda\" if torch.cuda.is_available() else \"cpu\"\n",
    "model = get_bert_classifier(BERT_MODEL, len(label2idx), device=device)"
   ]
  },
  {
   "cell_type": "markdown",
   "metadata": {},
   "source": [
    "## Training"
   ]
  },
  {
   "cell_type": "code",
   "execution_count": 4,
   "metadata": {},
   "outputs": [
    {
     "name": "stderr",
     "output_type": "stream",
     "text": [
      "\r",
      "Epoch:   0%|          | 0/20 [00:00<?, ?it/s]"
     ]
    },
    {
     "data": {
      "application/vnd.jupyter.widget-view+json": {
       "model_id": "1cef074a77d24da392144f6237791210",
       "version_major": 2,
       "version_minor": 0
      },
      "text/plain": [
       "HBox(children=(IntProgress(value=0, description='Training iteration', max=13, style=ProgressStyle(description_…"
      ]
     },
     "metadata": {},
     "output_type": "display_data"
    },
    {
     "name": "stdout",
     "output_type": "stream",
     "text": [
      "\n"
     ]
    },
    {
     "data": {
      "application/vnd.jupyter.widget-view+json": {
       "model_id": "25598d9eec0c48909f740167c5c0319f",
       "version_major": 2,
       "version_minor": 0
      },
      "text/plain": [
       "HBox(children=(IntProgress(value=0, description='Evaluation iteration', max=5, style=ProgressStyle(description…"
      ]
     },
     "metadata": {},
     "output_type": "display_data"
    },
    {
     "name": "stdout",
     "output_type": "stream",
     "text": [
      "\n",
      "Loss history: []\n",
      "Dev loss: 1.6459675550460815\n"
     ]
    },
    {
     "name": "stderr",
     "output_type": "stream",
     "text": [
      "\r",
      "Epoch:   5%|▌         | 1/20 [00:03<01:08,  3.63s/it]"
     ]
    },
    {
     "data": {
      "application/vnd.jupyter.widget-view+json": {
       "model_id": "ccc188b2baa84138955493df21921a1b",
       "version_major": 2,
       "version_minor": 0
      },
      "text/plain": [
       "HBox(children=(IntProgress(value=0, description='Training iteration', max=13, style=ProgressStyle(description_…"
      ]
     },
     "metadata": {},
     "output_type": "display_data"
    },
    {
     "name": "stdout",
     "output_type": "stream",
     "text": [
      "\n"
     ]
    },
    {
     "data": {
      "application/vnd.jupyter.widget-view+json": {
       "model_id": "9b28615108524e58b47c4296868b494f",
       "version_major": 2,
       "version_minor": 0
      },
      "text/plain": [
       "HBox(children=(IntProgress(value=0, description='Evaluation iteration', max=5, style=ProgressStyle(description…"
      ]
     },
     "metadata": {},
     "output_type": "display_data"
    },
    {
     "name": "stdout",
     "output_type": "stream",
     "text": [
      "\n",
      "Loss history: [1.6459675550460815]\n",
      "Dev loss: 1.5981466054916382\n"
     ]
    },
    {
     "name": "stderr",
     "output_type": "stream",
     "text": [
      "\r",
      "Epoch:  10%|█         | 2/20 [00:07<01:04,  3.56s/it]"
     ]
    },
    {
     "data": {
      "application/vnd.jupyter.widget-view+json": {
       "model_id": "3e5e9a7ddb9b41d0b8ea2d5f9b4b09d1",
       "version_major": 2,
       "version_minor": 0
      },
      "text/plain": [
       "HBox(children=(IntProgress(value=0, description='Training iteration', max=13, style=ProgressStyle(description_…"
      ]
     },
     "metadata": {},
     "output_type": "display_data"
    },
    {
     "name": "stdout",
     "output_type": "stream",
     "text": [
      "\n"
     ]
    },
    {
     "data": {
      "application/vnd.jupyter.widget-view+json": {
       "model_id": "4a6e577cee84422aa136d3c51fbf2000",
       "version_major": 2,
       "version_minor": 0
      },
      "text/plain": [
       "HBox(children=(IntProgress(value=0, description='Evaluation iteration', max=5, style=ProgressStyle(description…"
      ]
     },
     "metadata": {},
     "output_type": "display_data"
    },
    {
     "name": "stdout",
     "output_type": "stream",
     "text": [
      "\n",
      "Loss history: [1.6459675550460815, 1.5981466054916382]\n",
      "Dev loss: 1.494327187538147\n"
     ]
    },
    {
     "name": "stderr",
     "output_type": "stream",
     "text": [
      "\r",
      "Epoch:  15%|█▌        | 3/20 [00:10<00:59,  3.52s/it]"
     ]
    },
    {
     "data": {
      "application/vnd.jupyter.widget-view+json": {
       "model_id": "0b9f6280abeb4d14b15f5a3259e62bfb",
       "version_major": 2,
       "version_minor": 0
      },
      "text/plain": [
       "HBox(children=(IntProgress(value=0, description='Training iteration', max=13, style=ProgressStyle(description_…"
      ]
     },
     "metadata": {},
     "output_type": "display_data"
    },
    {
     "name": "stdout",
     "output_type": "stream",
     "text": [
      "\n"
     ]
    },
    {
     "data": {
      "application/vnd.jupyter.widget-view+json": {
       "model_id": "9a7d6034cf024b78959ec3fe1366ec65",
       "version_major": 2,
       "version_minor": 0
      },
      "text/plain": [
       "HBox(children=(IntProgress(value=0, description='Evaluation iteration', max=5, style=ProgressStyle(description…"
      ]
     },
     "metadata": {},
     "output_type": "display_data"
    },
    {
     "name": "stdout",
     "output_type": "stream",
     "text": [
      "\n",
      "Loss history: [1.6459675550460815, 1.5981466054916382, 1.494327187538147]\n",
      "Dev loss: 1.2899302244186401\n"
     ]
    },
    {
     "name": "stderr",
     "output_type": "stream",
     "text": [
      "\r",
      "Epoch:  20%|██        | 4/20 [00:13<00:55,  3.50s/it]"
     ]
    },
    {
     "data": {
      "application/vnd.jupyter.widget-view+json": {
       "model_id": "ab958f72d7cd4961bcb300267940cfd7",
       "version_major": 2,
       "version_minor": 0
      },
      "text/plain": [
       "HBox(children=(IntProgress(value=0, description='Training iteration', max=13, style=ProgressStyle(description_…"
      ]
     },
     "metadata": {},
     "output_type": "display_data"
    },
    {
     "name": "stdout",
     "output_type": "stream",
     "text": [
      "\n"
     ]
    },
    {
     "data": {
      "application/vnd.jupyter.widget-view+json": {
       "model_id": "049e9dcbf0944b768925b0764daec677",
       "version_major": 2,
       "version_minor": 0
      },
      "text/plain": [
       "HBox(children=(IntProgress(value=0, description='Evaluation iteration', max=5, style=ProgressStyle(description…"
      ]
     },
     "metadata": {},
     "output_type": "display_data"
    },
    {
     "name": "stdout",
     "output_type": "stream",
     "text": [
      "\n",
      "Loss history: [1.6459675550460815, 1.5981466054916382, 1.494327187538147, 1.2899302244186401]\n",
      "Dev loss: 1.02061585187912\n"
     ]
    },
    {
     "name": "stderr",
     "output_type": "stream",
     "text": [
      "\r",
      "Epoch:  25%|██▌       | 5/20 [00:17<00:52,  3.48s/it]"
     ]
    },
    {
     "data": {
      "application/vnd.jupyter.widget-view+json": {
       "model_id": "635ef216304f44259706205032778b02",
       "version_major": 2,
       "version_minor": 0
      },
      "text/plain": [
       "HBox(children=(IntProgress(value=0, description='Training iteration', max=13, style=ProgressStyle(description_…"
      ]
     },
     "metadata": {},
     "output_type": "display_data"
    },
    {
     "name": "stdout",
     "output_type": "stream",
     "text": [
      "\n"
     ]
    },
    {
     "data": {
      "application/vnd.jupyter.widget-view+json": {
       "model_id": "af8e5250ec984fadbd65fa98d0814e08",
       "version_major": 2,
       "version_minor": 0
      },
      "text/plain": [
       "HBox(children=(IntProgress(value=0, description='Evaluation iteration', max=5, style=ProgressStyle(description…"
      ]
     },
     "metadata": {},
     "output_type": "display_data"
    },
    {
     "name": "stderr",
     "output_type": "stream",
     "text": [
      "\r",
      "Epoch:  30%|███       | 6/20 [00:20<00:46,  3.32s/it]"
     ]
    },
    {
     "name": "stdout",
     "output_type": "stream",
     "text": [
      "\n",
      "Loss history: [1.6459675550460815, 1.5981466054916382, 1.494327187538147, 1.2899302244186401, 1.02061585187912]\n",
      "Dev loss: 1.047785222530365\n"
     ]
    },
    {
     "data": {
      "application/vnd.jupyter.widget-view+json": {
       "model_id": "e2efa9d683554ad3b3b41f7d5d73f087",
       "version_major": 2,
       "version_minor": 0
      },
      "text/plain": [
       "HBox(children=(IntProgress(value=0, description='Training iteration', max=13, style=ProgressStyle(description_…"
      ]
     },
     "metadata": {},
     "output_type": "display_data"
    },
    {
     "name": "stdout",
     "output_type": "stream",
     "text": [
      "\n"
     ]
    },
    {
     "data": {
      "application/vnd.jupyter.widget-view+json": {
       "model_id": "7d9201e7254246aeae1abaffe16e3e1f",
       "version_major": 2,
       "version_minor": 0
      },
      "text/plain": [
       "HBox(children=(IntProgress(value=0, description='Evaluation iteration', max=5, style=ProgressStyle(description…"
      ]
     },
     "metadata": {},
     "output_type": "display_data"
    },
    {
     "name": "stdout",
     "output_type": "stream",
     "text": [
      "\n",
      "Loss history: [1.6459675550460815, 1.5981466054916382, 1.494327187538147, 1.2899302244186401, 1.02061585187912, 1.047785222530365]\n",
      "Dev loss: 0.9007106423377991\n"
     ]
    },
    {
     "name": "stderr",
     "output_type": "stream",
     "text": [
      "\r",
      "Epoch:  35%|███▌      | 7/20 [00:23<00:43,  3.36s/it]"
     ]
    },
    {
     "data": {
      "application/vnd.jupyter.widget-view+json": {
       "model_id": "f29378d0c31a420f93d269e82ed433f1",
       "version_major": 2,
       "version_minor": 0
      },
      "text/plain": [
       "HBox(children=(IntProgress(value=0, description='Training iteration', max=13, style=ProgressStyle(description_…"
      ]
     },
     "metadata": {},
     "output_type": "display_data"
    },
    {
     "name": "stdout",
     "output_type": "stream",
     "text": [
      "\n"
     ]
    },
    {
     "data": {
      "application/vnd.jupyter.widget-view+json": {
       "model_id": "946c5a2a5b414e778f97f8748b869515",
       "version_major": 2,
       "version_minor": 0
      },
      "text/plain": [
       "HBox(children=(IntProgress(value=0, description='Evaluation iteration', max=5, style=ProgressStyle(description…"
      ]
     },
     "metadata": {},
     "output_type": "display_data"
    },
    {
     "name": "stdout",
     "output_type": "stream",
     "text": [
      "\n",
      "Loss history: [1.6459675550460815, 1.5981466054916382, 1.494327187538147, 1.2899302244186401, 1.02061585187912, 1.047785222530365, 0.9007106423377991]\n",
      "Dev loss: 0.7825210511684417\n"
     ]
    },
    {
     "name": "stderr",
     "output_type": "stream",
     "text": [
      "\r",
      "Epoch:  40%|████      | 8/20 [00:27<00:40,  3.38s/it]"
     ]
    },
    {
     "data": {
      "application/vnd.jupyter.widget-view+json": {
       "model_id": "7f0363af584146dba0b761f24b11b92b",
       "version_major": 2,
       "version_minor": 0
      },
      "text/plain": [
       "HBox(children=(IntProgress(value=0, description='Training iteration', max=13, style=ProgressStyle(description_…"
      ]
     },
     "metadata": {},
     "output_type": "display_data"
    },
    {
     "name": "stdout",
     "output_type": "stream",
     "text": [
      "\n"
     ]
    },
    {
     "data": {
      "application/vnd.jupyter.widget-view+json": {
       "model_id": "4edaf9cd88c3490faeeca1304712857e",
       "version_major": 2,
       "version_minor": 0
      },
      "text/plain": [
       "HBox(children=(IntProgress(value=0, description='Evaluation iteration', max=5, style=ProgressStyle(description…"
      ]
     },
     "metadata": {},
     "output_type": "display_data"
    },
    {
     "name": "stderr",
     "output_type": "stream",
     "text": [
      "\r",
      "Epoch:  45%|████▌     | 9/20 [00:30<00:35,  3.25s/it]"
     ]
    },
    {
     "name": "stdout",
     "output_type": "stream",
     "text": [
      "\n",
      "Loss history: [1.6459675550460815, 1.5981466054916382, 1.494327187538147, 1.2899302244186401, 1.02061585187912, 1.047785222530365, 0.9007106423377991, 0.7825210511684417]\n",
      "Dev loss: 0.8229950904846192\n"
     ]
    },
    {
     "data": {
      "application/vnd.jupyter.widget-view+json": {
       "model_id": "bd6a76affa3840b28a4fa97c9f9b6919",
       "version_major": 2,
       "version_minor": 0
      },
      "text/plain": [
       "HBox(children=(IntProgress(value=0, description='Training iteration', max=13, style=ProgressStyle(description_…"
      ]
     },
     "metadata": {},
     "output_type": "display_data"
    },
    {
     "name": "stdout",
     "output_type": "stream",
     "text": [
      "\n"
     ]
    },
    {
     "data": {
      "application/vnd.jupyter.widget-view+json": {
       "model_id": "283fefdaac114f90bbdd74764a49f950",
       "version_major": 2,
       "version_minor": 0
      },
      "text/plain": [
       "HBox(children=(IntProgress(value=0, description='Evaluation iteration', max=5, style=ProgressStyle(description…"
      ]
     },
     "metadata": {},
     "output_type": "display_data"
    },
    {
     "name": "stderr",
     "output_type": "stream",
     "text": [
      "\r",
      "Epoch:  50%|█████     | 10/20 [00:33<00:31,  3.17s/it]"
     ]
    },
    {
     "name": "stdout",
     "output_type": "stream",
     "text": [
      "\n",
      "Loss history: [1.6459675550460815, 1.5981466054916382, 1.494327187538147, 1.2899302244186401, 1.02061585187912, 1.047785222530365, 0.9007106423377991, 0.7825210511684417, 0.8229950904846192]\n",
      "Dev loss: 0.803441333770752\n"
     ]
    },
    {
     "data": {
      "application/vnd.jupyter.widget-view+json": {
       "model_id": "148411d4a76f44139f8c483791637e9d",
       "version_major": 2,
       "version_minor": 0
      },
      "text/plain": [
       "HBox(children=(IntProgress(value=0, description='Training iteration', max=13, style=ProgressStyle(description_…"
      ]
     },
     "metadata": {},
     "output_type": "display_data"
    },
    {
     "name": "stdout",
     "output_type": "stream",
     "text": [
      "\n"
     ]
    },
    {
     "data": {
      "application/vnd.jupyter.widget-view+json": {
       "model_id": "c8b350ebf71e406387253290e295ddc4",
       "version_major": 2,
       "version_minor": 0
      },
      "text/plain": [
       "HBox(children=(IntProgress(value=0, description='Evaluation iteration', max=5, style=ProgressStyle(description…"
      ]
     },
     "metadata": {},
     "output_type": "display_data"
    },
    {
     "name": "stdout",
     "output_type": "stream",
     "text": [
      "\n",
      "Loss history: [1.6459675550460815, 1.5981466054916382, 1.494327187538147, 1.2899302244186401, 1.02061585187912, 1.047785222530365, 0.9007106423377991, 0.7825210511684417, 0.8229950904846192, 0.803441333770752]\n",
      "Dev loss: 0.72945476770401\n"
     ]
    },
    {
     "name": "stderr",
     "output_type": "stream",
     "text": [
      "\r",
      "Epoch:  55%|█████▌    | 11/20 [00:36<00:29,  3.25s/it]"
     ]
    },
    {
     "data": {
      "application/vnd.jupyter.widget-view+json": {
       "model_id": "7c965dda5e4f4f2bbca6529ffaf077e4",
       "version_major": 2,
       "version_minor": 0
      },
      "text/plain": [
       "HBox(children=(IntProgress(value=0, description='Training iteration', max=13, style=ProgressStyle(description_…"
      ]
     },
     "metadata": {},
     "output_type": "display_data"
    },
    {
     "name": "stdout",
     "output_type": "stream",
     "text": [
      "\n"
     ]
    },
    {
     "data": {
      "application/vnd.jupyter.widget-view+json": {
       "model_id": "a2a69adb2cda43de9f5957ba0d63cc2f",
       "version_major": 2,
       "version_minor": 0
      },
      "text/plain": [
       "HBox(children=(IntProgress(value=0, description='Evaluation iteration', max=5, style=ProgressStyle(description…"
      ]
     },
     "metadata": {},
     "output_type": "display_data"
    },
    {
     "name": "stderr",
     "output_type": "stream",
     "text": [
      "\r",
      "Epoch:  60%|██████    | 12/20 [00:39<00:25,  3.16s/it]"
     ]
    },
    {
     "name": "stdout",
     "output_type": "stream",
     "text": [
      "\n",
      "Loss history: [1.6459675550460815, 1.5981466054916382, 1.494327187538147, 1.2899302244186401, 1.02061585187912, 1.047785222530365, 0.9007106423377991, 0.7825210511684417, 0.8229950904846192, 0.803441333770752, 0.72945476770401]\n",
      "Dev loss: 0.7813196420669556\n"
     ]
    },
    {
     "data": {
      "application/vnd.jupyter.widget-view+json": {
       "model_id": "27d761a12b54464da9015bb1e7db2522",
       "version_major": 2,
       "version_minor": 0
      },
      "text/plain": [
       "HBox(children=(IntProgress(value=0, description='Training iteration', max=13, style=ProgressStyle(description_…"
      ]
     },
     "metadata": {},
     "output_type": "display_data"
    },
    {
     "name": "stdout",
     "output_type": "stream",
     "text": [
      "\n"
     ]
    },
    {
     "data": {
      "application/vnd.jupyter.widget-view+json": {
       "model_id": "213e32eb9f03447bb2965ec94d23f0ca",
       "version_major": 2,
       "version_minor": 0
      },
      "text/plain": [
       "HBox(children=(IntProgress(value=0, description='Evaluation iteration', max=5, style=ProgressStyle(description…"
      ]
     },
     "metadata": {},
     "output_type": "display_data"
    },
    {
     "name": "stdout",
     "output_type": "stream",
     "text": [
      "\n",
      "Loss history: [1.6459675550460815, 1.5981466054916382, 1.494327187538147, 1.2899302244186401, 1.02061585187912, 1.047785222530365, 0.9007106423377991, 0.7825210511684417, 0.8229950904846192, 0.803441333770752, 0.72945476770401, 0.7813196420669556]\n",
      "Dev loss: 0.7008043587207794\n"
     ]
    },
    {
     "name": "stderr",
     "output_type": "stream",
     "text": [
      "\r",
      "Epoch:  65%|██████▌   | 13/20 [00:42<00:22,  3.25s/it]"
     ]
    },
    {
     "data": {
      "application/vnd.jupyter.widget-view+json": {
       "model_id": "21cd62dba0df4098b7d2fe04d9bd5e41",
       "version_major": 2,
       "version_minor": 0
      },
      "text/plain": [
       "HBox(children=(IntProgress(value=0, description='Training iteration', max=13, style=ProgressStyle(description_…"
      ]
     },
     "metadata": {},
     "output_type": "display_data"
    },
    {
     "name": "stdout",
     "output_type": "stream",
     "text": [
      "\n"
     ]
    },
    {
     "data": {
      "application/vnd.jupyter.widget-view+json": {
       "model_id": "ad42ce4140e74efabf0bc9e5729144f1",
       "version_major": 2,
       "version_minor": 0
      },
      "text/plain": [
       "HBox(children=(IntProgress(value=0, description='Evaluation iteration', max=5, style=ProgressStyle(description…"
      ]
     },
     "metadata": {},
     "output_type": "display_data"
    },
    {
     "name": "stderr",
     "output_type": "stream",
     "text": [
      "\r",
      "Epoch:  70%|███████   | 14/20 [00:45<00:18,  3.16s/it]"
     ]
    },
    {
     "name": "stdout",
     "output_type": "stream",
     "text": [
      "\n",
      "Loss history: [1.6459675550460815, 1.5981466054916382, 1.494327187538147, 1.2899302244186401, 1.02061585187912, 1.047785222530365, 0.9007106423377991, 0.7825210511684417, 0.8229950904846192, 0.803441333770752, 0.72945476770401, 0.7813196420669556, 0.7008043587207794]\n",
      "Dev loss: 0.7750071108341217\n"
     ]
    },
    {
     "data": {
      "application/vnd.jupyter.widget-view+json": {
       "model_id": "55a582cc3a0247fea48baeb3210c9395",
       "version_major": 2,
       "version_minor": 0
      },
      "text/plain": [
       "HBox(children=(IntProgress(value=0, description='Training iteration', max=13, style=ProgressStyle(description_…"
      ]
     },
     "metadata": {},
     "output_type": "display_data"
    },
    {
     "name": "stdout",
     "output_type": "stream",
     "text": [
      "\n"
     ]
    },
    {
     "data": {
      "application/vnd.jupyter.widget-view+json": {
       "model_id": "8b89e550ab9147fd9b3e4601bef64989",
       "version_major": 2,
       "version_minor": 0
      },
      "text/plain": [
       "HBox(children=(IntProgress(value=0, description='Evaluation iteration', max=5, style=ProgressStyle(description…"
      ]
     },
     "metadata": {},
     "output_type": "display_data"
    },
    {
     "name": "stderr",
     "output_type": "stream",
     "text": [
      "\r",
      "Epoch:  75%|███████▌  | 15/20 [00:48<00:15,  3.11s/it]"
     ]
    },
    {
     "name": "stdout",
     "output_type": "stream",
     "text": [
      "\n",
      "Loss history: [1.6459675550460815, 1.5981466054916382, 1.494327187538147, 1.2899302244186401, 1.02061585187912, 1.047785222530365, 0.9007106423377991, 0.7825210511684417, 0.8229950904846192, 0.803441333770752, 0.72945476770401, 0.7813196420669556, 0.7008043587207794, 0.7750071108341217]\n",
      "Dev loss: 0.7170183479785919\n"
     ]
    },
    {
     "data": {
      "application/vnd.jupyter.widget-view+json": {
       "model_id": "971742cc8aa447a5a02848229228987e",
       "version_major": 2,
       "version_minor": 0
      },
      "text/plain": [
       "HBox(children=(IntProgress(value=0, description='Training iteration', max=13, style=ProgressStyle(description_…"
      ]
     },
     "metadata": {},
     "output_type": "display_data"
    },
    {
     "name": "stdout",
     "output_type": "stream",
     "text": [
      "\n"
     ]
    },
    {
     "data": {
      "application/vnd.jupyter.widget-view+json": {
       "model_id": "b22193b2f6ff49679700ccc53e4c9320",
       "version_major": 2,
       "version_minor": 0
      },
      "text/plain": [
       "HBox(children=(IntProgress(value=0, description='Evaluation iteration', max=5, style=ProgressStyle(description…"
      ]
     },
     "metadata": {},
     "output_type": "display_data"
    },
    {
     "name": "stdout",
     "output_type": "stream",
     "text": [
      "\n",
      "Loss history: [1.6459675550460815, 1.5981466054916382, 1.494327187538147, 1.2899302244186401, 1.02061585187912, 1.047785222530365, 0.9007106423377991, 0.7825210511684417, 0.8229950904846192, 0.803441333770752, 0.72945476770401, 0.7813196420669556, 0.7008043587207794, 0.7750071108341217, 0.7170183479785919]\n",
      "Dev loss: 0.6437321200966835\n"
     ]
    },
    {
     "name": "stderr",
     "output_type": "stream",
     "text": [
      "\r",
      "Epoch:  80%|████████  | 16/20 [00:52<00:12,  3.21s/it]"
     ]
    },
    {
     "data": {
      "application/vnd.jupyter.widget-view+json": {
       "model_id": "ed93bb905b5a4bf38501baf350834c4c",
       "version_major": 2,
       "version_minor": 0
      },
      "text/plain": [
       "HBox(children=(IntProgress(value=0, description='Training iteration', max=13, style=ProgressStyle(description_…"
      ]
     },
     "metadata": {},
     "output_type": "display_data"
    },
    {
     "name": "stdout",
     "output_type": "stream",
     "text": [
      "\n"
     ]
    },
    {
     "data": {
      "application/vnd.jupyter.widget-view+json": {
       "model_id": "75747ea2776345cca84c874e21b833ca",
       "version_major": 2,
       "version_minor": 0
      },
      "text/plain": [
       "HBox(children=(IntProgress(value=0, description='Evaluation iteration', max=5, style=ProgressStyle(description…"
      ]
     },
     "metadata": {},
     "output_type": "display_data"
    },
    {
     "name": "stderr",
     "output_type": "stream",
     "text": [
      "\r",
      "Epoch:  85%|████████▌ | 17/20 [00:55<00:09,  3.14s/it]"
     ]
    },
    {
     "name": "stdout",
     "output_type": "stream",
     "text": [
      "\n",
      "Loss history: [1.6459675550460815, 1.5981466054916382, 1.494327187538147, 1.2899302244186401, 1.02061585187912, 1.047785222530365, 0.9007106423377991, 0.7825210511684417, 0.8229950904846192, 0.803441333770752, 0.72945476770401, 0.7813196420669556, 0.7008043587207794, 0.7750071108341217, 0.7170183479785919, 0.6437321200966835]\n",
      "Dev loss: 0.7638194292783738\n"
     ]
    },
    {
     "data": {
      "application/vnd.jupyter.widget-view+json": {
       "model_id": "0d4d3e0343b04debb517da40b7646c63",
       "version_major": 2,
       "version_minor": 0
      },
      "text/plain": [
       "HBox(children=(IntProgress(value=0, description='Training iteration', max=13, style=ProgressStyle(description_…"
      ]
     },
     "metadata": {},
     "output_type": "display_data"
    },
    {
     "name": "stdout",
     "output_type": "stream",
     "text": [
      "\n"
     ]
    },
    {
     "data": {
      "application/vnd.jupyter.widget-view+json": {
       "model_id": "34785cfdaf8241728b678f7900508005",
       "version_major": 2,
       "version_minor": 0
      },
      "text/plain": [
       "HBox(children=(IntProgress(value=0, description='Evaluation iteration', max=5, style=ProgressStyle(description…"
      ]
     },
     "metadata": {},
     "output_type": "display_data"
    },
    {
     "name": "stderr",
     "output_type": "stream",
     "text": [
      "\r",
      "Epoch:  90%|█████████ | 18/20 [00:58<00:06,  3.09s/it]"
     ]
    },
    {
     "name": "stdout",
     "output_type": "stream",
     "text": [
      "\n",
      "Loss history: [1.6459675550460815, 1.5981466054916382, 1.494327187538147, 1.2899302244186401, 1.02061585187912, 1.047785222530365, 0.9007106423377991, 0.7825210511684417, 0.8229950904846192, 0.803441333770752, 0.72945476770401, 0.7813196420669556, 0.7008043587207794, 0.7750071108341217, 0.7170183479785919, 0.6437321200966835, 0.7638194292783738]\n",
      "Dev loss: 0.7193580329418182\n"
     ]
    },
    {
     "data": {
      "application/vnd.jupyter.widget-view+json": {
       "model_id": "67cce90b999c447fb47a5d9c26e51fc1",
       "version_major": 2,
       "version_minor": 0
      },
      "text/plain": [
       "HBox(children=(IntProgress(value=0, description='Training iteration', max=13, style=ProgressStyle(description_…"
      ]
     },
     "metadata": {},
     "output_type": "display_data"
    },
    {
     "name": "stdout",
     "output_type": "stream",
     "text": [
      "\n"
     ]
    },
    {
     "data": {
      "application/vnd.jupyter.widget-view+json": {
       "model_id": "860b66dce29a4d6ebd13c062d5a9b1f7",
       "version_major": 2,
       "version_minor": 0
      },
      "text/plain": [
       "HBox(children=(IntProgress(value=0, description='Evaluation iteration', max=5, style=ProgressStyle(description…"
      ]
     },
     "metadata": {},
     "output_type": "display_data"
    },
    {
     "name": "stderr",
     "output_type": "stream",
     "text": [
      "\r",
      "Epoch:  95%|█████████▌| 19/20 [01:01<00:03,  3.05s/it]"
     ]
    },
    {
     "name": "stdout",
     "output_type": "stream",
     "text": [
      "\n",
      "Loss history: [1.6459675550460815, 1.5981466054916382, 1.494327187538147, 1.2899302244186401, 1.02061585187912, 1.047785222530365, 0.9007106423377991, 0.7825210511684417, 0.8229950904846192, 0.803441333770752, 0.72945476770401, 0.7813196420669556, 0.7008043587207794, 0.7750071108341217, 0.7170183479785919, 0.6437321200966835, 0.7638194292783738, 0.7193580329418182]\n",
      "Dev loss: 0.7742080330848694\n"
     ]
    },
    {
     "data": {
      "application/vnd.jupyter.widget-view+json": {
       "model_id": "21c76bf4d7e3476a8e777f79db570725",
       "version_major": 2,
       "version_minor": 0
      },
      "text/plain": [
       "HBox(children=(IntProgress(value=0, description='Training iteration', max=13, style=ProgressStyle(description_…"
      ]
     },
     "metadata": {},
     "output_type": "display_data"
    },
    {
     "name": "stdout",
     "output_type": "stream",
     "text": [
      "\n"
     ]
    },
    {
     "data": {
      "application/vnd.jupyter.widget-view+json": {
       "model_id": "02bf71e9de414478bfe20742a7ab4f23",
       "version_major": 2,
       "version_minor": 0
      },
      "text/plain": [
       "HBox(children=(IntProgress(value=0, description='Evaluation iteration', max=5, style=ProgressStyle(description…"
      ]
     },
     "metadata": {},
     "output_type": "display_data"
    },
    {
     "name": "stderr",
     "output_type": "stream",
     "text": [
      "\r",
      "Epoch: 100%|██████████| 20/20 [01:04<00:00,  3.03s/it]"
     ]
    },
    {
     "name": "stdout",
     "output_type": "stream",
     "text": [
      "\n",
      "Loss history: [1.6459675550460815, 1.5981466054916382, 1.494327187538147, 1.2899302244186401, 1.02061585187912, 1.047785222530365, 0.9007106423377991, 0.7825210511684417, 0.8229950904846192, 0.803441333770752, 0.72945476770401, 0.7813196420669556, 0.7008043587207794, 0.7750071108341217, 0.7170183479785919, 0.6437321200966835, 0.7638194292783738, 0.7193580329418182, 0.7742080330848694]\n",
      "Dev loss: 0.7039884328842163\n"
     ]
    },
    {
     "name": "stderr",
     "output_type": "stream",
     "text": [
      "\n"
     ]
    }
   ],
   "source": [
    "from quillnlp.models.bert.train import train\n",
    "\n",
    "output_model_file = train(model, train_dataloader, dev_dataloader, BATCH_SIZE, GRADIENT_ACCUMULATION_STEPS, device)"
   ]
  },
  {
   "cell_type": "markdown",
   "metadata": {},
   "source": [
    "## Evaluation"
   ]
  },
  {
   "cell_type": "code",
   "execution_count": 5,
   "metadata": {},
   "outputs": [
    {
     "name": "stdout",
     "output_type": "stream",
     "text": [
      "Loading model from /tmp/model.bin\n"
     ]
    },
    {
     "data": {
      "application/vnd.jupyter.widget-view+json": {
       "model_id": "f590c17d0ae141b69e93bd6bb3489326",
       "version_major": 2,
       "version_minor": 0
      },
      "text/plain": [
       "HBox(children=(IntProgress(value=0, description='Evaluation iteration', max=10, style=ProgressStyle(descriptio…"
      ]
     },
     "metadata": {},
     "output_type": "display_data"
    },
    {
     "name": "stdout",
     "output_type": "stream",
     "text": [
      "\n",
      "Test performance: (0.7712418300653595, 0.7712418300653595, 0.7712418300653595, None)\n",
      "                                           precision    recall  f1-score   support\n",
      "\n",
      "   Schools providing healthy alternatives       0.95      0.93      0.94        75\n",
      "                  Students without choice       0.70      0.79      0.74        33\n",
      "                   Schools generate money       1.00      0.75      0.86         8\n",
      "                           Student choice       0.46      0.86      0.60         7\n",
      "Students can still bring/access junk food       0.00      0.00      0.00         3\n",
      "                   Unclassified Off-Topic       0.36      0.45      0.40        11\n",
      "          School without generating money       0.56      0.31      0.40        16\n",
      "\n",
      "                              avg / total       0.77      0.77      0.76       153\n",
      "\n"
     ]
    },
    {
     "name": "stderr",
     "output_type": "stream",
     "text": [
      "/opt/anaconda3/lib/python3.7/site-packages/sklearn/metrics/classification.py:1135: UndefinedMetricWarning: Precision and F-score are ill-defined and being set to 0.0 in labels with no predicted samples.\n",
      "  'precision', 'predicted', average, warn_for)\n"
     ]
    }
   ],
   "source": [
    "from quillnlp.models.bert.train import evaluate\n",
    "from sklearn.metrics import precision_recall_fscore_support, classification_report\n",
    "\n",
    "print(\"Loading model from\", output_model_file)\n",
    "device=\"cpu\"\n",
    "\n",
    "model = get_bert_classifier(BERT_MODEL, len(label2idx), model_file=output_model_file, device=device)\n",
    "model.eval()\n",
    "\n",
    "_, test_correct, test_predicted = evaluate(model, test_dataloader, device)\n",
    "\n",
    "print(\"Test performance:\", precision_recall_fscore_support(test_correct, test_predicted, average=\"micro\"))\n",
    "print(classification_report(test_correct, test_predicted, target_names=target_names))"
   ]
  },
  {
   "cell_type": "code",
   "execution_count": 6,
   "metadata": {},
   "outputs": [
    {
     "name": "stdout",
     "output_type": "stream",
     "text": [
      "Schools should not allow junk food to be sold on campus but kids will still bring in unhealthy food#Students without choice#Students without choice\n",
      "Schools should not allow junk food to be sold on campus but some think students should be able to choose what they eat#Student choice#Student choice\n",
      "Schools should not allow junk food to be sold on campus but maybe on certain special occasions or at events#Unclassified Off-Topic#Unclassified Off-Topic\n",
      "Schools should not allow junk food to be sold on campus but students may bring it anyway#Students without choice#Students without choice\n",
      "Schools should not allow junk food to be sold on campus but they can choose to sell food that are nutritious and healthy#Schools providing healthy alternatives#Schools providing healthy alternatives\n",
      "Schools should not allow junk food to be sold on campus but ultimately it is up to the individual student what they eat or drink#Students without choice#Student choice\n",
      "Schools should not allow junk food to be sold on campus but should provide healthier choices#Schools providing healthy alternatives#Schools providing healthy alternatives\n",
      "Schools should not allow junk food to be sold on campus but Can sell healthier options#Schools providing healthy alternatives#Schools providing healthy alternatives\n",
      "Schools should not allow junk food to be sold on campus but familes should have a say in what their kids eat#Students without choice#Unclassified Off-Topic\n",
      "Schools should not allow junk food to be sold on campus but there should be alternatives they sell#Schools providing healthy alternatives#Schools providing healthy alternatives\n",
      "Schools should not allow junk food to be sold on campus but students should be allowed to bring it to school#Students without choice#Students without choice\n",
      "Schools should not allow junk food to be sold on campus but they could sell healthy options elsewhere#Schools providing healthy alternatives#Schools providing healthy alternatives\n",
      "Schools should not allow junk food to be sold on campus but they should have treats on special days#Students without choice#Unclassified Off-Topic\n",
      "Schools should not allow junk food to be sold on campus but they could just have a small amount of it instead of the amount they have been selling at#School without generating money#Unclassified Off-Topic\n",
      "Schools should not allow junk food to be sold on campus but they should inform the students as to why#Students without choice#Students without choice\n",
      "Schools should not allow junk food to be sold on campus but serious consideration must be made in choosing replacements for it#Schools providing healthy alternatives#Students without choice\n",
      "Schools should not allow junk food to be sold on campus but it is good to have a balance of healthy and junk food#Schools providing healthy alternatives#Schools providing healthy alternatives\n",
      "Schools should not allow junk food to be sold on campus but they should also incorporate greater amounts of exercise into the school day#School without generating money#Unclassified Off-Topic\n",
      "Schools should not allow junk food to be sold on campus but allow them to take it with them to school if they so wish#School without generating money#Unclassified Off-Topic\n",
      "Schools should not allow junk food to be sold on campus but should provide healthy, nutritious food instead#Schools providing healthy alternatives#Schools providing healthy alternatives\n",
      "Schools should not allow junk food to be sold on campus but kids are fond of junk foods#Students without choice#Students without choice\n",
      "Schools should not allow junk food to be sold on campus but schools make a sizable profit by selling junk food items in vending machines#School without generating money#School without generating money\n",
      "Schools should not allow junk food to be sold on campus but they have to get an incentive to stop offering it#School without generating money#School without generating money\n",
      "Schools should not allow junk food to be sold on campus but can offer healthy food choices in vending machines#Schools providing healthy alternatives#Schools providing healthy alternatives\n",
      "Schools should not allow junk food to be sold on campus but I can see how the schools want to give the kids a choice#Student choice#Student choice\n",
      "Schools should not allow junk food to be sold on campus but in the long run, a person's health choices are personal, and government institutions should not be able to dictate such choices#Unclassified Off-Topic#Student choice\n",
      "Schools should not allow junk food to be sold on campus but parents should also provide education and rules at home around food choices#Unclassified Off-Topic#Students without choice\n",
      "Schools should not allow junk food to be sold on campus but should allow children to bring it in their lunch boxes if their parents send it in their lunch#Students without choice#Students without choice\n",
      "Schools should not allow junk food to be sold on campus but the sale of junk food can generate a significant amount of profit#Schools generate money#Schools generate money\n",
      "Schools should not allow junk food to be sold on campus but they could allow healthier alternatives#Schools providing healthy alternatives#Schools providing healthy alternatives\n",
      "Schools should not allow junk food to be sold on campus but they should be allowed to bring it from home#Students without choice#Students without choice\n",
      "Schools should not allow junk food to be sold on campus but could offer alternative healthy foods in their place#Schools providing healthy alternatives#Schools providing healthy alternatives\n",
      "Schools should not allow junk food to be sold on campus but should instead promote healthy eating options#Schools providing healthy alternatives#Schools providing healthy alternatives\n",
      "Schools should not allow junk food to be sold on campus but it does generate money#Schools generate money#Schools generate money\n",
      "Schools should not allow junk food to be sold on campus but give alternate snacks that are healthier#Schools providing healthy alternatives#Schools providing healthy alternatives\n",
      "Schools should not allow junk food to be sold on campus but should provided healthy alternatives#Schools providing healthy alternatives#Schools providing healthy alternatives\n",
      "Schools should not allow junk food to be sold on campus but they probably will continue to do so#School without generating money#School without generating money\n",
      "Schools should not allow junk food to be sold on campus but provide a healthy alternative to sugary snack foods#Schools providing healthy alternatives#Schools providing healthy alternatives\n",
      "Schools should not allow junk food to be sold on campus but students should be allowed to choose what they eat#Student choice#Student choice\n",
      "Schools should not allow junk food to be sold on campus but they should not prohibit it if students bring it on their own#Students without choice#Students without choice\n",
      "Schools should not allow junk food to be sold on campus but it does provide the school system with extra revenue#Schools generate money#School without generating money\n",
      "Schools should not allow junk food to be sold on campus but if people want it it, they will still find a way to have it#Students without choice#Students without choice\n",
      "Schools should not allow junk food to be sold on campus but should allow for healthy food to be available#Schools providing healthy alternatives#Schools providing healthy alternatives\n",
      "Schools should not allow junk food to be sold on campus but healthy snacks should be added to school vending machines as part of an initiative aimed at changing kids' eating and fitness habits#Schools providing healthy alternatives#Schools providing healthy alternatives\n",
      "Schools should not allow junk food to be sold on campus but offer different alternatives#Schools providing healthy alternatives#Schools providing healthy alternatives\n",
      "Schools should not allow junk food to be sold on campus but some say students should be able to make their own choices of what to eat#Student choice#Student choice\n",
      "Schools should not allow junk food to be sold on campus but there could be an argument for teaching kids to make decisions in the face of temptation by allowing the food to remain#Students without choice#Student choice\n",
      "Schools should not allow junk food to be sold on campus but they should make sure the healthier options are things kids will actually enjoy#Schools providing healthy alternatives#Schools providing healthy alternatives\n",
      "Schools should not allow junk food to be sold on campus but they should offer healthy alternatives and encourage children to make better decisions#Schools providing healthy alternatives#Schools providing healthy alternatives\n",
      "Schools should not allow junk food to be sold on campus but I think that giving the kids healthy choices would be a great replacement#Schools providing healthy alternatives#Schools providing healthy alternatives\n",
      "Schools should not allow junk food to be sold on campus but instead should provide healthier food alternatives#Schools providing healthy alternatives#Schools providing healthy alternatives\n",
      "Schools should not allow junk food to be sold on campus but allowed to bring healthier food to the school#Schools providing healthy alternatives#Schools providing healthy alternatives\n",
      "Schools should not allow junk food to be sold on campus but they should have greater accessibility to nutrient dense foods#School without generating money#Schools providing healthy alternatives\n",
      "Schools should not allow junk food to be sold on campus but it needs to follow through at home with their own families#Unclassified Off-Topic#Students without choice\n",
      "Schools should not allow junk food to be sold on campus but instead they should bring some healthy snacks and foods#Schools providing healthy alternatives#Schools providing healthy alternatives\n",
      "Schools should not allow junk food to be sold on campus but selling snacks does raise money for the school#Schools generate money#Schools generate money\n",
      "Schools should not allow junk food to be sold on campus but also not punish students for possessing junk food, since it is readily available and does not constitute an inherent threat that would warrant harsh punishment#Students without choice#Students without choice\n",
      "Schools should not allow junk food to be sold on campus but should provide healthy snacks instead to raise revenue#Schools providing healthy alternatives#Schools providing healthy alternatives\n",
      "Schools should not allow junk food to be sold on campus but they may offer more choices of healthy food#Schools providing healthy alternatives#Schools providing healthy alternatives\n",
      "Schools should not allow junk food to be sold on campus but it should be noted that every child has their own personal decision of what they want to eat#Students without choice#Student choice\n",
      "Schools should not allow junk food to be sold on campus but it does help the school make money#Schools generate money#Schools generate money\n",
      "Schools should not allow junk food to be sold on campus but allow students to bring in whatever foods their family allows#Students without choice#Students without choice\n",
      "Schools should not allow junk food to be sold on campus but many kids prefer junk food#Students without choice#Students without choice\n",
      "Schools should not allow junk food to be sold on campus but should have snacks that are healthy alternatives as treats#Schools providing healthy alternatives#Schools providing healthy alternatives\n",
      "Schools should not allow junk food to be sold on campus but I think they should sell other healthy snacks#Schools providing healthy alternatives#Schools providing healthy alternatives\n",
      "Schools should not allow junk food to be sold on campus but instead should offer a wider variety of healthier snacks, so there is something for all students to enjoy#Schools providing healthy alternatives#Schools providing healthy alternatives\n",
      "Schools should not allow junk food to be sold on campus but they should be allowed to provide healthy snacks and drinks for students to enjoy#Schools providing healthy alternatives#Schools providing healthy alternatives\n",
      "Schools should not allow junk food to be sold on campus but they can slowly integrate healthier choices such as baked potato chips instead of fried#Schools providing healthy alternatives#Schools providing healthy alternatives\n",
      "Schools should not allow junk food to be sold on campus but they should incorporate healthy initiatives#Schools providing healthy alternatives#Schools providing healthy alternatives\n",
      "Schools should not allow junk food to be sold on campus but they should have healthy alternatives for the kids to turn too when they do want a snack#Schools providing healthy alternatives#Schools providing healthy alternatives\n",
      "Schools should not allow junk food to be sold on campus but certain snacks are alright#Schools providing healthy alternatives#Students without choice\n",
      "Schools should not allow junk food to be sold on campus but let students do what they want#Students without choice#Students without choice\n",
      "Schools should not allow junk food to be sold on campus but should respect students' right of free choice#Student choice#Students without choice\n",
      "Schools should not allow junk food to be sold on campus but they should teach students accurate health information#Schools providing healthy alternatives#Students without choice\n",
      "Schools should not allow junk food to be sold on campus but they should have healthy snacks#Schools providing healthy alternatives#Schools providing healthy alternatives\n",
      "Schools should not allow junk food to be sold on campus but offer healthy alternatives#Schools providing healthy alternatives#Schools providing healthy alternatives\n",
      "Schools should not allow junk food to be sold on campus but if a student really wants junk food, they can make he more conscious decision to purchase their junk food at a local grocery store#Students without choice#Students without choice\n",
      "Schools should not allow junk food to be sold on campus but should instead offer healthier options#Schools providing healthy alternatives#Schools providing healthy alternatives\n",
      "Schools should not allow junk food to be sold on campus but at the end of the day, it's the students choice#Student choice#Student choice\n",
      "Schools should not allow junk food to be sold on campus but they should allow students to bring whatever food they wish to consume from home, as long as the school makes an effort to educate students about the risks of unhealthy eating habits#Students without choice#Students without choice\n",
      "Schools should not allow junk food to be sold on campus but should also be limited on what quasi-healthy options are available as well (eg#Schools providing healthy alternatives#Schools providing healthy alternatives\n",
      "Schools should not allow junk food to be sold on campus but some people think students should be able to choose what they eat#Student choice#Student choice\n",
      "Schools should not allow junk food to be sold on campus but should offer healthy alternatives like fruit#Schools providing healthy alternatives#Schools providing healthy alternatives\n",
      "Schools should not allow junk food to be sold on campus but they should make sure there are healthy options for snacks to replace the junk food#Schools providing healthy alternatives#Schools providing healthy alternatives\n",
      "Schools should not allow junk food to be sold on campus but should offer healthy alternatives to junk food#Schools providing healthy alternatives#Schools providing healthy alternatives\n",
      "Schools should not allow junk food to be sold on campus but they should having vending machines that sell healthy options#Schools providing healthy alternatives#Schools providing healthy alternatives\n",
      "Schools should not allow junk food to be sold on campus but they do#School without generating money#Unclassified Off-Topic\n",
      "Schools should not allow junk food to be sold on campus but students should be allowed to bring junk food to campus if they desire#Students without choice#Students without choice\n",
      "Schools should not allow junk food to be sold on campus but healthy snacks should be#Schools providing healthy alternatives#Schools providing healthy alternatives\n",
      "Schools should not allow junk food to be sold on campus but should be allowed to sell snacks and soda#Schools providing healthy alternatives#Schools providing healthy alternatives\n",
      "Schools should not allow junk food to be sold on campus but should offer reasonable alternative to the type of snacks that you would expect to find at a school#Schools providing healthy alternatives#Schools providing healthy alternatives\n",
      "Schools should not allow junk food to be sold on campus but they should sell healthy options#Schools providing healthy alternatives#Schools providing healthy alternatives\n",
      "Schools should not allow junk food to be sold on campus but should offer healthy alternative snacks to purchase#Schools providing healthy alternatives#Schools providing healthy alternatives\n",
      "Schools should not allow junk food to be sold on campus but they should allow students to choose what they eat by bringing their own snacks if they want#Students can still bring/access junk food#Students without choice\n",
      "Schools should not allow junk food to be sold on campus but they should be offering healthy snacks#Schools providing healthy alternatives#Schools providing healthy alternatives\n",
      "Schools should not allow junk food to be sold on campus but educating students about good food choices still needs to happen because they will have access to junk food off campus#Students without choice#Students without choice\n",
      "Schools should not allow junk food to be sold on campus but have healthy options#Schools providing healthy alternatives#Schools providing healthy alternatives\n",
      "Schools should not allow junk food to be sold on campus but they should allow kids to bring their own if they want#Students without choice#Students without choice\n",
      "Schools should not allow junk food to be sold on campus but provide alternative healthy snacks#Schools providing healthy alternatives#Schools providing healthy alternatives\n",
      "Schools should not allow junk food to be sold on campus but here schools are, still selling this junk food that only promotes poor eating habits which could lead to a lot of health complications#School without generating money#Unclassified Off-Topic\n",
      "Schools should not allow junk food to be sold on campus but they should make sure that something is available to purchase if the children need to#Students without choice#Students without choice\n",
      "Schools should not allow junk food to be sold on campus but they tried to give us a choice between food#School without generating money#Student choice\n",
      "Schools should not allow junk food to be sold on campus but provide public health education of its dangers#Schools providing healthy alternatives#Unclassified Off-Topic\n",
      "Schools should not allow junk food to be sold on campus but in some cases junk food can be sold once a month#Unclassified Off-Topic#Unclassified Off-Topic\n",
      "Schools should not allow junk food to be sold on campus but there could be certain times or events where some junk food may be purchased#Unclassified Off-Topic#School without generating money\n",
      "Schools should not allow junk food to be sold on campus but be allowed to sell healthier alternative snacks and food#Schools providing healthy alternatives#Schools providing healthy alternatives\n",
      "Schools should not allow junk food to be sold on campus but they are allowed to bring it themselves#Students without choice#Students without choice\n",
      "Schools should not allow junk food to be sold on campus but ITS NOT GOOD#Unclassified Off-Topic#Unclassified Off-Topic\n",
      "Schools should not allow junk food to be sold on campus but many schools do it because they do not see it as their job to change the diet of their students#School without generating money#School without generating money\n",
      "Schools should not allow junk food to be sold on campus but in some cases junk food is less expensive than healthier options so junk is perhaps all some can afford#Schools providing healthy alternatives#Schools providing healthy alternatives\n",
      "Schools should not allow junk food to be sold on campus but they should not interfere with what students bring for lunch from home#School without generating money#Students without choice\n",
      "Schools should not allow junk food to be sold on campus but the school allow snack machines with more nutritious foods#Schools providing healthy alternatives#Schools providing healthy alternatives\n",
      "Schools should not allow junk food to be sold on campus but they could offer healthy options in place of junk food#Schools providing healthy alternatives#Schools providing healthy alternatives\n",
      "Schools should not allow junk food to be sold on campus but they would be losing a good revenue source#Schools generate money#School without generating money\n",
      "Schools should not allow junk food to be sold on campus but it should also educate students and staff alike on why it has opted to do so#Students without choice#Students without choice\n",
      "Schools should not allow junk food to be sold on campus but it is acceptable to eat it there#Unclassified Off-Topic#Students without choice\n",
      "Schools should not allow junk food to be sold on campus but maybe a few things#Unclassified Off-Topic#Unclassified Off-Topic\n",
      "Schools should not allow junk food to be sold on campus but educate kids about healthy eating#Schools providing healthy alternatives#Schools providing healthy alternatives\n",
      "Schools should not allow junk food to be sold on campus but they could offer the option to buy snacks once a week#School without generating money#Schools providing healthy alternatives\n",
      "Schools should not allow junk food to be sold on campus but a slight compromise should be sought to make everyone happy#Schools providing healthy alternatives#Students without choice\n",
      "Schools should not allow junk food to be sold on campus but they could offer some snack foods that are low in calories or not as salty or sugary but to be able to still give them a choice#Schools providing healthy alternatives#Schools providing healthy alternatives\n",
      "Schools should not allow junk food to be sold on campus but they cannot enforce eating habits outside of school#School without generating money#School without generating money\n",
      "Schools should not allow junk food to be sold on campus but if it is sold it should be really expensive so that only people that really want junk food will buy it#Unclassified Off-Topic#School without generating money\n",
      "Schools should not allow junk food to be sold on campus but if kids choose to bring so on their own, that is their family's decision#Students can still bring/access junk food#Student choice\n",
      "Schools should not allow junk food to be sold on campus but the schools make money off of it#Schools generate money#Schools generate money\n",
      "Schools should not allow junk food to be sold on campus but they should at have least allow children to choose between healthy food and snacks#Schools providing healthy alternatives#Schools providing healthy alternatives\n",
      "Schools should not allow junk food to be sold on campus but make the food less sugary and salty to make it healthy#Schools providing healthy alternatives#Schools providing healthy alternatives\n",
      "Schools should not allow junk food to be sold on campus but if its taken away, kids will find a way to bring it back to campus#Students without choice#Students without choice\n",
      "Schools should not allow junk food to be sold on campus but it is also important to focus on changing kids' fitness habits#Students without choice#Schools providing healthy alternatives\n",
      "Schools should not allow junk food to be sold on campus but they should be prepared for community backlash#School without generating money#Unclassified Off-Topic\n",
      "Schools should not allow junk food to be sold on campus but they can replaced the junk foods by selling some nutritional foods#Schools providing healthy alternatives#Schools providing healthy alternatives\n",
      "Schools should not allow junk food to be sold on campus but should be transparent about their reasoning and teach kids why unhealthy foods aren't good#Students without choice#Students without choice\n",
      "Schools should not allow junk food to be sold on campus but students should still have the freedom to bring snacks to school for lunch, everyone has a right to eat what they choose#Students can still bring/access junk food#Students without choice\n",
      "Schools should not allow junk food to be sold on campus but should make an effort to teach the kids about better eating habits#Students without choice#Schools providing healthy alternatives\n",
      "Schools should not allow junk food to be sold on campus but should instead promote healthy eating by filling snack machines with nutritious foods#Schools providing healthy alternatives#Schools providing healthy alternatives\n",
      "Schools should not allow junk food to be sold on campus but should have alternative healthy snacks available#Schools providing healthy alternatives#Schools providing healthy alternatives\n",
      "Schools should not allow junk food to be sold on campus but should provide healthier snacks for students to have#Schools providing healthy alternatives#Schools providing healthy alternatives\n",
      "Schools should not allow junk food to be sold on campus but the schools could fill snack machines with more nutritious foods#Schools providing healthy alternatives#Schools providing healthy alternatives\n",
      "Schools should not allow junk food to be sold on campus but if they insist it could be healthy options#Schools providing healthy alternatives#Schools providing healthy alternatives\n",
      "Schools should not allow junk food to be sold on campus but instead fill snack machines with nutritious foods#Schools providing healthy alternatives#Schools providing healthy alternatives\n",
      "Schools should not allow junk food to be sold on campus but should allow kids to bring it from home#Students without choice#Students without choice\n",
      "Schools should not allow junk food to be sold on campus but if a club or organization has a fundraiser it may be allowed on special occasions#Unclassified Off-Topic#Unclassified Off-Topic\n",
      "Schools should not allow junk food to be sold on campus but schools could fill the snack machines with healthy choices#Schools providing healthy alternatives#Schools providing healthy alternatives\n",
      "Schools should not allow junk food to be sold on campus but it is the children's decision to do whatever they want after they are not in school#Students without choice#Students without choice\n",
      "Schools should not allow junk food to be sold on campus but selling junk foods generates money for the school#Schools generate money#Schools generate money\n",
      "Schools should not allow junk food to be sold on campus but they could sell a variety of healthy snacks#Schools providing healthy alternatives#Schools providing healthy alternatives\n",
      "Schools should not allow junk food to be sold on campus but provide healthy snacks instead#Schools providing healthy alternatives#Schools providing healthy alternatives\n",
      "Schools should not allow junk food to be sold on campus but we cannot protect our kids from everything bad for them out there#Students without choice#Students without choice\n",
      "Schools should not allow junk food to be sold on campus but teens can make decisions about what they eat when they are not at school#School without generating money#Student choice\n",
      "Schools should not allow junk food to be sold on campus but provide healthy options#Schools providing healthy alternatives#Schools providing healthy alternatives\n",
      "Schools should not allow junk food to be sold on campus but offer healthy snacks#Schools providing healthy alternatives#Schools providing healthy alternatives\n",
      "Schools should not allow junk food to be sold on campus but instead offer healthier options to students for purchase#Schools providing healthy alternatives#Schools providing healthy alternatives\n",
      "Schools should not allow junk food to be sold on campus but should instead replace it with healthy alternatives#Schools providing healthy alternatives#Schools providing healthy alternatives\n",
      "118\n",
      "0.7712418300653595\n"
     ]
    }
   ],
   "source": [
    "c = 0\n",
    "for item, predicted, correct in zip(test_data, test_predicted, test_correct):\n",
    "    assert item[\"label\"] == idx2label[correct]\n",
    "    c += (item[\"label\"] == idx2label[predicted])\n",
    "    print(\"{}#{}#{}\".format(item[\"text\"], idx2label[correct], idx2label[predicted]))\n",
    "    \n",
    "print(c)\n",
    "print(c/len(test_data))"
   ]
  },
  {
   "cell_type": "code",
   "execution_count": null,
   "metadata": {},
   "outputs": [],
   "source": []
  }
 ],
 "metadata": {
  "kernelspec": {
   "display_name": "Python 3",
   "language": "python",
   "name": "python3"
  },
  "language_info": {
   "codemirror_mode": {
    "name": "ipython",
    "version": 3
   },
   "file_extension": ".py",
   "mimetype": "text/x-python",
   "name": "python",
   "nbconvert_exporter": "python",
   "pygments_lexer": "ipython3",
   "version": "3.7.3"
  }
 },
 "nbformat": 4,
 "nbformat_minor": 2
}
