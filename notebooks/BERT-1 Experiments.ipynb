{
 "cells": [
  {
   "cell_type": "markdown",
   "metadata": {},
   "source": [
    "# First BERT Experiments\n",
    "\n",
    "In this notebook we do some first experiments with BERT: we finetune a BERT model+classifier on each of our datasets separately and compute the accuracy of the resulting classifier on the test data."
   ]
  },
  {
   "cell_type": "markdown",
   "metadata": {},
   "source": [
    "For these experiments we use the `pytorch_transformers` package. It contains a variety of neural network architectures for transfer learning and pretrained models, including BERT and XLNET.\n",
    "\n",
    "Two different BERT models are relevant for our experiments: \n",
    "\n",
    "- BERT-base-uncased: a relatively small BERT model that should already give reasonable results,\n",
    "- BERT-large-uncased: a larger model for real state-of-the-art results."
   ]
  },
  {
   "cell_type": "code",
   "execution_count": 1,
   "metadata": {},
   "outputs": [],
   "source": [
    "import torch\n",
    "\n",
    "from pytorch_transformers.tokenization_bert import BertTokenizer\n",
    "from pytorch_transformers.modeling_bert import BertForSequenceClassification\n",
    "\n",
    "BERT_MODEL = 'bert-base-uncased'\n",
    "BATCH_SIZE = 16 if \"base\" in BERT_MODEL else 2\n",
    "GRADIENT_ACCUMULATION_STEPS = 1 if \"base\" in BERT_MODEL else 8\n",
    "\n",
    "tokenizer = BertTokenizer.from_pretrained(BERT_MODEL)"
   ]
  },
  {
   "cell_type": "markdown",
   "metadata": {},
   "source": [
    "## Data\n",
    "\n",
    "We use the same data as for all our previous experiments. Here we load the training, development and test data for a particular prompt."
   ]
  },
  {
   "cell_type": "code",
   "execution_count": 2,
   "metadata": {},
   "outputs": [],
   "source": [
    "import ndjson\n",
    "import glob\n",
    "\n",
    "prefix = \"eatingmeat_because_large\"\n",
    "train_file = f\"../data/interim/{prefix}_train_withprompt.ndjson\"\n",
    "synth_file = f\"../data/interim/{prefix}_train_withprompt.ndjson\"\n",
    "dev_file = f\"../data/interim/{prefix}_dev_withprompt.ndjson\"\n",
    "test_file = f\"../data/interim/{prefix}_test_withprompt.ndjson\"\n",
    "\n",
    "with open(train_file) as i:\n",
    "    train_data = ndjson.load(i)\n",
    "\n",
    "with open(synth_file) as i:\n",
    "    synth_data = ndjson.load(i)\n",
    "    \n",
    "with open(dev_file) as i:\n",
    "    dev_data = ndjson.load(i)\n",
    "    \n",
    "with open(test_file) as i:\n",
    "    test_data = ndjson.load(i)"
   ]
  },
  {
   "cell_type": "markdown",
   "metadata": {},
   "source": [
    "Next, we build the label vocabulary, which maps every label in the training data to an index."
   ]
  },
  {
   "cell_type": "code",
   "execution_count": 3,
   "metadata": {},
   "outputs": [
    {
     "name": "stdout",
     "output_type": "stream",
     "text": [
      "{'Meat industry produces greenhouse gases and/or uses water - general': 0, 'Meat industry produces greenhouse gases and/or uses water - specific numbers': 1, 'Because as preposition': 2, 'Meat industry harms environment/uses resources w/o mentioning greenhouse gases or water': 3, \"Outside of article's scope\": 4, 'Irrelevant fact from article': 5, 'Meat industry harms animals': 6}\n",
      "{0: 'Meat industry produces greenhouse gases and/or uses water - general', 1: 'Meat industry produces greenhouse gases and/or uses water - specific numbers', 2: 'Because as preposition', 3: 'Meat industry harms environment/uses resources w/o mentioning greenhouse gases or water', 4: \"Outside of article's scope\", 5: 'Irrelevant fact from article', 6: 'Meat industry harms animals'}\n"
     ]
    }
   ],
   "source": [
    "label2idx = {}\n",
    "idx2label = {}\n",
    "target_names = []\n",
    "for item in train_data:\n",
    "    if item[\"label\"] not in label2idx:\n",
    "        target_names.append(item[\"label\"])\n",
    "        idx = len(label2idx)\n",
    "        label2idx[item[\"label\"]] = idx\n",
    "        idx2label[idx] = item[\"label\"]\n",
    "    \n",
    "print(label2idx)\n",
    "print(idx2label)"
   ]
  },
  {
   "cell_type": "code",
   "execution_count": 4,
   "metadata": {},
   "outputs": [
    {
     "name": "stdout",
     "output_type": "stream",
     "text": [
      "Train data size: 700\n"
     ]
    }
   ],
   "source": [
    "import random\n",
    "\n",
    "def sample(train_data, synth_data, label2idx, number):\n",
    "    \"\"\"Sample a fixed number of items from every label from\n",
    "    the training data and test data.\n",
    "    \"\"\"\n",
    "    new_train_data = []\n",
    "    for label in label2idx:\n",
    "        data_for_label = [i for i in train_data if i[\"label\"] == label]\n",
    "        \n",
    "        # If there is more training data than the required number,\n",
    "        # take a random sample of n examples from the training data.\n",
    "        if len(data_for_label) >= number:\n",
    "            random.shuffle(data_for_label)\n",
    "            new_train_data += data_for_label[:number]\n",
    "            \n",
    "        # If there is less training data than the required number,\n",
    "        # combine training data with synthetic data.\n",
    "        elif len(data_for_label) < number:\n",
    "            \n",
    "            # Automatically add all training data\n",
    "            new_train_data += data_for_label\n",
    "            \n",
    "            # Compute the required number of additional data\n",
    "            rest = number-len(data_for_label)\n",
    "            \n",
    "            # Collect the synthetic data for the label\n",
    "            synth_data_for_label = [i for i in synth_data if i[\"label\"] == label]\n",
    "            \n",
    "            # If there is more synthetic data than required, \n",
    "            # take a random sample from the synthetic data.\n",
    "            if len(synth_data_for_label) > rest:\n",
    "                random.shuffle(synth_data_for_label)\n",
    "                new_train_data += synth_data_for_label[:rest]\n",
    "            # If there is less synthetic data than required,\n",
    "            # sample with replacement from this data until we have\n",
    "            # the required number.\n",
    "            else:\n",
    "                new_train_data += random.choices(synth_data_for_label, k=rest)\n",
    "        \n",
    "    return new_train_data\n",
    "\n",
    "\n",
    "def random_sample(train_data, train_size):\n",
    "    random.shuffle(train_data)\n",
    "    train_data = train_data[:TRAIN_SIZE]    \n",
    "\n",
    "train_data = sample(train_data, synth_data, label2idx, 100)\n",
    "print(\"Train data size:\", len(train_data))"
   ]
  },
  {
   "cell_type": "markdown",
   "metadata": {},
   "source": [
    "## Model\n",
    "\n",
    "We load the pretrained model and put it on a GPU if one is available. We also put the model in \"training\" mode, so that we can correctly update its internal parameters on the basis of our data sets."
   ]
  },
  {
   "cell_type": "code",
   "execution_count": 5,
   "metadata": {},
   "outputs": [
    {
     "data": {
      "text/plain": [
       "BertForSequenceClassification(\n",
       "  (bert): BertModel(\n",
       "    (embeddings): BertEmbeddings(\n",
       "      (word_embeddings): Embedding(30522, 768, padding_idx=0)\n",
       "      (position_embeddings): Embedding(512, 768)\n",
       "      (token_type_embeddings): Embedding(2, 768)\n",
       "      (LayerNorm): BertLayerNorm()\n",
       "      (dropout): Dropout(p=0.1)\n",
       "    )\n",
       "    (encoder): BertEncoder(\n",
       "      (layer): ModuleList(\n",
       "        (0): BertLayer(\n",
       "          (attention): BertAttention(\n",
       "            (self): BertSelfAttention(\n",
       "              (query): Linear(in_features=768, out_features=768, bias=True)\n",
       "              (key): Linear(in_features=768, out_features=768, bias=True)\n",
       "              (value): Linear(in_features=768, out_features=768, bias=True)\n",
       "              (dropout): Dropout(p=0.1)\n",
       "            )\n",
       "            (output): BertSelfOutput(\n",
       "              (dense): Linear(in_features=768, out_features=768, bias=True)\n",
       "              (LayerNorm): BertLayerNorm()\n",
       "              (dropout): Dropout(p=0.1)\n",
       "            )\n",
       "          )\n",
       "          (intermediate): BertIntermediate(\n",
       "            (dense): Linear(in_features=768, out_features=3072, bias=True)\n",
       "          )\n",
       "          (output): BertOutput(\n",
       "            (dense): Linear(in_features=3072, out_features=768, bias=True)\n",
       "            (LayerNorm): BertLayerNorm()\n",
       "            (dropout): Dropout(p=0.1)\n",
       "          )\n",
       "        )\n",
       "        (1): BertLayer(\n",
       "          (attention): BertAttention(\n",
       "            (self): BertSelfAttention(\n",
       "              (query): Linear(in_features=768, out_features=768, bias=True)\n",
       "              (key): Linear(in_features=768, out_features=768, bias=True)\n",
       "              (value): Linear(in_features=768, out_features=768, bias=True)\n",
       "              (dropout): Dropout(p=0.1)\n",
       "            )\n",
       "            (output): BertSelfOutput(\n",
       "              (dense): Linear(in_features=768, out_features=768, bias=True)\n",
       "              (LayerNorm): BertLayerNorm()\n",
       "              (dropout): Dropout(p=0.1)\n",
       "            )\n",
       "          )\n",
       "          (intermediate): BertIntermediate(\n",
       "            (dense): Linear(in_features=768, out_features=3072, bias=True)\n",
       "          )\n",
       "          (output): BertOutput(\n",
       "            (dense): Linear(in_features=3072, out_features=768, bias=True)\n",
       "            (LayerNorm): BertLayerNorm()\n",
       "            (dropout): Dropout(p=0.1)\n",
       "          )\n",
       "        )\n",
       "        (2): BertLayer(\n",
       "          (attention): BertAttention(\n",
       "            (self): BertSelfAttention(\n",
       "              (query): Linear(in_features=768, out_features=768, bias=True)\n",
       "              (key): Linear(in_features=768, out_features=768, bias=True)\n",
       "              (value): Linear(in_features=768, out_features=768, bias=True)\n",
       "              (dropout): Dropout(p=0.1)\n",
       "            )\n",
       "            (output): BertSelfOutput(\n",
       "              (dense): Linear(in_features=768, out_features=768, bias=True)\n",
       "              (LayerNorm): BertLayerNorm()\n",
       "              (dropout): Dropout(p=0.1)\n",
       "            )\n",
       "          )\n",
       "          (intermediate): BertIntermediate(\n",
       "            (dense): Linear(in_features=768, out_features=3072, bias=True)\n",
       "          )\n",
       "          (output): BertOutput(\n",
       "            (dense): Linear(in_features=3072, out_features=768, bias=True)\n",
       "            (LayerNorm): BertLayerNorm()\n",
       "            (dropout): Dropout(p=0.1)\n",
       "          )\n",
       "        )\n",
       "        (3): BertLayer(\n",
       "          (attention): BertAttention(\n",
       "            (self): BertSelfAttention(\n",
       "              (query): Linear(in_features=768, out_features=768, bias=True)\n",
       "              (key): Linear(in_features=768, out_features=768, bias=True)\n",
       "              (value): Linear(in_features=768, out_features=768, bias=True)\n",
       "              (dropout): Dropout(p=0.1)\n",
       "            )\n",
       "            (output): BertSelfOutput(\n",
       "              (dense): Linear(in_features=768, out_features=768, bias=True)\n",
       "              (LayerNorm): BertLayerNorm()\n",
       "              (dropout): Dropout(p=0.1)\n",
       "            )\n",
       "          )\n",
       "          (intermediate): BertIntermediate(\n",
       "            (dense): Linear(in_features=768, out_features=3072, bias=True)\n",
       "          )\n",
       "          (output): BertOutput(\n",
       "            (dense): Linear(in_features=3072, out_features=768, bias=True)\n",
       "            (LayerNorm): BertLayerNorm()\n",
       "            (dropout): Dropout(p=0.1)\n",
       "          )\n",
       "        )\n",
       "        (4): BertLayer(\n",
       "          (attention): BertAttention(\n",
       "            (self): BertSelfAttention(\n",
       "              (query): Linear(in_features=768, out_features=768, bias=True)\n",
       "              (key): Linear(in_features=768, out_features=768, bias=True)\n",
       "              (value): Linear(in_features=768, out_features=768, bias=True)\n",
       "              (dropout): Dropout(p=0.1)\n",
       "            )\n",
       "            (output): BertSelfOutput(\n",
       "              (dense): Linear(in_features=768, out_features=768, bias=True)\n",
       "              (LayerNorm): BertLayerNorm()\n",
       "              (dropout): Dropout(p=0.1)\n",
       "            )\n",
       "          )\n",
       "          (intermediate): BertIntermediate(\n",
       "            (dense): Linear(in_features=768, out_features=3072, bias=True)\n",
       "          )\n",
       "          (output): BertOutput(\n",
       "            (dense): Linear(in_features=3072, out_features=768, bias=True)\n",
       "            (LayerNorm): BertLayerNorm()\n",
       "            (dropout): Dropout(p=0.1)\n",
       "          )\n",
       "        )\n",
       "        (5): BertLayer(\n",
       "          (attention): BertAttention(\n",
       "            (self): BertSelfAttention(\n",
       "              (query): Linear(in_features=768, out_features=768, bias=True)\n",
       "              (key): Linear(in_features=768, out_features=768, bias=True)\n",
       "              (value): Linear(in_features=768, out_features=768, bias=True)\n",
       "              (dropout): Dropout(p=0.1)\n",
       "            )\n",
       "            (output): BertSelfOutput(\n",
       "              (dense): Linear(in_features=768, out_features=768, bias=True)\n",
       "              (LayerNorm): BertLayerNorm()\n",
       "              (dropout): Dropout(p=0.1)\n",
       "            )\n",
       "          )\n",
       "          (intermediate): BertIntermediate(\n",
       "            (dense): Linear(in_features=768, out_features=3072, bias=True)\n",
       "          )\n",
       "          (output): BertOutput(\n",
       "            (dense): Linear(in_features=3072, out_features=768, bias=True)\n",
       "            (LayerNorm): BertLayerNorm()\n",
       "            (dropout): Dropout(p=0.1)\n",
       "          )\n",
       "        )\n",
       "        (6): BertLayer(\n",
       "          (attention): BertAttention(\n",
       "            (self): BertSelfAttention(\n",
       "              (query): Linear(in_features=768, out_features=768, bias=True)\n",
       "              (key): Linear(in_features=768, out_features=768, bias=True)\n",
       "              (value): Linear(in_features=768, out_features=768, bias=True)\n",
       "              (dropout): Dropout(p=0.1)\n",
       "            )\n",
       "            (output): BertSelfOutput(\n",
       "              (dense): Linear(in_features=768, out_features=768, bias=True)\n",
       "              (LayerNorm): BertLayerNorm()\n",
       "              (dropout): Dropout(p=0.1)\n",
       "            )\n",
       "          )\n",
       "          (intermediate): BertIntermediate(\n",
       "            (dense): Linear(in_features=768, out_features=3072, bias=True)\n",
       "          )\n",
       "          (output): BertOutput(\n",
       "            (dense): Linear(in_features=3072, out_features=768, bias=True)\n",
       "            (LayerNorm): BertLayerNorm()\n",
       "            (dropout): Dropout(p=0.1)\n",
       "          )\n",
       "        )\n",
       "        (7): BertLayer(\n",
       "          (attention): BertAttention(\n",
       "            (self): BertSelfAttention(\n",
       "              (query): Linear(in_features=768, out_features=768, bias=True)\n",
       "              (key): Linear(in_features=768, out_features=768, bias=True)\n",
       "              (value): Linear(in_features=768, out_features=768, bias=True)\n",
       "              (dropout): Dropout(p=0.1)\n",
       "            )\n",
       "            (output): BertSelfOutput(\n",
       "              (dense): Linear(in_features=768, out_features=768, bias=True)\n",
       "              (LayerNorm): BertLayerNorm()\n",
       "              (dropout): Dropout(p=0.1)\n",
       "            )\n",
       "          )\n",
       "          (intermediate): BertIntermediate(\n",
       "            (dense): Linear(in_features=768, out_features=3072, bias=True)\n",
       "          )\n",
       "          (output): BertOutput(\n",
       "            (dense): Linear(in_features=3072, out_features=768, bias=True)\n",
       "            (LayerNorm): BertLayerNorm()\n",
       "            (dropout): Dropout(p=0.1)\n",
       "          )\n",
       "        )\n",
       "        (8): BertLayer(\n",
       "          (attention): BertAttention(\n",
       "            (self): BertSelfAttention(\n",
       "              (query): Linear(in_features=768, out_features=768, bias=True)\n",
       "              (key): Linear(in_features=768, out_features=768, bias=True)\n",
       "              (value): Linear(in_features=768, out_features=768, bias=True)\n",
       "              (dropout): Dropout(p=0.1)\n",
       "            )\n",
       "            (output): BertSelfOutput(\n",
       "              (dense): Linear(in_features=768, out_features=768, bias=True)\n",
       "              (LayerNorm): BertLayerNorm()\n",
       "              (dropout): Dropout(p=0.1)\n",
       "            )\n",
       "          )\n",
       "          (intermediate): BertIntermediate(\n",
       "            (dense): Linear(in_features=768, out_features=3072, bias=True)\n",
       "          )\n",
       "          (output): BertOutput(\n",
       "            (dense): Linear(in_features=3072, out_features=768, bias=True)\n",
       "            (LayerNorm): BertLayerNorm()\n",
       "            (dropout): Dropout(p=0.1)\n",
       "          )\n",
       "        )\n",
       "        (9): BertLayer(\n",
       "          (attention): BertAttention(\n",
       "            (self): BertSelfAttention(\n",
       "              (query): Linear(in_features=768, out_features=768, bias=True)\n",
       "              (key): Linear(in_features=768, out_features=768, bias=True)\n",
       "              (value): Linear(in_features=768, out_features=768, bias=True)\n",
       "              (dropout): Dropout(p=0.1)\n",
       "            )\n",
       "            (output): BertSelfOutput(\n",
       "              (dense): Linear(in_features=768, out_features=768, bias=True)\n",
       "              (LayerNorm): BertLayerNorm()\n",
       "              (dropout): Dropout(p=0.1)\n",
       "            )\n",
       "          )\n",
       "          (intermediate): BertIntermediate(\n",
       "            (dense): Linear(in_features=768, out_features=3072, bias=True)\n",
       "          )\n",
       "          (output): BertOutput(\n",
       "            (dense): Linear(in_features=3072, out_features=768, bias=True)\n",
       "            (LayerNorm): BertLayerNorm()\n",
       "            (dropout): Dropout(p=0.1)\n",
       "          )\n",
       "        )\n",
       "        (10): BertLayer(\n",
       "          (attention): BertAttention(\n",
       "            (self): BertSelfAttention(\n",
       "              (query): Linear(in_features=768, out_features=768, bias=True)\n",
       "              (key): Linear(in_features=768, out_features=768, bias=True)\n",
       "              (value): Linear(in_features=768, out_features=768, bias=True)\n",
       "              (dropout): Dropout(p=0.1)\n",
       "            )\n",
       "            (output): BertSelfOutput(\n",
       "              (dense): Linear(in_features=768, out_features=768, bias=True)\n",
       "              (LayerNorm): BertLayerNorm()\n",
       "              (dropout): Dropout(p=0.1)\n",
       "            )\n",
       "          )\n",
       "          (intermediate): BertIntermediate(\n",
       "            (dense): Linear(in_features=768, out_features=3072, bias=True)\n",
       "          )\n",
       "          (output): BertOutput(\n",
       "            (dense): Linear(in_features=3072, out_features=768, bias=True)\n",
       "            (LayerNorm): BertLayerNorm()\n",
       "            (dropout): Dropout(p=0.1)\n",
       "          )\n",
       "        )\n",
       "        (11): BertLayer(\n",
       "          (attention): BertAttention(\n",
       "            (self): BertSelfAttention(\n",
       "              (query): Linear(in_features=768, out_features=768, bias=True)\n",
       "              (key): Linear(in_features=768, out_features=768, bias=True)\n",
       "              (value): Linear(in_features=768, out_features=768, bias=True)\n",
       "              (dropout): Dropout(p=0.1)\n",
       "            )\n",
       "            (output): BertSelfOutput(\n",
       "              (dense): Linear(in_features=768, out_features=768, bias=True)\n",
       "              (LayerNorm): BertLayerNorm()\n",
       "              (dropout): Dropout(p=0.1)\n",
       "            )\n",
       "          )\n",
       "          (intermediate): BertIntermediate(\n",
       "            (dense): Linear(in_features=768, out_features=3072, bias=True)\n",
       "          )\n",
       "          (output): BertOutput(\n",
       "            (dense): Linear(in_features=3072, out_features=768, bias=True)\n",
       "            (LayerNorm): BertLayerNorm()\n",
       "            (dropout): Dropout(p=0.1)\n",
       "          )\n",
       "        )\n",
       "      )\n",
       "    )\n",
       "    (pooler): BertPooler(\n",
       "      (dense): Linear(in_features=768, out_features=768, bias=True)\n",
       "      (activation): Tanh()\n",
       "    )\n",
       "  )\n",
       "  (dropout): Dropout(p=0.1)\n",
       "  (classifier): Linear(in_features=768, out_features=7, bias=True)\n",
       ")"
      ]
     },
     "execution_count": 5,
     "metadata": {},
     "output_type": "execute_result"
    }
   ],
   "source": [
    "model = BertForSequenceClassification.from_pretrained(BERT_MODEL, num_labels=len(label2idx))\n",
    "\n",
    "device = torch.device(\"cuda\" if torch.cuda.is_available() else \"cpu\")\n",
    "model.to(device)\n",
    "model.train()"
   ]
  },
  {
   "cell_type": "markdown",
   "metadata": {},
   "source": [
    "## Preprocessing\n",
    "\n",
    "We preprocess the data by turning every example to an `InputFeatures` item. This item has all the attributes we need for finetuning BERT: \n",
    "\n",
    "- input ids: the ids of the tokens in the text\n",
    "- input mask: tells BERT what part of the input it should not look at (such as padding tokens)\n",
    "- segment ids: tells BERT what segment every token belongs to. BERT can take two different segments as input\n",
    "- label id: the id of this item's label"
   ]
  },
  {
   "cell_type": "code",
   "execution_count": 6,
   "metadata": {},
   "outputs": [
    {
     "name": "stderr",
     "output_type": "stream",
     "text": [
      "08/12/2019 23:28:30 - INFO - __main__ -   *** Example ***\n",
      "08/12/2019 23:28:30 - INFO - __main__ -   text: Large amounts of meat consumption are harming the environment, because it creates one-fifth of the earth's greenhouse gases.\n",
      "08/12/2019 23:28:30 - INFO - __main__ -   input_ids: 101 2312 8310 1997 6240 8381 2024 7386 2075 1996 4044 1010 2138 2009 9005 2028 1011 3587 1997 1996 3011 1005 1055 16635 15865 1012 102 0 0 0 0 0 0 0 0 0 0 0 0 0 0 0 0 0 0 0 0 0 0 0 0 0 0 0 0 0 0 0 0 0 0 0 0 0 0 0 0 0 0 0 0 0 0 0 0 0 0 0 0 0 0 0 0 0 0 0 0 0 0 0 0 0 0 0 0 0 0 0 0 0\n",
      "08/12/2019 23:28:30 - INFO - __main__ -   input_mask: 1 1 1 1 1 1 1 1 1 1 1 1 1 1 1 1 1 1 1 1 1 1 1 1 1 1 1 0 0 0 0 0 0 0 0 0 0 0 0 0 0 0 0 0 0 0 0 0 0 0 0 0 0 0 0 0 0 0 0 0 0 0 0 0 0 0 0 0 0 0 0 0 0 0 0 0 0 0 0 0 0 0 0 0 0 0 0 0 0 0 0 0 0 0 0 0 0 0 0 0\n",
      "08/12/2019 23:28:30 - INFO - __main__ -   segment_ids: 0 0 0 0 0 0 0 0 0 0 0 0 0 0 0 0 0 0 0 0 0 0 0 0 0 0 0 0 0 0 0 0 0 0 0 0 0 0 0 0 0 0 0 0 0 0 0 0 0 0 0 0 0 0 0 0 0 0 0 0 0 0 0 0 0 0 0 0 0 0 0 0 0 0 0 0 0 0 0 0 0 0 0 0 0 0 0 0 0 0 0 0 0 0 0 0 0 0 0 0\n",
      "08/12/2019 23:28:30 - INFO - __main__ -   label:Meat industry produces greenhouse gases and/or uses water - specific numbers id: 1\n"
     ]
    }
   ],
   "source": [
    "import logging\n",
    "import numpy as np\n",
    "\n",
    "logging.basicConfig(format = '%(asctime)s - %(levelname)s - %(name)s -   %(message)s',\n",
    "                    datefmt = '%m/%d/%Y %H:%M:%S',\n",
    "                    level = logging.INFO)\n",
    "logger = logging.getLogger(__name__)\n",
    "\n",
    "MAX_SEQ_LENGTH=100\n",
    "\n",
    "class InputFeatures(object):\n",
    "    \"\"\"A single set of features of data.\"\"\"\n",
    "\n",
    "    def __init__(self, input_ids, input_mask, segment_ids, label_id):\n",
    "        self.input_ids = input_ids\n",
    "        self.input_mask = input_mask\n",
    "        self.segment_ids = segment_ids\n",
    "        self.label_id = label_id\n",
    "        \n",
    "\n",
    "def convert_examples_to_features(examples, label2idx, max_seq_length, tokenizer, verbose=0):\n",
    "    \"\"\"Loads a data file into a list of `InputBatch`s.\"\"\"\n",
    "    \n",
    "    features = []\n",
    "    for (ex_index, ex) in enumerate(examples):\n",
    "        \n",
    "        # TODO: should deal better with sentences > max tok length\n",
    "        input_ids = tokenizer.encode(\"[CLS] \" + ex[\"text\"] + \" [SEP]\")\n",
    "        segment_ids = [0] * len(input_ids)\n",
    "            \n",
    "        # The mask has 1 for real tokens and 0 for padding tokens. Only real\n",
    "        # tokens are attended to.\n",
    "        input_mask = [1] * len(input_ids)\n",
    "\n",
    "        # Zero-pad up to the sequence length.\n",
    "        padding = [0] * (max_seq_length - len(input_ids))\n",
    "        input_ids += padding\n",
    "        input_mask += padding\n",
    "        segment_ids += padding\n",
    "\n",
    "        assert len(input_ids) == max_seq_length\n",
    "        assert len(input_mask) == max_seq_length\n",
    "        assert len(segment_ids) == max_seq_length\n",
    "\n",
    "        label_id = label2idx[ex[\"label\"]]\n",
    "        if verbose and ex_index == 0:\n",
    "            logger.info(\"*** Example ***\")\n",
    "            logger.info(\"text: %s\" % ex[\"text\"])\n",
    "            logger.info(\"input_ids: %s\" % \" \".join([str(x) for x in input_ids]))\n",
    "            logger.info(\"input_mask: %s\" % \" \".join([str(x) for x in input_mask]))\n",
    "            logger.info(\"segment_ids: %s\" % \" \".join([str(x) for x in segment_ids]))\n",
    "            logger.info(\"label:\" + str(ex[\"label\"]) + \" id: \" + str(label_id))\n",
    "\n",
    "        features.append(\n",
    "                InputFeatures(input_ids=input_ids,\n",
    "                              input_mask=input_mask,\n",
    "                              segment_ids=segment_ids,\n",
    "                              label_id=label_id))\n",
    "    return features\n",
    "\n",
    "train_features = convert_examples_to_features(train_data, label2idx, MAX_SEQ_LENGTH, tokenizer, verbose=0)\n",
    "dev_features = convert_examples_to_features(dev_data, label2idx, MAX_SEQ_LENGTH, tokenizer)\n",
    "test_features = convert_examples_to_features(test_data, label2idx, MAX_SEQ_LENGTH, tokenizer, verbose=1)"
   ]
  },
  {
   "cell_type": "markdown",
   "metadata": {},
   "source": [
    "Next, we initialize data loaders for each of our data sets. These data loaders present the data for training (for example, by grouping them into batches)."
   ]
  },
  {
   "cell_type": "code",
   "execution_count": 7,
   "metadata": {},
   "outputs": [],
   "source": [
    "import torch\n",
    "from torch.utils.data import TensorDataset, DataLoader, RandomSampler\n",
    "\n",
    "def get_data_loader(features, max_seq_length, batch_size, shuffle=True): \n",
    "\n",
    "    all_input_ids = torch.tensor([f.input_ids for f in features], dtype=torch.long)\n",
    "    all_input_mask = torch.tensor([f.input_mask for f in features], dtype=torch.long)\n",
    "    all_segment_ids = torch.tensor([f.segment_ids for f in features], dtype=torch.long)\n",
    "    all_label_ids = torch.tensor([f.label_id for f in features], dtype=torch.long)\n",
    "    data = TensorDataset(all_input_ids, all_input_mask, all_segment_ids, all_label_ids)\n",
    "\n",
    "    dataloader = DataLoader(data, shuffle=shuffle, batch_size=batch_size)\n",
    "    \n",
    "    return dataloader\n",
    "\n",
    "train_dataloader = get_data_loader(train_features, MAX_SEQ_LENGTH, BATCH_SIZE)\n",
    "dev_dataloader = get_data_loader(dev_features, MAX_SEQ_LENGTH, BATCH_SIZE)\n",
    "test_dataloader = get_data_loader(test_features, MAX_SEQ_LENGTH, BATCH_SIZE, shuffle=False)"
   ]
  },
  {
   "cell_type": "markdown",
   "metadata": {},
   "source": [
    "## Evaluation\n",
    "\n",
    "Our evaluation method takes a pretrained model and a dataloader. It has the model predict the labels for the items in the data loader, and returns the loss, the correct labels, and the predicted labels."
   ]
  },
  {
   "cell_type": "code",
   "execution_count": 8,
   "metadata": {},
   "outputs": [],
   "source": [
    "def evaluate(model, dataloader, verbose=False):\n",
    "\n",
    "    eval_loss = 0\n",
    "    nb_eval_steps = 0\n",
    "    predicted_labels, correct_labels = [], []\n",
    "\n",
    "    for step, batch in enumerate(tqdm(dataloader, desc=\"Evaluation iteration\")):\n",
    "        batch = tuple(t.to(device) for t in batch)\n",
    "        input_ids, input_mask, segment_ids, label_ids = batch\n",
    "\n",
    "        with torch.no_grad():\n",
    "            tmp_eval_loss, logits = model(input_ids, segment_ids, input_mask, label_ids)\n",
    "\n",
    "        outputs = np.argmax(logits.to('cpu'), axis=1)\n",
    "        label_ids = label_ids.to('cpu').numpy()\n",
    "        \n",
    "        predicted_labels += list(outputs)\n",
    "        correct_labels += list(label_ids)\n",
    "                    \n",
    "        eval_loss += tmp_eval_loss.mean().item()\n",
    "        nb_eval_steps += 1\n",
    "\n",
    "    eval_loss = eval_loss / nb_eval_steps\n",
    "    \n",
    "    correct_labels = np.array(correct_labels)\n",
    "    predicted_labels = np.array(predicted_labels)\n",
    "        \n",
    "    return eval_loss, correct_labels, predicted_labels"
   ]
  },
  {
   "cell_type": "markdown",
   "metadata": {},
   "source": [
    "## Training\n",
    "\n",
    "Let's prepare the training. We set the training parameters and choose an optimizer and learning rate scheduler."
   ]
  },
  {
   "cell_type": "code",
   "execution_count": 9,
   "metadata": {},
   "outputs": [],
   "source": [
    "from pytorch_transformers.optimization import AdamW, WarmupLinearSchedule\n",
    "\n",
    "NUM_TRAIN_EPOCHS = 20\n",
    "LEARNING_RATE = 1e-5\n",
    "WARMUP_PROPORTION = 0.1\n",
    "\n",
    "def warmup_linear(x, warmup=0.002):\n",
    "    if x < warmup:\n",
    "        return x/warmup\n",
    "    return 1.0 - x\n",
    "\n",
    "num_train_steps = int(len(train_data) / BATCH_SIZE / GRADIENT_ACCUMULATION_STEPS * NUM_TRAIN_EPOCHS)\n",
    "\n",
    "param_optimizer = list(model.named_parameters())\n",
    "no_decay = ['bias', 'LayerNorm.bias', 'LayerNorm.weight']\n",
    "optimizer_grouped_parameters = [\n",
    "    {'params': [p for n, p in param_optimizer if not any(nd in n for nd in no_decay)], 'weight_decay': 0.01},\n",
    "    {'params': [p for n, p in param_optimizer if any(nd in n for nd in no_decay)], 'weight_decay': 0.0}\n",
    "    ]\n",
    "\n",
    "optimizer = AdamW(optimizer_grouped_parameters, lr=LEARNING_RATE, correct_bias=False)\n",
    "scheduler = WarmupLinearSchedule(optimizer, warmup_steps=100, t_total=num_train_steps)"
   ]
  },
  {
   "cell_type": "markdown",
   "metadata": {},
   "source": [
    "Now we do the actual training. In each epoch, we present the model with all training data and compute the loss on the training set and the development set. We save the model whenever the development loss improves. We end training when we haven't seen an improvement of the development loss for a specific number of epochs (the patience). \n",
    "\n",
    "Optionally, we use gradient accumulation to accumulate the gradient for several training steps. This is useful when we want to use a larger batch size than our current GPU allows us to do."
   ]
  },
  {
   "cell_type": "code",
   "execution_count": 10,
   "metadata": {},
   "outputs": [
    {
     "name": "stderr",
     "output_type": "stream",
     "text": [
      "\r",
      "Epoch:   0%|          | 0/20 [00:00<?, ?it/s]"
     ]
    },
    {
     "data": {
      "application/vnd.jupyter.widget-view+json": {
       "model_id": "7f7f6f1605b547a6bf014fd0a8afb53b",
       "version_major": 2,
       "version_minor": 0
      },
      "text/plain": [
       "HBox(children=(IntProgress(value=0, description='Training iteration', max=44, style=ProgressStyle(description_…"
      ]
     },
     "metadata": {},
     "output_type": "display_data"
    },
    {
     "name": "stdout",
     "output_type": "stream",
     "text": [
      "\n"
     ]
    },
    {
     "data": {
      "application/vnd.jupyter.widget-view+json": {
       "model_id": "960b54655ab44727b39271506b61caff",
       "version_major": 2,
       "version_minor": 0
      },
      "text/plain": [
       "HBox(children=(IntProgress(value=0, description='Evaluation iteration', max=6, style=ProgressStyle(description…"
      ]
     },
     "metadata": {},
     "output_type": "display_data"
    },
    {
     "name": "stdout",
     "output_type": "stream",
     "text": [
      "\n",
      "Loss history: []\n",
      "Dev loss: 1.9360036651293437\n"
     ]
    },
    {
     "name": "stderr",
     "output_type": "stream",
     "text": [
      "\r",
      "Epoch:   5%|▌         | 1/20 [00:10<03:16, 10.32s/it]"
     ]
    },
    {
     "data": {
      "application/vnd.jupyter.widget-view+json": {
       "model_id": "a325049c183543c89ccfa716f1c7cf4b",
       "version_major": 2,
       "version_minor": 0
      },
      "text/plain": [
       "HBox(children=(IntProgress(value=0, description='Training iteration', max=44, style=ProgressStyle(description_…"
      ]
     },
     "metadata": {},
     "output_type": "display_data"
    },
    {
     "name": "stdout",
     "output_type": "stream",
     "text": [
      "\n"
     ]
    },
    {
     "data": {
      "application/vnd.jupyter.widget-view+json": {
       "model_id": "0ee44a40db6848fb9faee3c8ed54575e",
       "version_major": 2,
       "version_minor": 0
      },
      "text/plain": [
       "HBox(children=(IntProgress(value=0, description='Evaluation iteration', max=6, style=ProgressStyle(description…"
      ]
     },
     "metadata": {},
     "output_type": "display_data"
    },
    {
     "name": "stdout",
     "output_type": "stream",
     "text": [
      "\n",
      "Loss history: [1.9360036651293437]\n",
      "Dev loss: 0.9791644910971323\n"
     ]
    },
    {
     "name": "stderr",
     "output_type": "stream",
     "text": [
      "\r",
      "Epoch:  10%|█         | 2/20 [00:20<03:05, 10.28s/it]"
     ]
    },
    {
     "data": {
      "application/vnd.jupyter.widget-view+json": {
       "model_id": "0031ead38e2b40d28cfa386bbe5ac7d0",
       "version_major": 2,
       "version_minor": 0
      },
      "text/plain": [
       "HBox(children=(IntProgress(value=0, description='Training iteration', max=44, style=ProgressStyle(description_…"
      ]
     },
     "metadata": {},
     "output_type": "display_data"
    },
    {
     "name": "stdout",
     "output_type": "stream",
     "text": [
      "\n"
     ]
    },
    {
     "data": {
      "application/vnd.jupyter.widget-view+json": {
       "model_id": "22b0954f1e8c4b72a93b5d10914ab100",
       "version_major": 2,
       "version_minor": 0
      },
      "text/plain": [
       "HBox(children=(IntProgress(value=0, description='Evaluation iteration', max=6, style=ProgressStyle(description…"
      ]
     },
     "metadata": {},
     "output_type": "display_data"
    },
    {
     "name": "stdout",
     "output_type": "stream",
     "text": [
      "\n",
      "Loss history: [1.9360036651293437, 0.9791644910971323]\n",
      "Dev loss: 0.49361633012692135\n"
     ]
    },
    {
     "name": "stderr",
     "output_type": "stream",
     "text": [
      "\r",
      "Epoch:  15%|█▌        | 3/20 [00:30<02:54, 10.26s/it]"
     ]
    },
    {
     "data": {
      "application/vnd.jupyter.widget-view+json": {
       "model_id": "45a6309a3cf74146a1bf30af704dffe1",
       "version_major": 2,
       "version_minor": 0
      },
      "text/plain": [
       "HBox(children=(IntProgress(value=0, description='Training iteration', max=44, style=ProgressStyle(description_…"
      ]
     },
     "metadata": {},
     "output_type": "display_data"
    },
    {
     "name": "stdout",
     "output_type": "stream",
     "text": [
      "\n"
     ]
    },
    {
     "data": {
      "application/vnd.jupyter.widget-view+json": {
       "model_id": "d859581cc17e4bcd9494a6c6cc808215",
       "version_major": 2,
       "version_minor": 0
      },
      "text/plain": [
       "HBox(children=(IntProgress(value=0, description='Evaluation iteration', max=6, style=ProgressStyle(description…"
      ]
     },
     "metadata": {},
     "output_type": "display_data"
    },
    {
     "name": "stdout",
     "output_type": "stream",
     "text": [
      "\n",
      "Loss history: [1.9360036651293437, 0.9791644910971323, 0.49361633012692135]\n",
      "Dev loss: 0.421626237531503\n"
     ]
    },
    {
     "name": "stderr",
     "output_type": "stream",
     "text": [
      "\r",
      "Epoch:  20%|██        | 4/20 [00:40<02:44, 10.26s/it]"
     ]
    },
    {
     "data": {
      "application/vnd.jupyter.widget-view+json": {
       "model_id": "46362585809a48848b74b9cfc2bf1498",
       "version_major": 2,
       "version_minor": 0
      },
      "text/plain": [
       "HBox(children=(IntProgress(value=0, description='Training iteration', max=44, style=ProgressStyle(description_…"
      ]
     },
     "metadata": {},
     "output_type": "display_data"
    },
    {
     "name": "stdout",
     "output_type": "stream",
     "text": [
      "\n"
     ]
    },
    {
     "data": {
      "application/vnd.jupyter.widget-view+json": {
       "model_id": "a187b65f1430445c8eec86359200eb1c",
       "version_major": 2,
       "version_minor": 0
      },
      "text/plain": [
       "HBox(children=(IntProgress(value=0, description='Evaluation iteration', max=6, style=ProgressStyle(description…"
      ]
     },
     "metadata": {},
     "output_type": "display_data"
    },
    {
     "name": "stdout",
     "output_type": "stream",
     "text": [
      "\n",
      "Loss history: [1.9360036651293437, 0.9791644910971323, 0.49361633012692135, 0.421626237531503]\n",
      "Dev loss: 0.3920893172423045\n"
     ]
    },
    {
     "name": "stderr",
     "output_type": "stream",
     "text": [
      "\r",
      "Epoch:  25%|██▌       | 5/20 [00:51<02:34, 10.27s/it]"
     ]
    },
    {
     "data": {
      "application/vnd.jupyter.widget-view+json": {
       "model_id": "d0d2470743fa474c83fc526cbb39553d",
       "version_major": 2,
       "version_minor": 0
      },
      "text/plain": [
       "HBox(children=(IntProgress(value=0, description='Training iteration', max=44, style=ProgressStyle(description_…"
      ]
     },
     "metadata": {},
     "output_type": "display_data"
    },
    {
     "name": "stdout",
     "output_type": "stream",
     "text": [
      "\n"
     ]
    },
    {
     "data": {
      "application/vnd.jupyter.widget-view+json": {
       "model_id": "9db25c8c8ee94fe4b33caa0667b97c14",
       "version_major": 2,
       "version_minor": 0
      },
      "text/plain": [
       "HBox(children=(IntProgress(value=0, description='Evaluation iteration', max=6, style=ProgressStyle(description…"
      ]
     },
     "metadata": {},
     "output_type": "display_data"
    },
    {
     "name": "stderr",
     "output_type": "stream",
     "text": [
      "\r",
      "Epoch:  30%|███       | 6/20 [01:01<02:21, 10.14s/it]"
     ]
    },
    {
     "name": "stdout",
     "output_type": "stream",
     "text": [
      "\n",
      "Loss history: [1.9360036651293437, 0.9791644910971323, 0.49361633012692135, 0.421626237531503, 0.3920893172423045]\n",
      "Dev loss: 0.4473830312490463\n"
     ]
    },
    {
     "data": {
      "application/vnd.jupyter.widget-view+json": {
       "model_id": "61894dfcd3234652a3d6dafcb73b7216",
       "version_major": 2,
       "version_minor": 0
      },
      "text/plain": [
       "HBox(children=(IntProgress(value=0, description='Training iteration', max=44, style=ProgressStyle(description_…"
      ]
     },
     "metadata": {},
     "output_type": "display_data"
    },
    {
     "name": "stdout",
     "output_type": "stream",
     "text": [
      "\n"
     ]
    },
    {
     "data": {
      "application/vnd.jupyter.widget-view+json": {
       "model_id": "7c8ac6ca3f7245398cac9f33b0289ffe",
       "version_major": 2,
       "version_minor": 0
      },
      "text/plain": [
       "HBox(children=(IntProgress(value=0, description='Evaluation iteration', max=6, style=ProgressStyle(description…"
      ]
     },
     "metadata": {},
     "output_type": "display_data"
    },
    {
     "name": "stderr",
     "output_type": "stream",
     "text": [
      "\r",
      "Epoch:  35%|███▌      | 7/20 [01:10<02:10, 10.05s/it]"
     ]
    },
    {
     "name": "stdout",
     "output_type": "stream",
     "text": [
      "\n",
      "Loss history: [1.9360036651293437, 0.9791644910971323, 0.49361633012692135, 0.421626237531503, 0.3920893172423045, 0.4473830312490463]\n",
      "Dev loss: 0.3924524237712224\n"
     ]
    },
    {
     "data": {
      "application/vnd.jupyter.widget-view+json": {
       "model_id": "f4a8e166a94e43c38335d6c5e069a564",
       "version_major": 2,
       "version_minor": 0
      },
      "text/plain": [
       "HBox(children=(IntProgress(value=0, description='Training iteration', max=44, style=ProgressStyle(description_…"
      ]
     },
     "metadata": {},
     "output_type": "display_data"
    },
    {
     "name": "stdout",
     "output_type": "stream",
     "text": [
      "\n"
     ]
    },
    {
     "data": {
      "application/vnd.jupyter.widget-view+json": {
       "model_id": "828df876555c4b9d8d338cc0790a1925",
       "version_major": 2,
       "version_minor": 0
      },
      "text/plain": [
       "HBox(children=(IntProgress(value=0, description='Evaluation iteration', max=6, style=ProgressStyle(description…"
      ]
     },
     "metadata": {},
     "output_type": "display_data"
    },
    {
     "name": "stderr",
     "output_type": "stream",
     "text": [
      "\r",
      "Epoch:  40%|████      | 8/20 [01:20<01:59,  9.99s/it]"
     ]
    },
    {
     "name": "stdout",
     "output_type": "stream",
     "text": [
      "\n",
      "Loss history: [1.9360036651293437, 0.9791644910971323, 0.49361633012692135, 0.421626237531503, 0.3920893172423045, 0.4473830312490463, 0.3924524237712224]\n",
      "Dev loss: 0.4191200112303098\n"
     ]
    },
    {
     "data": {
      "application/vnd.jupyter.widget-view+json": {
       "model_id": "8beaa7f24bb143579f42a30bdc18b7a1",
       "version_major": 2,
       "version_minor": 0
      },
      "text/plain": [
       "HBox(children=(IntProgress(value=0, description='Training iteration', max=44, style=ProgressStyle(description_…"
      ]
     },
     "metadata": {},
     "output_type": "display_data"
    },
    {
     "name": "stdout",
     "output_type": "stream",
     "text": [
      "\n"
     ]
    },
    {
     "data": {
      "application/vnd.jupyter.widget-view+json": {
       "model_id": "b1c75e5372434ad7ad84de618c6c89d5",
       "version_major": 2,
       "version_minor": 0
      },
      "text/plain": [
       "HBox(children=(IntProgress(value=0, description='Evaluation iteration', max=6, style=ProgressStyle(description…"
      ]
     },
     "metadata": {},
     "output_type": "display_data"
    },
    {
     "name": "stdout",
     "output_type": "stream",
     "text": [
      "\n",
      "Loss history: [1.9360036651293437, 0.9791644910971323, 0.49361633012692135, 0.421626237531503, 0.3920893172423045, 0.4473830312490463, 0.3924524237712224, 0.4191200112303098]\n",
      "Dev loss: 0.3752300937970479\n"
     ]
    },
    {
     "name": "stderr",
     "output_type": "stream",
     "text": [
      "\r",
      "Epoch:  45%|████▌     | 9/20 [01:31<01:50, 10.09s/it]"
     ]
    },
    {
     "data": {
      "application/vnd.jupyter.widget-view+json": {
       "model_id": "c44f09d0ce4f49deb8025a1f90f63e90",
       "version_major": 2,
       "version_minor": 0
      },
      "text/plain": [
       "HBox(children=(IntProgress(value=0, description='Training iteration', max=44, style=ProgressStyle(description_…"
      ]
     },
     "metadata": {},
     "output_type": "display_data"
    },
    {
     "name": "stdout",
     "output_type": "stream",
     "text": [
      "\n"
     ]
    },
    {
     "data": {
      "application/vnd.jupyter.widget-view+json": {
       "model_id": "a2cc230502584053ac248ee4d3f1bcb4",
       "version_major": 2,
       "version_minor": 0
      },
      "text/plain": [
       "HBox(children=(IntProgress(value=0, description='Evaluation iteration', max=6, style=ProgressStyle(description…"
      ]
     },
     "metadata": {},
     "output_type": "display_data"
    },
    {
     "name": "stderr",
     "output_type": "stream",
     "text": [
      "\r",
      "Epoch:  50%|█████     | 10/20 [01:41<01:40, 10.03s/it]"
     ]
    },
    {
     "name": "stdout",
     "output_type": "stream",
     "text": [
      "\n",
      "Loss history: [1.9360036651293437, 0.9791644910971323, 0.49361633012692135, 0.421626237531503, 0.3920893172423045, 0.4473830312490463, 0.3924524237712224, 0.4191200112303098, 0.3752300937970479]\n",
      "Dev loss: 0.41376278549432755\n"
     ]
    },
    {
     "data": {
      "application/vnd.jupyter.widget-view+json": {
       "model_id": "129c237f9e624a6d98f1d44fb4af2b8b",
       "version_major": 2,
       "version_minor": 0
      },
      "text/plain": [
       "HBox(children=(IntProgress(value=0, description='Training iteration', max=44, style=ProgressStyle(description_…"
      ]
     },
     "metadata": {},
     "output_type": "display_data"
    },
    {
     "name": "stdout",
     "output_type": "stream",
     "text": [
      "\n"
     ]
    },
    {
     "data": {
      "application/vnd.jupyter.widget-view+json": {
       "model_id": "793aab0a52b14b84b04748bb6aa06acc",
       "version_major": 2,
       "version_minor": 0
      },
      "text/plain": [
       "HBox(children=(IntProgress(value=0, description='Evaluation iteration', max=6, style=ProgressStyle(description…"
      ]
     },
     "metadata": {},
     "output_type": "display_data"
    },
    {
     "name": "stderr",
     "output_type": "stream",
     "text": [
      "\r",
      "Epoch:  55%|█████▌    | 11/20 [01:50<01:29,  9.97s/it]"
     ]
    },
    {
     "name": "stdout",
     "output_type": "stream",
     "text": [
      "\n",
      "Loss history: [1.9360036651293437, 0.9791644910971323, 0.49361633012692135, 0.421626237531503, 0.3920893172423045, 0.4473830312490463, 0.3924524237712224, 0.4191200112303098, 0.3752300937970479, 0.41376278549432755]\n",
      "Dev loss: 0.42560332516829175\n"
     ]
    },
    {
     "data": {
      "application/vnd.jupyter.widget-view+json": {
       "model_id": "1d44d1fd11ba4023bd27733e42e72090",
       "version_major": 2,
       "version_minor": 0
      },
      "text/plain": [
       "HBox(children=(IntProgress(value=0, description='Training iteration', max=44, style=ProgressStyle(description_…"
      ]
     },
     "metadata": {},
     "output_type": "display_data"
    },
    {
     "name": "stdout",
     "output_type": "stream",
     "text": [
      "\n"
     ]
    },
    {
     "data": {
      "application/vnd.jupyter.widget-view+json": {
       "model_id": "a3b1e16aa2e8412f837040789aa5eb53",
       "version_major": 2,
       "version_minor": 0
      },
      "text/plain": [
       "HBox(children=(IntProgress(value=0, description='Evaluation iteration', max=6, style=ProgressStyle(description…"
      ]
     },
     "metadata": {},
     "output_type": "display_data"
    },
    {
     "name": "stderr",
     "output_type": "stream",
     "text": [
      "\r",
      "Epoch:  60%|██████    | 12/20 [02:00<01:19,  9.94s/it]"
     ]
    },
    {
     "name": "stdout",
     "output_type": "stream",
     "text": [
      "\n",
      "Loss history: [1.9360036651293437, 0.9791644910971323, 0.49361633012692135, 0.421626237531503, 0.3920893172423045, 0.4473830312490463, 0.3924524237712224, 0.4191200112303098, 0.3752300937970479, 0.41376278549432755, 0.42560332516829175]\n",
      "Dev loss: 0.43665095915397006\n"
     ]
    },
    {
     "data": {
      "application/vnd.jupyter.widget-view+json": {
       "model_id": "6845625d98ee4cce8244c6dcb801aa12",
       "version_major": 2,
       "version_minor": 0
      },
      "text/plain": [
       "HBox(children=(IntProgress(value=0, description='Training iteration', max=44, style=ProgressStyle(description_…"
      ]
     },
     "metadata": {},
     "output_type": "display_data"
    },
    {
     "name": "stdout",
     "output_type": "stream",
     "text": [
      "\n"
     ]
    },
    {
     "data": {
      "application/vnd.jupyter.widget-view+json": {
       "model_id": "0298ba0ecbd149ec9c60ab3cc13d40b2",
       "version_major": 2,
       "version_minor": 0
      },
      "text/plain": [
       "HBox(children=(IntProgress(value=0, description='Evaluation iteration', max=6, style=ProgressStyle(description…"
      ]
     },
     "metadata": {},
     "output_type": "display_data"
    },
    {
     "name": "stderr",
     "output_type": "stream",
     "text": [
      "\r",
      "Epoch:  65%|██████▌   | 13/20 [02:10<01:09,  9.92s/it]"
     ]
    },
    {
     "name": "stdout",
     "output_type": "stream",
     "text": [
      "\n",
      "Loss history: [1.9360036651293437, 0.9791644910971323, 0.49361633012692135, 0.421626237531503, 0.3920893172423045, 0.4473830312490463, 0.3924524237712224, 0.4191200112303098, 0.3752300937970479, 0.41376278549432755, 0.42560332516829175, 0.43665095915397006]\n",
      "Dev loss: 0.4468281368414561\n"
     ]
    },
    {
     "data": {
      "application/vnd.jupyter.widget-view+json": {
       "model_id": "f80956a302e44e499badd471c97eb973",
       "version_major": 2,
       "version_minor": 0
      },
      "text/plain": [
       "HBox(children=(IntProgress(value=0, description='Training iteration', max=44, style=ProgressStyle(description_…"
      ]
     },
     "metadata": {},
     "output_type": "display_data"
    },
    {
     "name": "stdout",
     "output_type": "stream",
     "text": [
      "\n"
     ]
    },
    {
     "data": {
      "application/vnd.jupyter.widget-view+json": {
       "model_id": "29441511613e4a989301fb43acbae62a",
       "version_major": 2,
       "version_minor": 0
      },
      "text/plain": [
       "HBox(children=(IntProgress(value=0, description='Evaluation iteration', max=6, style=ProgressStyle(description…"
      ]
     },
     "metadata": {},
     "output_type": "display_data"
    },
    {
     "name": "stdout",
     "output_type": "stream",
     "text": [
      "\n",
      "Loss history: [1.9360036651293437, 0.9791644910971323, 0.49361633012692135, 0.421626237531503, 0.3920893172423045, 0.4473830312490463, 0.3924524237712224, 0.4191200112303098, 0.3752300937970479, 0.41376278549432755, 0.42560332516829175, 0.43665095915397006, 0.4468281368414561]\n",
      "Dev loss: 0.4480576465527217\n",
      "No improvement on development set. Finish training.\n"
     ]
    },
    {
     "name": "stderr",
     "output_type": "stream",
     "text": [
      "\n"
     ]
    }
   ],
   "source": [
    "import os\n",
    "from tqdm import trange\n",
    "from tqdm import tqdm_notebook as tqdm\n",
    "from sklearn.metrics import classification_report, precision_recall_fscore_support\n",
    "\n",
    "OUTPUT_DIR = \"/tmp/\"\n",
    "MODEL_FILE_NAME = \"pytorch_model.bin\"\n",
    "PATIENCE = 5\n",
    "\n",
    "global_step = 0\n",
    "model.train()\n",
    "loss_history = []\n",
    "best_epoch = 0\n",
    "for epoch in trange(int(NUM_TRAIN_EPOCHS), desc=\"Epoch\"):\n",
    "    tr_loss = 0\n",
    "    nb_tr_examples, nb_tr_steps = 0, 0\n",
    "    for step, batch in enumerate(tqdm(train_dataloader, desc=\"Training iteration\")):\n",
    "        batch = tuple(t.to(device) for t in batch)\n",
    "        input_ids, input_mask, segment_ids, label_ids = batch\n",
    "        outputs = model(input_ids, segment_ids, input_mask, label_ids)\n",
    "        loss = outputs[0]\n",
    "        \n",
    "        if GRADIENT_ACCUMULATION_STEPS > 1:\n",
    "            loss = loss / GRADIENT_ACCUMULATION_STEPS\n",
    "\n",
    "        loss.backward()\n",
    "\n",
    "        tr_loss += loss.item()\n",
    "        nb_tr_examples += input_ids.size(0)\n",
    "        nb_tr_steps += 1\n",
    "        if (step + 1) % GRADIENT_ACCUMULATION_STEPS == 0:\n",
    "            lr_this_step = LEARNING_RATE * warmup_linear(global_step/num_train_steps, WARMUP_PROPORTION)\n",
    "            for param_group in optimizer.param_groups:\n",
    "                param_group['lr'] = lr_this_step\n",
    "            optimizer.step()\n",
    "            optimizer.zero_grad()\n",
    "            global_step += 1\n",
    "\n",
    "    dev_loss, _, _ = evaluate(model, dev_dataloader)\n",
    "    \n",
    "    print(\"Loss history:\", loss_history)\n",
    "    print(\"Dev loss:\", dev_loss)\n",
    "    \n",
    "    if len(loss_history) == 0 or dev_loss < min(loss_history):\n",
    "        model_to_save = model.module if hasattr(model, 'module') else model\n",
    "        output_model_file = os.path.join(OUTPUT_DIR, MODEL_FILE_NAME)\n",
    "        torch.save(model_to_save.state_dict(), output_model_file)\n",
    "        best_epoch = epoch\n",
    "    \n",
    "    if epoch-best_epoch >= PATIENCE: \n",
    "        print(\"No improvement on development set. Finish training.\")\n",
    "        break\n",
    "        \n",
    "    \n",
    "    loss_history.append(dev_loss)"
   ]
  },
  {
   "cell_type": "markdown",
   "metadata": {},
   "source": [
    "## Results\n",
    "\n",
    "We load the pretrained model, set it to evaluation mode and compute its performance on the training, development and test set. We print out an evaluation report for the test set.\n",
    "\n",
    "Note that different runs will give slightly different results."
   ]
  },
  {
   "cell_type": "code",
   "execution_count": 11,
   "metadata": {},
   "outputs": [
    {
     "name": "stdout",
     "output_type": "stream",
     "text": [
      "Loading model from /tmp/pytorch_model.bin\n"
     ]
    },
    {
     "name": "stderr",
     "output_type": "stream",
     "text": [
      "08/12/2019 23:30:52 - INFO - pytorch_transformers.modeling_utils -   loading configuration file https://s3.amazonaws.com/models.huggingface.co/bert/bert-base-uncased-config.json from cache at /home/yves/.cache/torch/pytorch_transformers/4dad0251492946e18ac39290fcfe91b89d370fee250efe9521476438fe8ca185.bf3b9ea126d8c0001ee8a1e8b92229871d06d36d8808208cc2449280da87785c\n",
      "08/12/2019 23:30:52 - INFO - pytorch_transformers.modeling_utils -   Model config {\n",
      "  \"attention_probs_dropout_prob\": 0.1,\n",
      "  \"finetuning_task\": null,\n",
      "  \"hidden_act\": \"gelu\",\n",
      "  \"hidden_dropout_prob\": 0.1,\n",
      "  \"hidden_size\": 768,\n",
      "  \"initializer_range\": 0.02,\n",
      "  \"intermediate_size\": 3072,\n",
      "  \"layer_norm_eps\": 1e-12,\n",
      "  \"max_position_embeddings\": 512,\n",
      "  \"num_attention_heads\": 12,\n",
      "  \"num_hidden_layers\": 12,\n",
      "  \"num_labels\": 7,\n",
      "  \"output_attentions\": false,\n",
      "  \"output_hidden_states\": false,\n",
      "  \"torchscript\": false,\n",
      "  \"type_vocab_size\": 2,\n",
      "  \"vocab_size\": 30522\n",
      "}\n",
      "\n",
      "08/12/2019 23:30:52 - INFO - pytorch_transformers.modeling_utils -   loading weights file https://s3.amazonaws.com/models.huggingface.co/bert/bert-base-uncased-pytorch_model.bin from cache at /home/yves/.cache/torch/pytorch_transformers/aa1ef1aede4482d0dbcd4d52baad8ae300e60902e88fcb0bebdec09afd232066.36ca03ab34a1a5d5fa7bc3d03d55c4fa650fed07220e2eeebc06ce58d0e9a157\n"
     ]
    },
    {
     "data": {
      "application/vnd.jupyter.widget-view+json": {
       "model_id": "2bceefa045f6405c92c641574b24a127",
       "version_major": 2,
       "version_minor": 0
      },
      "text/plain": [
       "HBox(children=(IntProgress(value=0, description='Evaluation iteration', max=9, style=ProgressStyle(description…"
      ]
     },
     "metadata": {},
     "output_type": "display_data"
    },
    {
     "name": "stdout",
     "output_type": "stream",
     "text": [
      "\n",
      "Test performance: (0.9027777777777778, 0.9027777777777778, 0.9027777777777778, None)\n",
      "                                                                                         precision    recall  f1-score   support\n",
      "\n",
      "                    Meat industry produces greenhouse gases and/or uses water - general       0.91      0.88      0.90        49\n",
      "           Meat industry produces greenhouse gases and/or uses water - specific numbers       0.93      0.95      0.94        56\n",
      "                                                                 Because as preposition       0.96      1.00      0.98        23\n",
      "Meat industry harms environment/uses resources w/o mentioning greenhouse gases or water       0.70      0.78      0.74         9\n",
      "                                                             Outside of article's scope       0.50      0.33      0.40         3\n",
      "                                                           Irrelevant fact from article       1.00      1.00      1.00         3\n",
      "                                                            Meat industry harms animals       0.00      0.00      0.00         1\n",
      "\n",
      "                                                                            avg / total       0.90      0.90      0.90       144\n",
      "\n"
     ]
    }
   ],
   "source": [
    "print(\"Loading model from\", output_model_file)\n",
    "device=\"cpu\"\n",
    "\n",
    "model_state_dict = torch.load(output_model_file, map_location=lambda storage, loc: storage)\n",
    "model = BertForSequenceClassification.from_pretrained(BERT_MODEL, state_dict=model_state_dict, num_labels=len(label2idx))\n",
    "model.to(device)\n",
    "\n",
    "model.eval()\n",
    "\n",
    "#_, train_correct, train_predicted = evaluate(model, train_dataloader)\n",
    "#_, dev_correct, dev_predicted = evaluate(model, dev_dataloader)\n",
    "_, test_correct, test_predicted = evaluate(model, test_dataloader, verbose=True)\n",
    "\n",
    "#print(\"Training performance:\", precision_recall_fscore_support(train_correct, train_predicted, average=\"micro\"))\n",
    "#print(\"Development performance:\", precision_recall_fscore_support(dev_correct, dev_predicted, average=\"micro\"))\n",
    "print(\"Test performance:\", precision_recall_fscore_support(test_correct, test_predicted, average=\"micro\"))\n",
    "\n",
    "print(classification_report(test_correct, test_predicted, target_names=target_names))"
   ]
  },
  {
   "cell_type": "code",
   "execution_count": 12,
   "metadata": {},
   "outputs": [
    {
     "name": "stdout",
     "output_type": "stream",
     "text": [
      "Large amounts of meat consumption are harming the environment, because it creates one-fifth of the earth's greenhouse gases.#Meat industry produces greenhouse gases and/or uses water - specific numbers#Meat industry produces greenhouse gases and/or uses water - specific numbers\n",
      "Large amounts of meat consumption are harming the environment, because it affects the environment.#Meat industry harms environment/uses resources w/o mentioning greenhouse gases or water#Meat industry harms environment/uses resources w/o mentioning greenhouse gases or water\n",
      "Large amounts of meat consumption are harming the environment, because it creates greenhouse gases and uses a lot of water resources.#Meat industry produces greenhouse gases and/or uses water - general#Meat industry produces greenhouse gases and/or uses water - general\n",
      "Large amounts of meat consumption are harming the environment, because it is causing a very excessive amount of greenhouse gasses.#Meat industry produces greenhouse gases and/or uses water - general#Meat industry produces greenhouse gases and/or uses water - general\n",
      "Large amounts of meat consumption are harming the environment, because of greenhouse gases from transportation and animals themselves.#Because as preposition#Because as preposition\n",
      "Large amounts of meat consumption are harming the environment, because of the amount of water used to raise livestock and the carbon impact of transporting meat products.#Because as preposition#Because as preposition\n",
      "Large amounts of meat consumption are harming the environment, because production of meat produces huge amounts of greenhouse gasses#Meat industry produces greenhouse gases and/or uses water - general#Meat industry produces greenhouse gases and/or uses water - general\n",
      "Large amounts of meat consumption are harming the environment, because this process is responsible for almost one-fifth of the earth's greenhouse gases which is harmful for the environment.#Meat industry produces greenhouse gases and/or uses water - specific numbers#Meat industry produces greenhouse gases and/or uses water - specific numbers\n",
      "Large amounts of meat consumption are harming the environment, because raising animals and transporting meat releases massive amounts of greenhouse gases.#Meat industry produces greenhouse gases and/or uses water - general#Meat industry produces greenhouse gases and/or uses water - general\n",
      "Large amounts of meat consumption are harming the environment, because natural resources are used raising and transporting products.#Meat industry produces greenhouse gases and/or uses water - general#Meat industry harms environment/uses resources w/o mentioning greenhouse gases or water\n",
      "Large amounts of meat consumption are harming the environment, because raising the livestock and transporting it accounts for almost 1/5 of the earth's greenhouse gases#Meat industry produces greenhouse gases and/or uses water - specific numbers#Meat industry produces greenhouse gases and/or uses water - specific numbers\n",
      "Large amounts of meat consumption are harming the environment, because raising livestock produces more greenhouse gas.#Meat industry produces greenhouse gases and/or uses water - general#Meat industry produces greenhouse gases and/or uses water - general\n",
      "Large amounts of meat consumption are harming the environment, because it is hurting the earth by contributing to one-fifth of the earth's greenhouse gases.#Meat industry produces greenhouse gases and/or uses water - specific numbers#Meat industry produces greenhouse gases and/or uses water - specific numbers\n",
      "Large amounts of meat consumption are harming the environment, because it increases the amount of greenhouse gases present in the atmosphere#Meat industry produces greenhouse gases and/or uses water - general#Meat industry produces greenhouse gases and/or uses water - general\n",
      "Large amounts of meat consumption are harming the environment, because raising and transporting meat creates more greenhouse gases than driving most vehicles combined.#Meat industry produces greenhouse gases and/or uses water - specific numbers#Meat industry produces greenhouse gases and/or uses water - specific numbers\n",
      "Large amounts of meat consumption are harming the environment, because of the greenhouse gases it produces, and water it uses.#Because as preposition#Because as preposition\n",
      "Large amounts of meat consumption are harming the environment, because it takes a lot of energy, resources, and effort to sustain the meat industry.#Meat industry harms environment/uses resources w/o mentioning greenhouse gases or water#Meat industry harms environment/uses resources w/o mentioning greenhouse gases or water\n",
      "Large amounts of meat consumption are harming the environment, because raising and transporting livestock is causing a large portion of the greenhouse gases produced.#Meat industry produces greenhouse gases and/or uses water - general#Meat industry produces greenhouse gases and/or uses water - general\n",
      "Large amounts of meat consumption are harming the environment, because it hurts the economy and takes away jobs.#Irrelevant fact from article#Irrelevant fact from article\n",
      "Large amounts of meat consumption are harming the environment, because greenhouse gases#Meat industry produces greenhouse gases and/or uses water - general#Meat industry produces greenhouse gases and/or uses water - general\n",
      "Large amounts of meat consumption are harming the environment, because it produces a large amount of greenhouse gas and water.#Meat industry produces greenhouse gases and/or uses water - general#Meat industry produces greenhouse gases and/or uses water - general\n",
      "Large amounts of meat consumption are harming the environment, because of the transportation and upkeep of the livestock we depend on for the meat.#Because as preposition#Because as preposition\n",
      "Large amounts of meat consumption are harming the environment, because transportation of animals causes pollution.#Meat industry harms environment/uses resources w/o mentioning greenhouse gases or water#Meat industry harms environment/uses resources w/o mentioning greenhouse gases or water\n",
      "Large amounts of meat consumption are harming the environment, because raising and transporting livestock causes 1/5 of all green house gases.#Meat industry produces greenhouse gases and/or uses water - specific numbers#Meat industry produces greenhouse gases and/or uses water - specific numbers\n",
      "Large amounts of meat consumption are harming the environment, because according to the article they create a lot of greenhouse gases#Meat industry produces greenhouse gases and/or uses water - general#Meat industry produces greenhouse gases and/or uses water - general\n",
      "Large amounts of meat consumption are harming the environment, because it requires a lot of resources contributing to 20% of green house gases generated by man.#Meat industry produces greenhouse gases and/or uses water - specific numbers#Meat industry produces greenhouse gases and/or uses water - specific numbers\n",
      "Large amounts of meat consumption are harming the environment, because the meat industry produces 1/5 of the green house gasses.#Meat industry produces greenhouse gases and/or uses water - specific numbers#Meat industry produces greenhouse gases and/or uses water - specific numbers\n",
      "Large amounts of meat consumption are harming the environment, because it is a large contributor to greenhouse gases.#Meat industry produces greenhouse gases and/or uses water - general#Meat industry produces greenhouse gases and/or uses water - general\n",
      "Large amounts of meat consumption are harming the environment, because it does not say#Outside of article's scope#Outside of article's scope\n",
      "Large amounts of meat consumption are harming the environment, because of the enormous amount of greenhouse gases produced by raising and transporting cattles#Because as preposition#Because as preposition\n",
      "Large amounts of meat consumption are harming the environment, because raising animals for food cause water pollution and animals suffering.#Meat industry harms environment/uses resources w/o mentioning greenhouse gases or water#Meat industry harms environment/uses resources w/o mentioning greenhouse gases or water\n",
      "Large amounts of meat consumption are harming the environment, because they produce almost one-fifth of greenhouse gases, as well as consuming almost half of all water used in the US.#Meat industry produces greenhouse gases and/or uses water - specific numbers#Meat industry produces greenhouse gases and/or uses water - specific numbers\n",
      "Large amounts of meat consumption are harming the environment, because it creates one fifth of earth's greenhouse gases.#Meat industry produces greenhouse gases and/or uses water - specific numbers#Meat industry produces greenhouse gases and/or uses water - specific numbers\n",
      "Large amounts of meat consumption are harming the environment, because greenhouses gases#Meat industry produces greenhouse gases and/or uses water - general#Meat industry produces greenhouse gases and/or uses water - general\n",
      "Large amounts of meat consumption are harming the environment, because a large portion of greenhouse gasses are caused by raising and transporting meat.#Meat industry produces greenhouse gases and/or uses water - general#Meat industry produces greenhouse gases and/or uses water - general\n",
      "Large amounts of meat consumption are harming the environment, because the more we consume, the higher amounts of raising and transporting animal meat creates more greenhouse gases.#Meat industry produces greenhouse gases and/or uses water - general#Meat industry produces greenhouse gases and/or uses water - general\n",
      "Large amounts of meat consumption are harming the environment, because the production of meats create greenhouse gases.#Meat industry produces greenhouse gases and/or uses water - general#Meat industry produces greenhouse gases and/or uses water - general\n",
      "Large amounts of meat consumption are harming the environment, because transporting the meat causes the use of a lot of energy and pollution.#Meat industry harms environment/uses resources w/o mentioning greenhouse gases or water#Meat industry produces greenhouse gases and/or uses water - general\n",
      "Large amounts of meat consumption are harming the environment, because we kill too many animals#Outside of article's scope#Meat industry harms animals\n",
      "Large amounts of meat consumption are harming the environment, because of the increased amounts of greenhouse gases that result from it.#Because as preposition#Because as preposition\n",
      "Large amounts of meat consumption are harming the environment, because raising and transporting animals accounts for 20% of greenhouse gases.#Meat industry produces greenhouse gases and/or uses water - specific numbers#Meat industry produces greenhouse gases and/or uses water - specific numbers\n",
      "Large amounts of meat consumption are harming the environment, because meat production creates nearly twenty-five percent of greenhouse gases in our planet's atmosphere.#Meat industry produces greenhouse gases and/or uses water - specific numbers#Meat industry produces greenhouse gases and/or uses water - specific numbers\n",
      "Large amounts of meat consumption are harming the environment, because of the greenhouse gas emissions that come from the meat industry.#Because as preposition#Because as preposition\n",
      "Large amounts of meat consumption are harming the environment, because it produces about one fifth of the greenhouse gases in the earth.#Meat industry produces greenhouse gases and/or uses water - specific numbers#Meat industry produces greenhouse gases and/or uses water - specific numbers\n",
      "Large amounts of meat consumption are harming the environment, because it is creating a lot of greenhouse gas and using up water.#Meat industry produces greenhouse gases and/or uses water - general#Meat industry produces greenhouse gases and/or uses water - general\n",
      "Large amounts of meat consumption are harming the environment, because they contribute to higher greenhouse gases and water consumption.#Meat industry produces greenhouse gases and/or uses water - general#Meat industry produces greenhouse gases and/or uses water - general\n",
      "Large amounts of meat consumption are harming the environment, because raising and transporting meat causes greenhouse gases and too much water is used.#Meat industry produces greenhouse gases and/or uses water - general#Meat industry produces greenhouse gases and/or uses water - general\n",
      "Large amounts of meat consumption are harming the environment, because of the greenhouse gases produced by the raising of animals and transporting the meat.#Because as preposition#Because as preposition\n",
      "Large amounts of meat consumption are harming the environment, because the meat industry produces 1/5th of all greenhouse gases on Earth.#Meat industry produces greenhouse gases and/or uses water - specific numbers#Meat industry produces greenhouse gases and/or uses water - specific numbers\n",
      "Large amounts of meat consumption are harming the environment, because raising animals and transporting meat produces high amounts of greenhouse gasses.#Meat industry produces greenhouse gases and/or uses water - general#Meat industry produces greenhouse gases and/or uses water - general\n",
      "Large amounts of meat consumption are harming the environment, because of what is required to produce enough for everyone.#Because as preposition#Because as preposition\n",
      "Large amounts of meat consumption are harming the environment, because continued demand puts an enormous strain on the environment, roughly 20% of greenhouse gasses produced comes from the meat industry#Meat industry produces greenhouse gases and/or uses water - specific numbers#Meat industry produces greenhouse gases and/or uses water - specific numbers\n",
      "Large amounts of meat consumption are harming the environment, because Half of the US water consumption is used for raising livestock.#Meat industry produces greenhouse gases and/or uses water - specific numbers#Meat industry produces greenhouse gases and/or uses water - specific numbers\n",
      "Large amounts of meat consumption are harming the environment, because raising and transporting livestock creates a massive amount of greenhouse gases.#Meat industry produces greenhouse gases and/or uses water - general#Meat industry produces greenhouse gases and/or uses water - general\n",
      "Large amounts of meat consumption are harming the environment, because of the greenhouse gases produced and quantity of water consumed in the production of meat.#Because as preposition#Because as preposition\n",
      "Large amounts of meat consumption are harming the environment, because they emit more than one fifth of overall greenhouse gases#Meat industry produces greenhouse gases and/or uses water - specific numbers#Meat industry produces greenhouse gases and/or uses water - specific numbers\n",
      "Large amounts of meat consumption are harming the environment, because the release of greenhouse gasses.#Meat industry produces greenhouse gases and/or uses water - general#Meat industry produces greenhouse gases and/or uses water - general\n",
      "Large amounts of meat consumption are harming the environment, because the raising and transportation of the animals creates greenhouse gases.#Meat industry produces greenhouse gases and/or uses water - general#Meat industry produces greenhouse gases and/or uses water - general\n",
      "Large amounts of meat consumption are harming the environment, because of green house effect is increasing!#Because as preposition#Because as preposition\n",
      "Large amounts of meat consumption are harming the environment, because meat production creates huge amounts of greenhouse gases.#Meat industry produces greenhouse gases and/or uses water - general#Meat industry produces greenhouse gases and/or uses water - general\n",
      "Large amounts of meat consumption are harming the environment, because they generate one fifth of greenhouse gases.#Meat industry produces greenhouse gases and/or uses water - specific numbers#Meat industry produces greenhouse gases and/or uses water - specific numbers\n",
      "Large amounts of meat consumption are harming the environment, because exporting and greenhouse gases increase as a result.#Meat industry produces greenhouse gases and/or uses water - general#Meat industry produces greenhouse gases and/or uses water - general\n",
      "Large amounts of meat consumption are harming the environment, because raising the livestock and transporting meat produces one-fifth of the earth's greenhouse gases, which is more than that produced by cars, trucks, trains, and airplanes combined.#Meat industry produces greenhouse gases and/or uses water - specific numbers#Meat industry produces greenhouse gases and/or uses water - specific numbers\n",
      "Large amounts of meat consumption are harming the environment, because it produces more green house gases from the delivery trucks.#Meat industry produces greenhouse gases and/or uses water - general#Meat industry produces greenhouse gases and/or uses water - general\n",
      "Large amounts of meat consumption are harming the environment, because raising animals and transporting meats cause almost one-fifth of greenhouse gases on earth.#Meat industry produces greenhouse gases and/or uses water - specific numbers#Meat industry produces greenhouse gases and/or uses water - specific numbers\n",
      "Large amounts of meat consumption are harming the environment, because almost one fifth of the world's greenhouse gases are created by raising animals and transporting meat.#Meat industry produces greenhouse gases and/or uses water - specific numbers#Meat industry produces greenhouse gases and/or uses water - specific numbers\n",
      "Large amounts of meat consumption are harming the environment, because raising and transporting animals produces 1/5 of earth's greenhouse gases.#Meat industry produces greenhouse gases and/or uses water - specific numbers#Meat industry produces greenhouse gases and/or uses water - specific numbers\n",
      "Large amounts of meat consumption are harming the environment, because the meat industry produces one-fifth of the greenhouse gases on earth, more than cars, trucks, trains, and planes combined.#Meat industry produces greenhouse gases and/or uses water - specific numbers#Meat industry produces greenhouse gases and/or uses water - specific numbers\n",
      "Large amounts of meat consumption are harming the environment, because it contributes to the creation of 1/5 of the Earth's greenhouse gases.#Meat industry produces greenhouse gases and/or uses water - specific numbers#Meat industry produces greenhouse gases and/or uses water - specific numbers\n",
      "Large amounts of meat consumption are harming the environment, because more domestic animals that are suppose to complete the Eco circle are killed every day.#Meat industry harms animals#Outside of article's scope\n",
      "Large amounts of meat consumption are harming the environment, because they account for 1/5 of greenhouse gasses#Meat industry produces greenhouse gases and/or uses water - specific numbers#Meat industry produces greenhouse gases and/or uses water - specific numbers\n",
      "Large amounts of meat consumption are harming the environment, because one-fifth of the earth’s greenhouse gases are produced by raising and transporting meat#Meat industry produces greenhouse gases and/or uses water - specific numbers#Meat industry produces greenhouse gases and/or uses water - specific numbers\n",
      "Large amounts of meat consumption are harming the environment, because it is responsible for one fifths of the greenhouse gas emissions.#Meat industry produces greenhouse gases and/or uses water - specific numbers#Meat industry produces greenhouse gases and/or uses water - specific numbers\n",
      "Large amounts of meat consumption are harming the environment, because it produces more greenhouse gases than cars, planes, and trains all together; one fifth in total.#Meat industry produces greenhouse gases and/or uses water - specific numbers#Meat industry produces greenhouse gases and/or uses water - specific numbers\n",
      "Large amounts of meat consumption are harming the environment, because almost one third of the earths greenhouse gases come from raising animals and transporting them#Meat industry produces greenhouse gases and/or uses water - specific numbers#Meat industry produces greenhouse gases and/or uses water - specific numbers\n",
      "Large amounts of meat consumption are harming the environment, because of the thought that greenhouse gas is emitted from raising meat and a large amount of water is consumed.#Because as preposition#Because as preposition\n",
      "Large amounts of meat consumption are harming the environment, because the process involved with bringing meat to grocery stores takes up quite a large portion of greenhouse gases.#Meat industry produces greenhouse gases and/or uses water - general#Meat industry produces greenhouse gases and/or uses water - specific numbers\n",
      "Large amounts of meat consumption are harming the environment, because it creates the earth's greenhouse gases.#Meat industry produces greenhouse gases and/or uses water - general#Meat industry produces greenhouse gases and/or uses water - general\n",
      "Large amounts of meat consumption are harming the environment, because they contribute significantly to greenhouse gas production.#Meat industry produces greenhouse gases and/or uses water - general#Meat industry produces greenhouse gases and/or uses water - general\n",
      "Large amounts of meat consumption are harming the environment, because transporting meat produces 1/5 of the earth's greenhouse gases and almost 1/2 of water usage in the US is dedicated to raising livestock.#Meat industry produces greenhouse gases and/or uses water - specific numbers#Meat industry produces greenhouse gases and/or uses water - specific numbers\n",
      "Large amounts of meat consumption are harming the environment, because of gases being relased#Because as preposition#Because as preposition\n",
      "Large amounts of meat consumption are harming the environment, because raising and transporting meat is responsible for creating around one-fifth of the earth's greenhouse gases.#Meat industry produces greenhouse gases and/or uses water - specific numbers#Meat industry produces greenhouse gases and/or uses water - specific numbers\n",
      "Large amounts of meat consumption are harming the environment, because greenhouse gasses produced and environmental impact.#Meat industry produces greenhouse gases and/or uses water - specific numbers#Meat industry produces greenhouse gases and/or uses water - general\n",
      "Large amounts of meat consumption are harming the environment, because raising cattle and shipping out the meat causes more gas in the environment than cars, trucks and planes put together.#Meat industry produces greenhouse gases and/or uses water - specific numbers#Meat industry produces greenhouse gases and/or uses water - specific numbers\n",
      "Large amounts of meat consumption are harming the environment, because they produce far too many green house gases.#Meat industry produces greenhouse gases and/or uses water - general#Meat industry produces greenhouse gases and/or uses water - specific numbers\n",
      "Large amounts of meat consumption are harming the environment, because it increases greenhouse gases more than cars, trucks, trains, and airplanes combined.#Meat industry produces greenhouse gases and/or uses water - specific numbers#Meat industry produces greenhouse gases and/or uses water - specific numbers\n",
      "Large amounts of meat consumption are harming the environment, because raising all the animals and transporting meat creates at least one-fifth of the earth’s greenhouse gases.#Meat industry produces greenhouse gases and/or uses water - specific numbers#Meat industry produces greenhouse gases and/or uses water - specific numbers\n",
      "Large amounts of meat consumption are harming the environment, because transport of this creates 1/5 of Earth's greenhouse gases.#Meat industry produces greenhouse gases and/or uses water - specific numbers#Meat industry produces greenhouse gases and/or uses water - specific numbers\n",
      "Large amounts of meat consumption are harming the environment, because it generates greenhouse gases.#Meat industry produces greenhouse gases and/or uses water - general#Meat industry produces greenhouse gases and/or uses water - general\n",
      "Large amounts of meat consumption are harming the environment, because they increase the amount of greenhouse emissions.#Meat industry produces greenhouse gases and/or uses water - general#Meat industry produces greenhouse gases and/or uses water - general\n",
      "Large amounts of meat consumption are harming the environment, because it is producing  one-fifth of the earth's greenhouse gases.#Meat industry produces greenhouse gases and/or uses water - specific numbers#Meat industry produces greenhouse gases and/or uses water - specific numbers\n",
      "Large amounts of meat consumption are harming the environment, because of the large amount of water used  and greenhouse gases emitted by livestock.#Because as preposition#Because as preposition\n",
      "Large amounts of meat consumption are harming the environment, because raising livestock and transporting meat produces almost one-fifth of the earth's greenhouse gases.#Meat industry produces greenhouse gases and/or uses water - specific numbers#Meat industry produces greenhouse gases and/or uses water - specific numbers\n",
      "Large amounts of meat consumption are harming the environment, because the transport and production stages of meat cause a massive amount of damage to the environment.#Meat industry harms environment/uses resources w/o mentioning greenhouse gases or water#Meat industry harms environment/uses resources w/o mentioning greenhouse gases or water\n",
      "Large amounts of meat consumption are harming the environment, because raising and transporting meat generates almost 1/5 of the world's greenhouse gasses.#Meat industry produces greenhouse gases and/or uses water - specific numbers#Meat industry produces greenhouse gases and/or uses water - specific numbers\n",
      "Large amounts of meat consumption are harming the environment, because one-fifth of the earth's greenhouse gases are produced by the meat industry.#Meat industry produces greenhouse gases and/or uses water - specific numbers#Meat industry produces greenhouse gases and/or uses water - specific numbers\n",
      "Large amounts of meat consumption are harming the environment, because it creates a large amount of greenhouse gases, and also uses a large amount of water to raise the animals.#Meat industry produces greenhouse gases and/or uses water - general#Meat industry produces greenhouse gases and/or uses water - general\n",
      "Large amounts of meat consumption are harming the environment, because raising livestock for consumption creates 1/5th of the earth's greenhouse gases, and uses large amounts of water.#Meat industry produces greenhouse gases and/or uses water - specific numbers#Meat industry produces greenhouse gases and/or uses water - specific numbers\n",
      "Large amounts of meat consumption are harming the environment, because they are putting out more  green house gasses that is coming from all the gasses from shipping these animals for people to eat.#Meat industry produces greenhouse gases and/or uses water - general#Meat industry produces greenhouse gases and/or uses water - general\n",
      "Large amounts of meat consumption are harming the environment, because of the greenhouse gas emissions and water needs involved in raising livestock.#Because as preposition#Because as preposition\n",
      "Large amounts of meat consumption are harming the environment, because raising animals and transporting animal meat results in about one-fifth of harmful greenhouse gases.#Meat industry produces greenhouse gases and/or uses water - specific numbers#Meat industry produces greenhouse gases and/or uses water - specific numbers\n",
      "Large amounts of meat consumption are harming the environment, because it produces gases#Meat industry produces greenhouse gases and/or uses water - general#Meat industry produces greenhouse gases and/or uses water - general\n",
      "Large amounts of meat consumption are harming the environment, because of the greenhouse gases that are produced transporting the meat.#Because as preposition#Because as preposition\n",
      "Large amounts of meat consumption are harming the environment, because of the amount of greenhouse gasses  associated with production and transportation of meat.#Because as preposition#Because as preposition\n",
      "Large amounts of meat consumption are harming the environment, because the raising and transporting of meat is a large contributor  of green house gases#Meat industry produces greenhouse gases and/or uses water - general#Meat industry produces greenhouse gases and/or uses water - general\n",
      "Large amounts of meat consumption are harming the environment, because the cost of transporting these meat products.#Meat industry harms environment/uses resources w/o mentioning greenhouse gases or water#Because as preposition\n",
      "Large amounts of meat consumption are harming the environment, because of the green house gases it causes when raising the animal#Because as preposition#Because as preposition\n",
      "Large amounts of meat consumption are harming the environment, because they are creating an excess of greenhouse gases.#Meat industry produces greenhouse gases and/or uses water - general#Meat industry produces greenhouse gases and/or uses water - general\n",
      "Large amounts of meat consumption are harming the environment, because Most of the beef produced domestically is eaten by Americans#Irrelevant fact from article#Irrelevant fact from article\n",
      "Large amounts of meat consumption are harming the environment, because Growing cow to selling butchered meat now we are exporting our meats is bad carbon footprint.#Meat industry harms environment/uses resources w/o mentioning greenhouse gases or water#Meat industry harms environment/uses resources w/o mentioning greenhouse gases or water\n",
      "Large amounts of meat consumption are harming the environment, because it creates increased greenhouse gases#Meat industry produces greenhouse gases and/or uses water - general#Meat industry produces greenhouse gases and/or uses water - general\n",
      "Large amounts of meat consumption are harming the environment, because raising and transporting live-stock adds large amounts of greenhouse gasses to our planet's atmosphere.#Meat industry produces greenhouse gases and/or uses water - general#Meat industry produces greenhouse gases and/or uses water - general\n",
      "Large amounts of meat consumption are harming the environment, because the greenhouse gases caused by raising and transporting animals that will be consumed as meat are greater than that of all cars, trucks, trains, and airplanes combined.#Meat industry produces greenhouse gases and/or uses water - specific numbers#Meat industry produces greenhouse gases and/or uses water - general\n",
      "Large amounts of meat consumption are harming the environment, because raising and transporting animals creates about 1/5 of the earth's greenhouse gases.#Meat industry produces greenhouse gases and/or uses water - specific numbers#Meat industry produces greenhouse gases and/or uses water - specific numbers\n",
      "Large amounts of meat consumption are harming the environment, because of greenhouse gases.#Because as preposition#Because as preposition\n",
      "Large amounts of meat consumption are harming the environment, because half the water in the US is used to raise livestock.#Meat industry produces greenhouse gases and/or uses water - specific numbers#Meat industry produces greenhouse gases and/or uses water - general\n",
      "Large amounts of meat consumption are harming the environment, because it creates one fifth of earths greenhouse gases#Meat industry produces greenhouse gases and/or uses water - specific numbers#Meat industry produces greenhouse gases and/or uses water - specific numbers\n",
      "Large amounts of meat consumption are harming the environment, because the raising and transporting of meat creates one fifth of earths greenhouse gases.#Meat industry produces greenhouse gases and/or uses water - specific numbers#Meat industry produces greenhouse gases and/or uses water - specific numbers\n",
      "Large amounts of meat consumption are harming the environment, because one-fifth of the earth’s greenhouse gases.#Meat industry produces greenhouse gases and/or uses water - specific numbers#Meat industry produces greenhouse gases and/or uses water - specific numbers\n",
      "Large amounts of meat consumption are harming the environment, because of greenhouse gases that produced by raising livestock as well as transporting animals in vehicles.#Because as preposition#Because as preposition\n",
      "Large amounts of meat consumption are harming the environment, because many greenhouse gasses are emitted in the raising and transporting of livestock for the meat market.#Meat industry produces greenhouse gases and/or uses water - general#Meat industry produces greenhouse gases and/or uses water - general\n",
      "Large amounts of meat consumption are harming the environment, because the people kill a lot of animal to satisfy the people desire.#Outside of article's scope#Meat industry harms environment/uses resources w/o mentioning greenhouse gases or water\n",
      "Large amounts of meat consumption are harming the environment, because of greenhouse gases produced.#Because as preposition#Because as preposition\n",
      "Large amounts of meat consumption are harming the environment, because the production of meat causes greenhouse gasses.#Meat industry produces greenhouse gases and/or uses water - general#Meat industry produces greenhouse gases and/or uses water - general\n",
      "Large amounts of meat consumption are harming the environment, because the rate at which we farm domestic animals creates one-fifth of Earth's greenhouse gasses, and that industry is only expanding.#Meat industry produces greenhouse gases and/or uses water - specific numbers#Meat industry produces greenhouse gases and/or uses water - specific numbers\n",
      "Large amounts of meat consumption are harming the environment, because they comprise one-fifth of the Earth's greenhouse gases.#Meat industry produces greenhouse gases and/or uses water - specific numbers#Meat industry produces greenhouse gases and/or uses water - specific numbers\n",
      "Large amounts of meat consumption are harming the environment, because raising animals and transporting them account for 20% of greenhouse gases on earth.#Meat industry produces greenhouse gases and/or uses water - specific numbers#Meat industry produces greenhouse gases and/or uses water - specific numbers\n",
      "Large amounts of meat consumption are harming the environment, because it is creating greenhouse gases and uses up a lot of water.#Meat industry produces greenhouse gases and/or uses water - general#Meat industry produces greenhouse gases and/or uses water - general\n",
      "Large amounts of meat consumption are harming the environment, because this creates almost one fifth of the earth's greenhouse gases.#Meat industry produces greenhouse gases and/or uses water - general#Meat industry produces greenhouse gases and/or uses water - specific numbers\n",
      "Large amounts of meat consumption are harming the environment, because the transportion of meat creates large amounts of greenhouse gases.#Meat industry produces greenhouse gases and/or uses water - general#Meat industry produces greenhouse gases and/or uses water - general\n",
      "Large amounts of meat consumption are harming the environment, because of greenhouse gases produced by cars, trucks, trains, and airplanes combined.#Because as preposition#Because as preposition\n",
      "Large amounts of meat consumption are harming the environment, because the cost of transporting the meats causes 1/5 of greenhouse gasses.#Meat industry produces greenhouse gases and/or uses water - specific numbers#Meat industry produces greenhouse gases and/or uses water - specific numbers\n",
      "Large amounts of meat consumption are harming the environment, because hurting the economy and taking away precious jobs.#Irrelevant fact from article#Irrelevant fact from article\n",
      "Large amounts of meat consumption are harming the environment, because between raising livestock and transporting said livestock about one fifth of all greenhouse gasses are created as well as over half of the water in america is going to livestock.#Meat industry produces greenhouse gases and/or uses water - specific numbers#Meat industry produces greenhouse gases and/or uses water - specific numbers\n",
      "Large amounts of meat consumption are harming the environment, because of carbon emissions.#Because as preposition#Because as preposition\n",
      "Large amounts of meat consumption are harming the environment, because raising animals for food creates large amounts of greenhouses gasses that contribute to global warming and half of the water we use is used on raising livestock for food.#Meat industry produces greenhouse gases and/or uses water - general#Meat industry produces greenhouse gases and/or uses water - general\n",
      "Large amounts of meat consumption are harming the environment, because meat production releases emissions into the atmosphere and uses precious water resources.#Meat industry produces greenhouse gases and/or uses water - general#Meat industry produces greenhouse gases and/or uses water - general\n",
      "Large amounts of meat consumption are harming the environment, because processing meat uses resources and creates pollution.#Meat industry harms environment/uses resources w/o mentioning greenhouse gases or water#Meat industry harms environment/uses resources w/o mentioning greenhouse gases or water\n",
      "Large amounts of meat consumption are harming the environment, because raising animals and transportation of meat uses a significant amount of the earth's greenhouses gases, while the raising of livestock also uses half of the water used in the U.S.#Meat industry produces greenhouse gases and/or uses water - general#Meat industry produces greenhouse gases and/or uses water - specific numbers\n",
      "Large amounts of meat consumption are harming the environment, because transporting meat and raising the animals  creates almost one-fifth of greenhouse gases.#Meat industry produces greenhouse gases and/or uses water - specific numbers#Meat industry produces greenhouse gases and/or uses water - specific numbers\n",
      "Large amounts of meat consumption are harming the environment, because it takes a lot of resources such as water and land to raise livestock.#Meat industry produces greenhouse gases and/or uses water - general#Meat industry harms environment/uses resources w/o mentioning greenhouse gases or water\n",
      "Large amounts of meat consumption are harming the environment, because THEY PRODUCE 1/5 THE GREENHOUSE GASES#Meat industry produces greenhouse gases and/or uses water - specific numbers#Meat industry produces greenhouse gases and/or uses water - specific numbers\n",
      "Large amounts of meat consumption are harming the environment, because the meat industry generates insane amounts of greenhouse gases and consumes almost half of America's water usage.#Meat industry produces greenhouse gases and/or uses water - specific numbers#Meat industry produces greenhouse gases and/or uses water - specific numbers\n",
      "Large amounts of meat consumption are harming the environment, because most of our water sources are used for the animals we are raising for meat.#Meat industry produces greenhouse gases and/or uses water - general#Meat industry produces greenhouse gases and/or uses water - general\n",
      "130\n",
      "0.9027777777777778\n"
     ]
    }
   ],
   "source": [
    "c = 0\n",
    "for item, predicted, correct in zip(test_data, test_predicted, test_correct):\n",
    "    assert item[\"label\"] == idx2label[correct]\n",
    "    c += (item[\"label\"] == idx2label[predicted])\n",
    "    print(\"{}#{}#{}\".format(item[\"text\"], idx2label[correct], idx2label[predicted]))\n",
    "    \n",
    "print(c)\n",
    "print(c/len(test_data))"
   ]
  },
  {
   "cell_type": "code",
   "execution_count": null,
   "metadata": {},
   "outputs": [],
   "source": []
  }
 ],
 "metadata": {
  "kernelspec": {
   "display_name": "Python 3",
   "language": "python",
   "name": "python3"
  },
  "language_info": {
   "codemirror_mode": {
    "name": "ipython",
    "version": 3
   },
   "file_extension": ".py",
   "mimetype": "text/x-python",
   "name": "python",
   "nbconvert_exporter": "python",
   "pygments_lexer": "ipython3",
   "version": "3.7.3"
  }
 },
 "nbformat": 4,
 "nbformat_minor": 2
}
